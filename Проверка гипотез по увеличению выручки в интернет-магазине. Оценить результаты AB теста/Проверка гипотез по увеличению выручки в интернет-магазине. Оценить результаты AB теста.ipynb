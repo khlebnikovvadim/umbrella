{
 "cells": [
  {
   "cell_type": "code",
   "execution_count": 1,
   "id": "f901dd1e",
   "metadata": {},
   "outputs": [],
   "source": [
    "import pandas as pd\n",
    "import numpy as np\n",
    "import datetime as dt\n",
    "import math as mth\n",
    "import scipy.stats as stats\n",
    "\n",
    "import warnings\n",
    "warnings.filterwarnings(action='ignore')\n",
    "\n",
    "from matplotlib import pyplot as plt\n",
    "import seaborn as sns\n",
    "%matplotlib inline\n",
    "\n",
    "\n",
    "try:\n",
    "    hypothesis = pd.read_csv('/datasets/hypothesis.csv')\n",
    "    visitors = pd.read_csv('/datasets/visitors.csv')\n",
    "    orders = pd.read_csv('/datasets/orders.csv')\n",
    "    \n",
    "except:\n",
    "    hypothesis = pd.read_csv('/Users/vadimhlebnikov/Downloads/hypothesis.csv')\n",
    "    visitors = pd.read_csv('/Users/vadimhlebnikov/Downloads/visitors.csv')\n",
    "    orders = pd.read_csv('/Users/vadimhlebnikov/Downloads/orders.csv')\n",
    "    "
   ]
  },
  {
   "cell_type": "markdown",
   "id": "d9ae5e87",
   "metadata": {},
   "source": [
    "Вы — аналитик крупного интернет-магазина. Вместе с отделом маркетинга вы подготовили список гипотез для увеличения выручки.\n",
    "Приоритизируйте гипотезы, запустите A/B-тест и проанализируйте результаты.\n"
   ]
  },
  {
   "cell_type": "markdown",
   "id": "f0f15b77",
   "metadata": {},
   "source": [
    "## Содержание\n",
    "* [Приоритизация гипотез](#chapter1)\n",
    "* [Анализ A/B-теста](#chapter2)\n",
    " * [Кумулятивная выручка по группам ](#chapter3)\n",
    " * [Кумулятивный средний чек по группам](#chapter4)\n",
    " * [Кумулятивная конверсия по группам](#chapter5)\n",
    " * [Количество заказов по пользователям](#chapter6)\n",
    " * [Анализ конверсии и ее статзначимости](#chapter7)\n",
    " * [Статзначимость различий в среднем чеке между сегментами](#chapter8)\n",
    " * [Исключение выбросов и корректировка данных](#chapter9)Исключение выбросов и корректировка данных\n",
    "* [Общие выводы](#chapter10)\n",
    "\n"
   ]
  },
  {
   "cell_type": "markdown",
   "id": "4f7df13d",
   "metadata": {},
   "source": [
    "## Приоритизация гипотез <a class =\"anchor\" id=\"chapter1\"></a>"
   ]
  },
  {
   "cell_type": "code",
   "execution_count": 2,
   "id": "a8f03d5e",
   "metadata": {},
   "outputs": [],
   "source": [
    "hypothesis.columns = hypothesis.columns.str.lower()"
   ]
  },
  {
   "cell_type": "code",
   "execution_count": 3,
   "id": "4fff7ef3",
   "metadata": {
    "scrolled": true
   },
   "outputs": [
    {
     "data": {
      "text/html": [
       "<div>\n",
       "<style scoped>\n",
       "    .dataframe tbody tr th:only-of-type {\n",
       "        vertical-align: middle;\n",
       "    }\n",
       "\n",
       "    .dataframe tbody tr th {\n",
       "        vertical-align: top;\n",
       "    }\n",
       "\n",
       "    .dataframe thead th {\n",
       "        text-align: right;\n",
       "    }\n",
       "</style>\n",
       "<table border=\"1\" class=\"dataframe\">\n",
       "  <thead>\n",
       "    <tr style=\"text-align: right;\">\n",
       "      <th></th>\n",
       "      <th>index</th>\n",
       "      <th>hypothesis</th>\n",
       "      <th>ice</th>\n",
       "    </tr>\n",
       "  </thead>\n",
       "  <tbody>\n",
       "    <tr>\n",
       "      <th>0</th>\n",
       "      <td>8</td>\n",
       "      <td>Запустить акцию, дающую скидку на товар в день рождения</td>\n",
       "      <td>16.20</td>\n",
       "    </tr>\n",
       "    <tr>\n",
       "      <th>1</th>\n",
       "      <td>0</td>\n",
       "      <td>Добавить два новых канала привлечения трафика, что позволит привлекать на 30% больше пользователей</td>\n",
       "      <td>13.33</td>\n",
       "    </tr>\n",
       "    <tr>\n",
       "      <th>2</th>\n",
       "      <td>7</td>\n",
       "      <td>Добавить форму подписки на все основные страницы, чтобы собрать базу клиентов для email-рассылок</td>\n",
       "      <td>11.20</td>\n",
       "    </tr>\n",
       "    <tr>\n",
       "      <th>3</th>\n",
       "      <td>6</td>\n",
       "      <td>Показать на главной странице баннеры с актуальными акциями и распродажами, чтобы увеличить конверсию</td>\n",
       "      <td>8.00</td>\n",
       "    </tr>\n",
       "    <tr>\n",
       "      <th>4</th>\n",
       "      <td>2</td>\n",
       "      <td>Добавить блоки рекомендаций товаров на сайт интернет магазина, чтобы повысить конверсию и средний чек заказа</td>\n",
       "      <td>7.00</td>\n",
       "    </tr>\n",
       "    <tr>\n",
       "      <th>5</th>\n",
       "      <td>1</td>\n",
       "      <td>Запустить собственную службу доставки, что сократит срок доставки заказов</td>\n",
       "      <td>2.00</td>\n",
       "    </tr>\n",
       "    <tr>\n",
       "      <th>6</th>\n",
       "      <td>5</td>\n",
       "      <td>Добавить страницу отзывов клиентов о магазине, что позволит увеличить количество заказов</td>\n",
       "      <td>1.33</td>\n",
       "    </tr>\n",
       "    <tr>\n",
       "      <th>7</th>\n",
       "      <td>3</td>\n",
       "      <td>Изменить структура категорий, что увеличит конверсию, т.к. пользователи быстрее найдут нужный товар</td>\n",
       "      <td>1.12</td>\n",
       "    </tr>\n",
       "    <tr>\n",
       "      <th>8</th>\n",
       "      <td>4</td>\n",
       "      <td>Изменить цвет фона главной страницы, чтобы увеличить вовлеченность пользователей</td>\n",
       "      <td>1.00</td>\n",
       "    </tr>\n",
       "  </tbody>\n",
       "</table>\n",
       "</div>"
      ],
      "text/plain": [
       "   index  \\\n",
       "0      8   \n",
       "1      0   \n",
       "2      7   \n",
       "3      6   \n",
       "4      2   \n",
       "5      1   \n",
       "6      5   \n",
       "7      3   \n",
       "8      4   \n",
       "\n",
       "                                                                                                     hypothesis  \\\n",
       "0                                                       Запустить акцию, дающую скидку на товар в день рождения   \n",
       "1            Добавить два новых канала привлечения трафика, что позволит привлекать на 30% больше пользователей   \n",
       "2              Добавить форму подписки на все основные страницы, чтобы собрать базу клиентов для email-рассылок   \n",
       "3          Показать на главной странице баннеры с актуальными акциями и распродажами, чтобы увеличить конверсию   \n",
       "4  Добавить блоки рекомендаций товаров на сайт интернет магазина, чтобы повысить конверсию и средний чек заказа   \n",
       "5                                     Запустить собственную службу доставки, что сократит срок доставки заказов   \n",
       "6                      Добавить страницу отзывов клиентов о магазине, что позволит увеличить количество заказов   \n",
       "7           Изменить структура категорий, что увеличит конверсию, т.к. пользователи быстрее найдут нужный товар   \n",
       "8                              Изменить цвет фона главной страницы, чтобы увеличить вовлеченность пользователей   \n",
       "\n",
       "     ice  \n",
       "0  16.20  \n",
       "1  13.33  \n",
       "2  11.20  \n",
       "3   8.00  \n",
       "4   7.00  \n",
       "5   2.00  \n",
       "6   1.33  \n",
       "7   1.12  \n",
       "8   1.00  "
      ]
     },
     "execution_count": 3,
     "metadata": {},
     "output_type": "execute_result"
    }
   ],
   "source": [
    "#Сортируем гипотезы по методике ICE\n",
    "hypothesis['ice'] = hypothesis['impact']*hypothesis['confidence']/hypothesis['efforts']\n",
    "hyp = hypothesis[['hypothesis','ice']].sort_values('ice',ascending = False).reset_index()\n",
    "hyp['ice'] = hyp['ice'].round(2)\n",
    "pd.set_option('display.max_columns', None)\n",
    "pd.options.display.max_colwidth = 150 \n",
    "hyp"
   ]
  },
  {
   "cell_type": "markdown",
   "id": "b04bc6d6",
   "metadata": {},
   "source": [
    "Согласно приоретизации по фреймворку ICE, наиболее приоритетными стоит сделать гипотезы:\n",
    "\n",
    "1. Запустить акцию, дающую скидку на товар в день рождения.\n",
    "\n",
    "\n",
    "2. Добавить два новых канала привлечения трафика, что позволит привлекать на 30% больше пользователей.\n",
    "\n",
    "\n",
    "3. Добавить форму подписки на все основные страницы, чтобы собрать базу клиентов для email-рассылок."
   ]
  },
  {
   "cell_type": "code",
   "execution_count": 4,
   "id": "8c745add",
   "metadata": {
    "scrolled": true
   },
   "outputs": [
    {
     "data": {
      "text/html": [
       "<div>\n",
       "<style scoped>\n",
       "    .dataframe tbody tr th:only-of-type {\n",
       "        vertical-align: middle;\n",
       "    }\n",
       "\n",
       "    .dataframe tbody tr th {\n",
       "        vertical-align: top;\n",
       "    }\n",
       "\n",
       "    .dataframe thead th {\n",
       "        text-align: right;\n",
       "    }\n",
       "</style>\n",
       "<table border=\"1\" class=\"dataframe\">\n",
       "  <thead>\n",
       "    <tr style=\"text-align: right;\">\n",
       "      <th></th>\n",
       "      <th>index</th>\n",
       "      <th>hypothesis</th>\n",
       "      <th>rice</th>\n",
       "    </tr>\n",
       "  </thead>\n",
       "  <tbody>\n",
       "    <tr>\n",
       "      <th>0</th>\n",
       "      <td>7</td>\n",
       "      <td>Добавить форму подписки на все основные страницы, чтобы собрать базу клиентов для email-рассылок</td>\n",
       "      <td>112.0</td>\n",
       "    </tr>\n",
       "    <tr>\n",
       "      <th>1</th>\n",
       "      <td>2</td>\n",
       "      <td>Добавить блоки рекомендаций товаров на сайт интернет магазина, чтобы повысить конверсию и средний чек заказа</td>\n",
       "      <td>56.0</td>\n",
       "    </tr>\n",
       "    <tr>\n",
       "      <th>2</th>\n",
       "      <td>0</td>\n",
       "      <td>Добавить два новых канала привлечения трафика, что позволит привлекать на 30% больше пользователей</td>\n",
       "      <td>40.0</td>\n",
       "    </tr>\n",
       "    <tr>\n",
       "      <th>3</th>\n",
       "      <td>6</td>\n",
       "      <td>Показать на главной странице баннеры с актуальными акциями и распродажами, чтобы увеличить конверсию</td>\n",
       "      <td>40.0</td>\n",
       "    </tr>\n",
       "    <tr>\n",
       "      <th>4</th>\n",
       "      <td>8</td>\n",
       "      <td>Запустить акцию, дающую скидку на товар в день рождения</td>\n",
       "      <td>16.2</td>\n",
       "    </tr>\n",
       "    <tr>\n",
       "      <th>5</th>\n",
       "      <td>3</td>\n",
       "      <td>Изменить структура категорий, что увеличит конверсию, т.к. пользователи быстрее найдут нужный товар</td>\n",
       "      <td>9.0</td>\n",
       "    </tr>\n",
       "    <tr>\n",
       "      <th>6</th>\n",
       "      <td>1</td>\n",
       "      <td>Запустить собственную службу доставки, что сократит срок доставки заказов</td>\n",
       "      <td>4.0</td>\n",
       "    </tr>\n",
       "    <tr>\n",
       "      <th>7</th>\n",
       "      <td>5</td>\n",
       "      <td>Добавить страницу отзывов клиентов о магазине, что позволит увеличить количество заказов</td>\n",
       "      <td>4.0</td>\n",
       "    </tr>\n",
       "    <tr>\n",
       "      <th>8</th>\n",
       "      <td>4</td>\n",
       "      <td>Изменить цвет фона главной страницы, чтобы увеличить вовлеченность пользователей</td>\n",
       "      <td>3.0</td>\n",
       "    </tr>\n",
       "  </tbody>\n",
       "</table>\n",
       "</div>"
      ],
      "text/plain": [
       "   index  \\\n",
       "0      7   \n",
       "1      2   \n",
       "2      0   \n",
       "3      6   \n",
       "4      8   \n",
       "5      3   \n",
       "6      1   \n",
       "7      5   \n",
       "8      4   \n",
       "\n",
       "                                                                                                     hypothesis  \\\n",
       "0              Добавить форму подписки на все основные страницы, чтобы собрать базу клиентов для email-рассылок   \n",
       "1  Добавить блоки рекомендаций товаров на сайт интернет магазина, чтобы повысить конверсию и средний чек заказа   \n",
       "2            Добавить два новых канала привлечения трафика, что позволит привлекать на 30% больше пользователей   \n",
       "3          Показать на главной странице баннеры с актуальными акциями и распродажами, чтобы увеличить конверсию   \n",
       "4                                                       Запустить акцию, дающую скидку на товар в день рождения   \n",
       "5           Изменить структура категорий, что увеличит конверсию, т.к. пользователи быстрее найдут нужный товар   \n",
       "6                                     Запустить собственную службу доставки, что сократит срок доставки заказов   \n",
       "7                      Добавить страницу отзывов клиентов о магазине, что позволит увеличить количество заказов   \n",
       "8                              Изменить цвет фона главной страницы, чтобы увеличить вовлеченность пользователей   \n",
       "\n",
       "    rice  \n",
       "0  112.0  \n",
       "1   56.0  \n",
       "2   40.0  \n",
       "3   40.0  \n",
       "4   16.2  \n",
       "5    9.0  \n",
       "6    4.0  \n",
       "7    4.0  \n",
       "8    3.0  "
      ]
     },
     "execution_count": 4,
     "metadata": {},
     "output_type": "execute_result"
    }
   ],
   "source": [
    "#Сортируем гипотезы по методике RICE\n",
    "hypothesis['rice'] = hypothesis['reach']*hypothesis['impact']*hypothesis['confidence']/hypothesis['efforts']\n",
    "hyp2 = hypothesis[['hypothesis','rice']].sort_values('rice',ascending = False).reset_index()\n",
    "hyp2"
   ]
  },
  {
   "cell_type": "code",
   "execution_count": 5,
   "id": "ff980d6c",
   "metadata": {},
   "outputs": [
    {
     "data": {
      "text/html": [
       "<style  type=\"text/css\" >\n",
       "#T_486f9_row0_col1{\n",
       "            background-color:  #4f4ffb;\n",
       "            color:  #f1f1f1;\n",
       "        }#T_486f9_row0_col2,#T_486f9_row4_col1{\n",
       "            background-color:  #0000ff;\n",
       "            color:  #f1f1f1;\n",
       "        }#T_486f9_row1_col1{\n",
       "            background-color:  #9191f8;\n",
       "            color:  #000000;\n",
       "        }#T_486f9_row1_col2{\n",
       "            background-color:  #7c7cf9;\n",
       "            color:  #000000;\n",
       "        }#T_486f9_row2_col1{\n",
       "            background-color:  #2d2dfd;\n",
       "            color:  #f1f1f1;\n",
       "        }#T_486f9_row2_col2,#T_486f9_row3_col2{\n",
       "            background-color:  #9f9ff7;\n",
       "            color:  #000000;\n",
       "        }#T_486f9_row3_col1{\n",
       "            background-color:  #8282f8;\n",
       "            color:  #000000;\n",
       "        }#T_486f9_row4_col2{\n",
       "            background-color:  #d3d3f4;\n",
       "            color:  #000000;\n",
       "        }#T_486f9_row5_col1,#T_486f9_row6_col2,#T_486f9_row7_col2{\n",
       "            background-color:  #efeff3;\n",
       "            color:  #000000;\n",
       "        }#T_486f9_row5_col2{\n",
       "            background-color:  #e3e3f3;\n",
       "            color:  #000000;\n",
       "        }#T_486f9_row6_col1{\n",
       "            background-color:  #e1e1f4;\n",
       "            color:  #000000;\n",
       "        }#T_486f9_row7_col1{\n",
       "            background-color:  #ececf3;\n",
       "            color:  #000000;\n",
       "        }#T_486f9_row8_col1,#T_486f9_row8_col2{\n",
       "            background-color:  #f0f0f3;\n",
       "            color:  #000000;\n",
       "        }</style><table id=\"T_486f9_\" ><thead>    <tr>        <th class=\"blank level0\" ></th>        <th class=\"col_heading level0 col0\" >hypothesis</th>        <th class=\"col_heading level0 col1\" >ice</th>        <th class=\"col_heading level0 col2\" >rice</th>    </tr></thead><tbody>\n",
       "                <tr>\n",
       "                        <th id=\"T_486f9_level0_row0\" class=\"row_heading level0 row0\" >2</th>\n",
       "                        <td id=\"T_486f9_row0_col0\" class=\"data row0 col0\" >Добавить форму подписки на все основные страницы, чтобы собрать базу клиентов для email-рассылок</td>\n",
       "                        <td id=\"T_486f9_row0_col1\" class=\"data row0 col1\" >11.200000</td>\n",
       "                        <td id=\"T_486f9_row0_col2\" class=\"data row0 col2\" >112.000000</td>\n",
       "            </tr>\n",
       "            <tr>\n",
       "                        <th id=\"T_486f9_level0_row1\" class=\"row_heading level0 row1\" >4</th>\n",
       "                        <td id=\"T_486f9_row1_col0\" class=\"data row1 col0\" >Добавить блоки рекомендаций товаров на сайт интернет магазина, чтобы повысить конверсию и средний чек заказа</td>\n",
       "                        <td id=\"T_486f9_row1_col1\" class=\"data row1 col1\" >7.000000</td>\n",
       "                        <td id=\"T_486f9_row1_col2\" class=\"data row1 col2\" >56.000000</td>\n",
       "            </tr>\n",
       "            <tr>\n",
       "                        <th id=\"T_486f9_level0_row2\" class=\"row_heading level0 row2\" >1</th>\n",
       "                        <td id=\"T_486f9_row2_col0\" class=\"data row2 col0\" >Добавить два новых канала привлечения трафика, что позволит привлекать на 30% больше пользователей</td>\n",
       "                        <td id=\"T_486f9_row2_col1\" class=\"data row2 col1\" >13.330000</td>\n",
       "                        <td id=\"T_486f9_row2_col2\" class=\"data row2 col2\" >40.000000</td>\n",
       "            </tr>\n",
       "            <tr>\n",
       "                        <th id=\"T_486f9_level0_row3\" class=\"row_heading level0 row3\" >3</th>\n",
       "                        <td id=\"T_486f9_row3_col0\" class=\"data row3 col0\" >Показать на главной странице баннеры с актуальными акциями и распродажами, чтобы увеличить конверсию</td>\n",
       "                        <td id=\"T_486f9_row3_col1\" class=\"data row3 col1\" >8.000000</td>\n",
       "                        <td id=\"T_486f9_row3_col2\" class=\"data row3 col2\" >40.000000</td>\n",
       "            </tr>\n",
       "            <tr>\n",
       "                        <th id=\"T_486f9_level0_row4\" class=\"row_heading level0 row4\" >0</th>\n",
       "                        <td id=\"T_486f9_row4_col0\" class=\"data row4 col0\" >Запустить акцию, дающую скидку на товар в день рождения</td>\n",
       "                        <td id=\"T_486f9_row4_col1\" class=\"data row4 col1\" >16.200000</td>\n",
       "                        <td id=\"T_486f9_row4_col2\" class=\"data row4 col2\" >16.200000</td>\n",
       "            </tr>\n",
       "            <tr>\n",
       "                        <th id=\"T_486f9_level0_row5\" class=\"row_heading level0 row5\" >7</th>\n",
       "                        <td id=\"T_486f9_row5_col0\" class=\"data row5 col0\" >Изменить структура категорий, что увеличит конверсию, т.к. пользователи быстрее найдут нужный товар</td>\n",
       "                        <td id=\"T_486f9_row5_col1\" class=\"data row5 col1\" >1.120000</td>\n",
       "                        <td id=\"T_486f9_row5_col2\" class=\"data row5 col2\" >9.000000</td>\n",
       "            </tr>\n",
       "            <tr>\n",
       "                        <th id=\"T_486f9_level0_row6\" class=\"row_heading level0 row6\" >5</th>\n",
       "                        <td id=\"T_486f9_row6_col0\" class=\"data row6 col0\" >Запустить собственную службу доставки, что сократит срок доставки заказов</td>\n",
       "                        <td id=\"T_486f9_row6_col1\" class=\"data row6 col1\" >2.000000</td>\n",
       "                        <td id=\"T_486f9_row6_col2\" class=\"data row6 col2\" >4.000000</td>\n",
       "            </tr>\n",
       "            <tr>\n",
       "                        <th id=\"T_486f9_level0_row7\" class=\"row_heading level0 row7\" >6</th>\n",
       "                        <td id=\"T_486f9_row7_col0\" class=\"data row7 col0\" >Добавить страницу отзывов клиентов о магазине, что позволит увеличить количество заказов</td>\n",
       "                        <td id=\"T_486f9_row7_col1\" class=\"data row7 col1\" >1.330000</td>\n",
       "                        <td id=\"T_486f9_row7_col2\" class=\"data row7 col2\" >4.000000</td>\n",
       "            </tr>\n",
       "            <tr>\n",
       "                        <th id=\"T_486f9_level0_row8\" class=\"row_heading level0 row8\" >8</th>\n",
       "                        <td id=\"T_486f9_row8_col0\" class=\"data row8 col0\" >Изменить цвет фона главной страницы, чтобы увеличить вовлеченность пользователей</td>\n",
       "                        <td id=\"T_486f9_row8_col1\" class=\"data row8 col1\" >1.000000</td>\n",
       "                        <td id=\"T_486f9_row8_col2\" class=\"data row8 col2\" >3.000000</td>\n",
       "            </tr>\n",
       "    </tbody></table>"
      ],
      "text/plain": [
       "<pandas.io.formats.style.Styler at 0x7f3fb05ce070>"
      ]
     },
     "execution_count": 5,
     "metadata": {},
     "output_type": "execute_result"
    }
   ],
   "source": [
    "merged_hyp = hyp.merge(hyp2, left_on = 'hypothesis',right_on = 'hypothesis' )[['hypothesis','ice','rice']].sort_values('rice',ascending = False)\n",
    "\n",
    "cm = sns.light_palette(\"blue\", as_cmap=True)\n",
    "merged_hyp.style.background_gradient(cmap=cm)\n"
   ]
  },
  {
   "cell_type": "markdown",
   "id": "bddf0b60",
   "metadata": {},
   "source": [
    "Тройка наиболее приоритетных гипоте после приоретизации их методологии RICE:\n",
    "\n",
    "1.Добавить форму подписки на все основные страницы, чтобы собрать базу клиентов для email-рассылок.  \n",
    "\n",
    "2.Добавить блоки рекомендаций товаров на сайт интернет магазина, чтобы повысить конверсию и средний чек заказа.\n",
    "\n",
    "3.Добавить два новых канала привлечения трафика, что позволит привлекать на 30% больше пользователей."
   ]
  },
  {
   "cell_type": "markdown",
   "id": "1bd57d70",
   "metadata": {},
   "source": [
    "**По методикам ICE и RICE в тройку приоритетных гипотез входят гипотезы по добавлению форму подписки на все основные страницы и вовлечение двух каналов привлечения трафика**. При расчете по методологии RICE из числа приоритетных гипотез фреймворка ICE выпадает предложение по предоставлению скидок на день рождения из-за очень низкого охвата этой гипотезы. Занимавшее третье место по ICE добавление формы подписки на все основные страницы, чтобы собрать базу клиентов для email-рассылок, выходит на первое местов по RICE из-за максимального охвата (10 из 10)."
   ]
  },
  {
   "cell_type": "markdown",
   "id": "e4c9967a",
   "metadata": {},
   "source": [
    "## Анализ A/B-теста <a class =\"anchor\" id=\"chapter2\"></a>"
   ]
  },
  {
   "cell_type": "code",
   "execution_count": 6,
   "id": "effad2af",
   "metadata": {
    "scrolled": false
   },
   "outputs": [
    {
     "name": "stdout",
     "output_type": "stream",
     "text": [
      "<class 'pandas.core.frame.DataFrame'>\n",
      "RangeIndex: 1197 entries, 0 to 1196\n",
      "Data columns (total 5 columns):\n",
      " #   Column         Non-Null Count  Dtype         \n",
      "---  ------         --------------  -----         \n",
      " 0   transactionId  1197 non-null   int64         \n",
      " 1   visitorId      1197 non-null   int64         \n",
      " 2   date           1197 non-null   datetime64[ns]\n",
      " 3   revenue        1197 non-null   int64         \n",
      " 4   group          1197 non-null   object        \n",
      "dtypes: datetime64[ns](1), int64(3), object(1)\n",
      "memory usage: 46.9+ KB\n",
      "None\n",
      "<class 'pandas.core.frame.DataFrame'>\n",
      "RangeIndex: 62 entries, 0 to 61\n",
      "Data columns (total 3 columns):\n",
      " #   Column    Non-Null Count  Dtype         \n",
      "---  ------    --------------  -----         \n",
      " 0   date      62 non-null     datetime64[ns]\n",
      " 1   group     62 non-null     object        \n",
      " 2   visitors  62 non-null     int64         \n",
      "dtypes: datetime64[ns](1), int64(1), object(1)\n",
      "memory usage: 1.6+ KB\n",
      "None\n"
     ]
    }
   ],
   "source": [
    "# Меняем тип данных в столбцах на datetime и делаем проверку\n",
    "orders['date'] = orders['date'].map(\n",
    "    lambda x: dt.datetime.strptime(x, '%Y-%m-%d'))\n",
    "visitors['date'] = visitors['date'].map(\n",
    "    lambda x: dt.datetime.strptime(x, '%Y-%m-%d'))\n",
    "\n",
    "print(orders.info())\n",
    "print(visitors.info()) "
   ]
  },
  {
   "cell_type": "code",
   "execution_count": 7,
   "id": "ab3f57e2",
   "metadata": {},
   "outputs": [
    {
     "data": {
      "text/plain": [
       "0"
      ]
     },
     "execution_count": 7,
     "metadata": {},
     "output_type": "execute_result"
    }
   ],
   "source": [
    "orders.duplicated().sum()"
   ]
  },
  {
   "cell_type": "code",
   "execution_count": 8,
   "id": "eba0b886",
   "metadata": {
    "scrolled": true
   },
   "outputs": [
    {
     "data": {
      "text/plain": [
       "0"
      ]
     },
     "execution_count": 8,
     "metadata": {},
     "output_type": "execute_result"
    }
   ],
   "source": [
    "visitors.duplicated().sum()"
   ]
  },
  {
   "cell_type": "code",
   "execution_count": 9,
   "id": "1357befd",
   "metadata": {
    "scrolled": true
   },
   "outputs": [
    {
     "data": {
      "text/plain": [
       "transactionId    0\n",
       "visitorId        0\n",
       "date             0\n",
       "revenue          0\n",
       "group            0\n",
       "dtype: int64"
      ]
     },
     "execution_count": 9,
     "metadata": {},
     "output_type": "execute_result"
    }
   ],
   "source": [
    "orders.isna().sum()"
   ]
  },
  {
   "cell_type": "code",
   "execution_count": 10,
   "id": "fd20fcc4",
   "metadata": {},
   "outputs": [
    {
     "data": {
      "text/plain": [
       "date        0\n",
       "group       0\n",
       "visitors    0\n",
       "dtype: int64"
      ]
     },
     "execution_count": 10,
     "metadata": {},
     "output_type": "execute_result"
    }
   ],
   "source": [
    "visitors.isna().sum()"
   ]
  },
  {
   "cell_type": "code",
   "execution_count": 11,
   "id": "1aec02bd",
   "metadata": {},
   "outputs": [
    {
     "data": {
      "text/plain": [
       "1197"
      ]
     },
     "execution_count": 11,
     "metadata": {},
     "output_type": "execute_result"
    }
   ],
   "source": [
    "len(orders)"
   ]
  },
  {
   "cell_type": "code",
   "execution_count": 12,
   "id": "e7ac13f6",
   "metadata": {},
   "outputs": [
    {
     "data": {
      "text/plain": [
       "58"
      ]
     },
     "execution_count": 12,
     "metadata": {},
     "output_type": "execute_result"
    }
   ],
   "source": [
    "#Поверяем наличие одних и тех же клиентов в двух группах\n",
    "two_group_clients = orders.groupby('visitorId').group.nunique().sort_values(ascending=False).reset_index()\n",
    "two_group_clients = two_group_clients.query('group > 1')\n",
    "orders=orders[np.logical_not(orders['visitorId'].isin(two_group_clients['visitorId']))]\n",
    "len(two_group_clients)\n"
   ]
  },
  {
   "cell_type": "code",
   "execution_count": 13,
   "id": "e88def98",
   "metadata": {
    "scrolled": true
   },
   "outputs": [
    {
     "data": {
      "text/plain": [
       "1016"
      ]
     },
     "execution_count": 13,
     "metadata": {},
     "output_type": "execute_result"
    }
   ],
   "source": [
    "len(orders)"
   ]
  },
  {
   "cell_type": "markdown",
   "id": "74095c47",
   "metadata": {},
   "source": [
    "В представленных датасетах нет дубликатов и пропусков. При этом есть 58 покупателей, которые одновременно попали в две группы. Они были исключены из датасета с заказами в итоге его динна сокралилась на 181 строк или на 15%."
   ]
  },
  {
   "cell_type": "markdown",
   "id": "544d3b4d",
   "metadata": {},
   "source": [
    "### Кумулятивная выручка по группам <a class =\"anchor\" id=\"chapter3\"></a>"
   ]
  },
  {
   "cell_type": "code",
   "execution_count": 14,
   "id": "ce4b4f39",
   "metadata": {},
   "outputs": [],
   "source": [
    "# Создаем массив уникальных пар значений дат и групп теста\n",
    "dates_groups = orders[['date','group']].drop_duplicates()"
   ]
  },
  {
   "cell_type": "code",
   "execution_count": 15,
   "id": "9a216fe0",
   "metadata": {},
   "outputs": [],
   "source": [
    "# Агрегируем данные по заказам\n",
    "orders_aggregated = dates_groups.apply(lambda x: orders[np.logical_and(orders['date'] <= x['date'], orders['group'] == x['group'])]\\\n",
    ".agg({'date' : 'max', 'group' : 'max', 'transactionId' : 'nunique', 'visitorId' : 'nunique', 'revenue' : 'sum'}), axis=1).sort_values(by=['date','group']) \n"
   ]
  },
  {
   "cell_type": "code",
   "execution_count": 16,
   "id": "9adf7953",
   "metadata": {},
   "outputs": [],
   "source": [
    "# Агрегируем данные по посетителям\n",
    "visitors_aggregated = dates_groups.apply(lambda x: visitors[np.logical_and(visitors['date'] <= x['date'], visitors['group'] == x['group'])].agg({'date' : 'max', 'group' : 'max', 'visitors' : 'sum'}), axis=1).sort_values(by=['date','group'])"
   ]
  },
  {
   "cell_type": "code",
   "execution_count": 17,
   "id": "f3c4fd5e",
   "metadata": {
    "scrolled": true
   },
   "outputs": [],
   "source": [
    "#Объединяем данные в один датафрейм\n",
    "cumulative_data = orders_aggregated.merge(visitors_aggregated,left_on = ['date','group'],right_on = ['date','group'])\n",
    "cumulative_data.columns = ['date', 'group', 'orders', 'buyers', 'revenue', 'visitors']"
   ]
  },
  {
   "cell_type": "code",
   "execution_count": 18,
   "id": "7334a53a",
   "metadata": {
    "scrolled": true
   },
   "outputs": [
    {
     "data": {
      "image/png": "[encoded data removed]",
      "text/plain": [
       "<Figure size 1008x360 with 1 Axes>"
      ]
     },
     "metadata": {
      "needs_background": "light"
     },
     "output_type": "display_data"
    }
   ],
   "source": [
    "#построим графики куммулятивной выручки по группам \n",
    "cumulative_revenue_a = cumulative_data.query('group == \"A\"')[['date','revenue','orders']]\n",
    "cumulative_revenue_b = cumulative_data.query('group == \"B\"')[['date','revenue','orders']]\n",
    "plt.figure(figsize=(14, 5))\n",
    "plt.plot(cumulative_revenue_a['date'],cumulative_revenue_a['revenue'],label='A')\n",
    "plt.plot(cumulative_revenue_b['date'],cumulative_revenue_b['revenue'],label='B')\n",
    "plt.legend()\n",
    "plt.title('Куммулятивная выручка по группам')\n",
    "plt.xlabel('Дата')\n",
    "plt.ylabel('Выручка')\n",
    "plt.annotate('скачок', xy=(dt.datetime(2019, 8, 17), 2800000), xytext=(dt.datetime(2019, 8, 10), 3500000),\n",
    "            arrowprops=dict(facecolor='g'))\n",
    "plt.annotate('отрыв', xy=(dt.datetime(2019, 8, 5), 800000), xytext=(dt.datetime(2019, 8, 5), 2000000),\n",
    "            arrowprops=dict(facecolor='g'))\n",
    "plt.show()"
   ]
  },
  {
   "cell_type": "code",
   "execution_count": 19,
   "id": "1a0f142f",
   "metadata": {},
   "outputs": [
    {
     "data": {
      "image/png": "[encoded data removed]",
      "text/plain": [
       "<Figure size 1008x360 with 1 Axes>"
      ]
     },
     "metadata": {
      "needs_background": "light"
     },
     "output_type": "display_data"
    }
   ],
   "source": [
    "#Рассмотрим подробнее диапазон скачка. Он происходит 19 августа\n",
    "cumulative_revenue_a = cumulative_data.query('group == \"A\"')[['date','revenue','orders']]\n",
    "cumulative_revenue_b = cumulative_data.query('group == \"B\"')[['date','revenue','orders']]\n",
    "plt.figure(figsize=(14, 5))\n",
    "plt.plot(cumulative_revenue_a['date'],cumulative_revenue_a['revenue'],label='A')\n",
    "plt.plot(cumulative_revenue_b['date'],cumulative_revenue_b['revenue'],label='B')\n",
    "plt.xlim([dt.datetime(2019, 8, 16), dt.datetime(2019, 8, 22)])\n",
    "plt.legend()\n",
    "plt.title('Куммулятивная выручка по группам')\n",
    "plt.xlabel('Дата')\n",
    "plt.ylabel('Выручка')\n",
    "plt.show()"
   ]
  },
  {
   "cell_type": "markdown",
   "id": "9e520470",
   "metadata": {},
   "source": [
    "Выручка по группам равномерно растет с неболшим опережением в группе B, но **между 17 и 21 августа фиксируется резкий прирост выручки в группе B (либо резкий рост числа заказов, либо суммы)**. Далее выручка продолжает расти почти синхронно в обеих группах, что говорит об отсутствии в группе B заметного на данном этапе роста выручки и необходимости исключить выбросы."
   ]
  },
  {
   "cell_type": "markdown",
   "id": "039e5837",
   "metadata": {},
   "source": [
    "### Кумулятивный средний чек по группам <a class =\"anchor\" id=\"chapter4\"></a>"
   ]
  },
  {
   "cell_type": "code",
   "execution_count": 20,
   "id": "7b1d2712",
   "metadata": {},
   "outputs": [
    {
     "data": {
      "image/png": "[encoded data removed]",
      "text/plain": [
       "<Figure size 1080x360 with 1 Axes>"
      ]
     },
     "metadata": {
      "needs_background": "light"
     },
     "output_type": "display_data"
    }
   ],
   "source": [
    "#Строим график кумулятивного среднего чека по группам\n",
    "plt.figure(figsize=(15, 5))\n",
    "plt.plot(cumulative_revenue_a['date'], cumulative_revenue_a['revenue']/cumulative_revenue_a['orders'], label='A')\n",
    "plt.plot(cumulative_revenue_b['date'], cumulative_revenue_b['revenue']/cumulative_revenue_b['orders'], label='B')\n",
    "plt.legend() \n",
    "plt.title('Куммулятивный средний чек по группам')\n",
    "plt.xlabel('Дата')\n",
    "plt.ylabel('Средний чек')\n",
    "plt.show()"
   ]
  },
  {
   "cell_type": "markdown",
   "id": "69fa3cd4",
   "metadata": {},
   "source": [
    "**На графиках динамики среднего чека мы также видим болшой выброс между 17 и 21 августа в группе B**. Если в группе А кумулятивный средний чек плавно растет, то в группе B после резкого выброса он постепенно падает, что может свидетельствовать о корректировке к нормальным значениям после аномального выброса. Тренды изменения показателей до выброса были схожи. \n",
    "\n",
    "Необходимо очистить данные от выбросов, чтобы более четко понимать динамику изменения кумулятивных данных."
   ]
  },
  {
   "cell_type": "code",
   "execution_count": 21,
   "id": "6bbc0110",
   "metadata": {
    "scrolled": true
   },
   "outputs": [
    {
     "data": {
      "image/png": "[encoded data removed]",
      "text/plain": [
       "<Figure size 1080x360 with 1 Axes>"
      ]
     },
     "metadata": {
      "needs_background": "light"
     },
     "output_type": "display_data"
    }
   ],
   "source": [
    "# объединим данные по группам\n",
    "merged_cumulative_revenue = cumulative_revenue_a.merge(cumulative_revenue_b, left_on='date', right_on='date', how='left', suffixes=['_a', '_b'])\n",
    "\n",
    "# Выводим соотношение средних чеков\n",
    "plt.figure(figsize=(15, 5))\n",
    "plt.plot(merged_cumulative_revenue['date'], ((merged_cumulative_revenue['revenue_b']/merged_cumulative_revenue['orders_b'])/(merged_cumulative_revenue['revenue_a']/merged_cumulative_revenue['orders_a'])-1))\n",
    "plt.axhline(y=0, color='black', linestyle='--')\n",
    "plt.xlabel('Дата')\n",
    "plt.ylabel('Отношение средних чеков')\n",
    "plt.show()\n"
   ]
  },
  {
   "cell_type": "markdown",
   "id": "49de57de",
   "metadata": {},
   "source": [
    "График отношений средних чеков подчеркивает резкие относительне скачки, что также указывает на необходимость идентификации выбросов."
   ]
  },
  {
   "cell_type": "markdown",
   "id": "7e5a2fc1",
   "metadata": {},
   "source": [
    "### Кумулятивная конверсия по группам <a class =\"anchor\" id=\"chapter5\"></a>"
   ]
  },
  {
   "cell_type": "code",
   "execution_count": 22,
   "id": "b2e9f8b7",
   "metadata": {},
   "outputs": [
    {
     "data": {
      "image/png": "[encoded data removed]",
      "text/plain": [
       "<Figure size 1080x360 with 1 Axes>"
      ]
     },
     "metadata": {
      "needs_background": "light"
     },
     "output_type": "display_data"
    }
   ],
   "source": [
    "# Расчет кумулятивной конверсии\n",
    "cumulative_data['conversion'] = cumulative_data['orders']/cumulative_data['visitors']\n",
    "\n",
    "# Выделяем группу A\n",
    "cumulative_data_a = cumulative_data.query('group ==\"A\"')\n",
    "\n",
    "# Выделяем группу B\n",
    "cumulative_data_b = cumulative_data.query('group ==\"B\"')\n",
    "\n",
    "# строим графики\n",
    "plt.figure(figsize=(15, 5))\n",
    "plt.plot(cumulative_data_a['date'], cumulative_data_a['conversion'], label='A')\n",
    "plt.plot(cumulative_data_b['date'], cumulative_data_b['conversion'], label='B')\n",
    "plt.legend()\n",
    "plt.title('Кумулятивная конверсия по группам')\n",
    "plt.xlabel('Дата')\n",
    "plt.ylabel('Конверсия')\n",
    "# задаем масштаб осей\n",
    "plt.axis([min(cumulative_data_a['date']), max(cumulative_data_a['date']), 0, 0.04])\n",
    "plt.show()"
   ]
  },
  {
   "cell_type": "markdown",
   "id": "99dd4f29",
   "metadata": {},
   "source": [
    "До примерно 5 августа конверсии колеблются, а затем ситуация стабилизируется и группа B начинает явно лидиовать и это лидерство примерно в 0,5 процентных пункта сохраняется до конца теста."
   ]
  },
  {
   "cell_type": "code",
   "execution_count": 23,
   "id": "9e43f087",
   "metadata": {
    "scrolled": false
   },
   "outputs": [
    {
     "data": {
      "image/png": "[encoded data removed]",
      "text/plain": [
       "<Figure size 1080x360 with 1 Axes>"
      ]
     },
     "metadata": {
      "needs_background": "light"
     },
     "output_type": "display_data"
    }
   ],
   "source": [
    "#Строим график относительного различия конверсий\n",
    "merged_cumulative_сonversions = cumulative_data_a[['date','conversion']].merge(cumulative_data_b[['date','conversion']], left_on='date', right_on='date', how='left', suffixes=['_a', '_b'])\n",
    "plt.figure(figsize=(15, 5))\n",
    "plt.plot(merged_cumulative_сonversions['date'], merged_cumulative_сonversions['conversion_b']/merged_cumulative_сonversions['conversion_a']-1, label=\"Относительный прирост конверсии группы B относительно группы A\")\n",
    "plt.title('Относительная конверсия')\n",
    "plt.xlabel('Дата')\n",
    "plt.ylabel('Отношение')\n",
    "\n",
    "plt.axhline(y=0, color='black', linestyle='--')\n",
    "plt.axhline(y=0.1, color='grey', linestyle='--')\n",
    "plt.show()\n"
   ]
  },
  {
   "cell_type": "markdown",
   "id": "e7dfe195",
   "metadata": {},
   "source": [
    "В начале эксперимента группа B проигрывала по конверсии группе A, но после 5-го августа заметен резкий рост различия в конверсии в пользу группы B. Потом фиксируется коррекция вниз и ближе к концу эксперимента разница установилась примерно в размере 10%, и сравнительно стабилизировалась."
   ]
  },
  {
   "cell_type": "markdown",
   "id": "cc01fc2b",
   "metadata": {},
   "source": [
    "### Количество заказов по пользователям <a class =\"anchor\" id=\"chapter6\"></a>"
   ]
  },
  {
   "cell_type": "code",
   "execution_count": 24,
   "id": "5cb7f9ce",
   "metadata": {
    "scrolled": true
   },
   "outputs": [
    {
     "data": {
      "text/html": [
       "<div>\n",
       "<style scoped>\n",
       "    .dataframe tbody tr th:only-of-type {\n",
       "        vertical-align: middle;\n",
       "    }\n",
       "\n",
       "    .dataframe tbody tr th {\n",
       "        vertical-align: top;\n",
       "    }\n",
       "\n",
       "    .dataframe thead th {\n",
       "        text-align: right;\n",
       "    }\n",
       "</style>\n",
       "<table border=\"1\" class=\"dataframe\">\n",
       "  <thead>\n",
       "    <tr style=\"text-align: right;\">\n",
       "      <th></th>\n",
       "      <th>user_id</th>\n",
       "      <th>orders</th>\n",
       "    </tr>\n",
       "  </thead>\n",
       "  <tbody>\n",
       "    <tr>\n",
       "      <th>908</th>\n",
       "      <td>3967698036</td>\n",
       "      <td>3</td>\n",
       "    </tr>\n",
       "    <tr>\n",
       "      <th>55</th>\n",
       "      <td>249864742</td>\n",
       "      <td>3</td>\n",
       "    </tr>\n",
       "    <tr>\n",
       "      <th>478</th>\n",
       "      <td>2108163459</td>\n",
       "      <td>3</td>\n",
       "    </tr>\n",
       "    <tr>\n",
       "      <th>687</th>\n",
       "      <td>2988190573</td>\n",
       "      <td>3</td>\n",
       "    </tr>\n",
       "    <tr>\n",
       "      <th>890</th>\n",
       "      <td>3908431265</td>\n",
       "      <td>3</td>\n",
       "    </tr>\n",
       "    <tr>\n",
       "      <th>138</th>\n",
       "      <td>611059232</td>\n",
       "      <td>3</td>\n",
       "    </tr>\n",
       "    <tr>\n",
       "      <th>632</th>\n",
       "      <td>2742574263</td>\n",
       "      <td>3</td>\n",
       "    </tr>\n",
       "    <tr>\n",
       "      <th>157</th>\n",
       "      <td>678354126</td>\n",
       "      <td>2</td>\n",
       "    </tr>\n",
       "    <tr>\n",
       "      <th>323</th>\n",
       "      <td>1404560065</td>\n",
       "      <td>2</td>\n",
       "    </tr>\n",
       "    <tr>\n",
       "      <th>452</th>\n",
       "      <td>1985475298</td>\n",
       "      <td>2</td>\n",
       "    </tr>\n",
       "  </tbody>\n",
       "</table>\n",
       "</div>"
      ],
      "text/plain": [
       "        user_id  orders\n",
       "908  3967698036       3\n",
       "55    249864742       3\n",
       "478  2108163459       3\n",
       "687  2988190573       3\n",
       "890  3908431265       3\n",
       "138   611059232       3\n",
       "632  2742574263       3\n",
       "157   678354126       2\n",
       "323  1404560065       2\n",
       "452  1985475298       2"
      ]
     },
     "execution_count": 24,
     "metadata": {},
     "output_type": "execute_result"
    }
   ],
   "source": [
    "#Сортируем пользователей по числу заказов\n",
    "orders_by_users = (\n",
    "    orders.groupby('visitorId', as_index=False)\n",
    "    .agg({'transactionId': 'nunique'}))\n",
    "\n",
    "orders_by_users.columns = ['user_id','orders']\n",
    "\n",
    "orders_by_users.sort_values(by='orders', ascending=False).head(10)\n"
   ]
  },
  {
   "cell_type": "code",
   "execution_count": 25,
   "id": "7163089c",
   "metadata": {},
   "outputs": [],
   "source": [
    "users_range = pd.Series(range(0,len(orders_by_users)))"
   ]
  },
  {
   "cell_type": "code",
   "execution_count": 26,
   "id": "31743076",
   "metadata": {
    "scrolled": false
   },
   "outputs": [
    {
     "data": {
      "image/png": "[encoded data removed]",
      "text/plain": [
       "<Figure size 1080x360 with 1 Axes>"
      ]
     },
     "metadata": {
      "needs_background": "light"
     },
     "output_type": "display_data"
    }
   ],
   "source": [
    "#Строим диаграмму числа заказов по пользователям\n",
    "plt.figure(figsize=(15, 5))\n",
    "plt.scatter(users_range, orders_by_users['orders'])\n",
    "plt.title('Диаграмма числа заказов на одного пользователя')\n",
    "plt.xlabel('Номер пользователя')\n",
    "plt.ylabel('Число заказов на одного пользователя, шт.')\n",
    "plt.show()"
   ]
  },
  {
   "cell_type": "markdown",
   "id": "6fe9f3a8",
   "metadata": {},
   "source": [
    "**Подавляющее число пользователей в период теста заказывали не более трех раз**. Но для более точной оценке выбросов лучше расчитать 95 и 99 процентели."
   ]
  },
  {
   "cell_type": "code",
   "execution_count": 27,
   "id": "a1b60f4c",
   "metadata": {},
   "outputs": [
    {
     "name": "stdout",
     "output_type": "stream",
     "text": [
      "[1. 2.]\n"
     ]
    }
   ],
   "source": [
    "print(np.percentile(orders_by_users['orders'], [95, 99]))"
   ]
  },
  {
   "cell_type": "markdown",
   "id": "0a256874",
   "metadata": {},
   "source": [
    "**Менее 1% пользователей делали более двух заказов**. Это количество стоит выбрать в качестве границы для определения аномальных пользователей."
   ]
  },
  {
   "cell_type": "code",
   "execution_count": 28,
   "id": "a90f6a92",
   "metadata": {
    "scrolled": false
   },
   "outputs": [
    {
     "data": {
      "image/png": "[encoded data removed]",
      "text/plain": [
       "<Figure size 1080x360 with 1 Axes>"
      ]
     },
     "metadata": {
      "needs_background": "light"
     },
     "output_type": "display_data"
    }
   ],
   "source": [
    "#Строим диаграмму стоимости заказов\n",
    "plt.figure(figsize=(15, 5))\n",
    "plt.scatter(pd.Series(range(0,len(orders['revenue']))), orders['revenue'])\n",
    "plt.title('Диаграмма стоимости заказов')\n",
    "plt.xlabel('Номер заказа')\n",
    "plt.ylabel('Сумма')\n",
    "plt.show()"
   ]
  },
  {
   "cell_type": "code",
   "execution_count": 29,
   "id": "e390ae71",
   "metadata": {},
   "outputs": [
    {
     "data": {
      "image/png": "[encoded data removed]",
      "text/plain": [
       "<Figure size 1080x360 with 1 Axes>"
      ]
     },
     "metadata": {
      "needs_background": "light"
     },
     "output_type": "display_data"
    }
   ],
   "source": [
    "#Строим гистограмму заказов по сумме\n",
    "plt.figure(figsize=(15, 5))\n",
    "orders['revenue'].hist(bins=50)\n",
    "plt.title('Гистограмма заказов по сумме')\n",
    "plt.xlabel('Сумма')\n",
    "plt.ylabel('Количество заказов')\n",
    "plt.show()"
   ]
  },
  {
   "cell_type": "code",
   "execution_count": 30,
   "id": "ce048064",
   "metadata": {},
   "outputs": [
    {
     "name": "stdout",
     "output_type": "stream",
     "text": [
      "[26785. 53904.]\n"
     ]
    }
   ],
   "source": [
    "print(np.percentile(orders['revenue'], [95, 99]))"
   ]
  },
  {
   "cell_type": "code",
   "execution_count": 31,
   "id": "a758ef34",
   "metadata": {
    "scrolled": true
   },
   "outputs": [
    {
     "data": {
      "text/plain": [
       "9"
      ]
     },
     "execution_count": 31,
     "metadata": {},
     "output_type": "execute_result"
    }
   ],
   "source": [
    "len(orders.query('revenue > 54000'))"
   ]
  },
  {
   "cell_type": "code",
   "execution_count": 32,
   "id": "e52df143",
   "metadata": {},
   "outputs": [
    {
     "data": {
      "text/html": [
       "<div>\n",
       "<style scoped>\n",
       "    .dataframe tbody tr th:only-of-type {\n",
       "        vertical-align: middle;\n",
       "    }\n",
       "\n",
       "    .dataframe tbody tr th {\n",
       "        vertical-align: top;\n",
       "    }\n",
       "\n",
       "    .dataframe thead th {\n",
       "        text-align: right;\n",
       "    }\n",
       "</style>\n",
       "<table border=\"1\" class=\"dataframe\">\n",
       "  <thead>\n",
       "    <tr style=\"text-align: right;\">\n",
       "      <th></th>\n",
       "      <th>transactionId</th>\n",
       "      <th>visitorId</th>\n",
       "      <th>date</th>\n",
       "      <th>revenue</th>\n",
       "      <th>group</th>\n",
       "    </tr>\n",
       "  </thead>\n",
       "  <tbody>\n",
       "    <tr>\n",
       "      <th>425</th>\n",
       "      <td>590470918</td>\n",
       "      <td>1920142716</td>\n",
       "      <td>2019-08-19</td>\n",
       "      <td>1294500</td>\n",
       "      <td>B</td>\n",
       "    </tr>\n",
       "    <tr>\n",
       "      <th>743</th>\n",
       "      <td>3603576309</td>\n",
       "      <td>4133034833</td>\n",
       "      <td>2019-08-09</td>\n",
       "      <td>67990</td>\n",
       "      <td>A</td>\n",
       "    </tr>\n",
       "    <tr>\n",
       "      <th>744</th>\n",
       "      <td>3668308183</td>\n",
       "      <td>888512513</td>\n",
       "      <td>2019-08-27</td>\n",
       "      <td>86620</td>\n",
       "      <td>B</td>\n",
       "    </tr>\n",
       "    <tr>\n",
       "      <th>940</th>\n",
       "      <td>2420050534</td>\n",
       "      <td>4003628586</td>\n",
       "      <td>2019-08-08</td>\n",
       "      <td>58550</td>\n",
       "      <td>B</td>\n",
       "    </tr>\n",
       "    <tr>\n",
       "      <th>949</th>\n",
       "      <td>1347999392</td>\n",
       "      <td>887908475</td>\n",
       "      <td>2019-08-21</td>\n",
       "      <td>60450</td>\n",
       "      <td>A</td>\n",
       "    </tr>\n",
       "    <tr>\n",
       "      <th>1099</th>\n",
       "      <td>316924019</td>\n",
       "      <td>148427295</td>\n",
       "      <td>2019-08-12</td>\n",
       "      <td>65710</td>\n",
       "      <td>A</td>\n",
       "    </tr>\n",
       "    <tr>\n",
       "      <th>1103</th>\n",
       "      <td>1348774318</td>\n",
       "      <td>1164614297</td>\n",
       "      <td>2019-08-12</td>\n",
       "      <td>66350</td>\n",
       "      <td>A</td>\n",
       "    </tr>\n",
       "    <tr>\n",
       "      <th>1136</th>\n",
       "      <td>666610489</td>\n",
       "      <td>1307669133</td>\n",
       "      <td>2019-08-13</td>\n",
       "      <td>92550</td>\n",
       "      <td>A</td>\n",
       "    </tr>\n",
       "    <tr>\n",
       "      <th>1196</th>\n",
       "      <td>3936777065</td>\n",
       "      <td>2108080724</td>\n",
       "      <td>2019-08-15</td>\n",
       "      <td>202740</td>\n",
       "      <td>B</td>\n",
       "    </tr>\n",
       "  </tbody>\n",
       "</table>\n",
       "</div>"
      ],
      "text/plain": [
       "      transactionId   visitorId       date  revenue group\n",
       "425       590470918  1920142716 2019-08-19  1294500     B\n",
       "743      3603576309  4133034833 2019-08-09    67990     A\n",
       "744      3668308183   888512513 2019-08-27    86620     B\n",
       "940      2420050534  4003628586 2019-08-08    58550     B\n",
       "949      1347999392   887908475 2019-08-21    60450     A\n",
       "1099      316924019   148427295 2019-08-12    65710     A\n",
       "1103     1348774318  1164614297 2019-08-12    66350     A\n",
       "1136      666610489  1307669133 2019-08-13    92550     A\n",
       "1196     3936777065  2108080724 2019-08-15   202740     B"
      ]
     },
     "execution_count": 32,
     "metadata": {},
     "output_type": "execute_result"
    }
   ],
   "source": [
    "orders.query('revenue > 54000')"
   ]
  },
  {
   "cell_type": "markdown",
   "id": "c2c1e6b0",
   "metadata": {},
   "source": [
    "**Менее 1% заказов имеют сумму более 53,9 тыс. руб.** Суммы подавляющего большинства заказов составляют менее 27 тыс. руб. Определяя в качестве цифры отсечения 54 тыс рублей, мы уберем 9 заказов. В том числе один на сумму 1,3 млн руб., сделанный 19 августа и отнесенный к группе B. **Весьма вероятно, что он и обуславливает резкий скачек выручки и среднего чека в группе B между 17 и 21 августа**."
   ]
  },
  {
   "cell_type": "markdown",
   "id": "7f58af0f",
   "metadata": {},
   "source": [
    "### Анализ конверсии <a class =\"anchor\" id=\"chapter7\"></a>"
   ]
  },
  {
   "cell_type": "markdown",
   "id": "fc14dea9",
   "metadata": {},
   "source": [
    "Сформулируем гипотезы для z-теста конверсии в покупку по группам.\n",
    "\n",
    "*Нулевая гипотеза: различий в конверсии между группами нет*. \n",
    "\n",
    "*Альтернативная гипотеза: конверсии в двух группах отличаются*. \n",
    "\n"
   ]
  },
  {
   "cell_type": "code",
   "execution_count": 33,
   "id": "763945b6",
   "metadata": {
    "scrolled": true
   },
   "outputs": [],
   "source": [
    "#рассчитаем конверсию в покупку по группам по итогам периода\n",
    "a_trials = cumulative_data.loc[60,'visitors']\n",
    "b_trials = cumulative_data.loc[61,'visitors']\n",
    "a_succeses = cumulative_data.loc[60,'orders']\n",
    "b_succeses = cumulative_data.loc[61,'orders']\n",
    "\n",
    "alpha = 0.05\n",
    "p1 = a_succeses/a_trials\n",
    "p2 = b_succeses/b_trials\n",
    "p_combined = (a_succeses + b_succeses)/ (a_trials + b_trials)\n",
    "difference = p1 - p2 "
   ]
  },
  {
   "cell_type": "code",
   "execution_count": 34,
   "id": "6ca78d75",
   "metadata": {
    "scrolled": false
   },
   "outputs": [
    {
     "name": "stdout",
     "output_type": "stream",
     "text": [
      "p-значение:  0.016851380434703023\n",
      "Отвергаем нулевую гипотезу: между долями есть значимая разница\n"
     ]
    }
   ],
   "source": [
    "z_value = difference / mth.sqrt(\n",
    "    p_combined * (1 - p_combined) * (1 / a_trials + 1 / b_trials)\n",
    ")\n",
    "\n",
    "# задаем стандартное нормальное распределение (среднее 0, ст.отклонение 1)\n",
    "distr = stats.norm(0, 1)\n",
    "\n",
    "p_value = (1 - distr.cdf(abs(z_value))) * 2\n",
    "\n",
    "print('p-значение: ', p_value)\n",
    "\n",
    "if p_value < alpha:\n",
    "    print('Отвергаем нулевую гипотезу: между долями есть значимая разница')\n",
    "else:\n",
    "    print(\n",
    "        'Не получилось отвергнуть нулевую гипотезу, нет оснований считать доли разными'\n",
    "    ) "
   ]
  },
  {
   "cell_type": "code",
   "execution_count": 35,
   "id": "141c6268",
   "metadata": {},
   "outputs": [
    {
     "name": "stdout",
     "output_type": "stream",
     "text": [
      "0.02497865072587532 0.02897018397124128 0.1597977924896936\n"
     ]
    }
   ],
   "source": [
    "print(p1,p2,(p2/p1)-1)"
   ]
  },
  {
   "cell_type": "markdown",
   "id": "a5f3f592",
   "metadata": {},
   "source": [
    "**Согласно результатам z-теста, разница в конверсиях при указанных размерах выборок достаточна, чтобы говорить о статистически значимом различии**. Конверсии по группам составляют соответственно 2,5 и 2,9%."
   ]
  },
  {
   "cell_type": "markdown",
   "id": "fa26f4d9",
   "metadata": {},
   "source": [
    "Сформулирем гипотезы для оценке различий в числе заказов на пользователя на основе теста Манна-Уиттни.\n",
    "\n",
    "*Нулевая гипотеза: различий в числе заказов на пользователя между группами нет*. \n",
    "\n",
    "*Альтернативная гипотеза: различия в числе заказов на пользователя есть*. "
   ]
  },
  {
   "cell_type": "code",
   "execution_count": 36,
   "id": "d50675e9",
   "metadata": {
    "scrolled": true
   },
   "outputs": [
    {
     "name": "stdout",
     "output_type": "stream",
     "text": [
      "0.011\n",
      "0.160\n"
     ]
    }
   ],
   "source": [
    "#Проверяем статистическую значимость различий в количестве заказов на одного пользователя \n",
    "\n",
    "orders_by_users_a = orders.query('group == \"A\"').groupby('visitorId', as_index=False).agg({'transactionId': pd.Series.nunique})\n",
    "\n",
    "orders_by_users_a.columns = ['userId', 'orders']\n",
    "\n",
    "orders_by_users_b = orders.query('group == \"B\"').groupby('visitorId', as_index=False).agg({'transactionId': pd.Series.nunique})\n",
    "\n",
    "orders_by_users_b.columns = ['userId', 'orders']\n",
    "\n",
    "visitors_a_daily = visitors[visitors['group'] == 'A'][['date', 'visitors']]\n",
    "visitors_a_daily.columns = ['date', 'visitors_per_date_a']\n",
    "\n",
    "visitors_b_daily = visitors[visitors['group'] == 'B'][['date', 'visitors']]\n",
    "visitors_b_daily.columns = ['date', 'visitors_per_date_b']\n",
    "\n",
    "sampleA = pd.concat(\n",
    "    [\n",
    "        orders_by_users_a['orders'],\n",
    "        pd.Series(\n",
    "            0,\n",
    "            index=np.arange(\n",
    "                visitors_a_daily['visitors_per_date_a'].sum() - len(orders_by_users_a['orders'])\n",
    "            ),\n",
    "            name='orders',\n",
    "        ),\n",
    "    ],\n",
    "    axis=0,\n",
    ")\n",
    "\n",
    "sampleB = pd.concat(\n",
    "    [\n",
    "        orders_by_users_b['orders'],\n",
    "        pd.Series(\n",
    "            0,\n",
    "            index=np.arange(\n",
    "                visitors_b_daily['visitors_per_date_b'].sum() - len(orders_by_users_b['orders'])\n",
    "            ),\n",
    "            name='orders',\n",
    "        ),\n",
    "    ],\n",
    "    axis=0,\n",
    ")\n",
    "\n",
    "print(\"{0:.3f}\".format(stats.mannwhitneyu(sampleA, sampleB)[1]))\n",
    "\n",
    "print(\"{0:.3f}\".format(sampleB.mean() / sampleA.mean() - 1))"
   ]
  },
  {
   "cell_type": "markdown",
   "id": "7325783b",
   "metadata": {},
   "source": [
    "Значение p-value по тесту Манна-Уиттни составляет 0.011, что ниже порогового значения в 0.05, а значит **мы можем отвергнуть нулевую теорию и признать среднее число заказов на пользователя отличающимся**. Средняя конверсия пользователей в заказы отличается на 16% в пользу группы B.  "
   ]
  },
  {
   "cell_type": "markdown",
   "id": "60c44c7c",
   "metadata": {},
   "source": [
    "### Статзначимость различий в среднем чеке между сегментами <a class =\"anchor\" id=\"chapter8\"></a>"
   ]
  },
  {
   "cell_type": "code",
   "execution_count": 37,
   "id": "f17ef32b",
   "metadata": {
    "scrolled": true
   },
   "outputs": [
    {
     "name": "stdout",
     "output_type": "stream",
     "text": [
      "0.829\n",
      "0.287\n"
     ]
    }
   ],
   "source": [
    "#Проверяем статистическую значимость различий в среднем чеке между сегментами\n",
    "print('{0:.3f}'.format(stats.mannwhitneyu(orders[orders['group']=='A']['revenue'], orders[orders['group']=='B']['revenue'])[1]))\n",
    "print('{0:.3f}'.format(orders[orders['group']=='B']['revenue'].mean()/orders[orders['group']=='A']['revenue'].mean()-1))"
   ]
  },
  {
   "cell_type": "markdown",
   "id": "999e0a7b",
   "metadata": {},
   "source": [
    "Нулевая гипотеза: различий в среднем чеке между группами нет. \n",
    "Альтернативная гипотеза: различия в среднем чеке между группами есть.\n",
    "Не смотря на сравнительно большую разницу средних (29%), **мы не можем отвергнуть нулевую гипотезу об отсутствии различий в средних чеках** из-за того, что p-value равно 0.829, что значительно превышает уровен alpha 0.05."
   ]
  },
  {
   "cell_type": "markdown",
   "id": "5a743f9e",
   "metadata": {},
   "source": [
    "### Исключение выбросов и корректировка данных <a class =\"anchor\" id=\"chapter9\"></a>"
   ]
  },
  {
   "cell_type": "code",
   "execution_count": 38,
   "id": "dacaa14b",
   "metadata": {
    "scrolled": false
   },
   "outputs": [
    {
     "name": "stdout",
     "output_type": "stream",
     "text": [
      "1099    148427295\n",
      "33      249864742\n",
      "58      611059232\n",
      "949     887908475\n",
      "744     888512513\n",
      "dtype: int64\n",
      "16\n"
     ]
    }
   ],
   "source": [
    "#Определим пользователей с аномальной стоимсотью и числом заказов  и посчитаем статистическую значимость различий в среднем чеке и конверсии между сегментами без них\n",
    "users_with_many_orders = pd.concat(\n",
    "    [\n",
    "        orders_by_users_a[orders_by_users_a['orders'] > 2]['userId'],\n",
    "        orders_by_users_b[orders_by_users_b['orders'] > 2]['userId'],\n",
    "    ],\n",
    "    axis=0,\n",
    ")\n",
    "users_expensive_orders = orders[orders['revenue'] > 54000]['visitorId']\n",
    "abnormal_users = (\n",
    "    pd.concat([users_with_many_orders, users_expensive_orders], axis=0)\n",
    "    .drop_duplicates()\n",
    "    .sort_values()\n",
    ")\n",
    "print(abnormal_users.head(5))\n",
    "print(abnormal_users.shape[0])"
   ]
  },
  {
   "cell_type": "markdown",
   "id": "d13ecc7c",
   "metadata": {},
   "source": [
    "В общей сложности вявлено 16 аномальных покупателей, которых нужно исключить из анализа для корректировки результатов."
   ]
  },
  {
   "cell_type": "code",
   "execution_count": 39,
   "id": "6322bdf5",
   "metadata": {},
   "outputs": [],
   "source": [
    "sample_a_filtered = pd.concat(\n",
    "    [\n",
    "        orders_by_users_a[\n",
    "            np.logical_not(orders_by_users_a['userId'].isin(abnormal_users))\n",
    "        ]['orders'],\n",
    "        pd.Series(\n",
    "            0,\n",
    "            index=np.arange(\n",
    "                visitors_a_daily['visitors_per_date_a'].sum() - len(orders_by_users_a['orders'])\n",
    "            ),\n",
    "            name='orders',\n",
    "        ),\n",
    "    ],\n",
    "    axis=0,\n",
    ")\n",
    "\n",
    "sample_b_filtered = pd.concat(\n",
    "    [\n",
    "        orders_by_users_b[\n",
    "            np.logical_not(orders_by_users_b['userId'].isin(abnormal_users))\n",
    "        ]['orders'],\n",
    "        pd.Series(\n",
    "            0,\n",
    "            index=np.arange(\n",
    "                visitors_b_daily['visitors_per_date_b'].sum() - len(orders_by_users_b['orders'])\n",
    "            ),\n",
    "            name='orders',\n",
    "        ),\n",
    "    ],\n",
    "    axis=0,\n",
    ") "
   ]
  },
  {
   "cell_type": "code",
   "execution_count": 40,
   "id": "da21e8c5",
   "metadata": {},
   "outputs": [
    {
     "name": "stdout",
     "output_type": "stream",
     "text": [
      "0.007\n",
      "0.189\n"
     ]
    }
   ],
   "source": [
    "print('{0:.3f}'.format(stats.mannwhitneyu(sample_a_filtered, sample_b_filtered)[1]))\n",
    "print('{0:.3f}'.format(sample_b_filtered.mean()/sample_a_filtered.mean()-1)) "
   ]
  },
  {
   "cell_type": "markdown",
   "id": "616d34f8",
   "metadata": {},
   "source": [
    "Значение p-value по тесту Манна-Уиттни после удаления выросов уменьшилось до 0.007, **подтвердив верность вывода о неравенстве конверсий пользователей в заказы между группами**. Относительная разница между конверсиями выросла после корректировки до 18,9%. (до корректировки - 16% в пользу группы B)."
   ]
  },
  {
   "cell_type": "code",
   "execution_count": 41,
   "id": "e124395e",
   "metadata": {
    "scrolled": true
   },
   "outputs": [
    {
     "name": "stdout",
     "output_type": "stream",
     "text": [
      "0.788\n",
      "-0.032\n"
     ]
    }
   ],
   "source": [
    "print(\n",
    "    '{0:.3f}'.format(\n",
    "        stats.mannwhitneyu(\n",
    "            orders[\n",
    "                np.logical_and(\n",
    "                    orders['group'] == 'A',\n",
    "                    np.logical_not(orders['visitorId'].isin(abnormal_users)),\n",
    "                )\n",
    "            ]['revenue'],\n",
    "            orders[\n",
    "                np.logical_and(\n",
    "                    orders['group'] == 'B',\n",
    "                    np.logical_not(orders['visitorId'].isin(abnormal_users)),\n",
    "                )\n",
    "            ]['revenue'],\n",
    "        )[1]\n",
    "    )\n",
    ")\n",
    "\n",
    "print(\n",
    "    \"{0:.3f}\".format(\n",
    "        orders[\n",
    "            np.logical_and(\n",
    "                orders['group'] == 'B',\n",
    "                np.logical_not(orders['visitorId'].isin(abnormal_users)),\n",
    "            )\n",
    "        ]['revenue'].mean()\n",
    "        / orders[\n",
    "            np.logical_and(\n",
    "                orders['group'] == 'A',\n",
    "                np.logical_not(orders['visitorId'].isin(abnormal_users)),\n",
    "            )\n",
    "        ]['revenue'].mean()\n",
    "        - 1\n",
    "    )\n",
    ")"
   ]
  },
  {
   "cell_type": "markdown",
   "id": "61dd86cd",
   "metadata": {},
   "source": [
    "После исключения \"аномальных\" покупателей разница средних чеков значительно снизилась (с 29 до 3,2%). P-value скорректировался до 0.788 и еще сильнее превышает пороговое значение в 0.05. **Поэтому нулевая гипотеза об отсутствии разницы средних чеков не может быть отвергнута**."
   ]
  },
  {
   "cell_type": "code",
   "execution_count": 42,
   "id": "6e21e602",
   "metadata": {
    "scrolled": false
   },
   "outputs": [
    {
     "data": {
      "image/png": "[encoded data removed]",
      "text/plain": [
       "<Figure size 1008x360 with 1 Axes>"
      ]
     },
     "metadata": {
      "needs_background": "light"
     },
     "output_type": "display_data"
    }
   ],
   "source": [
    "#Пересчитаем данные для графиков выручки c учетом исключения аномальных данных\n",
    "orders = orders[\n",
    "            np.logical_not(orders['visitorId'].isin(abnormal_users))\n",
    "        ]\n",
    "orders_aggregated = dates_groups.apply(lambda x: orders[np.logical_and(orders['date'] <= x['date'], orders['group'] == x['group'])]\\\n",
    ".agg({'date' : 'max', 'group' : 'max', 'transactionId' : 'nunique', 'visitorId' : 'nunique', 'revenue' : 'sum'}), axis=1).sort_values(by=['date','group']) \n",
    "\n",
    "cumulative_data = orders_aggregated.merge(visitors_aggregated,left_on = ['date','group'],right_on = ['date','group'])\n",
    "cumulative_data.columns = ['date', 'group', 'orders', 'buyers', 'revenue', 'visitors']\n",
    "\n",
    "cumulative_revenue_a = cumulative_data.query('group == \"A\"')[['date','revenue','orders']]\n",
    "cumulative_revenue_b = cumulative_data.query('group == \"B\"')[['date','revenue','orders']]\n",
    "\n",
    "plt.figure(figsize=(14, 5))\n",
    "plt.plot(cumulative_revenue_a['date'],cumulative_revenue_a['revenue'],label='A')\n",
    "plt.plot(cumulative_revenue_b['date'],cumulative_revenue_b['revenue'],label='B')\n",
    "plt.legend()\n",
    "plt.title('График кумулятивной выручки после исключения аномальных значений')\n",
    "plt.xlabel('Дата')\n",
    "plt.ylabel('Выручка')\n",
    "plt.show()"
   ]
  },
  {
   "cell_type": "code",
   "execution_count": 43,
   "id": "2b7f2d70",
   "metadata": {},
   "outputs": [
    {
     "data": {
      "image/png": "[encoded data removed]",
      "text/plain": [
       "<Figure size 1080x360 with 1 Axes>"
      ]
     },
     "metadata": {
      "needs_background": "light"
     },
     "output_type": "display_data"
    }
   ],
   "source": [
    "#Строим график кумулятивного среднего чека по группам\n",
    "plt.figure(figsize=(15, 5))\n",
    "plt.plot(cumulative_revenue_a['date'], cumulative_revenue_a['revenue']/cumulative_revenue_a['orders'], label='A')\n",
    "plt.plot(cumulative_revenue_b['date'], cumulative_revenue_b['revenue']/cumulative_revenue_b['orders'], label='B')\n",
    "plt.legend() \n",
    "\n",
    "plt.title('График кумулятивного среднего чека после исключения аномальных значений')\n",
    "plt.xlabel('Дата')\n",
    "plt.ylabel('Средний чек')\n",
    "plt.show()"
   ]
  },
  {
   "cell_type": "code",
   "execution_count": 44,
   "id": "6baa8fb3",
   "metadata": {},
   "outputs": [
    {
     "data": {
      "text/plain": [
       "Text(0, 0.5, 'Отношение средних чеков')"
      ]
     },
     "execution_count": 44,
     "metadata": {},
     "output_type": "execute_result"
    },
    {
     "data": {
      "image/png": "[encoded data removed]",
      "text/plain": [
       "<Figure size 1080x360 with 1 Axes>"
      ]
     },
     "metadata": {
      "needs_background": "light"
     },
     "output_type": "display_data"
    }
   ],
   "source": [
    "# объединим данные по группам\n",
    "merged_cumulative_revenue = cumulative_revenue_a.merge(cumulative_revenue_b, left_on='date', right_on='date', how='left', suffixes=['_a', '_b'])\n",
    "\n",
    "# Выводим соотношение средних чеков\n",
    "plt.figure(figsize=(15, 5))\n",
    "plt.plot(merged_cumulative_revenue['date'], ((merged_cumulative_revenue['revenue_b']/merged_cumulative_revenue['orders_b'])/(merged_cumulative_revenue['revenue_a']/merged_cumulative_revenue['orders_a'])-1))\n",
    "plt.axhline(y=0, color='black', linestyle='--')\n",
    "plt.xlabel('Дата')\n",
    "plt.ylabel('Отношение средних чеков')\n"
   ]
  },
  {
   "cell_type": "code",
   "execution_count": 45,
   "id": "0a4c1084",
   "metadata": {
    "scrolled": false
   },
   "outputs": [
    {
     "data": {
      "image/png": "[encoded data removed]",
      "text/plain": [
       "<Figure size 1080x360 with 1 Axes>"
      ]
     },
     "metadata": {
      "needs_background": "light"
     },
     "output_type": "display_data"
    }
   ],
   "source": [
    "# Расчет кумулятивной конверсии\n",
    "cumulative_data['conversion'] = cumulative_data['orders']/cumulative_data['visitors']\n",
    "\n",
    "# Выделяем группу A\n",
    "cumulative_data_a = cumulative_data.query('group ==\"A\"')\n",
    "\n",
    "# Выделяем группу B\n",
    "cumulative_data_b = cumulative_data.query('group ==\"B\"')\n",
    "\n",
    "# строим графики\n",
    "plt.figure(figsize=(15, 5))\n",
    "plt.plot(cumulative_data_a['date'], cumulative_data_a['conversion'], label='A')\n",
    "plt.plot(cumulative_data_b['date'], cumulative_data_b['conversion'], label='B')\n",
    "plt.legend()\n",
    "\n",
    "plt.title('График конверсии посещений в заказ после исключения аномальных значений')\n",
    "plt.xlabel('Дата')\n",
    "plt.ylabel('Конверсия')\n",
    "\n",
    "# задаем масштаб осей\n",
    "plt.axis([min(cumulative_data_a['date']), max(cumulative_data_a['date']), 0, 0.04])\n",
    "plt.show()"
   ]
  },
  {
   "cell_type": "markdown",
   "id": "b1d81c1c",
   "metadata": {},
   "source": [
    "На графиках видно, что ислючения аномалий нормализовало данные. Разница в средних чеках под конец исследования фактически сошла на нет, что было подтверждено результатами статистических тестов, а раница в конверсии оказалась сущственной и статистически значимой, что в итоге вылилось в значительное превосходство группы B по кумулятивной выручке. **Сами показатели стабилизировались, а выборки были достаточного размера для анализа. На этом основании тест можно остановить и признать успешным**.\n"
   ]
  },
  {
   "cell_type": "markdown",
   "id": "680b3949",
   "metadata": {},
   "source": [
    "## Общие выводы <a class =\"anchor\" id=\"chapter10\"></a>"
   ]
  },
  {
   "cell_type": "markdown",
   "id": "e0e051e8",
   "metadata": {},
   "source": [
    "1. Согласно приоретизации по фреймворку ICE, наиболее приоритетными стоит сделать гипотезы:\n",
    "\n",
    "Запустить акцию, дающую скидку на товар в день рождения.\n",
    "Добавить два новых канала привлечения трафика, что позволит привлекать на 30% больше пользователей.\n",
    "Добавить форму подписки на все основные страницы, чтобы собрать базу клиентов для email-рассылок.\n",
    "\n",
    "Тройка наиболее приоритетных гипоте после приоретизации их методологии RICE:\n",
    "\n",
    "1. Добавить форму подписки на все основные страницы, чтобы собрать базу клиентов для email-рассылок.\n",
    "\n",
    "2. Добавить блоки рекомендаций товаров на сайт интернет магазина, чтобы повысить конверсию и средний чек заказа.\n",
    "\n",
    "3. Добавить два новых канала привлечения трафика, что позволит привлекать на 30% больше пользователей.\n",
    "\n",
    "**\"Пересекаются\" гипотезы \"Добавить форму подписки на все основные страницы, чтобы собрать базу клиентов для email-рассылок\" и \"Добавить два новых канала привлечения трафика, что позволит привлекать на 30% больше пользователей\". С них и стоит начать работу по тестированию гипотез**.\n",
    "\n",
    "2. В представленных датасетах нет дубликатов и пропусков. При этом есть 58 покупателей, которые одновременно попали в две группы. Они были исключены из датасета с заказами в итоге его динна сокралилась на 181 строк или на 15%.\n",
    "\n",
    "3. Данные A/B-теста показывают, что выручка по группам равномерно растет с неболшим опережением в группе B, но между 17 и 21 августа фиксируется резкий прирост выручки в группе B (либо резкий рост числа заказов, либо суммы). Скачек поисходит 19 августа. Далее выручка продолжает расти почти синхронно в обеих группах, что говорит об отсутствии в группе B заметного на данном этапе роста выручки и необходимости исключить выбросы.\n",
    "\n",
    "\n",
    "4. **На графиках динамики среднего чека мы также видим болшой выброс между 17 и 21 августа в группе B**. Если в группе А кумулятивный средний чек плавно растет, то в группе B после резкого выброса он постепенно падает, что может свидетельствовать о корректировке к нормальным значениям после аномального выброса. Тренды изменения показателей до выброса были схожи. \n",
    "\n",
    "\n",
    "5. До примерно 5 августа конверсии колеблются, а затем ситуация стабилизируется и группа B начинает явно лидиовать и это лидерство примерно в 0,5 процентных пункта сохраняется до конца теста. Ближе к концу эксперимента разница установилась примерно в размере 10%, и сравнительно стабилизировалась.\n",
    "\n",
    "\n",
    "6. Менее 1% пользователей делали более двух заказов. Это количество стоит выбрать в качестве границы для определения аномальных пользователей. Менее 1% заказов имеют сумму более 54 тыс. руб. Суммы подавляющего большинства заказов составляют менее 27 тыс. руб. Определяя в качестве цифры отсечения 54 тыс рублей, мы уберем 9 заказов. В том числе один на сумму 1,3 млн руб., сделанный 19 августа и отнесенный к группе B. Всего были отсечены заказы 16 покупателей (в том числе из-заа аномального числа заказов).\n",
    "\n",
    "\n",
    "7. Согласно результатам z-теста, разница в конверсиях при указанных размерах выборок достаточна, чтобы говорить о статистически значимом различии. Конверсии по группам составляют соответственно 2.5 и 2,9%. Значение p-value по тесту Манна-Уиттни составляет 0.011, что ниже порогового значения в 0.05, а значит **мы можем отвергнуть нулевую теорию и признать среднее число заказов на пользователя отличающимся**. Средняя конверсия пользователей в заказы отличается на 16% в пользу группы B. После очистки от аномальных данных показатели меняются незначительно: p-value = 0.007, разница между конверсиями составляет 18,9%.\n",
    "\n",
    "\n",
    "8. Мы не можем отвергнуть нулевую гипотезу о том, что различий в среднем чеке между группами нет. Не смотря на сравнительно большую разницу средних в \"сырых\" данных (29%), мы не можем отвергнуть нулевую гипотезу об отсутствии различий в средних чеках из-за того, что p-value равно 0.829, что значительно превышает уровень alpha 0.05. **После очистки данных разница средних чеков снижается до 3,2%. P-value корректируется до 0.788, что указывает на отсутствие разницы в средних чеках между группами**.\n",
    "\n",
    "\n",
    "9. Графики построенные после исключения аномальных значений показывают, что разница в средних чеках под конец исследования фактически сошла на нет, что было подтверждено результатами статистических тестов, а разница в конверсии оказалась существенной и статистически значимой, что в итоге вылилось в значительное превосходство группы B по кумулятивной выручке. Сами показатели стабилизировались, а выборки были достаточного размера для анализа. **На этом основании тест можно остановить и признать успешным**."
   ]
  },
  {
   "cell_type": "code",
   "execution_count": null,
   "id": "1a77d975",
   "metadata": {},
   "outputs": [],
   "source": []
  }
 ],
 "metadata": {
  "ExecuteTimeLog": [
   {
    "duration": 1533,
    "start_time": "2022-07-21T18:11:04.711Z"
   },
   {
    "duration": 3,
    "start_time": "2022-07-21T18:11:06.246Z"
   },
   {
    "duration": 28,
    "start_time": "2022-07-21T18:11:06.250Z"
   },
   {
    "duration": 14,
    "start_time": "2022-07-21T18:11:06.281Z"
   },
   {
    "duration": 34,
    "start_time": "2022-07-21T18:11:06.297Z"
   },
   {
    "duration": 5,
    "start_time": "2022-07-21T18:11:06.332Z"
   },
   {
    "duration": 173,
    "start_time": "2022-07-21T18:11:06.339Z"
   },
   {
    "duration": 123,
    "start_time": "2022-07-21T18:11:06.514Z"
   },
   {
    "duration": 7,
    "start_time": "2022-07-21T18:11:06.639Z"
   },
   {
    "duration": 307,
    "start_time": "2022-07-21T18:11:06.648Z"
   },
   {
    "duration": 216,
    "start_time": "2022-07-21T18:11:06.956Z"
   },
   {
    "duration": 338,
    "start_time": "2022-07-21T18:11:07.178Z"
   },
   {
    "duration": 220,
    "start_time": "2022-07-21T18:11:07.518Z"
   },
   {
    "duration": 373,
    "start_time": "2022-07-21T18:11:07.740Z"
   },
   {
    "duration": 13,
    "start_time": "2022-07-21T18:11:08.114Z"
   },
   {
    "duration": 4,
    "start_time": "2022-07-21T18:11:08.128Z"
   },
   {
    "duration": 159,
    "start_time": "2022-07-21T18:11:08.134Z"
   },
   {
    "duration": 5,
    "start_time": "2022-07-21T18:11:08.294Z"
   },
   {
    "duration": 180,
    "start_time": "2022-07-21T18:11:08.300Z"
   },
   {
    "duration": 291,
    "start_time": "2022-07-21T18:11:08.482Z"
   },
   {
    "duration": 7,
    "start_time": "2022-07-21T18:11:08.776Z"
   },
   {
    "duration": 15,
    "start_time": "2022-07-21T18:11:08.785Z"
   },
   {
    "duration": 19,
    "start_time": "2022-07-21T18:11:08.802Z"
   },
   {
    "duration": 11,
    "start_time": "2022-07-21T18:11:08.823Z"
   },
   {
    "duration": 13,
    "start_time": "2022-07-21T18:11:08.836Z"
   },
   {
    "duration": 219,
    "start_time": "2022-07-21T18:11:08.851Z"
   },
   {
    "duration": 13,
    "start_time": "2022-07-21T18:11:09.072Z"
   },
   {
    "duration": 9,
    "start_time": "2022-07-21T18:11:09.089Z"
   },
   {
    "duration": 11,
    "start_time": "2022-07-21T18:11:09.100Z"
   },
   {
    "duration": 23,
    "start_time": "2022-07-21T18:11:09.113Z"
   },
   {
    "duration": 44,
    "start_time": "2022-07-21T18:11:09.138Z"
   },
   {
    "duration": 414,
    "start_time": "2022-07-21T18:11:09.184Z"
   },
   {
    "duration": 255,
    "start_time": "2022-07-21T18:11:09.600Z"
   },
   {
    "duration": 332,
    "start_time": "2022-07-21T18:11:09.857Z"
   },
   {
    "duration": 253,
    "start_time": "2022-07-21T18:11:10.191Z"
   },
   {
    "duration": 54,
    "start_time": "2022-07-22T07:43:36.195Z"
   },
   {
    "duration": 1612,
    "start_time": "2022-07-22T07:43:51.480Z"
   },
   {
    "duration": 4,
    "start_time": "2022-07-22T07:43:53.095Z"
   },
   {
    "duration": 11,
    "start_time": "2022-07-22T07:43:53.101Z"
   },
   {
    "duration": 17,
    "start_time": "2022-07-22T07:43:53.114Z"
   },
   {
    "duration": 34,
    "start_time": "2022-07-22T07:43:53.134Z"
   },
   {
    "duration": 14,
    "start_time": "2022-07-22T07:43:53.170Z"
   },
   {
    "duration": 180,
    "start_time": "2022-07-22T07:43:53.185Z"
   },
   {
    "duration": 121,
    "start_time": "2022-07-22T07:43:53.370Z"
   },
   {
    "duration": 6,
    "start_time": "2022-07-22T07:43:53.493Z"
   },
   {
    "duration": 312,
    "start_time": "2022-07-22T07:43:53.502Z"
   },
   {
    "duration": 226,
    "start_time": "2022-07-22T07:43:53.816Z"
   },
   {
    "duration": 381,
    "start_time": "2022-07-22T07:43:54.043Z"
   },
   {
    "duration": 262,
    "start_time": "2022-07-22T07:43:54.426Z"
   },
   {
    "duration": 339,
    "start_time": "2022-07-22T07:43:54.692Z"
   },
   {
    "duration": 33,
    "start_time": "2022-07-22T07:43:55.033Z"
   },
   {
    "duration": 3,
    "start_time": "2022-07-22T07:43:55.069Z"
   },
   {
    "duration": 199,
    "start_time": "2022-07-22T07:43:55.079Z"
   },
   {
    "duration": 4,
    "start_time": "2022-07-22T07:43:55.280Z"
   },
   {
    "duration": 209,
    "start_time": "2022-07-22T07:43:55.286Z"
   },
   {
    "duration": 359,
    "start_time": "2022-07-22T07:43:55.497Z"
   },
   {
    "duration": 9,
    "start_time": "2022-07-22T07:43:55.864Z"
   },
   {
    "duration": 10,
    "start_time": "2022-07-22T07:43:55.875Z"
   },
   {
    "duration": 21,
    "start_time": "2022-07-22T07:43:55.887Z"
   },
   {
    "duration": 10,
    "start_time": "2022-07-22T07:43:55.911Z"
   },
   {
    "duration": 147,
    "start_time": "2022-07-22T07:43:55.923Z"
   },
   {
    "duration": 0,
    "start_time": "2022-07-22T07:43:56.075Z"
   },
   {
    "duration": 0,
    "start_time": "2022-07-22T07:43:56.078Z"
   },
   {
    "duration": 0,
    "start_time": "2022-07-22T07:43:56.080Z"
   },
   {
    "duration": 0,
    "start_time": "2022-07-22T07:43:56.081Z"
   },
   {
    "duration": 0,
    "start_time": "2022-07-22T07:43:56.083Z"
   },
   {
    "duration": 0,
    "start_time": "2022-07-22T07:43:56.084Z"
   },
   {
    "duration": 0,
    "start_time": "2022-07-22T07:43:56.085Z"
   },
   {
    "duration": 0,
    "start_time": "2022-07-22T07:43:56.088Z"
   },
   {
    "duration": 0,
    "start_time": "2022-07-22T07:43:56.090Z"
   },
   {
    "duration": 1,
    "start_time": "2022-07-22T07:43:56.091Z"
   },
   {
    "duration": 6,
    "start_time": "2022-07-22T07:44:21.012Z"
   },
   {
    "duration": 18,
    "start_time": "2022-07-22T07:45:29.550Z"
   },
   {
    "duration": 11,
    "start_time": "2022-07-22T07:46:46.399Z"
   },
   {
    "duration": 20,
    "start_time": "2022-07-22T07:47:02.048Z"
   },
   {
    "duration": 12,
    "start_time": "2022-07-22T07:47:15.528Z"
   },
   {
    "duration": 195,
    "start_time": "2022-07-22T07:49:46.822Z"
   },
   {
    "duration": 260,
    "start_time": "2022-07-22T07:50:55.924Z"
   },
   {
    "duration": 268,
    "start_time": "2022-07-22T07:51:05.802Z"
   },
   {
    "duration": 349,
    "start_time": "2022-07-22T07:51:15.142Z"
   },
   {
    "duration": 198,
    "start_time": "2022-07-22T07:51:33.301Z"
   },
   {
    "duration": 314,
    "start_time": "2022-07-22T07:51:44.741Z"
   },
   {
    "duration": 6,
    "start_time": "2022-07-22T07:53:28.401Z"
   },
   {
    "duration": 6,
    "start_time": "2022-07-22T08:07:18.649Z"
   },
   {
    "duration": 12,
    "start_time": "2022-07-22T08:07:22.978Z"
   },
   {
    "duration": 8,
    "start_time": "2022-07-22T08:09:00.077Z"
   },
   {
    "duration": 26,
    "start_time": "2022-07-22T08:09:05.241Z"
   },
   {
    "duration": 11,
    "start_time": "2022-07-22T08:09:56.837Z"
   },
   {
    "duration": 14,
    "start_time": "2022-07-22T08:10:30.083Z"
   },
   {
    "duration": 50,
    "start_time": "2022-07-22T08:11:23.464Z"
   },
   {
    "duration": 15,
    "start_time": "2022-07-22T08:11:33.918Z"
   },
   {
    "duration": 17,
    "start_time": "2022-07-22T08:11:37.744Z"
   },
   {
    "duration": 17,
    "start_time": "2022-07-22T08:13:04.500Z"
   },
   {
    "duration": 8,
    "start_time": "2022-07-22T08:14:31.293Z"
   },
   {
    "duration": 5,
    "start_time": "2022-07-22T08:14:39.421Z"
   },
   {
    "duration": 5,
    "start_time": "2022-07-22T08:14:52.314Z"
   },
   {
    "duration": 12,
    "start_time": "2022-07-22T08:19:54.566Z"
   },
   {
    "duration": 11,
    "start_time": "2022-07-22T08:23:09.335Z"
   },
   {
    "duration": 15,
    "start_time": "2022-07-22T08:23:26.586Z"
   },
   {
    "duration": 13,
    "start_time": "2022-07-22T08:24:07.924Z"
   },
   {
    "duration": 6,
    "start_time": "2022-07-22T08:24:23.472Z"
   },
   {
    "duration": 11,
    "start_time": "2022-07-22T08:24:50.813Z"
   },
   {
    "duration": 5,
    "start_time": "2022-07-22T08:25:35.294Z"
   },
   {
    "duration": 3,
    "start_time": "2022-07-22T08:27:50.872Z"
   },
   {
    "duration": 10,
    "start_time": "2022-07-22T08:29:02.504Z"
   },
   {
    "duration": 6,
    "start_time": "2022-07-22T08:29:16.523Z"
   },
   {
    "duration": 12,
    "start_time": "2022-07-22T08:29:31.573Z"
   },
   {
    "duration": 4,
    "start_time": "2022-07-22T08:29:38.103Z"
   },
   {
    "duration": 7,
    "start_time": "2022-07-22T08:30:04.487Z"
   },
   {
    "duration": 8,
    "start_time": "2022-07-22T08:30:49.567Z"
   },
   {
    "duration": 12,
    "start_time": "2022-07-22T08:41:28.529Z"
   },
   {
    "duration": 6,
    "start_time": "2022-07-22T08:41:42.173Z"
   },
   {
    "duration": 13,
    "start_time": "2022-07-22T08:49:16.235Z"
   },
   {
    "duration": 7,
    "start_time": "2022-07-22T08:50:03.405Z"
   },
   {
    "duration": 1175,
    "start_time": "2022-07-22T08:50:18.022Z"
   },
   {
    "duration": 3,
    "start_time": "2022-07-22T08:50:19.199Z"
   },
   {
    "duration": 21,
    "start_time": "2022-07-22T08:50:19.203Z"
   },
   {
    "duration": 11,
    "start_time": "2022-07-22T08:50:19.225Z"
   },
   {
    "duration": 52,
    "start_time": "2022-07-22T08:50:19.238Z"
   },
   {
    "duration": 25,
    "start_time": "2022-07-22T08:50:19.291Z"
   },
   {
    "duration": 9,
    "start_time": "2022-07-22T08:50:19.318Z"
   },
   {
    "duration": 4,
    "start_time": "2022-07-22T08:50:19.328Z"
   },
   {
    "duration": 19,
    "start_time": "2022-07-22T08:50:19.334Z"
   },
   {
    "duration": 7,
    "start_time": "2022-07-22T08:50:19.355Z"
   },
   {
    "duration": 11,
    "start_time": "2022-07-22T08:50:19.364Z"
   },
   {
    "duration": 100,
    "start_time": "2022-07-22T08:50:19.376Z"
   },
   {
    "duration": 0,
    "start_time": "2022-07-22T08:50:19.478Z"
   },
   {
    "duration": 0,
    "start_time": "2022-07-22T08:50:19.479Z"
   },
   {
    "duration": 0,
    "start_time": "2022-07-22T08:50:19.480Z"
   },
   {
    "duration": 0,
    "start_time": "2022-07-22T08:50:19.481Z"
   },
   {
    "duration": 0,
    "start_time": "2022-07-22T08:50:19.482Z"
   },
   {
    "duration": 0,
    "start_time": "2022-07-22T08:50:19.483Z"
   },
   {
    "duration": 0,
    "start_time": "2022-07-22T08:50:19.484Z"
   },
   {
    "duration": 0,
    "start_time": "2022-07-22T08:50:19.484Z"
   },
   {
    "duration": 0,
    "start_time": "2022-07-22T08:50:19.485Z"
   },
   {
    "duration": 0,
    "start_time": "2022-07-22T08:50:19.486Z"
   },
   {
    "duration": 0,
    "start_time": "2022-07-22T08:50:19.487Z"
   },
   {
    "duration": 0,
    "start_time": "2022-07-22T08:50:19.488Z"
   },
   {
    "duration": 0,
    "start_time": "2022-07-22T08:50:19.489Z"
   },
   {
    "duration": 0,
    "start_time": "2022-07-22T08:50:19.490Z"
   },
   {
    "duration": 0,
    "start_time": "2022-07-22T08:50:19.491Z"
   },
   {
    "duration": 0,
    "start_time": "2022-07-22T08:50:19.492Z"
   },
   {
    "duration": 0,
    "start_time": "2022-07-22T08:50:19.493Z"
   },
   {
    "duration": 0,
    "start_time": "2022-07-22T08:50:19.493Z"
   },
   {
    "duration": 0,
    "start_time": "2022-07-22T08:50:19.494Z"
   },
   {
    "duration": 0,
    "start_time": "2022-07-22T08:50:19.495Z"
   },
   {
    "duration": 0,
    "start_time": "2022-07-22T08:50:19.496Z"
   },
   {
    "duration": 0,
    "start_time": "2022-07-22T08:50:19.497Z"
   },
   {
    "duration": 0,
    "start_time": "2022-07-22T08:50:19.498Z"
   },
   {
    "duration": 0,
    "start_time": "2022-07-22T08:50:19.499Z"
   },
   {
    "duration": 0,
    "start_time": "2022-07-22T08:50:19.500Z"
   },
   {
    "duration": 0,
    "start_time": "2022-07-22T08:50:19.501Z"
   },
   {
    "duration": 0,
    "start_time": "2022-07-22T08:50:19.502Z"
   },
   {
    "duration": 0,
    "start_time": "2022-07-22T08:50:19.503Z"
   },
   {
    "duration": 0,
    "start_time": "2022-07-22T08:50:19.504Z"
   },
   {
    "duration": 0,
    "start_time": "2022-07-22T08:50:19.505Z"
   },
   {
    "duration": 12,
    "start_time": "2022-07-22T08:52:07.102Z"
   },
   {
    "duration": 11,
    "start_time": "2022-07-22T08:52:40.814Z"
   },
   {
    "duration": 11,
    "start_time": "2022-07-22T08:52:44.034Z"
   },
   {
    "duration": 11,
    "start_time": "2022-07-22T08:53:19.342Z"
   },
   {
    "duration": 10,
    "start_time": "2022-07-22T08:53:34.221Z"
   },
   {
    "duration": 6,
    "start_time": "2022-07-22T08:53:40.334Z"
   },
   {
    "duration": 9,
    "start_time": "2022-07-22T08:53:47.062Z"
   },
   {
    "duration": 11,
    "start_time": "2022-07-22T08:54:00.953Z"
   },
   {
    "duration": 7,
    "start_time": "2022-07-22T08:54:58.704Z"
   },
   {
    "duration": 13,
    "start_time": "2022-07-22T08:55:05.234Z"
   },
   {
    "duration": 8,
    "start_time": "2022-07-22T08:55:19.782Z"
   },
   {
    "duration": 7,
    "start_time": "2022-07-22T08:56:12.262Z"
   },
   {
    "duration": 9,
    "start_time": "2022-07-22T08:56:19.447Z"
   },
   {
    "duration": 9,
    "start_time": "2022-07-22T08:57:53.140Z"
   },
   {
    "duration": 1086,
    "start_time": "2022-07-22T08:58:16.606Z"
   },
   {
    "duration": 2,
    "start_time": "2022-07-22T08:58:17.694Z"
   },
   {
    "duration": 17,
    "start_time": "2022-07-22T08:58:17.698Z"
   },
   {
    "duration": 11,
    "start_time": "2022-07-22T08:58:17.717Z"
   },
   {
    "duration": 50,
    "start_time": "2022-07-22T08:58:17.730Z"
   },
   {
    "duration": 26,
    "start_time": "2022-07-22T08:58:17.781Z"
   },
   {
    "duration": 7,
    "start_time": "2022-07-22T08:58:17.809Z"
   },
   {
    "duration": 5,
    "start_time": "2022-07-22T08:58:17.817Z"
   },
   {
    "duration": 15,
    "start_time": "2022-07-22T08:58:17.823Z"
   },
   {
    "duration": 27,
    "start_time": "2022-07-22T08:58:17.841Z"
   },
   {
    "duration": 10,
    "start_time": "2022-07-22T08:58:17.869Z"
   },
   {
    "duration": 97,
    "start_time": "2022-07-22T08:58:17.880Z"
   },
   {
    "duration": 0,
    "start_time": "2022-07-22T08:58:17.979Z"
   },
   {
    "duration": 0,
    "start_time": "2022-07-22T08:58:17.980Z"
   },
   {
    "duration": 0,
    "start_time": "2022-07-22T08:58:17.981Z"
   },
   {
    "duration": 0,
    "start_time": "2022-07-22T08:58:17.982Z"
   },
   {
    "duration": 0,
    "start_time": "2022-07-22T08:58:17.983Z"
   },
   {
    "duration": 0,
    "start_time": "2022-07-22T08:58:17.984Z"
   },
   {
    "duration": 0,
    "start_time": "2022-07-22T08:58:17.984Z"
   },
   {
    "duration": 0,
    "start_time": "2022-07-22T08:58:17.985Z"
   },
   {
    "duration": 0,
    "start_time": "2022-07-22T08:58:17.986Z"
   },
   {
    "duration": 0,
    "start_time": "2022-07-22T08:58:17.987Z"
   },
   {
    "duration": 0,
    "start_time": "2022-07-22T08:58:17.988Z"
   },
   {
    "duration": 0,
    "start_time": "2022-07-22T08:58:17.989Z"
   },
   {
    "duration": 0,
    "start_time": "2022-07-22T08:58:17.990Z"
   },
   {
    "duration": 0,
    "start_time": "2022-07-22T08:58:17.990Z"
   },
   {
    "duration": 0,
    "start_time": "2022-07-22T08:58:17.991Z"
   },
   {
    "duration": 0,
    "start_time": "2022-07-22T08:58:17.992Z"
   },
   {
    "duration": 0,
    "start_time": "2022-07-22T08:58:17.993Z"
   },
   {
    "duration": 0,
    "start_time": "2022-07-22T08:58:17.994Z"
   },
   {
    "duration": 0,
    "start_time": "2022-07-22T08:58:17.995Z"
   },
   {
    "duration": 0,
    "start_time": "2022-07-22T08:58:17.996Z"
   },
   {
    "duration": 0,
    "start_time": "2022-07-22T08:58:17.997Z"
   },
   {
    "duration": 0,
    "start_time": "2022-07-22T08:58:17.998Z"
   },
   {
    "duration": 0,
    "start_time": "2022-07-22T08:58:17.999Z"
   },
   {
    "duration": 0,
    "start_time": "2022-07-22T08:58:18.000Z"
   },
   {
    "duration": 0,
    "start_time": "2022-07-22T08:58:18.001Z"
   },
   {
    "duration": 0,
    "start_time": "2022-07-22T08:58:18.002Z"
   },
   {
    "duration": 0,
    "start_time": "2022-07-22T08:58:18.003Z"
   },
   {
    "duration": 0,
    "start_time": "2022-07-22T08:58:18.004Z"
   },
   {
    "duration": 0,
    "start_time": "2022-07-22T08:58:18.005Z"
   },
   {
    "duration": 0,
    "start_time": "2022-07-22T08:58:18.006Z"
   },
   {
    "duration": 5,
    "start_time": "2022-07-22T08:58:49.840Z"
   },
   {
    "duration": 9,
    "start_time": "2022-07-22T08:59:17.092Z"
   },
   {
    "duration": 1068,
    "start_time": "2022-07-22T08:59:46.511Z"
   },
   {
    "duration": 3,
    "start_time": "2022-07-22T08:59:47.581Z"
   },
   {
    "duration": 17,
    "start_time": "2022-07-22T08:59:47.585Z"
   },
   {
    "duration": 10,
    "start_time": "2022-07-22T08:59:47.604Z"
   },
   {
    "duration": 50,
    "start_time": "2022-07-22T08:59:47.615Z"
   },
   {
    "duration": 26,
    "start_time": "2022-07-22T08:59:47.667Z"
   },
   {
    "duration": 5,
    "start_time": "2022-07-22T08:59:47.694Z"
   },
   {
    "duration": 7,
    "start_time": "2022-07-22T08:59:47.700Z"
   },
   {
    "duration": 7,
    "start_time": "2022-07-22T08:59:47.709Z"
   },
   {
    "duration": 7,
    "start_time": "2022-07-22T08:59:47.717Z"
   },
   {
    "duration": 35,
    "start_time": "2022-07-22T08:59:47.725Z"
   },
   {
    "duration": 10,
    "start_time": "2022-07-22T08:59:47.762Z"
   },
   {
    "duration": 6,
    "start_time": "2022-07-22T08:59:47.774Z"
   },
   {
    "duration": 151,
    "start_time": "2022-07-22T08:59:47.783Z"
   },
   {
    "duration": 117,
    "start_time": "2022-07-22T08:59:47.935Z"
   },
   {
    "duration": 6,
    "start_time": "2022-07-22T08:59:48.053Z"
   },
   {
    "duration": 260,
    "start_time": "2022-07-22T08:59:48.060Z"
   },
   {
    "duration": 193,
    "start_time": "2022-07-22T08:59:48.322Z"
   },
   {
    "duration": 278,
    "start_time": "2022-07-22T08:59:48.517Z"
   },
   {
    "duration": 190,
    "start_time": "2022-07-22T08:59:48.796Z"
   },
   {
    "duration": 270,
    "start_time": "2022-07-22T08:59:48.987Z"
   },
   {
    "duration": 11,
    "start_time": "2022-07-22T08:59:49.258Z"
   },
   {
    "duration": 3,
    "start_time": "2022-07-22T08:59:49.270Z"
   },
   {
    "duration": 138,
    "start_time": "2022-07-22T08:59:49.274Z"
   },
   {
    "duration": 5,
    "start_time": "2022-07-22T08:59:49.413Z"
   },
   {
    "duration": 213,
    "start_time": "2022-07-22T08:59:49.420Z"
   },
   {
    "duration": 201,
    "start_time": "2022-07-22T08:59:49.635Z"
   },
   {
    "duration": 4,
    "start_time": "2022-07-22T08:59:49.838Z"
   },
   {
    "duration": 9,
    "start_time": "2022-07-22T08:59:49.852Z"
   },
   {
    "duration": 24,
    "start_time": "2022-07-22T08:59:49.863Z"
   },
   {
    "duration": 23,
    "start_time": "2022-07-22T08:59:49.888Z"
   },
   {
    "duration": 9,
    "start_time": "2022-07-22T08:59:49.912Z"
   },
   {
    "duration": 136,
    "start_time": "2022-07-22T08:59:49.922Z"
   },
   {
    "duration": 8,
    "start_time": "2022-07-22T08:59:50.060Z"
   },
   {
    "duration": 8,
    "start_time": "2022-07-22T08:59:50.069Z"
   },
   {
    "duration": 14,
    "start_time": "2022-07-22T08:59:50.078Z"
   },
   {
    "duration": 18,
    "start_time": "2022-07-22T08:59:50.093Z"
   },
   {
    "duration": 11,
    "start_time": "2022-07-22T08:59:50.112Z"
   },
   {
    "duration": 367,
    "start_time": "2022-07-22T08:59:50.124Z"
   },
   {
    "duration": 197,
    "start_time": "2022-07-22T08:59:50.493Z"
   },
   {
    "duration": 250,
    "start_time": "2022-07-22T08:59:50.693Z"
   },
   {
    "duration": 187,
    "start_time": "2022-07-22T08:59:50.944Z"
   },
   {
    "duration": 72,
    "start_time": "2022-07-22T09:01:40.800Z"
   },
   {
    "duration": 15,
    "start_time": "2022-07-22T09:01:48.404Z"
   },
   {
    "duration": 103,
    "start_time": "2022-07-22T09:03:54.288Z"
   },
   {
    "duration": 1105,
    "start_time": "2022-07-22T09:04:01.410Z"
   },
   {
    "duration": 3,
    "start_time": "2022-07-22T09:04:02.518Z"
   },
   {
    "duration": 18,
    "start_time": "2022-07-22T09:04:02.523Z"
   },
   {
    "duration": 12,
    "start_time": "2022-07-22T09:04:02.542Z"
   },
   {
    "duration": 55,
    "start_time": "2022-07-22T09:04:02.556Z"
   },
   {
    "duration": 39,
    "start_time": "2022-07-22T09:04:02.613Z"
   },
   {
    "duration": 5,
    "start_time": "2022-07-22T09:04:02.654Z"
   },
   {
    "duration": 13,
    "start_time": "2022-07-22T09:04:02.660Z"
   },
   {
    "duration": 7,
    "start_time": "2022-07-22T09:04:02.674Z"
   },
   {
    "duration": 7,
    "start_time": "2022-07-22T09:04:02.683Z"
   },
   {
    "duration": 9,
    "start_time": "2022-07-22T09:04:02.692Z"
   },
   {
    "duration": 9,
    "start_time": "2022-07-22T09:04:02.703Z"
   },
   {
    "duration": 3,
    "start_time": "2022-07-22T09:04:02.714Z"
   },
   {
    "duration": 33,
    "start_time": "2022-07-22T09:04:02.719Z"
   },
   {
    "duration": 6,
    "start_time": "2022-07-22T09:04:02.753Z"
   },
   {
    "duration": 157,
    "start_time": "2022-07-22T09:04:02.761Z"
   },
   {
    "duration": 116,
    "start_time": "2022-07-22T09:04:02.920Z"
   },
   {
    "duration": 15,
    "start_time": "2022-07-22T09:04:03.037Z"
   },
   {
    "duration": 255,
    "start_time": "2022-07-22T09:04:03.053Z"
   },
   {
    "duration": 197,
    "start_time": "2022-07-22T09:04:03.309Z"
   },
   {
    "duration": 264,
    "start_time": "2022-07-22T09:04:03.507Z"
   },
   {
    "duration": 186,
    "start_time": "2022-07-22T09:04:03.772Z"
   },
   {
    "duration": 281,
    "start_time": "2022-07-22T09:04:03.960Z"
   },
   {
    "duration": 17,
    "start_time": "2022-07-22T09:04:04.242Z"
   },
   {
    "duration": 10,
    "start_time": "2022-07-22T09:04:04.261Z"
   },
   {
    "duration": 131,
    "start_time": "2022-07-22T09:04:04.272Z"
   },
   {
    "duration": 4,
    "start_time": "2022-07-22T09:04:04.405Z"
   },
   {
    "duration": 222,
    "start_time": "2022-07-22T09:04:04.410Z"
   },
   {
    "duration": 209,
    "start_time": "2022-07-22T09:04:04.634Z"
   },
   {
    "duration": 8,
    "start_time": "2022-07-22T09:04:04.844Z"
   },
   {
    "duration": 15,
    "start_time": "2022-07-22T09:04:04.853Z"
   },
   {
    "duration": 13,
    "start_time": "2022-07-22T09:04:04.870Z"
   },
   {
    "duration": 12,
    "start_time": "2022-07-22T09:04:04.884Z"
   },
   {
    "duration": 20,
    "start_time": "2022-07-22T09:04:04.897Z"
   },
   {
    "duration": 165,
    "start_time": "2022-07-22T09:04:04.918Z"
   },
   {
    "duration": 12,
    "start_time": "2022-07-22T09:04:05.085Z"
   },
   {
    "duration": 18,
    "start_time": "2022-07-22T09:04:05.098Z"
   },
   {
    "duration": 27,
    "start_time": "2022-07-22T09:04:05.117Z"
   },
   {
    "duration": 25,
    "start_time": "2022-07-22T09:04:05.145Z"
   },
   {
    "duration": 12,
    "start_time": "2022-07-22T09:04:05.172Z"
   },
   {
    "duration": 376,
    "start_time": "2022-07-22T09:04:05.187Z"
   },
   {
    "duration": 196,
    "start_time": "2022-07-22T09:04:05.565Z"
   },
   {
    "duration": 297,
    "start_time": "2022-07-22T09:04:05.762Z"
   },
   {
    "duration": 238,
    "start_time": "2022-07-22T09:04:06.060Z"
   },
   {
    "duration": 4,
    "start_time": "2022-07-22T09:04:44.843Z"
   },
   {
    "duration": 1139,
    "start_time": "2022-07-22T09:06:06.664Z"
   },
   {
    "duration": 3,
    "start_time": "2022-07-22T09:06:07.805Z"
   },
   {
    "duration": 19,
    "start_time": "2022-07-22T09:06:07.809Z"
   },
   {
    "duration": 11,
    "start_time": "2022-07-22T09:06:07.830Z"
   },
   {
    "duration": 48,
    "start_time": "2022-07-22T09:06:07.843Z"
   },
   {
    "duration": 26,
    "start_time": "2022-07-22T09:06:07.893Z"
   },
   {
    "duration": 5,
    "start_time": "2022-07-22T09:06:07.920Z"
   },
   {
    "duration": 8,
    "start_time": "2022-07-22T09:06:07.927Z"
   },
   {
    "duration": 5,
    "start_time": "2022-07-22T09:06:07.952Z"
   },
   {
    "duration": 14,
    "start_time": "2022-07-22T09:06:07.959Z"
   },
   {
    "duration": 7,
    "start_time": "2022-07-22T09:06:07.975Z"
   },
   {
    "duration": 14,
    "start_time": "2022-07-22T09:06:07.983Z"
   },
   {
    "duration": 5,
    "start_time": "2022-07-22T09:06:07.998Z"
   },
   {
    "duration": 11,
    "start_time": "2022-07-22T09:06:08.005Z"
   },
   {
    "duration": 5,
    "start_time": "2022-07-22T09:06:08.017Z"
   },
   {
    "duration": 161,
    "start_time": "2022-07-22T09:06:08.024Z"
   },
   {
    "duration": 129,
    "start_time": "2022-07-22T09:06:08.186Z"
   },
   {
    "duration": 11,
    "start_time": "2022-07-22T09:06:08.317Z"
   },
   {
    "duration": 262,
    "start_time": "2022-07-22T09:06:08.330Z"
   },
   {
    "duration": 196,
    "start_time": "2022-07-22T09:06:08.594Z"
   },
   {
    "duration": 268,
    "start_time": "2022-07-22T09:06:08.794Z"
   },
   {
    "duration": 191,
    "start_time": "2022-07-22T09:06:09.064Z"
   },
   {
    "duration": 304,
    "start_time": "2022-07-22T09:06:09.257Z"
   },
   {
    "duration": 11,
    "start_time": "2022-07-22T09:06:09.563Z"
   },
   {
    "duration": 2,
    "start_time": "2022-07-22T09:06:09.576Z"
   },
   {
    "duration": 139,
    "start_time": "2022-07-22T09:06:09.580Z"
   },
   {
    "duration": 4,
    "start_time": "2022-07-22T09:06:09.721Z"
   },
   {
    "duration": 225,
    "start_time": "2022-07-22T09:06:09.727Z"
   },
   {
    "duration": 196,
    "start_time": "2022-07-22T09:06:09.954Z"
   },
   {
    "duration": 5,
    "start_time": "2022-07-22T09:06:10.152Z"
   },
   {
    "duration": 9,
    "start_time": "2022-07-22T09:06:10.158Z"
   },
   {
    "duration": 15,
    "start_time": "2022-07-22T09:06:10.168Z"
   },
   {
    "duration": 5,
    "start_time": "2022-07-22T09:06:10.184Z"
   },
   {
    "duration": 7,
    "start_time": "2022-07-22T09:06:10.191Z"
   },
   {
    "duration": 171,
    "start_time": "2022-07-22T09:06:10.199Z"
   },
   {
    "duration": 9,
    "start_time": "2022-07-22T09:06:10.371Z"
   },
   {
    "duration": 8,
    "start_time": "2022-07-22T09:06:10.382Z"
   },
   {
    "duration": 8,
    "start_time": "2022-07-22T09:06:10.392Z"
   },
   {
    "duration": 18,
    "start_time": "2022-07-22T09:06:10.402Z"
   },
   {
    "duration": 33,
    "start_time": "2022-07-22T09:06:10.422Z"
   },
   {
    "duration": 371,
    "start_time": "2022-07-22T09:06:10.459Z"
   },
   {
    "duration": 197,
    "start_time": "2022-07-22T09:06:10.831Z"
   },
   {
    "duration": 300,
    "start_time": "2022-07-22T09:06:11.029Z"
   },
   {
    "duration": 205,
    "start_time": "2022-07-22T09:06:11.331Z"
   },
   {
    "duration": 1189,
    "start_time": "2022-07-22T09:07:29.556Z"
   },
   {
    "duration": 3,
    "start_time": "2022-07-22T09:07:30.747Z"
   },
   {
    "duration": 20,
    "start_time": "2022-07-22T09:07:30.751Z"
   },
   {
    "duration": 11,
    "start_time": "2022-07-22T09:07:30.773Z"
   },
   {
    "duration": 56,
    "start_time": "2022-07-22T09:07:30.785Z"
   },
   {
    "duration": 33,
    "start_time": "2022-07-22T09:07:30.843Z"
   },
   {
    "duration": 5,
    "start_time": "2022-07-22T09:07:30.877Z"
   },
   {
    "duration": 15,
    "start_time": "2022-07-22T09:07:30.884Z"
   },
   {
    "duration": 11,
    "start_time": "2022-07-22T09:07:30.900Z"
   },
   {
    "duration": 12,
    "start_time": "2022-07-22T09:07:30.913Z"
   },
   {
    "duration": 8,
    "start_time": "2022-07-22T09:07:30.926Z"
   },
   {
    "duration": 35,
    "start_time": "2022-07-22T09:07:30.935Z"
   },
   {
    "duration": 12,
    "start_time": "2022-07-22T09:07:30.971Z"
   },
   {
    "duration": 26,
    "start_time": "2022-07-22T09:07:30.984Z"
   },
   {
    "duration": 8,
    "start_time": "2022-07-22T09:07:31.012Z"
   },
   {
    "duration": 160,
    "start_time": "2022-07-22T09:07:31.021Z"
   },
   {
    "duration": 116,
    "start_time": "2022-07-22T09:07:31.183Z"
   },
   {
    "duration": 5,
    "start_time": "2022-07-22T09:07:31.301Z"
   },
   {
    "duration": 266,
    "start_time": "2022-07-22T09:07:31.307Z"
   },
   {
    "duration": 181,
    "start_time": "2022-07-22T09:07:31.574Z"
   },
   {
    "duration": 278,
    "start_time": "2022-07-22T09:07:31.756Z"
   },
   {
    "duration": 187,
    "start_time": "2022-07-22T09:07:32.036Z"
   },
   {
    "duration": 305,
    "start_time": "2022-07-22T09:07:32.225Z"
   },
   {
    "duration": 10,
    "start_time": "2022-07-22T09:07:32.531Z"
   },
   {
    "duration": 2,
    "start_time": "2022-07-22T09:07:32.552Z"
   },
   {
    "duration": 131,
    "start_time": "2022-07-22T09:07:32.556Z"
   },
   {
    "duration": 4,
    "start_time": "2022-07-22T09:07:32.688Z"
   },
   {
    "duration": 208,
    "start_time": "2022-07-22T09:07:32.695Z"
   },
   {
    "duration": 193,
    "start_time": "2022-07-22T09:07:32.905Z"
   },
   {
    "duration": 4,
    "start_time": "2022-07-22T09:07:33.100Z"
   },
   {
    "duration": 8,
    "start_time": "2022-07-22T09:07:33.106Z"
   },
   {
    "duration": 11,
    "start_time": "2022-07-22T09:07:33.115Z"
   },
   {
    "duration": 27,
    "start_time": "2022-07-22T09:07:33.127Z"
   },
   {
    "duration": 7,
    "start_time": "2022-07-22T09:07:33.155Z"
   },
   {
    "duration": 155,
    "start_time": "2022-07-22T09:07:33.163Z"
   },
   {
    "duration": 10,
    "start_time": "2022-07-22T09:07:33.320Z"
   },
   {
    "duration": 21,
    "start_time": "2022-07-22T09:07:33.331Z"
   },
   {
    "duration": 11,
    "start_time": "2022-07-22T09:07:33.354Z"
   },
   {
    "duration": 18,
    "start_time": "2022-07-22T09:07:33.366Z"
   },
   {
    "duration": 12,
    "start_time": "2022-07-22T09:07:33.385Z"
   },
   {
    "duration": 359,
    "start_time": "2022-07-22T09:07:33.398Z"
   },
   {
    "duration": 183,
    "start_time": "2022-07-22T09:07:33.759Z"
   },
   {
    "duration": 295,
    "start_time": "2022-07-22T09:07:33.944Z"
   },
   {
    "duration": 196,
    "start_time": "2022-07-22T09:07:34.240Z"
   },
   {
    "duration": 10,
    "start_time": "2022-07-22T09:09:20.659Z"
   },
   {
    "duration": 1170,
    "start_time": "2022-07-22T09:09:37.243Z"
   },
   {
    "duration": 2,
    "start_time": "2022-07-22T09:09:38.415Z"
   },
   {
    "duration": 42,
    "start_time": "2022-07-22T09:09:38.419Z"
   },
   {
    "duration": 10,
    "start_time": "2022-07-22T09:09:38.463Z"
   },
   {
    "duration": 83,
    "start_time": "2022-07-22T09:09:38.474Z"
   },
   {
    "duration": 28,
    "start_time": "2022-07-22T09:09:38.558Z"
   },
   {
    "duration": 6,
    "start_time": "2022-07-22T09:09:38.588Z"
   },
   {
    "duration": 18,
    "start_time": "2022-07-22T09:09:38.595Z"
   },
   {
    "duration": 7,
    "start_time": "2022-07-22T09:09:38.615Z"
   },
   {
    "duration": 28,
    "start_time": "2022-07-22T09:09:38.624Z"
   },
   {
    "duration": 7,
    "start_time": "2022-07-22T09:09:38.653Z"
   },
   {
    "duration": 23,
    "start_time": "2022-07-22T09:09:38.662Z"
   },
   {
    "duration": 15,
    "start_time": "2022-07-22T09:09:38.687Z"
   },
   {
    "duration": 19,
    "start_time": "2022-07-22T09:09:38.703Z"
   },
   {
    "duration": 22,
    "start_time": "2022-07-22T09:09:38.723Z"
   },
   {
    "duration": 168,
    "start_time": "2022-07-22T09:09:38.746Z"
   },
   {
    "duration": 131,
    "start_time": "2022-07-22T09:09:38.916Z"
   },
   {
    "duration": 6,
    "start_time": "2022-07-22T09:09:39.053Z"
   },
   {
    "duration": 264,
    "start_time": "2022-07-22T09:09:39.060Z"
   },
   {
    "duration": 185,
    "start_time": "2022-07-22T09:09:39.326Z"
   },
   {
    "duration": 259,
    "start_time": "2022-07-22T09:09:39.513Z"
   },
   {
    "duration": 193,
    "start_time": "2022-07-22T09:09:39.774Z"
   },
   {
    "duration": 270,
    "start_time": "2022-07-22T09:09:39.968Z"
   },
   {
    "duration": 19,
    "start_time": "2022-07-22T09:09:40.240Z"
   },
   {
    "duration": 26,
    "start_time": "2022-07-22T09:09:40.260Z"
   },
   {
    "duration": 142,
    "start_time": "2022-07-22T09:09:40.287Z"
   },
   {
    "duration": 3,
    "start_time": "2022-07-22T09:09:40.431Z"
   },
   {
    "duration": 230,
    "start_time": "2022-07-22T09:09:40.438Z"
   },
   {
    "duration": 198,
    "start_time": "2022-07-22T09:09:40.670Z"
   },
   {
    "duration": 4,
    "start_time": "2022-07-22T09:09:40.870Z"
   },
   {
    "duration": 7,
    "start_time": "2022-07-22T09:09:40.876Z"
   },
   {
    "duration": 12,
    "start_time": "2022-07-22T09:09:40.884Z"
   },
   {
    "duration": 4,
    "start_time": "2022-07-22T09:09:40.897Z"
   },
   {
    "duration": 5,
    "start_time": "2022-07-22T09:09:40.903Z"
   },
   {
    "duration": 184,
    "start_time": "2022-07-22T09:09:40.910Z"
   },
   {
    "duration": 8,
    "start_time": "2022-07-22T09:09:41.096Z"
   },
   {
    "duration": 8,
    "start_time": "2022-07-22T09:09:41.105Z"
   },
   {
    "duration": 8,
    "start_time": "2022-07-22T09:09:41.114Z"
   },
   {
    "duration": 37,
    "start_time": "2022-07-22T09:09:41.124Z"
   },
   {
    "duration": 11,
    "start_time": "2022-07-22T09:09:41.162Z"
   },
   {
    "duration": 348,
    "start_time": "2022-07-22T09:09:41.175Z"
   },
   {
    "duration": 213,
    "start_time": "2022-07-22T09:09:41.525Z"
   },
   {
    "duration": 313,
    "start_time": "2022-07-22T09:09:41.739Z"
   },
   {
    "duration": 215,
    "start_time": "2022-07-22T09:09:42.053Z"
   },
   {
    "duration": 247,
    "start_time": "2022-07-22T09:14:30.622Z"
   },
   {
    "duration": 1275,
    "start_time": "2022-07-22T09:15:24.461Z"
   },
   {
    "duration": 3,
    "start_time": "2022-07-22T09:15:25.738Z"
   },
   {
    "duration": 20,
    "start_time": "2022-07-22T09:15:25.743Z"
   },
   {
    "duration": 11,
    "start_time": "2022-07-22T09:15:25.764Z"
   },
   {
    "duration": 58,
    "start_time": "2022-07-22T09:15:25.778Z"
   },
   {
    "duration": 42,
    "start_time": "2022-07-22T09:15:25.838Z"
   },
   {
    "duration": 8,
    "start_time": "2022-07-22T09:15:25.882Z"
   },
   {
    "duration": 5,
    "start_time": "2022-07-22T09:15:25.892Z"
   },
   {
    "duration": 8,
    "start_time": "2022-07-22T09:15:25.898Z"
   },
   {
    "duration": 7,
    "start_time": "2022-07-22T09:15:25.907Z"
   },
   {
    "duration": 5,
    "start_time": "2022-07-22T09:15:25.916Z"
   },
   {
    "duration": 11,
    "start_time": "2022-07-22T09:15:25.953Z"
   },
   {
    "duration": 4,
    "start_time": "2022-07-22T09:15:25.965Z"
   },
   {
    "duration": 5,
    "start_time": "2022-07-22T09:15:25.972Z"
   },
   {
    "duration": 222,
    "start_time": "2022-07-22T09:15:25.979Z"
   },
   {
    "duration": 151,
    "start_time": "2022-07-22T09:15:26.203Z"
   },
   {
    "duration": 6,
    "start_time": "2022-07-22T09:15:26.355Z"
   },
   {
    "duration": 333,
    "start_time": "2022-07-22T09:15:26.362Z"
   },
   {
    "duration": 191,
    "start_time": "2022-07-22T09:15:26.697Z"
   },
   {
    "duration": 243,
    "start_time": "2022-07-22T09:15:26.890Z"
   },
   {
    "duration": 198,
    "start_time": "2022-07-22T09:15:27.135Z"
   },
   {
    "duration": 300,
    "start_time": "2022-07-22T09:15:27.335Z"
   },
   {
    "duration": 21,
    "start_time": "2022-07-22T09:15:27.637Z"
   },
   {
    "duration": 3,
    "start_time": "2022-07-22T09:15:27.659Z"
   },
   {
    "duration": 146,
    "start_time": "2022-07-22T09:15:27.663Z"
   },
   {
    "duration": 4,
    "start_time": "2022-07-22T09:15:27.811Z"
   },
   {
    "duration": 212,
    "start_time": "2022-07-22T09:15:27.817Z"
   },
   {
    "duration": 191,
    "start_time": "2022-07-22T09:15:28.031Z"
   },
   {
    "duration": 5,
    "start_time": "2022-07-22T09:15:28.223Z"
   },
   {
    "duration": 11,
    "start_time": "2022-07-22T09:15:28.229Z"
   },
   {
    "duration": 15,
    "start_time": "2022-07-22T09:15:28.251Z"
   },
   {
    "duration": 7,
    "start_time": "2022-07-22T09:15:28.268Z"
   },
   {
    "duration": 9,
    "start_time": "2022-07-22T09:15:28.277Z"
   },
   {
    "duration": 156,
    "start_time": "2022-07-22T09:15:28.288Z"
   },
   {
    "duration": 12,
    "start_time": "2022-07-22T09:15:28.446Z"
   },
   {
    "duration": 8,
    "start_time": "2022-07-22T09:15:28.459Z"
   },
   {
    "duration": 10,
    "start_time": "2022-07-22T09:15:28.468Z"
   },
   {
    "duration": 19,
    "start_time": "2022-07-22T09:15:28.480Z"
   },
   {
    "duration": 12,
    "start_time": "2022-07-22T09:15:28.500Z"
   },
   {
    "duration": 386,
    "start_time": "2022-07-22T09:15:28.513Z"
   },
   {
    "duration": 207,
    "start_time": "2022-07-22T09:15:28.902Z"
   },
   {
    "duration": 285,
    "start_time": "2022-07-22T09:15:29.110Z"
   },
   {
    "duration": 219,
    "start_time": "2022-07-22T09:15:29.397Z"
   },
   {
    "duration": 255,
    "start_time": "2022-07-22T09:17:21.398Z"
   },
   {
    "duration": 8,
    "start_time": "2022-07-22T09:19:36.418Z"
   },
   {
    "duration": 1255,
    "start_time": "2022-07-22T09:20:08.926Z"
   },
   {
    "duration": 3,
    "start_time": "2022-07-22T09:20:10.183Z"
   },
   {
    "duration": 18,
    "start_time": "2022-07-22T09:20:10.187Z"
   },
   {
    "duration": 11,
    "start_time": "2022-07-22T09:20:10.206Z"
   },
   {
    "duration": 53,
    "start_time": "2022-07-22T09:20:10.219Z"
   },
   {
    "duration": 24,
    "start_time": "2022-07-22T09:20:10.274Z"
   },
   {
    "duration": 6,
    "start_time": "2022-07-22T09:20:10.299Z"
   },
   {
    "duration": 7,
    "start_time": "2022-07-22T09:20:10.306Z"
   },
   {
    "duration": 6,
    "start_time": "2022-07-22T09:20:10.315Z"
   },
   {
    "duration": 30,
    "start_time": "2022-07-22T09:20:10.323Z"
   },
   {
    "duration": 9,
    "start_time": "2022-07-22T09:20:10.354Z"
   },
   {
    "duration": 11,
    "start_time": "2022-07-22T09:20:10.364Z"
   },
   {
    "duration": 4,
    "start_time": "2022-07-22T09:20:10.376Z"
   },
   {
    "duration": 11,
    "start_time": "2022-07-22T09:20:10.384Z"
   },
   {
    "duration": 171,
    "start_time": "2022-07-22T09:20:10.397Z"
   },
   {
    "duration": 118,
    "start_time": "2022-07-22T09:20:10.570Z"
   },
   {
    "duration": 6,
    "start_time": "2022-07-22T09:20:10.690Z"
   },
   {
    "duration": 304,
    "start_time": "2022-07-22T09:20:10.697Z"
   },
   {
    "duration": 9,
    "start_time": "2022-07-22T09:20:11.002Z"
   },
   {
    "duration": 188,
    "start_time": "2022-07-22T09:20:11.012Z"
   },
   {
    "duration": 257,
    "start_time": "2022-07-22T09:20:11.202Z"
   },
   {
    "duration": 183,
    "start_time": "2022-07-22T09:20:11.461Z"
   },
   {
    "duration": 281,
    "start_time": "2022-07-22T09:20:11.651Z"
   },
   {
    "duration": 20,
    "start_time": "2022-07-22T09:20:11.934Z"
   },
   {
    "duration": 3,
    "start_time": "2022-07-22T09:20:11.955Z"
   },
   {
    "duration": 138,
    "start_time": "2022-07-22T09:20:11.959Z"
   },
   {
    "duration": 3,
    "start_time": "2022-07-22T09:20:12.098Z"
   },
   {
    "duration": 216,
    "start_time": "2022-07-22T09:20:12.103Z"
   },
   {
    "duration": 203,
    "start_time": "2022-07-22T09:20:12.321Z"
   },
   {
    "duration": 4,
    "start_time": "2022-07-22T09:20:12.526Z"
   },
   {
    "duration": 7,
    "start_time": "2022-07-22T09:20:12.532Z"
   },
   {
    "duration": 19,
    "start_time": "2022-07-22T09:20:12.540Z"
   },
   {
    "duration": 5,
    "start_time": "2022-07-22T09:20:12.560Z"
   },
   {
    "duration": 7,
    "start_time": "2022-07-22T09:20:12.566Z"
   },
   {
    "duration": 149,
    "start_time": "2022-07-22T09:20:12.574Z"
   },
   {
    "duration": 8,
    "start_time": "2022-07-22T09:20:12.725Z"
   },
   {
    "duration": 21,
    "start_time": "2022-07-22T09:20:12.735Z"
   },
   {
    "duration": 10,
    "start_time": "2022-07-22T09:20:12.757Z"
   },
   {
    "duration": 18,
    "start_time": "2022-07-22T09:20:12.768Z"
   },
   {
    "duration": 10,
    "start_time": "2022-07-22T09:20:12.788Z"
   },
   {
    "duration": 362,
    "start_time": "2022-07-22T09:20:12.801Z"
   },
   {
    "duration": 193,
    "start_time": "2022-07-22T09:20:13.164Z"
   },
   {
    "duration": 299,
    "start_time": "2022-07-22T09:20:13.359Z"
   },
   {
    "duration": 202,
    "start_time": "2022-07-22T09:20:13.659Z"
   },
   {
    "duration": 8,
    "start_time": "2022-07-22T09:21:32.114Z"
   },
   {
    "duration": 256,
    "start_time": "2022-07-22T09:30:22.814Z"
   },
   {
    "duration": 169,
    "start_time": "2022-07-22T09:30:37.221Z"
   },
   {
    "duration": 1203,
    "start_time": "2022-07-22T09:30:53.443Z"
   },
   {
    "duration": 4,
    "start_time": "2022-07-22T09:30:54.647Z"
   },
   {
    "duration": 28,
    "start_time": "2022-07-22T09:30:54.652Z"
   },
   {
    "duration": 15,
    "start_time": "2022-07-22T09:30:54.682Z"
   },
   {
    "duration": 62,
    "start_time": "2022-07-22T09:30:54.699Z"
   },
   {
    "duration": 26,
    "start_time": "2022-07-22T09:30:54.763Z"
   },
   {
    "duration": 8,
    "start_time": "2022-07-22T09:30:54.791Z"
   },
   {
    "duration": 4,
    "start_time": "2022-07-22T09:30:54.801Z"
   },
   {
    "duration": 8,
    "start_time": "2022-07-22T09:30:54.806Z"
   },
   {
    "duration": 10,
    "start_time": "2022-07-22T09:30:54.817Z"
   },
   {
    "duration": 25,
    "start_time": "2022-07-22T09:30:54.828Z"
   },
   {
    "duration": 10,
    "start_time": "2022-07-22T09:30:54.854Z"
   },
   {
    "duration": 3,
    "start_time": "2022-07-22T09:30:54.865Z"
   },
   {
    "duration": 6,
    "start_time": "2022-07-22T09:30:54.870Z"
   },
   {
    "duration": 186,
    "start_time": "2022-07-22T09:30:54.878Z"
   },
   {
    "duration": 131,
    "start_time": "2022-07-22T09:30:55.066Z"
   },
   {
    "duration": 6,
    "start_time": "2022-07-22T09:30:55.199Z"
   },
   {
    "duration": 349,
    "start_time": "2022-07-22T09:30:55.207Z"
   },
   {
    "duration": 197,
    "start_time": "2022-07-22T09:30:55.557Z"
   },
   {
    "duration": 9,
    "start_time": "2022-07-22T09:30:55.756Z"
   },
   {
    "duration": 215,
    "start_time": "2022-07-22T09:30:55.766Z"
   },
   {
    "duration": 325,
    "start_time": "2022-07-22T09:30:55.983Z"
   },
   {
    "duration": 218,
    "start_time": "2022-07-22T09:30:56.309Z"
   },
   {
    "duration": 328,
    "start_time": "2022-07-22T09:30:56.528Z"
   },
   {
    "duration": 11,
    "start_time": "2022-07-22T09:30:56.857Z"
   },
   {
    "duration": 3,
    "start_time": "2022-07-22T09:30:56.869Z"
   },
   {
    "duration": 234,
    "start_time": "2022-07-22T09:30:56.873Z"
   },
   {
    "duration": 4,
    "start_time": "2022-07-22T09:30:57.110Z"
   },
   {
    "duration": 162,
    "start_time": "2022-07-22T09:30:57.115Z"
   },
   {
    "duration": 223,
    "start_time": "2022-07-22T09:30:57.278Z"
   },
   {
    "duration": 5,
    "start_time": "2022-07-22T09:30:57.502Z"
   },
   {
    "duration": 8,
    "start_time": "2022-07-22T09:30:57.509Z"
   },
   {
    "duration": 13,
    "start_time": "2022-07-22T09:30:57.518Z"
   },
   {
    "duration": 21,
    "start_time": "2022-07-22T09:30:57.533Z"
   },
   {
    "duration": 7,
    "start_time": "2022-07-22T09:30:57.555Z"
   },
   {
    "duration": 180,
    "start_time": "2022-07-22T09:30:57.563Z"
   },
   {
    "duration": 10,
    "start_time": "2022-07-22T09:30:57.752Z"
   },
   {
    "duration": 8,
    "start_time": "2022-07-22T09:30:57.765Z"
   },
   {
    "duration": 11,
    "start_time": "2022-07-22T09:30:57.775Z"
   },
   {
    "duration": 23,
    "start_time": "2022-07-22T09:30:57.787Z"
   },
   {
    "duration": 40,
    "start_time": "2022-07-22T09:30:57.812Z"
   },
   {
    "duration": 385,
    "start_time": "2022-07-22T09:30:57.854Z"
   },
   {
    "duration": 232,
    "start_time": "2022-07-22T09:30:58.241Z"
   },
   {
    "duration": 299,
    "start_time": "2022-07-22T09:30:58.474Z"
   },
   {
    "duration": 232,
    "start_time": "2022-07-22T09:30:58.775Z"
   },
   {
    "duration": 193,
    "start_time": "2022-07-22T09:31:21.965Z"
   },
   {
    "duration": 1134,
    "start_time": "2022-07-22T09:31:31.249Z"
   },
   {
    "duration": 3,
    "start_time": "2022-07-22T09:31:32.385Z"
   },
   {
    "duration": 30,
    "start_time": "2022-07-22T09:31:32.389Z"
   },
   {
    "duration": 10,
    "start_time": "2022-07-22T09:31:32.420Z"
   },
   {
    "duration": 61,
    "start_time": "2022-07-22T09:31:32.432Z"
   },
   {
    "duration": 25,
    "start_time": "2022-07-22T09:31:32.494Z"
   },
   {
    "duration": 15,
    "start_time": "2022-07-22T09:31:32.520Z"
   },
   {
    "duration": 19,
    "start_time": "2022-07-22T09:31:32.536Z"
   },
   {
    "duration": 12,
    "start_time": "2022-07-22T09:31:32.556Z"
   },
   {
    "duration": 15,
    "start_time": "2022-07-22T09:31:32.570Z"
   },
   {
    "duration": 18,
    "start_time": "2022-07-22T09:31:32.587Z"
   },
   {
    "duration": 19,
    "start_time": "2022-07-22T09:31:32.607Z"
   },
   {
    "duration": 15,
    "start_time": "2022-07-22T09:31:32.627Z"
   },
   {
    "duration": 18,
    "start_time": "2022-07-22T09:31:32.645Z"
   },
   {
    "duration": 160,
    "start_time": "2022-07-22T09:31:32.664Z"
   },
   {
    "duration": 110,
    "start_time": "2022-07-22T09:31:32.825Z"
   },
   {
    "duration": 29,
    "start_time": "2022-07-22T09:31:32.936Z"
   },
   {
    "duration": 312,
    "start_time": "2022-07-22T09:31:32.966Z"
   },
   {
    "duration": 163,
    "start_time": "2022-07-22T09:31:33.280Z"
   },
   {
    "duration": 10,
    "start_time": "2022-07-22T09:31:33.444Z"
   },
   {
    "duration": 184,
    "start_time": "2022-07-22T09:31:33.455Z"
   },
   {
    "duration": 280,
    "start_time": "2022-07-22T09:31:33.640Z"
   },
   {
    "duration": 186,
    "start_time": "2022-07-22T09:31:33.922Z"
   },
   {
    "duration": 257,
    "start_time": "2022-07-22T09:31:34.109Z"
   },
   {
    "duration": 10,
    "start_time": "2022-07-22T09:31:34.368Z"
   },
   {
    "duration": 2,
    "start_time": "2022-07-22T09:31:34.379Z"
   },
   {
    "duration": 216,
    "start_time": "2022-07-22T09:31:34.383Z"
   },
   {
    "duration": 5,
    "start_time": "2022-07-22T09:31:34.600Z"
   },
   {
    "duration": 165,
    "start_time": "2022-07-22T09:31:34.607Z"
   },
   {
    "duration": 198,
    "start_time": "2022-07-22T09:31:34.774Z"
   },
   {
    "duration": 3,
    "start_time": "2022-07-22T09:31:34.973Z"
   },
   {
    "duration": 6,
    "start_time": "2022-07-22T09:31:34.978Z"
   },
   {
    "duration": 10,
    "start_time": "2022-07-22T09:31:34.985Z"
   },
   {
    "duration": 5,
    "start_time": "2022-07-22T09:31:34.996Z"
   },
   {
    "duration": 6,
    "start_time": "2022-07-22T09:31:35.003Z"
   },
   {
    "duration": 175,
    "start_time": "2022-07-22T09:31:35.011Z"
   },
   {
    "duration": 8,
    "start_time": "2022-07-22T09:31:35.188Z"
   },
   {
    "duration": 9,
    "start_time": "2022-07-22T09:31:35.198Z"
   },
   {
    "duration": 10,
    "start_time": "2022-07-22T09:31:35.208Z"
   },
   {
    "duration": 38,
    "start_time": "2022-07-22T09:31:35.219Z"
   },
   {
    "duration": 12,
    "start_time": "2022-07-22T09:31:35.261Z"
   },
   {
    "duration": 364,
    "start_time": "2022-07-22T09:31:35.275Z"
   },
   {
    "duration": 204,
    "start_time": "2022-07-22T09:31:35.640Z"
   },
   {
    "duration": 311,
    "start_time": "2022-07-22T09:31:35.852Z"
   },
   {
    "duration": 220,
    "start_time": "2022-07-22T09:31:36.164Z"
   },
   {
    "duration": 182,
    "start_time": "2022-07-22T09:32:23.268Z"
   },
   {
    "duration": 132,
    "start_time": "2022-07-22T09:33:30.031Z"
   },
   {
    "duration": 151,
    "start_time": "2022-07-22T09:37:06.676Z"
   },
   {
    "duration": 1264,
    "start_time": "2022-07-22T09:37:28.326Z"
   },
   {
    "duration": 3,
    "start_time": "2022-07-22T09:37:29.592Z"
   },
   {
    "duration": 19,
    "start_time": "2022-07-22T09:37:29.596Z"
   },
   {
    "duration": 12,
    "start_time": "2022-07-22T09:37:29.616Z"
   },
   {
    "duration": 57,
    "start_time": "2022-07-22T09:37:29.630Z"
   },
   {
    "duration": 29,
    "start_time": "2022-07-22T09:37:29.688Z"
   },
   {
    "duration": 6,
    "start_time": "2022-07-22T09:37:29.718Z"
   },
   {
    "duration": 5,
    "start_time": "2022-07-22T09:37:29.725Z"
   },
   {
    "duration": 22,
    "start_time": "2022-07-22T09:37:29.731Z"
   },
   {
    "duration": 9,
    "start_time": "2022-07-22T09:37:29.755Z"
   },
   {
    "duration": 5,
    "start_time": "2022-07-22T09:37:29.765Z"
   },
   {
    "duration": 12,
    "start_time": "2022-07-22T09:37:29.771Z"
   },
   {
    "duration": 3,
    "start_time": "2022-07-22T09:37:29.784Z"
   },
   {
    "duration": 8,
    "start_time": "2022-07-22T09:37:29.790Z"
   },
   {
    "duration": 187,
    "start_time": "2022-07-22T09:37:29.800Z"
   },
   {
    "duration": 120,
    "start_time": "2022-07-22T09:37:29.988Z"
   },
   {
    "duration": 6,
    "start_time": "2022-07-22T09:37:30.109Z"
   },
   {
    "duration": 322,
    "start_time": "2022-07-22T09:37:30.116Z"
   },
   {
    "duration": 177,
    "start_time": "2022-07-22T09:37:30.439Z"
   },
   {
    "duration": 207,
    "start_time": "2022-07-22T09:37:30.618Z"
   },
   {
    "duration": 289,
    "start_time": "2022-07-22T09:37:30.827Z"
   },
   {
    "duration": 190,
    "start_time": "2022-07-22T09:37:31.117Z"
   },
   {
    "duration": 259,
    "start_time": "2022-07-22T09:37:31.308Z"
   },
   {
    "duration": 11,
    "start_time": "2022-07-22T09:37:31.569Z"
   },
   {
    "duration": 3,
    "start_time": "2022-07-22T09:37:31.581Z"
   },
   {
    "duration": 226,
    "start_time": "2022-07-22T09:37:31.585Z"
   },
   {
    "duration": 3,
    "start_time": "2022-07-22T09:37:31.813Z"
   },
   {
    "duration": 144,
    "start_time": "2022-07-22T09:37:31.818Z"
   },
   {
    "duration": 193,
    "start_time": "2022-07-22T09:37:31.963Z"
   },
   {
    "duration": 4,
    "start_time": "2022-07-22T09:37:32.161Z"
   },
   {
    "duration": 14,
    "start_time": "2022-07-22T09:37:32.167Z"
   },
   {
    "duration": 13,
    "start_time": "2022-07-22T09:37:32.183Z"
   },
   {
    "duration": 5,
    "start_time": "2022-07-22T09:37:32.198Z"
   },
   {
    "duration": 6,
    "start_time": "2022-07-22T09:37:32.205Z"
   },
   {
    "duration": 136,
    "start_time": "2022-07-22T09:37:32.212Z"
   },
   {
    "duration": 9,
    "start_time": "2022-07-22T09:37:32.351Z"
   },
   {
    "duration": 8,
    "start_time": "2022-07-22T09:37:32.362Z"
   },
   {
    "duration": 9,
    "start_time": "2022-07-22T09:37:32.372Z"
   },
   {
    "duration": 18,
    "start_time": "2022-07-22T09:37:32.382Z"
   },
   {
    "duration": 12,
    "start_time": "2022-07-22T09:37:32.402Z"
   },
   {
    "duration": 366,
    "start_time": "2022-07-22T09:37:32.417Z"
   },
   {
    "duration": 185,
    "start_time": "2022-07-22T09:37:32.785Z"
   },
   {
    "duration": 286,
    "start_time": "2022-07-22T09:37:32.972Z"
   },
   {
    "duration": 203,
    "start_time": "2022-07-22T09:37:33.260Z"
   },
   {
    "duration": 137,
    "start_time": "2022-07-22T09:38:55.398Z"
   },
   {
    "duration": 173,
    "start_time": "2022-07-22T09:39:58.317Z"
   },
   {
    "duration": 1186,
    "start_time": "2022-07-22T09:40:35.715Z"
   },
   {
    "duration": 3,
    "start_time": "2022-07-22T09:40:36.903Z"
   },
   {
    "duration": 18,
    "start_time": "2022-07-22T09:40:36.907Z"
   },
   {
    "duration": 10,
    "start_time": "2022-07-22T09:40:36.926Z"
   },
   {
    "duration": 49,
    "start_time": "2022-07-22T09:40:36.938Z"
   },
   {
    "duration": 25,
    "start_time": "2022-07-22T09:40:36.988Z"
   },
   {
    "duration": 8,
    "start_time": "2022-07-22T09:40:37.015Z"
   },
   {
    "duration": 5,
    "start_time": "2022-07-22T09:40:37.025Z"
   },
   {
    "duration": 7,
    "start_time": "2022-07-22T09:40:37.032Z"
   },
   {
    "duration": 5,
    "start_time": "2022-07-22T09:40:37.052Z"
   },
   {
    "duration": 4,
    "start_time": "2022-07-22T09:40:37.058Z"
   },
   {
    "duration": 9,
    "start_time": "2022-07-22T09:40:37.063Z"
   },
   {
    "duration": 2,
    "start_time": "2022-07-22T09:40:37.074Z"
   },
   {
    "duration": 6,
    "start_time": "2022-07-22T09:40:37.079Z"
   },
   {
    "duration": 166,
    "start_time": "2022-07-22T09:40:37.086Z"
   },
   {
    "duration": 111,
    "start_time": "2022-07-22T09:40:37.253Z"
   },
   {
    "duration": 5,
    "start_time": "2022-07-22T09:40:37.365Z"
   },
   {
    "duration": 308,
    "start_time": "2022-07-22T09:40:37.372Z"
   },
   {
    "duration": 170,
    "start_time": "2022-07-22T09:40:37.682Z"
   },
   {
    "duration": 179,
    "start_time": "2022-07-22T09:40:37.853Z"
   },
   {
    "duration": 299,
    "start_time": "2022-07-22T09:40:38.034Z"
   },
   {
    "duration": 180,
    "start_time": "2022-07-22T09:40:38.335Z"
   },
   {
    "duration": 284,
    "start_time": "2022-07-22T09:40:38.517Z"
   },
   {
    "duration": 11,
    "start_time": "2022-07-22T09:40:38.803Z"
   },
   {
    "duration": 2,
    "start_time": "2022-07-22T09:40:38.816Z"
   },
   {
    "duration": 244,
    "start_time": "2022-07-22T09:40:38.820Z"
   },
   {
    "duration": 4,
    "start_time": "2022-07-22T09:40:39.065Z"
   },
   {
    "duration": 141,
    "start_time": "2022-07-22T09:40:39.071Z"
   },
   {
    "duration": 189,
    "start_time": "2022-07-22T09:40:39.213Z"
   },
   {
    "duration": 4,
    "start_time": "2022-07-22T09:40:39.403Z"
   },
   {
    "duration": 8,
    "start_time": "2022-07-22T09:40:39.408Z"
   },
   {
    "duration": 11,
    "start_time": "2022-07-22T09:40:39.418Z"
   },
   {
    "duration": 8,
    "start_time": "2022-07-22T09:40:39.430Z"
   },
   {
    "duration": 17,
    "start_time": "2022-07-22T09:40:39.439Z"
   },
   {
    "duration": 139,
    "start_time": "2022-07-22T09:40:39.457Z"
   },
   {
    "duration": 11,
    "start_time": "2022-07-22T09:40:39.598Z"
   },
   {
    "duration": 8,
    "start_time": "2022-07-22T09:40:39.611Z"
   },
   {
    "duration": 7,
    "start_time": "2022-07-22T09:40:39.621Z"
   },
   {
    "duration": 39,
    "start_time": "2022-07-22T09:40:39.630Z"
   },
   {
    "duration": 10,
    "start_time": "2022-07-22T09:40:39.671Z"
   },
   {
    "duration": 348,
    "start_time": "2022-07-22T09:40:39.684Z"
   },
   {
    "duration": 194,
    "start_time": "2022-07-22T09:40:40.033Z"
   },
   {
    "duration": 310,
    "start_time": "2022-07-22T09:40:40.228Z"
   },
   {
    "duration": 208,
    "start_time": "2022-07-22T09:40:40.539Z"
   },
   {
    "duration": 1257,
    "start_time": "2022-07-22T09:42:24.405Z"
   },
   {
    "duration": 3,
    "start_time": "2022-07-22T09:42:25.664Z"
   },
   {
    "duration": 28,
    "start_time": "2022-07-22T09:42:25.669Z"
   },
   {
    "duration": 11,
    "start_time": "2022-07-22T09:42:25.698Z"
   },
   {
    "duration": 63,
    "start_time": "2022-07-22T09:42:25.712Z"
   },
   {
    "duration": 27,
    "start_time": "2022-07-22T09:42:25.777Z"
   },
   {
    "duration": 8,
    "start_time": "2022-07-22T09:42:25.805Z"
   },
   {
    "duration": 19,
    "start_time": "2022-07-22T09:42:25.814Z"
   },
   {
    "duration": 11,
    "start_time": "2022-07-22T09:42:25.835Z"
   },
   {
    "duration": 12,
    "start_time": "2022-07-22T09:42:25.852Z"
   },
   {
    "duration": 13,
    "start_time": "2022-07-22T09:42:25.866Z"
   },
   {
    "duration": 19,
    "start_time": "2022-07-22T09:42:25.880Z"
   },
   {
    "duration": 8,
    "start_time": "2022-07-22T09:42:25.901Z"
   },
   {
    "duration": 10,
    "start_time": "2022-07-22T09:42:25.912Z"
   },
   {
    "duration": 196,
    "start_time": "2022-07-22T09:42:25.924Z"
   },
   {
    "duration": 162,
    "start_time": "2022-07-22T09:42:26.122Z"
   },
   {
    "duration": 7,
    "start_time": "2022-07-22T09:42:26.286Z"
   },
   {
    "duration": 349,
    "start_time": "2022-07-22T09:42:26.294Z"
   },
   {
    "duration": 188,
    "start_time": "2022-07-22T09:42:26.645Z"
   },
   {
    "duration": 191,
    "start_time": "2022-07-22T09:42:26.835Z"
   },
   {
    "duration": 294,
    "start_time": "2022-07-22T09:42:27.027Z"
   },
   {
    "duration": 196,
    "start_time": "2022-07-22T09:42:27.323Z"
   },
   {
    "duration": 296,
    "start_time": "2022-07-22T09:42:27.521Z"
   },
   {
    "duration": 11,
    "start_time": "2022-07-22T09:42:27.818Z"
   },
   {
    "duration": 3,
    "start_time": "2022-07-22T09:42:27.830Z"
   },
   {
    "duration": 227,
    "start_time": "2022-07-22T09:42:27.851Z"
   },
   {
    "duration": 4,
    "start_time": "2022-07-22T09:42:28.080Z"
   },
   {
    "duration": 150,
    "start_time": "2022-07-22T09:42:28.086Z"
   },
   {
    "duration": 202,
    "start_time": "2022-07-22T09:42:28.239Z"
   },
   {
    "duration": 4,
    "start_time": "2022-07-22T09:42:28.442Z"
   },
   {
    "duration": 11,
    "start_time": "2022-07-22T09:42:28.452Z"
   },
   {
    "duration": 11,
    "start_time": "2022-07-22T09:42:28.464Z"
   },
   {
    "duration": 5,
    "start_time": "2022-07-22T09:42:28.477Z"
   },
   {
    "duration": 8,
    "start_time": "2022-07-22T09:42:28.483Z"
   },
   {
    "duration": 150,
    "start_time": "2022-07-22T09:42:28.492Z"
   },
   {
    "duration": 16,
    "start_time": "2022-07-22T09:42:28.644Z"
   },
   {
    "duration": 32,
    "start_time": "2022-07-22T09:42:28.661Z"
   },
   {
    "duration": 12,
    "start_time": "2022-07-22T09:42:28.695Z"
   },
   {
    "duration": 19,
    "start_time": "2022-07-22T09:42:28.709Z"
   },
   {
    "duration": 12,
    "start_time": "2022-07-22T09:42:28.730Z"
   },
   {
    "duration": 353,
    "start_time": "2022-07-22T09:42:28.745Z"
   },
   {
    "duration": 203,
    "start_time": "2022-07-22T09:42:29.099Z"
   },
   {
    "duration": 287,
    "start_time": "2022-07-22T09:42:29.304Z"
   },
   {
    "duration": 225,
    "start_time": "2022-07-22T09:42:29.592Z"
   },
   {
    "duration": 1138,
    "start_time": "2022-07-22T09:47:43.403Z"
   },
   {
    "duration": 4,
    "start_time": "2022-07-22T09:47:44.547Z"
   },
   {
    "duration": 34,
    "start_time": "2022-07-22T09:47:44.553Z"
   },
   {
    "duration": 18,
    "start_time": "2022-07-22T09:47:44.589Z"
   },
   {
    "duration": 63,
    "start_time": "2022-07-22T09:47:44.610Z"
   },
   {
    "duration": 36,
    "start_time": "2022-07-22T09:47:44.675Z"
   },
   {
    "duration": 6,
    "start_time": "2022-07-22T09:47:44.713Z"
   },
   {
    "duration": 7,
    "start_time": "2022-07-22T09:47:44.720Z"
   },
   {
    "duration": 28,
    "start_time": "2022-07-22T09:47:44.728Z"
   },
   {
    "duration": 10,
    "start_time": "2022-07-22T09:47:44.758Z"
   },
   {
    "duration": 6,
    "start_time": "2022-07-22T09:47:44.769Z"
   },
   {
    "duration": 14,
    "start_time": "2022-07-22T09:47:44.777Z"
   },
   {
    "duration": 4,
    "start_time": "2022-07-22T09:47:44.793Z"
   },
   {
    "duration": 10,
    "start_time": "2022-07-22T09:47:44.800Z"
   },
   {
    "duration": 170,
    "start_time": "2022-07-22T09:47:44.812Z"
   },
   {
    "duration": 132,
    "start_time": "2022-07-22T09:47:44.984Z"
   },
   {
    "duration": 7,
    "start_time": "2022-07-22T09:47:45.119Z"
   },
   {
    "duration": 347,
    "start_time": "2022-07-22T09:47:45.128Z"
   },
   {
    "duration": 170,
    "start_time": "2022-07-22T09:47:45.477Z"
   },
   {
    "duration": 195,
    "start_time": "2022-07-22T09:47:45.651Z"
   },
   {
    "duration": 305,
    "start_time": "2022-07-22T09:47:45.847Z"
   },
   {
    "duration": 217,
    "start_time": "2022-07-22T09:47:46.154Z"
   },
   {
    "duration": 269,
    "start_time": "2022-07-22T09:47:46.372Z"
   },
   {
    "duration": 18,
    "start_time": "2022-07-22T09:47:46.643Z"
   },
   {
    "duration": 3,
    "start_time": "2022-07-22T09:47:46.663Z"
   },
   {
    "duration": 229,
    "start_time": "2022-07-22T09:47:46.668Z"
   },
   {
    "duration": 4,
    "start_time": "2022-07-22T09:47:46.898Z"
   },
   {
    "duration": 157,
    "start_time": "2022-07-22T09:47:46.904Z"
   },
   {
    "duration": 193,
    "start_time": "2022-07-22T09:47:47.062Z"
   },
   {
    "duration": 4,
    "start_time": "2022-07-22T09:47:47.256Z"
   },
   {
    "duration": 10,
    "start_time": "2022-07-22T09:47:47.261Z"
   },
   {
    "duration": 11,
    "start_time": "2022-07-22T09:47:47.272Z"
   },
   {
    "duration": 6,
    "start_time": "2022-07-22T09:47:47.285Z"
   },
   {
    "duration": 7,
    "start_time": "2022-07-22T09:47:47.293Z"
   },
   {
    "duration": 157,
    "start_time": "2022-07-22T09:47:47.301Z"
   },
   {
    "duration": 8,
    "start_time": "2022-07-22T09:47:47.460Z"
   },
   {
    "duration": 7,
    "start_time": "2022-07-22T09:47:47.470Z"
   },
   {
    "duration": 10,
    "start_time": "2022-07-22T09:47:47.479Z"
   },
   {
    "duration": 22,
    "start_time": "2022-07-22T09:47:47.490Z"
   },
   {
    "duration": 11,
    "start_time": "2022-07-22T09:47:47.514Z"
   },
   {
    "duration": 355,
    "start_time": "2022-07-22T09:47:47.553Z"
   },
   {
    "duration": 199,
    "start_time": "2022-07-22T09:47:47.909Z"
   },
   {
    "duration": 283,
    "start_time": "2022-07-22T09:47:48.110Z"
   },
   {
    "duration": 203,
    "start_time": "2022-07-22T09:47:48.395Z"
   },
   {
    "duration": 1408,
    "start_time": "2022-07-22T11:34:47.913Z"
   },
   {
    "duration": 4,
    "start_time": "2022-07-22T11:34:49.323Z"
   },
   {
    "duration": 40,
    "start_time": "2022-07-22T11:34:49.328Z"
   },
   {
    "duration": 23,
    "start_time": "2022-07-22T11:34:49.370Z"
   },
   {
    "duration": 70,
    "start_time": "2022-07-22T11:34:49.395Z"
   },
   {
    "duration": 25,
    "start_time": "2022-07-22T11:34:49.466Z"
   },
   {
    "duration": 30,
    "start_time": "2022-07-22T11:34:49.492Z"
   },
   {
    "duration": 27,
    "start_time": "2022-07-22T11:34:49.524Z"
   },
   {
    "duration": 21,
    "start_time": "2022-07-22T11:34:49.552Z"
   },
   {
    "duration": 42,
    "start_time": "2022-07-22T11:34:49.574Z"
   },
   {
    "duration": 33,
    "start_time": "2022-07-22T11:34:49.618Z"
   },
   {
    "duration": 32,
    "start_time": "2022-07-22T11:34:49.652Z"
   },
   {
    "duration": 34,
    "start_time": "2022-07-22T11:34:49.685Z"
   },
   {
    "duration": 42,
    "start_time": "2022-07-22T11:34:49.722Z"
   },
   {
    "duration": 158,
    "start_time": "2022-07-22T11:34:49.765Z"
   },
   {
    "duration": 106,
    "start_time": "2022-07-22T11:34:49.924Z"
   },
   {
    "duration": 6,
    "start_time": "2022-07-22T11:34:50.031Z"
   },
   {
    "duration": 302,
    "start_time": "2022-07-22T11:34:50.052Z"
   },
   {
    "duration": 168,
    "start_time": "2022-07-22T11:34:50.355Z"
   },
   {
    "duration": 194,
    "start_time": "2022-07-22T11:34:50.525Z"
   },
   {
    "duration": 336,
    "start_time": "2022-07-22T11:34:50.720Z"
   },
   {
    "duration": 190,
    "start_time": "2022-07-22T11:34:51.058Z"
   },
   {
    "duration": 276,
    "start_time": "2022-07-22T11:34:51.252Z"
   },
   {
    "duration": 23,
    "start_time": "2022-07-22T11:34:51.530Z"
   },
   {
    "duration": 4,
    "start_time": "2022-07-22T11:34:51.554Z"
   },
   {
    "duration": 213,
    "start_time": "2022-07-22T11:34:51.559Z"
   },
   {
    "duration": 4,
    "start_time": "2022-07-22T11:34:51.774Z"
   },
   {
    "duration": 140,
    "start_time": "2022-07-22T11:34:51.779Z"
   },
   {
    "duration": 179,
    "start_time": "2022-07-22T11:34:51.920Z"
   },
   {
    "duration": 3,
    "start_time": "2022-07-22T11:34:52.101Z"
   },
   {
    "duration": 12,
    "start_time": "2022-07-22T11:34:52.106Z"
   },
   {
    "duration": 14,
    "start_time": "2022-07-22T11:34:52.119Z"
   },
   {
    "duration": 22,
    "start_time": "2022-07-22T11:34:52.134Z"
   },
   {
    "duration": 10,
    "start_time": "2022-07-22T11:34:52.157Z"
   },
   {
    "duration": 133,
    "start_time": "2022-07-22T11:34:52.168Z"
   },
   {
    "duration": 8,
    "start_time": "2022-07-22T11:34:52.302Z"
   },
   {
    "duration": 15,
    "start_time": "2022-07-22T11:34:52.312Z"
   },
   {
    "duration": 17,
    "start_time": "2022-07-22T11:34:52.328Z"
   },
   {
    "duration": 26,
    "start_time": "2022-07-22T11:34:52.346Z"
   },
   {
    "duration": 12,
    "start_time": "2022-07-22T11:34:52.374Z"
   },
   {
    "duration": 351,
    "start_time": "2022-07-22T11:34:52.388Z"
   },
   {
    "duration": 198,
    "start_time": "2022-07-22T11:34:52.740Z"
   },
   {
    "duration": 296,
    "start_time": "2022-07-22T11:34:52.940Z"
   },
   {
    "duration": 208,
    "start_time": "2022-07-22T11:34:53.238Z"
   },
   {
    "duration": 3,
    "start_time": "2022-07-22T11:43:52.863Z"
   },
   {
    "duration": 1181,
    "start_time": "2022-07-22T11:44:08.145Z"
   },
   {
    "duration": 4,
    "start_time": "2022-07-22T11:44:09.327Z"
   },
   {
    "duration": 23,
    "start_time": "2022-07-22T11:44:09.332Z"
   },
   {
    "duration": 10,
    "start_time": "2022-07-22T11:44:09.357Z"
   },
   {
    "duration": 54,
    "start_time": "2022-07-22T11:44:09.369Z"
   },
   {
    "duration": 47,
    "start_time": "2022-07-22T11:44:09.425Z"
   },
   {
    "duration": 6,
    "start_time": "2022-07-22T11:44:09.474Z"
   },
   {
    "duration": 7,
    "start_time": "2022-07-22T11:44:09.482Z"
   },
   {
    "duration": 10,
    "start_time": "2022-07-22T11:44:09.491Z"
   },
   {
    "duration": 14,
    "start_time": "2022-07-22T11:44:09.503Z"
   },
   {
    "duration": 9,
    "start_time": "2022-07-22T11:44:09.518Z"
   },
   {
    "duration": 32,
    "start_time": "2022-07-22T11:44:09.529Z"
   },
   {
    "duration": 4,
    "start_time": "2022-07-22T11:44:09.563Z"
   },
   {
    "duration": 11,
    "start_time": "2022-07-22T11:44:09.571Z"
   },
   {
    "duration": 181,
    "start_time": "2022-07-22T11:44:09.584Z"
   },
   {
    "duration": 127,
    "start_time": "2022-07-22T11:44:09.767Z"
   },
   {
    "duration": 6,
    "start_time": "2022-07-22T11:44:09.895Z"
   },
   {
    "duration": 320,
    "start_time": "2022-07-22T11:44:09.902Z"
   },
   {
    "duration": 172,
    "start_time": "2022-07-22T11:44:10.224Z"
   },
   {
    "duration": 198,
    "start_time": "2022-07-22T11:44:10.398Z"
   },
   {
    "duration": 248,
    "start_time": "2022-07-22T11:44:10.598Z"
   },
   {
    "duration": 188,
    "start_time": "2022-07-22T11:44:10.852Z"
   },
   {
    "duration": 301,
    "start_time": "2022-07-22T11:44:11.041Z"
   },
   {
    "duration": 17,
    "start_time": "2022-07-22T11:44:11.343Z"
   },
   {
    "duration": 3,
    "start_time": "2022-07-22T11:44:11.361Z"
   },
   {
    "duration": 220,
    "start_time": "2022-07-22T11:44:11.365Z"
   },
   {
    "duration": 3,
    "start_time": "2022-07-22T11:44:11.587Z"
   },
   {
    "duration": 142,
    "start_time": "2022-07-22T11:44:11.591Z"
   },
   {
    "duration": 196,
    "start_time": "2022-07-22T11:44:11.734Z"
   },
   {
    "duration": 4,
    "start_time": "2022-07-22T11:44:11.932Z"
   },
   {
    "duration": 16,
    "start_time": "2022-07-22T11:44:11.937Z"
   },
   {
    "duration": 10,
    "start_time": "2022-07-22T11:44:11.955Z"
   },
   {
    "duration": 4,
    "start_time": "2022-07-22T11:44:11.966Z"
   },
   {
    "duration": 8,
    "start_time": "2022-07-22T11:44:11.971Z"
   },
   {
    "duration": 7,
    "start_time": "2022-07-22T11:44:11.980Z"
   },
   {
    "duration": 184,
    "start_time": "2022-07-22T11:44:11.988Z"
   },
   {
    "duration": 9,
    "start_time": "2022-07-22T11:44:12.173Z"
   },
   {
    "duration": 8,
    "start_time": "2022-07-22T11:44:12.183Z"
   },
   {
    "duration": 13,
    "start_time": "2022-07-22T11:44:12.193Z"
   },
   {
    "duration": 21,
    "start_time": "2022-07-22T11:44:12.208Z"
   },
   {
    "duration": 28,
    "start_time": "2022-07-22T11:44:12.233Z"
   },
   {
    "duration": 361,
    "start_time": "2022-07-22T11:44:12.262Z"
   },
   {
    "duration": 212,
    "start_time": "2022-07-22T11:44:12.625Z"
   },
   {
    "duration": 314,
    "start_time": "2022-07-22T11:44:12.838Z"
   },
   {
    "duration": 226,
    "start_time": "2022-07-22T11:44:13.153Z"
   },
   {
    "duration": 3,
    "start_time": "2022-07-22T11:46:08.670Z"
   },
   {
    "duration": 398,
    "start_time": "2022-07-22T11:54:23.844Z"
   },
   {
    "duration": 197,
    "start_time": "2022-07-22T11:54:32.290Z"
   },
   {
    "duration": 212,
    "start_time": "2022-07-22T11:54:43.356Z"
   },
   {
    "duration": 1492,
    "start_time": "2022-07-22T19:49:58.237Z"
   },
   {
    "duration": 3,
    "start_time": "2022-07-22T19:49:59.731Z"
   },
   {
    "duration": 31,
    "start_time": "2022-07-22T19:49:59.736Z"
   },
   {
    "duration": 11,
    "start_time": "2022-07-22T19:49:59.768Z"
   },
   {
    "duration": 60,
    "start_time": "2022-07-22T19:49:59.781Z"
   },
   {
    "duration": 28,
    "start_time": "2022-07-22T19:49:59.843Z"
   },
   {
    "duration": 10,
    "start_time": "2022-07-22T19:49:59.873Z"
   },
   {
    "duration": 9,
    "start_time": "2022-07-22T19:49:59.885Z"
   },
   {
    "duration": 6,
    "start_time": "2022-07-22T19:49:59.895Z"
   },
   {
    "duration": 9,
    "start_time": "2022-07-22T19:49:59.903Z"
   },
   {
    "duration": 23,
    "start_time": "2022-07-22T19:49:59.913Z"
   },
   {
    "duration": 19,
    "start_time": "2022-07-22T19:49:59.937Z"
   },
   {
    "duration": 26,
    "start_time": "2022-07-22T19:49:59.958Z"
   },
   {
    "duration": 10,
    "start_time": "2022-07-22T19:49:59.988Z"
   },
   {
    "duration": 168,
    "start_time": "2022-07-22T19:50:00.000Z"
   },
   {
    "duration": 122,
    "start_time": "2022-07-22T19:50:00.170Z"
   },
   {
    "duration": 6,
    "start_time": "2022-07-22T19:50:00.293Z"
   },
   {
    "duration": 329,
    "start_time": "2022-07-22T19:50:00.301Z"
   },
   {
    "duration": 193,
    "start_time": "2022-07-22T19:50:00.631Z"
   },
   {
    "duration": 193,
    "start_time": "2022-07-22T19:50:00.826Z"
   },
   {
    "duration": 359,
    "start_time": "2022-07-22T19:50:01.021Z"
   },
   {
    "duration": 215,
    "start_time": "2022-07-22T19:50:01.381Z"
   },
   {
    "duration": 268,
    "start_time": "2022-07-22T19:50:01.598Z"
   },
   {
    "duration": 10,
    "start_time": "2022-07-22T19:50:01.868Z"
   },
   {
    "duration": 23,
    "start_time": "2022-07-22T19:50:01.880Z"
   },
   {
    "duration": 275,
    "start_time": "2022-07-22T19:50:01.905Z"
   },
   {
    "duration": 5,
    "start_time": "2022-07-22T19:50:02.181Z"
   },
   {
    "duration": 190,
    "start_time": "2022-07-22T19:50:02.187Z"
   },
   {
    "duration": 246,
    "start_time": "2022-07-22T19:50:02.378Z"
   },
   {
    "duration": 5,
    "start_time": "2022-07-22T19:50:02.626Z"
   },
   {
    "duration": 49,
    "start_time": "2022-07-22T19:50:02.632Z"
   },
   {
    "duration": 66,
    "start_time": "2022-07-22T19:50:02.684Z"
   },
   {
    "duration": 51,
    "start_time": "2022-07-22T19:50:02.752Z"
   },
   {
    "duration": 38,
    "start_time": "2022-07-22T19:50:02.805Z"
   },
   {
    "duration": 40,
    "start_time": "2022-07-22T19:50:02.845Z"
   },
   {
    "duration": 227,
    "start_time": "2022-07-22T19:50:02.887Z"
   },
   {
    "duration": 9,
    "start_time": "2022-07-22T19:50:03.115Z"
   },
   {
    "duration": 35,
    "start_time": "2022-07-22T19:50:03.126Z"
   },
   {
    "duration": 69,
    "start_time": "2022-07-22T19:50:03.162Z"
   },
   {
    "duration": 56,
    "start_time": "2022-07-22T19:50:03.233Z"
   },
   {
    "duration": 24,
    "start_time": "2022-07-22T19:50:03.293Z"
   },
   {
    "duration": 401,
    "start_time": "2022-07-22T19:50:03.319Z"
   },
   {
    "duration": 217,
    "start_time": "2022-07-22T19:50:03.722Z"
   },
   {
    "duration": 323,
    "start_time": "2022-07-22T19:50:03.941Z"
   },
   {
    "duration": 223,
    "start_time": "2022-07-22T19:50:04.266Z"
   },
   {
    "duration": 47,
    "start_time": "2022-08-04T08:40:33.300Z"
   },
   {
    "duration": 61,
    "start_time": "2022-09-19T10:30:28.906Z"
   },
   {
    "duration": 1362,
    "start_time": "2022-09-19T10:30:51.573Z"
   },
   {
    "duration": 4,
    "start_time": "2022-09-19T10:30:52.937Z"
   },
   {
    "duration": 23,
    "start_time": "2022-09-19T10:30:52.943Z"
   },
   {
    "duration": 13,
    "start_time": "2022-09-19T10:30:52.968Z"
   },
   {
    "duration": 72,
    "start_time": "2022-09-19T10:30:52.982Z"
   },
   {
    "duration": 32,
    "start_time": "2022-09-19T10:30:53.056Z"
   },
   {
    "duration": 12,
    "start_time": "2022-09-19T10:30:53.089Z"
   },
   {
    "duration": 19,
    "start_time": "2022-09-19T10:30:53.103Z"
   },
   {
    "duration": 7,
    "start_time": "2022-09-19T10:30:53.123Z"
   },
   {
    "duration": 7,
    "start_time": "2022-09-19T10:30:53.133Z"
   },
   {
    "duration": 9,
    "start_time": "2022-09-19T10:30:53.142Z"
   },
   {
    "duration": 12,
    "start_time": "2022-09-19T10:30:53.153Z"
   },
   {
    "duration": 3,
    "start_time": "2022-09-19T10:30:53.167Z"
   },
   {
    "duration": 7,
    "start_time": "2022-09-19T10:30:53.172Z"
   },
   {
    "duration": 201,
    "start_time": "2022-09-19T10:30:53.181Z"
   },
   {
    "duration": 129,
    "start_time": "2022-09-19T10:30:53.383Z"
   },
   {
    "duration": 11,
    "start_time": "2022-09-19T10:30:53.513Z"
   },
   {
    "duration": 368,
    "start_time": "2022-09-19T10:30:53.526Z"
   },
   {
    "duration": 215,
    "start_time": "2022-09-19T10:30:53.896Z"
   },
   {
    "duration": 235,
    "start_time": "2022-09-19T10:30:54.113Z"
   },
   {
    "duration": 289,
    "start_time": "2022-09-19T10:30:54.350Z"
   },
   {
    "duration": 222,
    "start_time": "2022-09-19T10:30:54.641Z"
   },
   {
    "duration": 291,
    "start_time": "2022-09-19T10:30:54.865Z"
   },
   {
    "duration": 12,
    "start_time": "2022-09-19T10:30:55.158Z"
   },
   {
    "duration": 3,
    "start_time": "2022-09-19T10:30:55.172Z"
   },
   {
    "duration": 265,
    "start_time": "2022-09-19T10:30:55.176Z"
   },
   {
    "duration": 4,
    "start_time": "2022-09-19T10:30:55.443Z"
   },
   {
    "duration": 170,
    "start_time": "2022-09-19T10:30:55.450Z"
   },
   {
    "duration": 220,
    "start_time": "2022-09-19T10:30:55.622Z"
   },
   {
    "duration": 5,
    "start_time": "2022-09-19T10:30:55.844Z"
   },
   {
    "duration": 14,
    "start_time": "2022-09-19T10:30:55.851Z"
   },
   {
    "duration": 12,
    "start_time": "2022-09-19T10:30:55.867Z"
   },
   {
    "duration": 5,
    "start_time": "2022-09-19T10:30:55.881Z"
   },
   {
    "duration": 10,
    "start_time": "2022-09-19T10:30:55.888Z"
   },
   {
    "duration": 4,
    "start_time": "2022-09-19T10:30:55.920Z"
   },
   {
    "duration": 174,
    "start_time": "2022-09-19T10:30:55.926Z"
   },
   {
    "duration": 19,
    "start_time": "2022-09-19T10:30:56.103Z"
   },
   {
    "duration": 10,
    "start_time": "2022-09-19T10:30:56.125Z"
   },
   {
    "duration": 10,
    "start_time": "2022-09-19T10:30:56.137Z"
   },
   {
    "duration": 27,
    "start_time": "2022-09-19T10:30:56.149Z"
   },
   {
    "duration": 16,
    "start_time": "2022-09-19T10:30:56.177Z"
   },
   {
    "duration": 393,
    "start_time": "2022-09-19T10:30:56.221Z"
   },
   {
    "duration": 234,
    "start_time": "2022-09-19T10:30:56.616Z"
   },
   {
    "duration": 298,
    "start_time": "2022-09-19T10:30:56.852Z"
   },
   {
    "duration": 228,
    "start_time": "2022-09-19T10:30:57.152Z"
   }
  ],
  "kernelspec": {
   "display_name": "Python 3 (ipykernel)",
   "language": "python",
   "name": "python3"
  },
  "language_info": {
   "codemirror_mode": {
    "name": "ipython",
    "version": 3
   },
   "file_extension": ".py",
   "mimetype": "text/x-python",
   "name": "python",
   "nbconvert_exporter": "python",
   "pygments_lexer": "ipython3",
   "version": "3.9.12"
  },
  "toc": {
   "base_numbering": 1,
   "nav_menu": {},
   "number_sections": true,
   "sideBar": true,
   "skip_h1_title": true,
   "title_cell": "Table of Contents",
   "title_sidebar": "Contents",
   "toc_cell": false,
   "toc_position": {},
   "toc_section_display": true,
   "toc_window_display": false
  }
 },
 "nbformat": 4,
 "nbformat_minor": 5
}
