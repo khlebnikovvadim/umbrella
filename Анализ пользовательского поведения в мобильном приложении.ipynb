{
 "cells": [
  {
   "cell_type": "code",
   "execution_count": 52,
   "id": "79626942",
   "metadata": {},
   "outputs": [],
   "source": [
    "import pandas as pd\n",
    "import numpy as np\n",
    "from datetime import datetime as dt\n",
    "import math as mth\n",
    "import scipy.stats as st\n",
    "import re\n",
    "import warnings\n",
    "warnings.filterwarnings(action='ignore')\n",
    "from matplotlib import pyplot as plt\n",
    "import seaborn as sns\n",
    "import plotly.express as px\n",
    "%matplotlib inline\n",
    "pd.options.display.float_format = '{:.3f}'.format\n",
    "import colorama\n",
    "from colorama import Style\n",
    "from colorama import Fore"
   ]
  },
  {
   "cell_type": "markdown",
   "id": "9ae04076",
   "metadata": {},
   "source": [
    "<div style=\"border:solid green 2px; padding: 20px\">\n",
    "\n",
    "## Описание проекта\n",
    "\n",
    "Вы работаете в стартапе, который продаёт продукты питания. Нужно разобраться, как ведут себя пользователи вашего мобильного приложения. \n",
    "\n",
    "Изучите воронку продаж. Узнайте, как пользователи доходят до покупки. Сколько пользователей доходит до покупки, а сколько — «застревает» на предыдущих шагах? На каких именно?\n",
    "\n",
    "После этого исследуйте результаты A/A/B-эксперимента. Дизайнеры захотели поменять шрифты во всём приложении, а менеджеры испугались, что пользователям будет непривычно. Договорились принять решение по результатам A/A/B-теста. Пользователей разбили на 3 группы: 2 контрольные со старыми шрифтами и одну экспериментальную — с новыми. Выясните, какой шрифт лучше.\n",
    "\n",
    "Создание двух групп A вместо одной имеет определённые преимущества. Если две контрольные группы окажутся равны, вы можете быть уверены в точности проведенного тестирования. Если же между значениями A и A будут существенные различия, это поможет обнаружить факторы, которые привели к искажению результатов. Сравнение контрольных групп также помогает понять, сколько времени и данных потребуется для дальнейших тестов.\n",
    "\n",
    "В случае общей аналитики и A/A/B-эксперимента работайте с одними и теми же данными. В реальных проектах всегда идут эксперименты. Аналитики исследуют качество работы приложения по общим данным, не учитывая принадлежность пользователей к экспериментам."
   ]
  },
  {
   "cell_type": "markdown",
   "id": "b5a05def",
   "metadata": {},
   "source": [
    "## Описание данных\n",
    "\n",
    "EventName — название события;\n",
    "\n",
    "DeviceIDHash — уникальный идентификатор пользователя;\n",
    "\n",
    "EventTimestamp — время события;\n",
    "\n",
    "ExpId — номер эксперимента: 246 и 247 — контрольные группы, а 248 — экспериментальная."
   ]
  },
  {
   "cell_type": "markdown",
   "id": "f084cede",
   "metadata": {},
   "source": [
    "## Содержание\n",
    "* [Предобработка и изучение данных](#chapter1)\n",
    "* [Построение воронки событий](#chapter2)\n",
    "* [Анализ результатов A/A/B-теста](#chapter3)\n",
    "* [Общие выводы](#chapter4)"
   ]
  },
  {
   "cell_type": "markdown",
   "id": "130b5ede",
   "metadata": {},
   "source": [
    "## Предобработка и изучение данных  <a class =\"anchor\" id=\"chapter1\"></a>"
   ]
  },
  {
   "cell_type": "code",
   "execution_count": 2,
   "id": "5f70fbf0",
   "metadata": {},
   "outputs": [],
   "source": [
    "try:\n",
    "    df=pd.read_csv('/Users/vadimhlebnikov/Downloads/logs_exp.csv',sep='\\t')\n",
    "\n",
    "except:\n",
    "    df=pd.read_csv('/datasets/logs_exp.csv',sep='\\t')"
   ]
  },
  {
   "cell_type": "code",
   "execution_count": 3,
   "id": "d962a385",
   "metadata": {},
   "outputs": [
    {
     "name": "stdout",
     "output_type": "stream",
     "text": [
      "<class 'pandas.core.frame.DataFrame'>\n",
      "RangeIndex: 244126 entries, 0 to 244125\n",
      "Data columns (total 4 columns):\n",
      " #   Column          Non-Null Count   Dtype \n",
      "---  ------          --------------   ----- \n",
      " 0   EventName       244126 non-null  object\n",
      " 1   DeviceIDHash    244126 non-null  int64 \n",
      " 2   EventTimestamp  244126 non-null  int64 \n",
      " 3   ExpId           244126 non-null  int64 \n",
      "dtypes: int64(3), object(1)\n",
      "memory usage: 7.5+ MB\n"
     ]
    }
   ],
   "source": [
    "df.info()"
   ]
  },
  {
   "cell_type": "code",
   "execution_count": 4,
   "id": "5a40cf69",
   "metadata": {
    "scrolled": false
   },
   "outputs": [
    {
     "data": {
      "text/plain": [
       "EventName         0\n",
       "DeviceIDHash      0\n",
       "EventTimestamp    0\n",
       "ExpId             0\n",
       "dtype: int64"
      ]
     },
     "execution_count": 4,
     "metadata": {},
     "output_type": "execute_result"
    }
   ],
   "source": [
    "#пропусков нет\n",
    "df.isna().sum()"
   ]
  },
  {
   "cell_type": "code",
   "execution_count": 5,
   "id": "a3d388f6",
   "metadata": {},
   "outputs": [
    {
     "data": {
      "text/plain": [
       "413"
      ]
     },
     "execution_count": 5,
     "metadata": {},
     "output_type": "execute_result"
    }
   ],
   "source": [
    "#дубликаты есть\n",
    "df.duplicated().sum()"
   ]
  },
  {
   "cell_type": "code",
   "execution_count": 6,
   "id": "4cb1dc42",
   "metadata": {},
   "outputs": [],
   "source": [
    "#удаляем дубликаты\n",
    "df = df.drop_duplicates()"
   ]
  },
  {
   "cell_type": "code",
   "execution_count": 7,
   "id": "2dcef1e1",
   "metadata": {},
   "outputs": [],
   "source": [
    "#приведем названия колонок с \"змеиному\" формату\n",
    "df.columns = ['event_name','device_id_hash','event_timestamp','exp_id']"
   ]
  },
  {
   "cell_type": "code",
   "execution_count": 8,
   "id": "71d478ec",
   "metadata": {},
   "outputs": [
    {
     "data": {
      "text/plain": [
       "array(['MainScreenAppear', 'PaymentScreenSuccessful', 'CartScreenAppear',\n",
       "       'OffersScreenAppear', 'Tutorial'], dtype=object)"
      ]
     },
     "execution_count": 8,
     "metadata": {},
     "output_type": "execute_result"
    }
   ],
   "source": [
    "#неявных дубликатов или некорректных значений в столбце event_name нет\n",
    "df['event_name'].unique()"
   ]
  },
  {
   "cell_type": "code",
   "execution_count": 9,
   "id": "e0116f12",
   "metadata": {},
   "outputs": [
    {
     "data": {
      "text/plain": [
       "array([246, 248, 247])"
      ]
     },
     "execution_count": 9,
     "metadata": {},
     "output_type": "execute_result"
    }
   ],
   "source": [
    "#неявных дубликатов или некорректных значений в столбце exp_id нет\n",
    "df['exp_id'].unique()"
   ]
  },
  {
   "cell_type": "code",
   "execution_count": 10,
   "id": "0623107b",
   "metadata": {},
   "outputs": [
    {
     "data": {
      "text/html": [
       "<div>\n",
       "<style scoped>\n",
       "    .dataframe tbody tr th:only-of-type {\n",
       "        vertical-align: middle;\n",
       "    }\n",
       "\n",
       "    .dataframe tbody tr th {\n",
       "        vertical-align: top;\n",
       "    }\n",
       "\n",
       "    .dataframe thead th {\n",
       "        text-align: right;\n",
       "    }\n",
       "</style>\n",
       "<table border=\"1\" class=\"dataframe\">\n",
       "  <thead>\n",
       "    <tr style=\"text-align: right;\">\n",
       "      <th></th>\n",
       "      <th>event_name</th>\n",
       "      <th>device_id_hash</th>\n",
       "      <th>event_timestamp</th>\n",
       "      <th>exp_id</th>\n",
       "      <th>date_time</th>\n",
       "      <th>date</th>\n",
       "    </tr>\n",
       "  </thead>\n",
       "  <tbody>\n",
       "    <tr>\n",
       "      <th>0</th>\n",
       "      <td>MainScreenAppear</td>\n",
       "      <td>4575588528974610257</td>\n",
       "      <td>1564029816</td>\n",
       "      <td>246</td>\n",
       "      <td>2019-07-25 04:43:36</td>\n",
       "      <td>2019-07-25</td>\n",
       "    </tr>\n",
       "    <tr>\n",
       "      <th>1</th>\n",
       "      <td>MainScreenAppear</td>\n",
       "      <td>7416695313311560658</td>\n",
       "      <td>1564053102</td>\n",
       "      <td>246</td>\n",
       "      <td>2019-07-25 11:11:42</td>\n",
       "      <td>2019-07-25</td>\n",
       "    </tr>\n",
       "    <tr>\n",
       "      <th>2</th>\n",
       "      <td>PaymentScreenSuccessful</td>\n",
       "      <td>3518123091307005509</td>\n",
       "      <td>1564054127</td>\n",
       "      <td>248</td>\n",
       "      <td>2019-07-25 11:28:47</td>\n",
       "      <td>2019-07-25</td>\n",
       "    </tr>\n",
       "    <tr>\n",
       "      <th>3</th>\n",
       "      <td>CartScreenAppear</td>\n",
       "      <td>3518123091307005509</td>\n",
       "      <td>1564054127</td>\n",
       "      <td>248</td>\n",
       "      <td>2019-07-25 11:28:47</td>\n",
       "      <td>2019-07-25</td>\n",
       "    </tr>\n",
       "    <tr>\n",
       "      <th>4</th>\n",
       "      <td>PaymentScreenSuccessful</td>\n",
       "      <td>6217807653094995999</td>\n",
       "      <td>1564055322</td>\n",
       "      <td>248</td>\n",
       "      <td>2019-07-25 11:48:42</td>\n",
       "      <td>2019-07-25</td>\n",
       "    </tr>\n",
       "    <tr>\n",
       "      <th>...</th>\n",
       "      <td>...</td>\n",
       "      <td>...</td>\n",
       "      <td>...</td>\n",
       "      <td>...</td>\n",
       "      <td>...</td>\n",
       "      <td>...</td>\n",
       "    </tr>\n",
       "    <tr>\n",
       "      <th>244121</th>\n",
       "      <td>MainScreenAppear</td>\n",
       "      <td>4599628364049201812</td>\n",
       "      <td>1565212345</td>\n",
       "      <td>247</td>\n",
       "      <td>2019-08-07 21:12:25</td>\n",
       "      <td>2019-08-07</td>\n",
       "    </tr>\n",
       "    <tr>\n",
       "      <th>244122</th>\n",
       "      <td>MainScreenAppear</td>\n",
       "      <td>5849806612437486590</td>\n",
       "      <td>1565212439</td>\n",
       "      <td>246</td>\n",
       "      <td>2019-08-07 21:13:59</td>\n",
       "      <td>2019-08-07</td>\n",
       "    </tr>\n",
       "    <tr>\n",
       "      <th>244123</th>\n",
       "      <td>MainScreenAppear</td>\n",
       "      <td>5746969938801999050</td>\n",
       "      <td>1565212483</td>\n",
       "      <td>246</td>\n",
       "      <td>2019-08-07 21:14:43</td>\n",
       "      <td>2019-08-07</td>\n",
       "    </tr>\n",
       "    <tr>\n",
       "      <th>244124</th>\n",
       "      <td>MainScreenAppear</td>\n",
       "      <td>5746969938801999050</td>\n",
       "      <td>1565212498</td>\n",
       "      <td>246</td>\n",
       "      <td>2019-08-07 21:14:58</td>\n",
       "      <td>2019-08-07</td>\n",
       "    </tr>\n",
       "    <tr>\n",
       "      <th>244125</th>\n",
       "      <td>OffersScreenAppear</td>\n",
       "      <td>5746969938801999050</td>\n",
       "      <td>1565212517</td>\n",
       "      <td>246</td>\n",
       "      <td>2019-08-07 21:15:17</td>\n",
       "      <td>2019-08-07</td>\n",
       "    </tr>\n",
       "  </tbody>\n",
       "</table>\n",
       "<p>243713 rows × 6 columns</p>\n",
       "</div>"
      ],
      "text/plain": [
       "                     event_name       device_id_hash  event_timestamp  exp_id  \\\n",
       "0              MainScreenAppear  4575588528974610257       1564029816     246   \n",
       "1              MainScreenAppear  7416695313311560658       1564053102     246   \n",
       "2       PaymentScreenSuccessful  3518123091307005509       1564054127     248   \n",
       "3              CartScreenAppear  3518123091307005509       1564054127     248   \n",
       "4       PaymentScreenSuccessful  6217807653094995999       1564055322     248   \n",
       "...                         ...                  ...              ...     ...   \n",
       "244121         MainScreenAppear  4599628364049201812       1565212345     247   \n",
       "244122         MainScreenAppear  5849806612437486590       1565212439     246   \n",
       "244123         MainScreenAppear  5746969938801999050       1565212483     246   \n",
       "244124         MainScreenAppear  5746969938801999050       1565212498     246   \n",
       "244125       OffersScreenAppear  5746969938801999050       1565212517     246   \n",
       "\n",
       "                 date_time        date  \n",
       "0      2019-07-25 04:43:36  2019-07-25  \n",
       "1      2019-07-25 11:11:42  2019-07-25  \n",
       "2      2019-07-25 11:28:47  2019-07-25  \n",
       "3      2019-07-25 11:28:47  2019-07-25  \n",
       "4      2019-07-25 11:48:42  2019-07-25  \n",
       "...                    ...         ...  \n",
       "244121 2019-08-07 21:12:25  2019-08-07  \n",
       "244122 2019-08-07 21:13:59  2019-08-07  \n",
       "244123 2019-08-07 21:14:43  2019-08-07  \n",
       "244124 2019-08-07 21:14:58  2019-08-07  \n",
       "244125 2019-08-07 21:15:17  2019-08-07  \n",
       "\n",
       "[243713 rows x 6 columns]"
      ]
     },
     "execution_count": 10,
     "metadata": {},
     "output_type": "execute_result"
    }
   ],
   "source": [
    "#создадим столбец с датой и временем и датой\n",
    "df['date_time'] = pd.to_datetime(df['event_timestamp'],unit='s')\n",
    "df['date'] = df['date_time'].dt.date\n",
    "df"
   ]
  },
  {
   "cell_type": "code",
   "execution_count": 11,
   "id": "005ebad5",
   "metadata": {
    "scrolled": true
   },
   "outputs": [
    {
     "name": "stdout",
     "output_type": "stream",
     "text": [
      "Количество пересечений по пользователям меду между 246 и 247 группами:  0\n",
      "Количество пересечений по пользователям меду между 247 и 248 группами:  0\n",
      "Количество пересечений по пользователям меду между 246 и 248 группами:  0\n"
     ]
    }
   ],
   "source": [
    "#Проверим есть ли в двух группах одни и те же пользователи\n",
    "\n",
    "g246 = df.query('exp_id == 246')\n",
    "g247 = df.query('exp_id == 247')\n",
    "g248 = df.query('exp_id == 248')\n",
    "\n",
    "print('Количество пересечений по пользователям меду между 246 и 247 группами: ', g246['device_id_hash'].isin(g247['device_id_hash']).sum())\n",
    "print('Количество пересечений по пользователям меду между 247 и 248 группами: ', g247['device_id_hash'].isin(g248['device_id_hash']).sum())\n",
    "print('Количество пересечений по пользователям меду между 246 и 248 группами: ', g246['device_id_hash'].isin(g248['device_id_hash']).sum())"
   ]
  },
  {
   "cell_type": "markdown",
   "id": "aecbf199",
   "metadata": {},
   "source": [
    "Пересечений по id пользователей между группами не выявлено. Разбиение по группам в этой части проведено корректно."
   ]
  },
  {
   "cell_type": "code",
   "execution_count": 12,
   "id": "f74301e7",
   "metadata": {
    "scrolled": true
   },
   "outputs": [
    {
     "name": "stdout",
     "output_type": "stream",
     "text": [
      "В логе отражается 5 видов событий. В общей сложности зафиксировано 243713 событий.\n"
     ]
    }
   ],
   "source": [
    "# Рассмотрим данные лога\n",
    "len_df = len(df)\n",
    "events = df['event_name'].nunique()\n",
    "print(f'В логе отражается {events} видов событий. В общей сложности зафиксировано {len(df)} событий.') "
   ]
  },
  {
   "cell_type": "code",
   "execution_count": 13,
   "id": "b4ebe543",
   "metadata": {},
   "outputs": [
    {
     "name": "stdout",
     "output_type": "stream",
     "text": [
      "В логе содержится информация о 7551 пользователях.\n"
     ]
    }
   ],
   "source": [
    "#В логе отражается пять видов событий\n",
    "unique_users = df['device_id_hash'].nunique()\n",
    "print(f'В логе содержится информация о {unique_users} пользователях.') \n"
   ]
  },
  {
   "cell_type": "code",
   "execution_count": 14,
   "id": "ac1c7d81",
   "metadata": {
    "scrolled": true
   },
   "outputs": [
    {
     "name": "stdout",
     "output_type": "stream",
     "text": [
      "В среднем на одного пользователя приходится 32.3 событий.\n",
      "Медианное значение: 20.0 событий.\n"
     ]
    }
   ],
   "source": [
    "mean_event_number = df.groupby('device_id_hash').count()['event_name'].mean()\n",
    "median_event_number = df.groupby('device_id_hash').count()['event_name'].median()\n",
    "print(f'В среднем на одного пользователя приходится {mean_event_number:.1f} событий.') \n",
    "print(f'Медианное значение: {median_event_number:.1f} событий.')"
   ]
  },
  {
   "cell_type": "code",
   "execution_count": 15,
   "id": "f54c12fd",
   "metadata": {},
   "outputs": [
    {
     "name": "stdout",
     "output_type": "stream",
     "text": [
      "В датафрейме приводятся данные во временном промежутке с 2019-07-25 04:43:36 до 2019-08-07 21:15:17.\n"
     ]
    }
   ],
   "source": [
    "min_date = df['date_time'].min()\n",
    "max_date = df['date_time'].max()\n",
    "print(f'В датафрейме приводятся данные во временном промежутке с {min_date} до {max_date}.')"
   ]
  },
  {
   "cell_type": "code",
   "execution_count": 16,
   "id": "38a01101",
   "metadata": {},
   "outputs": [
    {
     "data": {
      "image/png": "[encoded data removed]",
      "text/plain": [
       "<Figure size 1152x576 with 1 Axes>"
      ]
     },
     "metadata": {
      "needs_background": "light"
     },
     "output_type": "display_data"
    }
   ],
   "source": [
    "plt.figure(figsize=(16,8))\n",
    "sns.set_style('darkgrid')\n",
    "ax = sns.histplot(df['date_time'],bins=200)\n",
    "plt.title('Распределение числа событий по времени')\n",
    "plt.show()"
   ]
  },
  {
   "cell_type": "code",
   "execution_count": 17,
   "id": "168ab4a7",
   "metadata": {},
   "outputs": [
    {
     "data": {
      "text/plain": [
       "date\n",
       "2019-07-25        9\n",
       "2019-07-26       31\n",
       "2019-07-27       55\n",
       "2019-07-28      105\n",
       "2019-07-29      184\n",
       "2019-07-30      412\n",
       "2019-07-31     2030\n",
       "2019-08-01    36141\n",
       "2019-08-02    35554\n",
       "2019-08-03    33282\n",
       "2019-08-04    32968\n",
       "2019-08-05    36058\n",
       "2019-08-06    35788\n",
       "2019-08-07    31096\n",
       "Name: event_name, dtype: int64"
      ]
     },
     "execution_count": 17,
     "metadata": {},
     "output_type": "execute_result"
    }
   ],
   "source": [
    "df.groupby('date').count()['event_name'].head(20)"
   ]
  },
  {
   "cell_type": "markdown",
   "id": "edb4001f",
   "metadata": {},
   "source": [
    "Данные до 1 августа явно являются неполными. Их необходимо убрать из датафрейма."
   ]
  },
  {
   "cell_type": "code",
   "execution_count": 18,
   "id": "44e4be83",
   "metadata": {},
   "outputs": [],
   "source": [
    "#Отрезаем дынные до 1 августа\n",
    "df = df.query(\"date_time >= '2019-08-1'\")"
   ]
  },
  {
   "cell_type": "code",
   "execution_count": 19,
   "id": "1fe064a4",
   "metadata": {},
   "outputs": [
    {
     "name": "stdout",
     "output_type": "stream",
     "text": [
      "После отрезания неполных данных было утрачено 2826 записей о событиях.\n",
      "В относительном выражении 0.01160 объема записей о событиях.\n",
      "После отрезания неполных данных были утрачены данные 17 пользователей.\n",
      "В относительном выражении 0.00225 от общего объема пользователей.\n"
     ]
    }
   ],
   "source": [
    "#Считаем потери\n",
    "new_len_df = len(df)\n",
    "new_unique_users = df['device_id_hash'].nunique()\n",
    "lost_data_events = len_df-new_len_df\n",
    "lost_data_events_ratio = (len_df-new_len_df)/len_df\n",
    "lost_data_users = unique_users - new_unique_users\n",
    "lost_data_users_ratio = (unique_users - new_unique_users) / unique_users\n",
    "print(f'После отрезания неполных данных было утрачено {lost_data_events} записей о событиях.')\n",
    "print(f'В относительном выражении {lost_data_events_ratio:.5f} объема записей о событиях.')\n",
    "print(f'После отрезания неполных данных были утрачены данные {lost_data_users} пользователей.')\n",
    "print(f'В относительном выражении {lost_data_users_ratio:.5f} от общего объема пользователей.')"
   ]
  },
  {
   "cell_type": "code",
   "execution_count": 34,
   "id": "15ebd24f",
   "metadata": {},
   "outputs": [
    {
     "data": {
      "image/png": "[encoded data removed]",
      "text/plain": [
       "<Figure size 1152x576 with 1 Axes>"
      ]
     },
     "metadata": {},
     "output_type": "display_data"
    }
   ],
   "source": [
    "#Построим диаграмму распределения пользователей по группам\n",
    "exp_groups = df.groupby('exp_id').nunique()['device_id_hash']\n",
    "plt.figure(figsize=(16,8))\n",
    "labels2 = ['246', '247','248']\n",
    "colors = sns.color_palette()\n",
    "ax=plt.pie(exp_groups, labels = labels2, colors = colors, autopct='%.1f%%',wedgeprops=dict(width=0.7))\n",
    "plt.title('Распределение пользователей по группам')\n",
    "plt.show()"
   ]
  },
  {
   "cell_type": "markdown",
   "id": "af10484c",
   "metadata": {},
   "source": [
    "Данные не содержат пропусков. В процессе предобработки был удален сравнительно небольшой объем явных дубликатов. Неявных дубликатов не выявлено. Данные очищены от ранних, предположительно, случайных значений до 1 августа 2019 года. Потеряно порядка 1,2% записей, что является в данном случае допустимым. \n",
    "\n",
    "В логе отражается 5 видов событий. В общей сложности зафиксировано 243713 событий. В логе содержится информация о 7551 пользователях. **В среднем на одного пользователя приходится 31.9 событий. Медианное значение: 19.0 событий**.\n",
    "\n",
    "**В наборе остались записи из всех трех групп теста в примерно равных пропорциях**. "
   ]
  },
  {
   "cell_type": "markdown",
   "id": "3067c1e9",
   "metadata": {},
   "source": [
    "## Построение воронки событий  <a class =\"anchor\" id=\"chapter2\"></a>"
   ]
  },
  {
   "cell_type": "code",
   "execution_count": 21,
   "id": "b0c10d59",
   "metadata": {},
   "outputs": [
    {
     "data": {
      "text/html": [
       "<div>\n",
       "<style scoped>\n",
       "    .dataframe tbody tr th:only-of-type {\n",
       "        vertical-align: middle;\n",
       "    }\n",
       "\n",
       "    .dataframe tbody tr th {\n",
       "        vertical-align: top;\n",
       "    }\n",
       "\n",
       "    .dataframe thead th {\n",
       "        text-align: right;\n",
       "    }\n",
       "</style>\n",
       "<table border=\"1\" class=\"dataframe\">\n",
       "  <thead>\n",
       "    <tr style=\"text-align: right;\">\n",
       "      <th></th>\n",
       "      <th>event_name</th>\n",
       "      <th>device_id_hash</th>\n",
       "    </tr>\n",
       "  </thead>\n",
       "  <tbody>\n",
       "    <tr>\n",
       "      <th>1</th>\n",
       "      <td>MainScreenAppear</td>\n",
       "      <td>117328</td>\n",
       "    </tr>\n",
       "    <tr>\n",
       "      <th>2</th>\n",
       "      <td>OffersScreenAppear</td>\n",
       "      <td>46333</td>\n",
       "    </tr>\n",
       "    <tr>\n",
       "      <th>0</th>\n",
       "      <td>CartScreenAppear</td>\n",
       "      <td>42303</td>\n",
       "    </tr>\n",
       "    <tr>\n",
       "      <th>3</th>\n",
       "      <td>PaymentScreenSuccessful</td>\n",
       "      <td>33918</td>\n",
       "    </tr>\n",
       "    <tr>\n",
       "      <th>4</th>\n",
       "      <td>Tutorial</td>\n",
       "      <td>1005</td>\n",
       "    </tr>\n",
       "  </tbody>\n",
       "</table>\n",
       "</div>"
      ],
      "text/plain": [
       "                event_name  device_id_hash\n",
       "1         MainScreenAppear          117328\n",
       "2       OffersScreenAppear           46333\n",
       "0         CartScreenAppear           42303\n",
       "3  PaymentScreenSuccessful           33918\n",
       "4                 Tutorial            1005"
      ]
     },
     "execution_count": 21,
     "metadata": {},
     "output_type": "execute_result"
    }
   ],
   "source": [
    "#строим воронку событий и выявляем встречаемость событий\n",
    "funnel = (\n",
    "df.groupby('event_name').count()['device_id_hash']\n",
    "    .reset_index()\n",
    "    .sort_values('device_id_hash', ascending = False)\n",
    ")\n",
    "funnel"
   ]
  },
  {
   "cell_type": "code",
   "execution_count": 36,
   "id": "35e35d6c",
   "metadata": {},
   "outputs": [
    {
     "data": {
      "text/html": [
       "<div>\n",
       "<style scoped>\n",
       "    .dataframe tbody tr th:only-of-type {\n",
       "        vertical-align: middle;\n",
       "    }\n",
       "\n",
       "    .dataframe tbody tr th {\n",
       "        vertical-align: top;\n",
       "    }\n",
       "\n",
       "    .dataframe thead th {\n",
       "        text-align: right;\n",
       "    }\n",
       "</style>\n",
       "<table border=\"1\" class=\"dataframe\">\n",
       "  <thead>\n",
       "    <tr style=\"text-align: right;\">\n",
       "      <th></th>\n",
       "      <th>event_name</th>\n",
       "      <th>device_id_hash</th>\n",
       "    </tr>\n",
       "  </thead>\n",
       "  <tbody>\n",
       "    <tr>\n",
       "      <th>1</th>\n",
       "      <td>MainScreenAppear</td>\n",
       "      <td>7419</td>\n",
       "    </tr>\n",
       "    <tr>\n",
       "      <th>2</th>\n",
       "      <td>OffersScreenAppear</td>\n",
       "      <td>4593</td>\n",
       "    </tr>\n",
       "    <tr>\n",
       "      <th>0</th>\n",
       "      <td>CartScreenAppear</td>\n",
       "      <td>3734</td>\n",
       "    </tr>\n",
       "    <tr>\n",
       "      <th>3</th>\n",
       "      <td>PaymentScreenSuccessful</td>\n",
       "      <td>3539</td>\n",
       "    </tr>\n",
       "  </tbody>\n",
       "</table>\n",
       "</div>"
      ],
      "text/plain": [
       "                event_name  device_id_hash\n",
       "1         MainScreenAppear            7419\n",
       "2       OffersScreenAppear            4593\n",
       "0         CartScreenAppear            3734\n",
       "3  PaymentScreenSuccessful            3539"
      ]
     },
     "execution_count": 36,
     "metadata": {},
     "output_type": "execute_result"
    }
   ],
   "source": [
    "funnel_event = (\n",
    "df.groupby('event_name').nunique()['device_id_hash']\n",
    "    .reset_index()\n",
    "    .sort_values('device_id_hash', ascending = False)\n",
    ")\n",
    "funnel_event"
   ]
  },
  {
   "cell_type": "code",
   "execution_count": 23,
   "id": "1798938a",
   "metadata": {},
   "outputs": [
    {
     "data": {
      "text/html": [
       "<div>\n",
       "<style scoped>\n",
       "    .dataframe tbody tr th:only-of-type {\n",
       "        vertical-align: middle;\n",
       "    }\n",
       "\n",
       "    .dataframe tbody tr th {\n",
       "        vertical-align: top;\n",
       "    }\n",
       "\n",
       "    .dataframe thead th {\n",
       "        text-align: right;\n",
       "    }\n",
       "</style>\n",
       "<table border=\"1\" class=\"dataframe\">\n",
       "  <thead>\n",
       "    <tr style=\"text-align: right;\">\n",
       "      <th></th>\n",
       "      <th>event_name</th>\n",
       "      <th>device_id_hash</th>\n",
       "      <th>share</th>\n",
       "    </tr>\n",
       "  </thead>\n",
       "  <tbody>\n",
       "    <tr>\n",
       "      <th>1</th>\n",
       "      <td>MainScreenAppear</td>\n",
       "      <td>7419</td>\n",
       "      <td>0.985</td>\n",
       "    </tr>\n",
       "    <tr>\n",
       "      <th>2</th>\n",
       "      <td>OffersScreenAppear</td>\n",
       "      <td>4593</td>\n",
       "      <td>0.610</td>\n",
       "    </tr>\n",
       "    <tr>\n",
       "      <th>0</th>\n",
       "      <td>CartScreenAppear</td>\n",
       "      <td>3734</td>\n",
       "      <td>0.496</td>\n",
       "    </tr>\n",
       "    <tr>\n",
       "      <th>3</th>\n",
       "      <td>PaymentScreenSuccessful</td>\n",
       "      <td>3539</td>\n",
       "      <td>0.470</td>\n",
       "    </tr>\n",
       "    <tr>\n",
       "      <th>4</th>\n",
       "      <td>Tutorial</td>\n",
       "      <td>840</td>\n",
       "      <td>0.111</td>\n",
       "    </tr>\n",
       "  </tbody>\n",
       "</table>\n",
       "</div>"
      ],
      "text/plain": [
       "                event_name  device_id_hash  share\n",
       "1         MainScreenAppear            7419  0.985\n",
       "2       OffersScreenAppear            4593  0.610\n",
       "0         CartScreenAppear            3734  0.496\n",
       "3  PaymentScreenSuccessful            3539  0.470\n",
       "4                 Tutorial             840  0.111"
      ]
     },
     "execution_count": 23,
     "metadata": {},
     "output_type": "execute_result"
    }
   ],
   "source": [
    "#добавляем долю от всех пользователей, совершивших событие хотя бы раз\n",
    "funnel_event['share'] = funnel_event['device_id_hash'] / df['device_id_hash'].nunique()\n",
    "funnel_event"
   ]
  },
  {
   "cell_type": "code",
   "execution_count": null,
   "id": "506d209e",
   "metadata": {},
   "outputs": [],
   "source": []
  },
  {
   "cell_type": "markdown",
   "id": "bdf7bc03",
   "metadata": {},
   "source": [
    "Судя по воронке событий, они происходят в следующем порядке: MainScreenAppear, OffersScreenAppear, CartScreenAppear, PaymentScreenSuccessful. Событие Tutorial выглядит лишним в этой воронке. Его можно исключить из анализа.\n",
    "    "
   ]
  },
  {
   "cell_type": "code",
   "execution_count": 24,
   "id": "3f122b37",
   "metadata": {},
   "outputs": [],
   "source": [
    "funnel_event = funnel_event.query('event_name != \"Tutorial\"')\n",
    "df = df.query('event_name != \"Tutorial\"')"
   ]
  },
  {
   "cell_type": "code",
   "execution_count": 51,
   "id": "0a1709fe",
   "metadata": {},
   "outputs": [
    {
     "data": {
      "application/vnd.plotly.v1+json": {
       "config": {
        "plotlyServerURL": "https://plot.ly"
       },
       "data": [
        {
         "hovertemplate": "device_id_hash=%{x}<br>event_name=%{y}<extra></extra>",
         "legendgroup": "",
         "marker": {
          "color": "#636efa"
         },
         "name": "",
         "orientation": "h",
         "showlegend": false,
         "type": "funnel",
         "x": [
          7419,
          4593,
          3734,
          3539
         ],
         "xaxis": "x",
         "y": [
          "MainScreenAppear",
          "OffersScreenAppear",
          "CartScreenAppear",
          "PaymentScreenSuccessful"
         ],
         "yaxis": "y"
        }
       ],
       "layout": {
        "legend": {
         "tracegroupgap": 0
        },
        "template": {
         "data": {
          "bar": [
           {
            "error_x": {
             "color": "#2a3f5f"
            },
            "error_y": {
             "color": "#2a3f5f"
            },
            "marker": {
             "line": {
              "color": "#E5ECF6",
              "width": 0.5
             },
             "pattern": {
              "fillmode": "overlay",
              "size": 10,
              "solidity": 0.2
             }
            },
            "type": "bar"
           }
          ],
          "barpolar": [
           {
            "marker": {
             "line": {
              "color": "#E5ECF6",
              "width": 0.5
             },
             "pattern": {
              "fillmode": "overlay",
              "size": 10,
              "solidity": 0.2
             }
            },
            "type": "barpolar"
           }
          ],
          "carpet": [
           {
            "aaxis": {
             "endlinecolor": "#2a3f5f",
             "gridcolor": "white",
             "linecolor": "white",
             "minorgridcolor": "white",
             "startlinecolor": "#2a3f5f"
            },
            "baxis": {
             "endlinecolor": "#2a3f5f",
             "gridcolor": "white",
             "linecolor": "white",
             "minorgridcolor": "white",
             "startlinecolor": "#2a3f5f"
            },
            "type": "carpet"
           }
          ],
          "choropleth": [
           {
            "colorbar": {
             "outlinewidth": 0,
             "ticks": ""
            },
            "type": "choropleth"
           }
          ],
          "contour": [
           {
            "colorbar": {
             "outlinewidth": 0,
             "ticks": ""
            },
            "colorscale": [
             [
              0,
              "#0d0887"
             ],
             [
              0.1111111111111111,
              "#46039f"
             ],
             [
              0.2222222222222222,
              "#7201a8"
             ],
             [
              0.3333333333333333,
              "#9c179e"
             ],
             [
              0.4444444444444444,
              "#bd3786"
             ],
             [
              0.5555555555555556,
              "#d8576b"
             ],
             [
              0.6666666666666666,
              "#ed7953"
             ],
             [
              0.7777777777777778,
              "#fb9f3a"
             ],
             [
              0.8888888888888888,
              "#fdca26"
             ],
             [
              1,
              "#f0f921"
             ]
            ],
            "type": "contour"
           }
          ],
          "contourcarpet": [
           {
            "colorbar": {
             "outlinewidth": 0,
             "ticks": ""
            },
            "type": "contourcarpet"
           }
          ],
          "heatmap": [
           {
            "colorbar": {
             "outlinewidth": 0,
             "ticks": ""
            },
            "colorscale": [
             [
              0,
              "#0d0887"
             ],
             [
              0.1111111111111111,
              "#46039f"
             ],
             [
              0.2222222222222222,
              "#7201a8"
             ],
             [
              0.3333333333333333,
              "#9c179e"
             ],
             [
              0.4444444444444444,
              "#bd3786"
             ],
             [
              0.5555555555555556,
              "#d8576b"
             ],
             [
              0.6666666666666666,
              "#ed7953"
             ],
             [
              0.7777777777777778,
              "#fb9f3a"
             ],
             [
              0.8888888888888888,
              "#fdca26"
             ],
             [
              1,
              "#f0f921"
             ]
            ],
            "type": "heatmap"
           }
          ],
          "heatmapgl": [
           {
            "colorbar": {
             "outlinewidth": 0,
             "ticks": ""
            },
            "colorscale": [
             [
              0,
              "#0d0887"
             ],
             [
              0.1111111111111111,
              "#46039f"
             ],
             [
              0.2222222222222222,
              "#7201a8"
             ],
             [
              0.3333333333333333,
              "#9c179e"
             ],
             [
              0.4444444444444444,
              "#bd3786"
             ],
             [
              0.5555555555555556,
              "#d8576b"
             ],
             [
              0.6666666666666666,
              "#ed7953"
             ],
             [
              0.7777777777777778,
              "#fb9f3a"
             ],
             [
              0.8888888888888888,
              "#fdca26"
             ],
             [
              1,
              "#f0f921"
             ]
            ],
            "type": "heatmapgl"
           }
          ],
          "histogram": [
           {
            "marker": {
             "pattern": {
              "fillmode": "overlay",
              "size": 10,
              "solidity": 0.2
             }
            },
            "type": "histogram"
           }
          ],
          "histogram2d": [
           {
            "colorbar": {
             "outlinewidth": 0,
             "ticks": ""
            },
            "colorscale": [
             [
              0,
              "#0d0887"
             ],
             [
              0.1111111111111111,
              "#46039f"
             ],
             [
              0.2222222222222222,
              "#7201a8"
             ],
             [
              0.3333333333333333,
              "#9c179e"
             ],
             [
              0.4444444444444444,
              "#bd3786"
             ],
             [
              0.5555555555555556,
              "#d8576b"
             ],
             [
              0.6666666666666666,
              "#ed7953"
             ],
             [
              0.7777777777777778,
              "#fb9f3a"
             ],
             [
              0.8888888888888888,
              "#fdca26"
             ],
             [
              1,
              "#f0f921"
             ]
            ],
            "type": "histogram2d"
           }
          ],
          "histogram2dcontour": [
           {
            "colorbar": {
             "outlinewidth": 0,
             "ticks": ""
            },
            "colorscale": [
             [
              0,
              "#0d0887"
             ],
             [
              0.1111111111111111,
              "#46039f"
             ],
             [
              0.2222222222222222,
              "#7201a8"
             ],
             [
              0.3333333333333333,
              "#9c179e"
             ],
             [
              0.4444444444444444,
              "#bd3786"
             ],
             [
              0.5555555555555556,
              "#d8576b"
             ],
             [
              0.6666666666666666,
              "#ed7953"
             ],
             [
              0.7777777777777778,
              "#fb9f3a"
             ],
             [
              0.8888888888888888,
              "#fdca26"
             ],
             [
              1,
              "#f0f921"
             ]
            ],
            "type": "histogram2dcontour"
           }
          ],
          "mesh3d": [
           {
            "colorbar": {
             "outlinewidth": 0,
             "ticks": ""
            },
            "type": "mesh3d"
           }
          ],
          "parcoords": [
           {
            "line": {
             "colorbar": {
              "outlinewidth": 0,
              "ticks": ""
             }
            },
            "type": "parcoords"
           }
          ],
          "pie": [
           {
            "automargin": true,
            "type": "pie"
           }
          ],
          "scatter": [
           {
            "fillpattern": {
             "fillmode": "overlay",
             "size": 10,
             "solidity": 0.2
            },
            "type": "scatter"
           }
          ],
          "scatter3d": [
           {
            "line": {
             "colorbar": {
              "outlinewidth": 0,
              "ticks": ""
             }
            },
            "marker": {
             "colorbar": {
              "outlinewidth": 0,
              "ticks": ""
             }
            },
            "type": "scatter3d"
           }
          ],
          "scattercarpet": [
           {
            "marker": {
             "colorbar": {
              "outlinewidth": 0,
              "ticks": ""
             }
            },
            "type": "scattercarpet"
           }
          ],
          "scattergeo": [
           {
            "marker": {
             "colorbar": {
              "outlinewidth": 0,
              "ticks": ""
             }
            },
            "type": "scattergeo"
           }
          ],
          "scattergl": [
           {
            "marker": {
             "colorbar": {
              "outlinewidth": 0,
              "ticks": ""
             }
            },
            "type": "scattergl"
           }
          ],
          "scattermapbox": [
           {
            "marker": {
             "colorbar": {
              "outlinewidth": 0,
              "ticks": ""
             }
            },
            "type": "scattermapbox"
           }
          ],
          "scatterpolar": [
           {
            "marker": {
             "colorbar": {
              "outlinewidth": 0,
              "ticks": ""
             }
            },
            "type": "scatterpolar"
           }
          ],
          "scatterpolargl": [
           {
            "marker": {
             "colorbar": {
              "outlinewidth": 0,
              "ticks": ""
             }
            },
            "type": "scatterpolargl"
           }
          ],
          "scatterternary": [
           {
            "marker": {
             "colorbar": {
              "outlinewidth": 0,
              "ticks": ""
             }
            },
            "type": "scatterternary"
           }
          ],
          "surface": [
           {
            "colorbar": {
             "outlinewidth": 0,
             "ticks": ""
            },
            "colorscale": [
             [
              0,
              "#0d0887"
             ],
             [
              0.1111111111111111,
              "#46039f"
             ],
             [
              0.2222222222222222,
              "#7201a8"
             ],
             [
              0.3333333333333333,
              "#9c179e"
             ],
             [
              0.4444444444444444,
              "#bd3786"
             ],
             [
              0.5555555555555556,
              "#d8576b"
             ],
             [
              0.6666666666666666,
              "#ed7953"
             ],
             [
              0.7777777777777778,
              "#fb9f3a"
             ],
             [
              0.8888888888888888,
              "#fdca26"
             ],
             [
              1,
              "#f0f921"
             ]
            ],
            "type": "surface"
           }
          ],
          "table": [
           {
            "cells": {
             "fill": {
              "color": "#EBF0F8"
             },
             "line": {
              "color": "white"
             }
            },
            "header": {
             "fill": {
              "color": "#C8D4E3"
             },
             "line": {
              "color": "white"
             }
            },
            "type": "table"
           }
          ]
         },
         "layout": {
          "annotationdefaults": {
           "arrowcolor": "#2a3f5f",
           "arrowhead": 0,
           "arrowwidth": 1
          },
          "autotypenumbers": "strict",
          "coloraxis": {
           "colorbar": {
            "outlinewidth": 0,
            "ticks": ""
           }
          },
          "colorscale": {
           "diverging": [
            [
             0,
             "#8e0152"
            ],
            [
             0.1,
             "#c51b7d"
            ],
            [
             0.2,
             "#de77ae"
            ],
            [
             0.3,
             "#f1b6da"
            ],
            [
             0.4,
             "#fde0ef"
            ],
            [
             0.5,
             "#f7f7f7"
            ],
            [
             0.6,
             "#e6f5d0"
            ],
            [
             0.7,
             "#b8e186"
            ],
            [
             0.8,
             "#7fbc41"
            ],
            [
             0.9,
             "#4d9221"
            ],
            [
             1,
             "#276419"
            ]
           ],
           "sequential": [
            [
             0,
             "#0d0887"
            ],
            [
             0.1111111111111111,
             "#46039f"
            ],
            [
             0.2222222222222222,
             "#7201a8"
            ],
            [
             0.3333333333333333,
             "#9c179e"
            ],
            [
             0.4444444444444444,
             "#bd3786"
            ],
            [
             0.5555555555555556,
             "#d8576b"
            ],
            [
             0.6666666666666666,
             "#ed7953"
            ],
            [
             0.7777777777777778,
             "#fb9f3a"
            ],
            [
             0.8888888888888888,
             "#fdca26"
            ],
            [
             1,
             "#f0f921"
            ]
           ],
           "sequentialminus": [
            [
             0,
             "#0d0887"
            ],
            [
             0.1111111111111111,
             "#46039f"
            ],
            [
             0.2222222222222222,
             "#7201a8"
            ],
            [
             0.3333333333333333,
             "#9c179e"
            ],
            [
             0.4444444444444444,
             "#bd3786"
            ],
            [
             0.5555555555555556,
             "#d8576b"
            ],
            [
             0.6666666666666666,
             "#ed7953"
            ],
            [
             0.7777777777777778,
             "#fb9f3a"
            ],
            [
             0.8888888888888888,
             "#fdca26"
            ],
            [
             1,
             "#f0f921"
            ]
           ]
          },
          "colorway": [
           "#636efa",
           "#EF553B",
           "#00cc96",
           "#ab63fa",
           "#FFA15A",
           "#19d3f3",
           "#FF6692",
           "#B6E880",
           "#FF97FF",
           "#FECB52"
          ],
          "font": {
           "color": "#2a3f5f"
          },
          "geo": {
           "bgcolor": "white",
           "lakecolor": "white",
           "landcolor": "#E5ECF6",
           "showlakes": true,
           "showland": true,
           "subunitcolor": "white"
          },
          "hoverlabel": {
           "align": "left"
          },
          "hovermode": "closest",
          "mapbox": {
           "style": "light"
          },
          "paper_bgcolor": "white",
          "plot_bgcolor": "#E5ECF6",
          "polar": {
           "angularaxis": {
            "gridcolor": "white",
            "linecolor": "white",
            "ticks": ""
           },
           "bgcolor": "#E5ECF6",
           "radialaxis": {
            "gridcolor": "white",
            "linecolor": "white",
            "ticks": ""
           }
          },
          "scene": {
           "xaxis": {
            "backgroundcolor": "#E5ECF6",
            "gridcolor": "white",
            "gridwidth": 2,
            "linecolor": "white",
            "showbackground": true,
            "ticks": "",
            "zerolinecolor": "white"
           },
           "yaxis": {
            "backgroundcolor": "#E5ECF6",
            "gridcolor": "white",
            "gridwidth": 2,
            "linecolor": "white",
            "showbackground": true,
            "ticks": "",
            "zerolinecolor": "white"
           },
           "zaxis": {
            "backgroundcolor": "#E5ECF6",
            "gridcolor": "white",
            "gridwidth": 2,
            "linecolor": "white",
            "showbackground": true,
            "ticks": "",
            "zerolinecolor": "white"
           }
          },
          "shapedefaults": {
           "line": {
            "color": "#2a3f5f"
           }
          },
          "ternary": {
           "aaxis": {
            "gridcolor": "white",
            "linecolor": "white",
            "ticks": ""
           },
           "baxis": {
            "gridcolor": "white",
            "linecolor": "white",
            "ticks": ""
           },
           "bgcolor": "#E5ECF6",
           "caxis": {
            "gridcolor": "white",
            "linecolor": "white",
            "ticks": ""
           }
          },
          "title": {
           "x": 0.05
          },
          "xaxis": {
           "automargin": true,
           "gridcolor": "white",
           "linecolor": "white",
           "ticks": "",
           "title": {
            "standoff": 15
           },
           "zerolinecolor": "white",
           "zerolinewidth": 2
          },
          "yaxis": {
           "automargin": true,
           "gridcolor": "white",
           "linecolor": "white",
           "ticks": "",
           "title": {
            "standoff": 15
           },
           "zerolinecolor": "white",
           "zerolinewidth": 2
          }
         }
        },
        "title": {
         "text": "Воронка событий"
        },
        "xaxis": {
         "anchor": "y",
         "domain": [
          0,
          1
         ],
         "title": {
          "text": "device_id_hash"
         }
        },
        "yaxis": {
         "anchor": "x",
         "domain": [
          0,
          1
         ],
         "title": {
          "text": "event_name"
         }
        }
       }
      },
      "text/html": [
       "<div>                            <div id=\"50723c1b-5460-4e0f-812c-fb1cffed0db8\" class=\"plotly-graph-div\" style=\"height:525px; width:100%;\"></div>            <script type=\"text/javascript\">                require([\"plotly\"], function(Plotly) {                    window.PLOTLYENV=window.PLOTLYENV || {};                                    if (document.getElementById(\"50723c1b-5460-4e0f-812c-fb1cffed0db8\")) {                    Plotly.newPlot(                        \"50723c1b-5460-4e0f-812c-fb1cffed0db8\",                        [{\"hovertemplate\":\"device_id_hash=%{x}<br>event_name=%{y}<extra></extra>\",\"legendgroup\":\"\",\"marker\":{\"color\":\"#636efa\"},\"name\":\"\",\"orientation\":\"h\",\"showlegend\":false,\"x\":[7419,4593,3734,3539],\"xaxis\":\"x\",\"y\":[\"MainScreenAppear\",\"OffersScreenAppear\",\"CartScreenAppear\",\"PaymentScreenSuccessful\"],\"yaxis\":\"y\",\"type\":\"funnel\"}],                        {\"template\":{\"data\":{\"histogram2dcontour\":[{\"type\":\"histogram2dcontour\",\"colorbar\":{\"outlinewidth\":0,\"ticks\":\"\"},\"colorscale\":[[0.0,\"#0d0887\"],[0.1111111111111111,\"#46039f\"],[0.2222222222222222,\"#7201a8\"],[0.3333333333333333,\"#9c179e\"],[0.4444444444444444,\"#bd3786\"],[0.5555555555555556,\"#d8576b\"],[0.6666666666666666,\"#ed7953\"],[0.7777777777777778,\"#fb9f3a\"],[0.8888888888888888,\"#fdca26\"],[1.0,\"#f0f921\"]]}],\"choropleth\":[{\"type\":\"choropleth\",\"colorbar\":{\"outlinewidth\":0,\"ticks\":\"\"}}],\"histogram2d\":[{\"type\":\"histogram2d\",\"colorbar\":{\"outlinewidth\":0,\"ticks\":\"\"},\"colorscale\":[[0.0,\"#0d0887\"],[0.1111111111111111,\"#46039f\"],[0.2222222222222222,\"#7201a8\"],[0.3333333333333333,\"#9c179e\"],[0.4444444444444444,\"#bd3786\"],[0.5555555555555556,\"#d8576b\"],[0.6666666666666666,\"#ed7953\"],[0.7777777777777778,\"#fb9f3a\"],[0.8888888888888888,\"#fdca26\"],[1.0,\"#f0f921\"]]}],\"heatmap\":[{\"type\":\"heatmap\",\"colorbar\":{\"outlinewidth\":0,\"ticks\":\"\"},\"colorscale\":[[0.0,\"#0d0887\"],[0.1111111111111111,\"#46039f\"],[0.2222222222222222,\"#7201a8\"],[0.3333333333333333,\"#9c179e\"],[0.4444444444444444,\"#bd3786\"],[0.5555555555555556,\"#d8576b\"],[0.6666666666666666,\"#ed7953\"],[0.7777777777777778,\"#fb9f3a\"],[0.8888888888888888,\"#fdca26\"],[1.0,\"#f0f921\"]]}],\"heatmapgl\":[{\"type\":\"heatmapgl\",\"colorbar\":{\"outlinewidth\":0,\"ticks\":\"\"},\"colorscale\":[[0.0,\"#0d0887\"],[0.1111111111111111,\"#46039f\"],[0.2222222222222222,\"#7201a8\"],[0.3333333333333333,\"#9c179e\"],[0.4444444444444444,\"#bd3786\"],[0.5555555555555556,\"#d8576b\"],[0.6666666666666666,\"#ed7953\"],[0.7777777777777778,\"#fb9f3a\"],[0.8888888888888888,\"#fdca26\"],[1.0,\"#f0f921\"]]}],\"contourcarpet\":[{\"type\":\"contourcarpet\",\"colorbar\":{\"outlinewidth\":0,\"ticks\":\"\"}}],\"contour\":[{\"type\":\"contour\",\"colorbar\":{\"outlinewidth\":0,\"ticks\":\"\"},\"colorscale\":[[0.0,\"#0d0887\"],[0.1111111111111111,\"#46039f\"],[0.2222222222222222,\"#7201a8\"],[0.3333333333333333,\"#9c179e\"],[0.4444444444444444,\"#bd3786\"],[0.5555555555555556,\"#d8576b\"],[0.6666666666666666,\"#ed7953\"],[0.7777777777777778,\"#fb9f3a\"],[0.8888888888888888,\"#fdca26\"],[1.0,\"#f0f921\"]]}],\"surface\":[{\"type\":\"surface\",\"colorbar\":{\"outlinewidth\":0,\"ticks\":\"\"},\"colorscale\":[[0.0,\"#0d0887\"],[0.1111111111111111,\"#46039f\"],[0.2222222222222222,\"#7201a8\"],[0.3333333333333333,\"#9c179e\"],[0.4444444444444444,\"#bd3786\"],[0.5555555555555556,\"#d8576b\"],[0.6666666666666666,\"#ed7953\"],[0.7777777777777778,\"#fb9f3a\"],[0.8888888888888888,\"#fdca26\"],[1.0,\"#f0f921\"]]}],\"mesh3d\":[{\"type\":\"mesh3d\",\"colorbar\":{\"outlinewidth\":0,\"ticks\":\"\"}}],\"scatter\":[{\"fillpattern\":{\"fillmode\":\"overlay\",\"size\":10,\"solidity\":0.2},\"type\":\"scatter\"}],\"parcoords\":[{\"type\":\"parcoords\",\"line\":{\"colorbar\":{\"outlinewidth\":0,\"ticks\":\"\"}}}],\"scatterpolargl\":[{\"type\":\"scatterpolargl\",\"marker\":{\"colorbar\":{\"outlinewidth\":0,\"ticks\":\"\"}}}],\"bar\":[{\"error_x\":{\"color\":\"#2a3f5f\"},\"error_y\":{\"color\":\"#2a3f5f\"},\"marker\":{\"line\":{\"color\":\"#E5ECF6\",\"width\":0.5},\"pattern\":{\"fillmode\":\"overlay\",\"size\":10,\"solidity\":0.2}},\"type\":\"bar\"}],\"scattergeo\":[{\"type\":\"scattergeo\",\"marker\":{\"colorbar\":{\"outlinewidth\":0,\"ticks\":\"\"}}}],\"scatterpolar\":[{\"type\":\"scatterpolar\",\"marker\":{\"colorbar\":{\"outlinewidth\":0,\"ticks\":\"\"}}}],\"histogram\":[{\"marker\":{\"pattern\":{\"fillmode\":\"overlay\",\"size\":10,\"solidity\":0.2}},\"type\":\"histogram\"}],\"scattergl\":[{\"type\":\"scattergl\",\"marker\":{\"colorbar\":{\"outlinewidth\":0,\"ticks\":\"\"}}}],\"scatter3d\":[{\"type\":\"scatter3d\",\"line\":{\"colorbar\":{\"outlinewidth\":0,\"ticks\":\"\"}},\"marker\":{\"colorbar\":{\"outlinewidth\":0,\"ticks\":\"\"}}}],\"scattermapbox\":[{\"type\":\"scattermapbox\",\"marker\":{\"colorbar\":{\"outlinewidth\":0,\"ticks\":\"\"}}}],\"scatterternary\":[{\"type\":\"scatterternary\",\"marker\":{\"colorbar\":{\"outlinewidth\":0,\"ticks\":\"\"}}}],\"scattercarpet\":[{\"type\":\"scattercarpet\",\"marker\":{\"colorbar\":{\"outlinewidth\":0,\"ticks\":\"\"}}}],\"carpet\":[{\"aaxis\":{\"endlinecolor\":\"#2a3f5f\",\"gridcolor\":\"white\",\"linecolor\":\"white\",\"minorgridcolor\":\"white\",\"startlinecolor\":\"#2a3f5f\"},\"baxis\":{\"endlinecolor\":\"#2a3f5f\",\"gridcolor\":\"white\",\"linecolor\":\"white\",\"minorgridcolor\":\"white\",\"startlinecolor\":\"#2a3f5f\"},\"type\":\"carpet\"}],\"table\":[{\"cells\":{\"fill\":{\"color\":\"#EBF0F8\"},\"line\":{\"color\":\"white\"}},\"header\":{\"fill\":{\"color\":\"#C8D4E3\"},\"line\":{\"color\":\"white\"}},\"type\":\"table\"}],\"barpolar\":[{\"marker\":{\"line\":{\"color\":\"#E5ECF6\",\"width\":0.5},\"pattern\":{\"fillmode\":\"overlay\",\"size\":10,\"solidity\":0.2}},\"type\":\"barpolar\"}],\"pie\":[{\"automargin\":true,\"type\":\"pie\"}]},\"layout\":{\"autotypenumbers\":\"strict\",\"colorway\":[\"#636efa\",\"#EF553B\",\"#00cc96\",\"#ab63fa\",\"#FFA15A\",\"#19d3f3\",\"#FF6692\",\"#B6E880\",\"#FF97FF\",\"#FECB52\"],\"font\":{\"color\":\"#2a3f5f\"},\"hovermode\":\"closest\",\"hoverlabel\":{\"align\":\"left\"},\"paper_bgcolor\":\"white\",\"plot_bgcolor\":\"#E5ECF6\",\"polar\":{\"bgcolor\":\"#E5ECF6\",\"angularaxis\":{\"gridcolor\":\"white\",\"linecolor\":\"white\",\"ticks\":\"\"},\"radialaxis\":{\"gridcolor\":\"white\",\"linecolor\":\"white\",\"ticks\":\"\"}},\"ternary\":{\"bgcolor\":\"#E5ECF6\",\"aaxis\":{\"gridcolor\":\"white\",\"linecolor\":\"white\",\"ticks\":\"\"},\"baxis\":{\"gridcolor\":\"white\",\"linecolor\":\"white\",\"ticks\":\"\"},\"caxis\":{\"gridcolor\":\"white\",\"linecolor\":\"white\",\"ticks\":\"\"}},\"coloraxis\":{\"colorbar\":{\"outlinewidth\":0,\"ticks\":\"\"}},\"colorscale\":{\"sequential\":[[0.0,\"#0d0887\"],[0.1111111111111111,\"#46039f\"],[0.2222222222222222,\"#7201a8\"],[0.3333333333333333,\"#9c179e\"],[0.4444444444444444,\"#bd3786\"],[0.5555555555555556,\"#d8576b\"],[0.6666666666666666,\"#ed7953\"],[0.7777777777777778,\"#fb9f3a\"],[0.8888888888888888,\"#fdca26\"],[1.0,\"#f0f921\"]],\"sequentialminus\":[[0.0,\"#0d0887\"],[0.1111111111111111,\"#46039f\"],[0.2222222222222222,\"#7201a8\"],[0.3333333333333333,\"#9c179e\"],[0.4444444444444444,\"#bd3786\"],[0.5555555555555556,\"#d8576b\"],[0.6666666666666666,\"#ed7953\"],[0.7777777777777778,\"#fb9f3a\"],[0.8888888888888888,\"#fdca26\"],[1.0,\"#f0f921\"]],\"diverging\":[[0,\"#8e0152\"],[0.1,\"#c51b7d\"],[0.2,\"#de77ae\"],[0.3,\"#f1b6da\"],[0.4,\"#fde0ef\"],[0.5,\"#f7f7f7\"],[0.6,\"#e6f5d0\"],[0.7,\"#b8e186\"],[0.8,\"#7fbc41\"],[0.9,\"#4d9221\"],[1,\"#276419\"]]},\"xaxis\":{\"gridcolor\":\"white\",\"linecolor\":\"white\",\"ticks\":\"\",\"title\":{\"standoff\":15},\"zerolinecolor\":\"white\",\"automargin\":true,\"zerolinewidth\":2},\"yaxis\":{\"gridcolor\":\"white\",\"linecolor\":\"white\",\"ticks\":\"\",\"title\":{\"standoff\":15},\"zerolinecolor\":\"white\",\"automargin\":true,\"zerolinewidth\":2},\"scene\":{\"xaxis\":{\"backgroundcolor\":\"#E5ECF6\",\"gridcolor\":\"white\",\"linecolor\":\"white\",\"showbackground\":true,\"ticks\":\"\",\"zerolinecolor\":\"white\",\"gridwidth\":2},\"yaxis\":{\"backgroundcolor\":\"#E5ECF6\",\"gridcolor\":\"white\",\"linecolor\":\"white\",\"showbackground\":true,\"ticks\":\"\",\"zerolinecolor\":\"white\",\"gridwidth\":2},\"zaxis\":{\"backgroundcolor\":\"#E5ECF6\",\"gridcolor\":\"white\",\"linecolor\":\"white\",\"showbackground\":true,\"ticks\":\"\",\"zerolinecolor\":\"white\",\"gridwidth\":2}},\"shapedefaults\":{\"line\":{\"color\":\"#2a3f5f\"}},\"annotationdefaults\":{\"arrowcolor\":\"#2a3f5f\",\"arrowhead\":0,\"arrowwidth\":1},\"geo\":{\"bgcolor\":\"white\",\"landcolor\":\"#E5ECF6\",\"subunitcolor\":\"white\",\"showland\":true,\"showlakes\":true,\"lakecolor\":\"white\"},\"title\":{\"x\":0.05},\"mapbox\":{\"style\":\"light\"}}},\"xaxis\":{\"anchor\":\"y\",\"domain\":[0.0,1.0],\"title\":{\"text\":\"device_id_hash\"}},\"yaxis\":{\"anchor\":\"x\",\"domain\":[0.0,1.0],\"title\":{\"text\":\"event_name\"}},\"legend\":{\"tracegroupgap\":0},\"title\":{\"text\":\"\\u0412\\u043e\\u0440\\u043e\\u043d\\u043a\\u0430 \\u0441\\u043e\\u0431\\u044b\\u0442\\u0438\\u0439\"}},                        {\"responsive\": true}                    ).then(function(){\n",
       "                            \n",
       "var gd = document.getElementById('50723c1b-5460-4e0f-812c-fb1cffed0db8');\n",
       "var x = new MutationObserver(function (mutations, observer) {{\n",
       "        var display = window.getComputedStyle(gd).display;\n",
       "        if (!display || display === 'none') {{\n",
       "            console.log([gd, 'removed!']);\n",
       "            Plotly.purge(gd);\n",
       "            observer.disconnect();\n",
       "        }}\n",
       "}});\n",
       "\n",
       "// Listen for the removal of the full notebook cells\n",
       "var notebookContainer = gd.closest('#notebook-container');\n",
       "if (notebookContainer) {{\n",
       "    x.observe(notebookContainer, {childList: true});\n",
       "}}\n",
       "\n",
       "// Listen for the clearing of the current output cell\n",
       "var outputEl = gd.closest('.output');\n",
       "if (outputEl) {{\n",
       "    x.observe(outputEl, {childList: true});\n",
       "}}\n",
       "\n",
       "                        })                };                });            </script>        </div>"
      ]
     },
     "metadata": {},
     "output_type": "display_data"
    }
   ],
   "source": [
    "#Строим воронку событий\n",
    "\n",
    "fig = px.funnel(funnel_event, x=funnel_event['device_id_hash'], y=funnel_event['event_name'],  title='Воронка событий')\n",
    "fig.show()"
   ]
  },
  {
   "cell_type": "code",
   "execution_count": 26,
   "id": "0ce40cd3",
   "metadata": {
    "scrolled": true
   },
   "outputs": [
    {
     "data": {
      "text/html": [
       "<div>\n",
       "<style scoped>\n",
       "    .dataframe tbody tr th:only-of-type {\n",
       "        vertical-align: middle;\n",
       "    }\n",
       "\n",
       "    .dataframe tbody tr th {\n",
       "        vertical-align: top;\n",
       "    }\n",
       "\n",
       "    .dataframe thead th {\n",
       "        text-align: right;\n",
       "    }\n",
       "</style>\n",
       "<table border=\"1\" class=\"dataframe\">\n",
       "  <thead>\n",
       "    <tr style=\"text-align: right;\">\n",
       "      <th></th>\n",
       "      <th>event_name</th>\n",
       "      <th>device_id_hash</th>\n",
       "      <th>share</th>\n",
       "      <th>share_step</th>\n",
       "    </tr>\n",
       "  </thead>\n",
       "  <tbody>\n",
       "    <tr>\n",
       "      <th>0</th>\n",
       "      <td>MainScreenAppear</td>\n",
       "      <td>7419</td>\n",
       "      <td>0.985</td>\n",
       "      <td>NaN</td>\n",
       "    </tr>\n",
       "    <tr>\n",
       "      <th>1</th>\n",
       "      <td>OffersScreenAppear</td>\n",
       "      <td>4593</td>\n",
       "      <td>0.610</td>\n",
       "      <td>0.619</td>\n",
       "    </tr>\n",
       "    <tr>\n",
       "      <th>2</th>\n",
       "      <td>CartScreenAppear</td>\n",
       "      <td>3734</td>\n",
       "      <td>0.496</td>\n",
       "      <td>0.813</td>\n",
       "    </tr>\n",
       "    <tr>\n",
       "      <th>3</th>\n",
       "      <td>PaymentScreenSuccessful</td>\n",
       "      <td>3539</td>\n",
       "      <td>0.470</td>\n",
       "      <td>0.948</td>\n",
       "    </tr>\n",
       "  </tbody>\n",
       "</table>\n",
       "</div>"
      ],
      "text/plain": [
       "                event_name  device_id_hash  share  share_step\n",
       "0         MainScreenAppear            7419  0.985         NaN\n",
       "1       OffersScreenAppear            4593  0.610       0.619\n",
       "2         CartScreenAppear            3734  0.496       0.813\n",
       "3  PaymentScreenSuccessful            3539  0.470       0.948"
      ]
     },
     "execution_count": 26,
     "metadata": {},
     "output_type": "execute_result"
    }
   ],
   "source": [
    "#Добавляем колонку с конверсией в следующий шаг\n",
    "funnel_event['share_step'] = funnel_event['device_id_hash'] / funnel_event['device_id_hash'].shift()\n",
    "funnel_event = funnel_event.reset_index(drop=True)\n",
    "funnel_event"
   ]
  },
  {
   "cell_type": "markdown",
   "id": "19874dc7",
   "metadata": {},
   "source": [
    "**Максимальная потеря пользователей происходит на этапе предложения оффера. До него не доходит 38% пользователей, открывших главный экран приложения**. При переходе от офера к корзине теряется еще 19% пользователей. Потери при переходе от корзины к экрану успешной оплаты сравнительно невелики и составляют порядка 5%. **До этапа успешной оплаты доходят 47% пользователей приложения в анализируемом периоде**. "
   ]
  },
  {
   "cell_type": "markdown",
   "id": "1c058e4c",
   "metadata": {},
   "source": [
    "## Анализ результатов A/A/B-теста <a class =\"anchor\" id=\"chapter4\"></a>"
   ]
  },
  {
   "cell_type": "code",
   "execution_count": 27,
   "id": "cdf107df",
   "metadata": {},
   "outputs": [
    {
     "data": {
      "text/html": [
       "<div>\n",
       "<style scoped>\n",
       "    .dataframe tbody tr th:only-of-type {\n",
       "        vertical-align: middle;\n",
       "    }\n",
       "\n",
       "    .dataframe tbody tr th {\n",
       "        vertical-align: top;\n",
       "    }\n",
       "\n",
       "    .dataframe thead th {\n",
       "        text-align: right;\n",
       "    }\n",
       "</style>\n",
       "<table border=\"1\" class=\"dataframe\">\n",
       "  <thead>\n",
       "    <tr style=\"text-align: right;\">\n",
       "      <th></th>\n",
       "      <th>exp_id</th>\n",
       "      <th>device_id_hash</th>\n",
       "      <th>share</th>\n",
       "    </tr>\n",
       "  </thead>\n",
       "  <tbody>\n",
       "    <tr>\n",
       "      <th>0</th>\n",
       "      <td>246</td>\n",
       "      <td>2483</td>\n",
       "      <td>0.330</td>\n",
       "    </tr>\n",
       "    <tr>\n",
       "      <th>1</th>\n",
       "      <td>247</td>\n",
       "      <td>2512</td>\n",
       "      <td>0.334</td>\n",
       "    </tr>\n",
       "    <tr>\n",
       "      <th>2</th>\n",
       "      <td>248</td>\n",
       "      <td>2535</td>\n",
       "      <td>0.337</td>\n",
       "    </tr>\n",
       "  </tbody>\n",
       "</table>\n",
       "</div>"
      ],
      "text/plain": [
       "   exp_id  device_id_hash  share\n",
       "0     246            2483  0.330\n",
       "1     247            2512  0.334\n",
       "2     248            2535  0.337"
      ]
     },
     "execution_count": 27,
     "metadata": {},
     "output_type": "execute_result"
    }
   ],
   "source": [
    "#рассчитаем абсолютный и относительный размер групп тестирования\n",
    "\n",
    "groups = df.groupby('exp_id').nunique()['device_id_hash'].reset_index()\n",
    "\n",
    "groups['share'] = groups ['device_id_hash'] / groups ['device_id_hash'].sum()\n",
    "\n",
    "groups"
   ]
  },
  {
   "cell_type": "markdown",
   "id": "881292fb",
   "metadata": {},
   "source": [
    "Размеры групп примерно развны и соствляют 2,5 тыс. пользователей или 33-34% от общего числа юзеров."
   ]
  },
  {
   "cell_type": "code",
   "execution_count": 28,
   "id": "60ceae16",
   "metadata": {
    "scrolled": false
   },
   "outputs": [
    {
     "data": {
      "text/html": [
       "<div>\n",
       "<style scoped>\n",
       "    .dataframe tbody tr th:only-of-type {\n",
       "        vertical-align: middle;\n",
       "    }\n",
       "\n",
       "    .dataframe tbody tr th {\n",
       "        vertical-align: top;\n",
       "    }\n",
       "\n",
       "    .dataframe thead th {\n",
       "        text-align: right;\n",
       "    }\n",
       "</style>\n",
       "<table border=\"1\" class=\"dataframe\">\n",
       "  <thead>\n",
       "    <tr style=\"text-align: right;\">\n",
       "      <th>exp_id</th>\n",
       "      <th>246</th>\n",
       "      <th>247</th>\n",
       "      <th>248</th>\n",
       "    </tr>\n",
       "    <tr>\n",
       "      <th>event_name</th>\n",
       "      <th></th>\n",
       "      <th></th>\n",
       "      <th></th>\n",
       "    </tr>\n",
       "  </thead>\n",
       "  <tbody>\n",
       "    <tr>\n",
       "      <th>MainScreenAppear</th>\n",
       "      <td>2450</td>\n",
       "      <td>2476</td>\n",
       "      <td>2493</td>\n",
       "    </tr>\n",
       "    <tr>\n",
       "      <th>OffersScreenAppear</th>\n",
       "      <td>1542</td>\n",
       "      <td>1520</td>\n",
       "      <td>1531</td>\n",
       "    </tr>\n",
       "    <tr>\n",
       "      <th>CartScreenAppear</th>\n",
       "      <td>1266</td>\n",
       "      <td>1238</td>\n",
       "      <td>1230</td>\n",
       "    </tr>\n",
       "    <tr>\n",
       "      <th>PaymentScreenSuccessful</th>\n",
       "      <td>1200</td>\n",
       "      <td>1158</td>\n",
       "      <td>1181</td>\n",
       "    </tr>\n",
       "  </tbody>\n",
       "</table>\n",
       "</div>"
      ],
      "text/plain": [
       "exp_id                    246   247   248\n",
       "event_name                               \n",
       "MainScreenAppear         2450  2476  2493\n",
       "OffersScreenAppear       1542  1520  1531\n",
       "CartScreenAppear         1266  1238  1230\n",
       "PaymentScreenSuccessful  1200  1158  1181"
      ]
     },
     "execution_count": 28,
     "metadata": {},
     "output_type": "execute_result"
    }
   ],
   "source": [
    "group_pivot = pd.pivot_table(df, values = 'device_id_hash', index='event_name',columns='exp_id',aggfunc='nunique')\n",
    "group_pivot = group_pivot.sort_values(246,ascending=False)\n",
    "group_pivot"
   ]
  },
  {
   "cell_type": "markdown",
   "id": "95d9a9ee",
   "metadata": {},
   "source": [
    "Самое популярное событие - показ главного экрана (MainScreenAppear). Оно лидирует примерно с одинаковым отрывом во всех группах. Рассчитаем статистическую достоверность отличий доли этого события по группам, а также других событий с помощью функции."
   ]
  },
  {
   "cell_type": "code",
   "execution_count": 29,
   "id": "c65bbbe6",
   "metadata": {},
   "outputs": [],
   "source": [
    "#Сформируем списки для статистических тестов\n",
    "\n",
    "list_246 = group_pivot[246].to_list() \n",
    "sum_246 = sum(list_246)\n",
    "list_247 = group_pivot[247].to_list() \n",
    "sum_247 = sum(list_247)\n",
    "event_list = group_pivot.index.to_list()"
   ]
  },
  {
   "cell_type": "markdown",
   "id": "7268736d",
   "metadata": {},
   "source": [
    "При проверке гипотез о равенстве долей традиционно применяют z-тест. В нашем случае выборки достаточно велики и нет оснований полагать, что они зависимы. Поэтому применим именно данный вид теста.\n",
    "\n",
    "Сформулируем нулевую и альтернативные гипотезы для статистических тестов по разнице конверсий в воронке событий:\n",
    "\n",
    "*H0: Доли пользователей, совершивших событие в группах, равны*. \n",
    "\n",
    "*H1: Доли пользователей, совершивших событие в группах, не равны*. \n",
    "    "
   ]
  },
  {
   "cell_type": "code",
   "execution_count": 30,
   "id": "6ecee758",
   "metadata": {},
   "outputs": [],
   "source": [
    "#пишем функцию для проверки равенства долей без поправки Бонферрони\n",
    "\n",
    "def comp_func (list1,sum1,list2,sum2,event_list):\n",
    "    for i in range (0,len(list_246)):\n",
    "        a_trials = sum1\n",
    "        b_trials = sum2\n",
    "        a_succeses = list1[i]\n",
    "        b_succeses = list2[i]\n",
    "    \n",
    "        alpha = 0.05  \n",
    "        p1 = a_succeses/a_trials\n",
    "        p2 = b_succeses/b_trials\n",
    "        p_combined = (a_succeses + b_succeses)/ (a_trials + b_trials)\n",
    "        difference = p1 - p2 \n",
    "\n",
    "        z_value = difference / mth.sqrt(\n",
    "        p_combined * (1 - p_combined) * (1 / a_trials + 1 / b_trials))\n",
    "\n",
    "        # задаем стандартное нормальное распределение (среднее 0, ст.отклонение 1)\n",
    "        distr = st.norm(0, 1)\n",
    "\n",
    "        p_value = (1 - distr.cdf(abs(z_value))) * 2\n",
    "\n",
    "        print(Fore.BLUE + Style.BRIGHT + event_list[i] + Style.RESET_ALL, 'p-значение: ', p_value) \n",
    "    \n",
    "        if p_value < alpha:\n",
    "            print(Fore.GREEN + Style.BRIGHT + 'Отвергаем нулевую гипотезу: между долями есть значимая разница' + Style.RESET_ALL)\n",
    "        else:\n",
    "            print(Fore.RED + Style.BRIGHT +\n",
    "        'Не получилось отвергнуть нулевую гипотезу, нет оснований считать доли разными'+ Style.RESET_ALL) "
   ]
  },
  {
   "cell_type": "code",
   "execution_count": 53,
   "id": "0db50dd7",
   "metadata": {
    "scrolled": true
   },
   "outputs": [
    {
     "name": "stdout",
     "output_type": "stream",
     "text": [
      "\u001b[34m\u001b[1mMainScreenAppear\u001b[0m p-значение:  0.35195027387494493\n",
      "\u001b[31m\u001b[1mНе получилось отвергнуть нулевую гипотезу, нет оснований считать доли разными\u001b[0m\n",
      "\u001b[34m\u001b[1mOffersScreenAppear\u001b[0m p-значение:  0.8966517949162409\n",
      "\u001b[31m\u001b[1mНе получилось отвергнуть нулевую гипотезу, нет оснований считать доли разными\u001b[0m\n",
      "\u001b[34m\u001b[1mCartScreenAppear\u001b[0m p-значение:  0.7359876852552283\n",
      "\u001b[31m\u001b[1mНе получилось отвергнуть нулевую гипотезу, нет оснований считать доли разными\u001b[0m\n",
      "\u001b[34m\u001b[1mPaymentScreenSuccessful\u001b[0m p-значение:  0.4957537491808677\n",
      "\u001b[31m\u001b[1mНе получилось отвергнуть нулевую гипотезу, нет оснований считать доли разными\u001b[0m\n"
     ]
    }
   ],
   "source": [
    "#применяем функцию к данным групп 246 и 247 (A/A группы)\n",
    "comp_func(list_246,sum_246,list_247,sum_247,event_list)"
   ]
  },
  {
   "cell_type": "markdown",
   "id": "66fc34a2",
   "metadata": {},
   "source": [
    "Согласно результатам z-теста, разница в конверсиях при указанных размерах выборок недостаточна, чтобы отвергать нулевые гипотезы о равенстве долей достижения пользователями одного из четырех важных событий. Разбиение на группы было проведено корректно."
   ]
  },
  {
   "cell_type": "code",
   "execution_count": null,
   "id": "27183a6e",
   "metadata": {},
   "outputs": [],
   "source": [
    "#Добавляем данные по 248-ой группе.\n",
    "list_248 = group_pivot[248].to_list() \n",
    "sum_248 = sum(list_248)\n"
   ]
  },
  {
   "cell_type": "code",
   "execution_count": null,
   "id": "f1b281d2",
   "metadata": {
    "scrolled": true
   },
   "outputs": [],
   "source": [
    "#Проводим сравнение данных по группам 246 (контрольная) и 248 (с изменениями)\n",
    "comp_func(list_246,sum_246,list_248,sum_248,event_list)"
   ]
  },
  {
   "cell_type": "markdown",
   "id": "71fdcdaf",
   "metadata": {},
   "source": [
    "По всем событиям значение p-value значительно больше 0.05, а значит **говорить об отличии в конверсии в группе 246 и группе 248 нельзя**."
   ]
  },
  {
   "cell_type": "code",
   "execution_count": null,
   "id": "3d33a65c",
   "metadata": {},
   "outputs": [],
   "source": [
    "#Проводим сравнение данных по группам 247 (контрольная) и 248 (с изменениями)\n",
    "\n",
    "comp_func(list_247,sum_247,list_248,sum_248,event_list)"
   ]
  },
  {
   "cell_type": "markdown",
   "id": "de8e8207",
   "metadata": {},
   "source": [
    "По всем событиям значение p-value значительно больше 0.05, а значит **говорить об отличии в конверсии в группе 247 и группе 248 нельзя**."
   ]
  },
  {
   "cell_type": "code",
   "execution_count": null,
   "id": "dbe4a1cd",
   "metadata": {},
   "outputs": [],
   "source": [
    "#Складываем данные по двум контрльным группам (246 и 247)\n",
    "list_246_247 = [x+y for x,y in zip(list_246,list_247)] \n",
    "sum_246_247 = sum(list_246_247)"
   ]
  },
  {
   "cell_type": "code",
   "execution_count": null,
   "id": "24918c03",
   "metadata": {},
   "outputs": [],
   "source": [
    "comp_func(list_246_247,sum_246_247,list_248,sum_248,event_list)"
   ]
  },
  {
   "cell_type": "markdown",
   "id": "28ef1fab",
   "metadata": {},
   "source": [
    "По всем событиям значение p-value значительно больше 0.05, а значит **говорить об отличии в конверсии в объединенных контрольных группах (246 и 247) и группе 248 нельзя**."
   ]
  },
  {
   "cell_type": "markdown",
   "id": "d9daf48f",
   "metadata": {},
   "source": [
    "Выше было проведено 16 проверок гипотез при уровне статистической значимости 0.05. Теперь добавим в фунцию расчета корректировку Бонферрони, уменьшающую значение альфа пропорционально числу тестов. Таким уровень статистической значимости пудет снижен до 0.003125."
   ]
  },
  {
   "cell_type": "code",
   "execution_count": null,
   "id": "c99f0b00",
   "metadata": {},
   "outputs": [],
   "source": [
    "def comp_func (list1,sum1,list2,sum2,event_list):\n",
    "    for i in range (0,len(list_246)):\n",
    "        a_trials = sum1\n",
    "        b_trials = sum2\n",
    "        a_succeses = list1[i]\n",
    "        b_succeses = list2[i]\n",
    "    \n",
    "        alpha = 0.05  \n",
    "        p1 = a_succeses/a_trials\n",
    "        p2 = b_succeses/b_trials\n",
    "        p_combined = (a_succeses + b_succeses)/ (a_trials + b_trials)\n",
    "        difference = p1 - p2 \n",
    "\n",
    "        z_value = difference / mth.sqrt(\n",
    "        p_combined * (1 - p_combined) * (1 / a_trials + 1 / b_trials))\n",
    "\n",
    "        # задаем стандартное нормальное распределение (среднее 0, ст.отклонение 1)\n",
    "        distr = st.norm(0, 1)\n",
    "\n",
    "        p_value = (1 - distr.cdf(abs(z_value))) * 2\n",
    "\n",
    "        print(Fore.BLUE + Style.BRIGHT + event_list[i] + Style.RESET_ALL, 'p-значение: ', p_value) \n",
    "    \n",
    "        if p_value < alpha/16:\n",
    "            print(Fore.GREEN + Style.BRIGHT + 'Отвергаем нулевую гипотезу: между долями есть значимая разница' + Style.RESET_ALL)\n",
    "        else:\n",
    "            print(Fore.RED + Style.BRIGHT +\n",
    "        'Не получилось отвергнуть нулевую гипотезу, нет оснований считать доли разными'+ Style.RESET_ALL)"
   ]
  },
  {
   "cell_type": "code",
   "execution_count": null,
   "id": "519853d4",
   "metadata": {},
   "outputs": [],
   "source": [
    "#Повторим проведенные ранее сравнения с учетом корректировки \n",
    "comp_func(list_246,sum_246,list_247,sum_247,event_list)\n"
   ]
  },
  {
   "cell_type": "code",
   "execution_count": null,
   "id": "7aa52482",
   "metadata": {},
   "outputs": [],
   "source": [
    "comp_func(list_246,sum_246,list_248,sum_248,event_list)"
   ]
  },
  {
   "cell_type": "code",
   "execution_count": null,
   "id": "3cabe49f",
   "metadata": {},
   "outputs": [],
   "source": [
    "comp_func(list_247,sum_247,list_248,sum_248,event_list)"
   ]
  },
  {
   "cell_type": "code",
   "execution_count": null,
   "id": "9a5d7d64",
   "metadata": {},
   "outputs": [],
   "source": [
    "comp_func(list_246_247,sum_246_247,list_248,sum_248,event_list)"
   ]
  },
  {
   "cell_type": "markdown",
   "id": "05037dce",
   "metadata": {},
   "source": [
    "С учетом поправки и значительного снижения уровня значимости тесты показывают, что в различиях между тестовой и контрольной группами статистически значимой разницы нет."
   ]
  },
  {
   "cell_type": "markdown",
   "id": "fa45d51a",
   "metadata": {},
   "source": [
    "## Общие выводы  <a class =\"anchor\" id=\"chapter5\"></a>"
   ]
  },
  {
   "cell_type": "markdown",
   "id": "1683207a",
   "metadata": {},
   "source": [
    "1. Данные не содержат пропусков. В процессе предобработки был удален сравнительно небольшой объем явных дубликатов. Неявных дубликатов не выявлено. Данные очищены от ранних, предположительно, случайных значений до 1 августа 2019 года. Потеряно порядка 1,2% записей, что является в данном случае допустимым.\n",
    "\n",
    "\n",
    "2. **В логе отражается 5 видов событий. В общей сложности зафиксировано 243713 событий и 7551 пользователь. В среднем на одного пользователя приходится 31.9 событий. Медианное значение: 19.0 событий. В наборе остались записи из всех трех групп теста в примерно равных пропорциях**.\n",
    "\n",
    "\n",
    "3. **Максимальная потеря пользователей происходит на этапе предложения оффера**. До него не доходит 38% пользователей, открывших главный экран приложения. При переходе от оффера к корзине теряется еще 19% пользователей. Потери при переходе от корзины к экрану успешной оплаты сравнительно невелики и составляют порядка 5%. **До этапа успешной оплаты доходят 47% пользователей приложения в анализируемом периоде**.\n",
    "\n",
    "\n",
    "4. Пересечений по id пользователей между группами не выявлено. Разбиение по группам в этой части проведено корректно.\n",
    "\n",
    "\n",
    "5. Проведено 4 группы тестов: A/A, A1/B, A2/B и A1+A2/B (по тесту на каждый вид события). Все они покаали отсутствие статистически значимой разницы между группами. ***Значит новые шрифты приложения не влияют на конверсию и в их имплементации нет нужды***.\n",
    "\n",
    "\n",
    "6. Для корректировки результатов тестов была применена поправка Бонферрони и уровень значимости снижен до 0.003125. Она не повлияла на результаты теста. **Значение p-value в тестах очень высоко, что говорит о минимальной вероятности положительного влияния на конверсию от изменения шрифтов в приложении**.\n",
    "\n"
   ]
  }
 ],
 "metadata": {
  "ExecuteTimeLog": [
   {
    "duration": 1551,
    "start_time": "2022-08-11T21:38:55.469Z"
   },
   {
    "duration": 0,
    "start_time": "2022-08-11T21:38:57.023Z"
   },
   {
    "duration": 0,
    "start_time": "2022-08-11T21:38:57.024Z"
   },
   {
    "duration": 0,
    "start_time": "2022-08-11T21:38:57.025Z"
   },
   {
    "duration": 0,
    "start_time": "2022-08-11T21:38:57.026Z"
   },
   {
    "duration": 0,
    "start_time": "2022-08-11T21:38:57.027Z"
   },
   {
    "duration": 0,
    "start_time": "2022-08-11T21:38:57.028Z"
   },
   {
    "duration": 0,
    "start_time": "2022-08-11T21:38:57.029Z"
   },
   {
    "duration": 0,
    "start_time": "2022-08-11T21:38:57.030Z"
   },
   {
    "duration": 0,
    "start_time": "2022-08-11T21:38:57.031Z"
   },
   {
    "duration": 0,
    "start_time": "2022-08-11T21:38:57.032Z"
   },
   {
    "duration": 0,
    "start_time": "2022-08-11T21:38:57.033Z"
   },
   {
    "duration": 0,
    "start_time": "2022-08-11T21:38:57.034Z"
   },
   {
    "duration": 0,
    "start_time": "2022-08-11T21:38:57.035Z"
   },
   {
    "duration": 0,
    "start_time": "2022-08-11T21:38:57.036Z"
   },
   {
    "duration": 0,
    "start_time": "2022-08-11T21:38:57.037Z"
   },
   {
    "duration": 0,
    "start_time": "2022-08-11T21:38:57.038Z"
   },
   {
    "duration": 0,
    "start_time": "2022-08-11T21:38:57.039Z"
   },
   {
    "duration": 0,
    "start_time": "2022-08-11T21:38:57.040Z"
   },
   {
    "duration": 0,
    "start_time": "2022-08-11T21:38:57.041Z"
   },
   {
    "duration": 1,
    "start_time": "2022-08-11T21:38:57.041Z"
   },
   {
    "duration": 1,
    "start_time": "2022-08-11T21:38:57.042Z"
   },
   {
    "duration": 0,
    "start_time": "2022-08-11T21:38:57.043Z"
   },
   {
    "duration": 0,
    "start_time": "2022-08-11T21:38:57.044Z"
   },
   {
    "duration": 0,
    "start_time": "2022-08-11T21:38:57.045Z"
   },
   {
    "duration": 0,
    "start_time": "2022-08-11T21:38:57.046Z"
   },
   {
    "duration": 0,
    "start_time": "2022-08-11T21:38:57.047Z"
   },
   {
    "duration": 0,
    "start_time": "2022-08-11T21:38:57.048Z"
   },
   {
    "duration": 0,
    "start_time": "2022-08-11T21:38:57.049Z"
   },
   {
    "duration": 0,
    "start_time": "2022-08-11T21:38:57.050Z"
   },
   {
    "duration": 0,
    "start_time": "2022-08-11T21:38:57.051Z"
   },
   {
    "duration": 0,
    "start_time": "2022-08-11T21:38:57.052Z"
   },
   {
    "duration": 0,
    "start_time": "2022-08-11T21:38:57.053Z"
   },
   {
    "duration": 0,
    "start_time": "2022-08-11T21:38:57.054Z"
   },
   {
    "duration": 0,
    "start_time": "2022-08-11T21:38:57.055Z"
   },
   {
    "duration": 0,
    "start_time": "2022-08-11T21:38:57.106Z"
   },
   {
    "duration": 0,
    "start_time": "2022-08-11T21:38:57.108Z"
   },
   {
    "duration": 0,
    "start_time": "2022-08-11T21:38:57.109Z"
   },
   {
    "duration": 0,
    "start_time": "2022-08-11T21:38:57.109Z"
   },
   {
    "duration": 1,
    "start_time": "2022-08-11T21:38:57.110Z"
   },
   {
    "duration": 0,
    "start_time": "2022-08-11T21:38:57.111Z"
   },
   {
    "duration": 1203,
    "start_time": "2022-08-11T21:39:41.459Z"
   },
   {
    "duration": 0,
    "start_time": "2022-08-11T21:39:42.665Z"
   },
   {
    "duration": 0,
    "start_time": "2022-08-11T21:39:42.666Z"
   },
   {
    "duration": 0,
    "start_time": "2022-08-11T21:39:42.668Z"
   },
   {
    "duration": 0,
    "start_time": "2022-08-11T21:39:42.669Z"
   },
   {
    "duration": 0,
    "start_time": "2022-08-11T21:39:42.670Z"
   },
   {
    "duration": 0,
    "start_time": "2022-08-11T21:39:42.672Z"
   },
   {
    "duration": 0,
    "start_time": "2022-08-11T21:39:42.673Z"
   },
   {
    "duration": 0,
    "start_time": "2022-08-11T21:39:42.674Z"
   },
   {
    "duration": 0,
    "start_time": "2022-08-11T21:39:42.675Z"
   },
   {
    "duration": 0,
    "start_time": "2022-08-11T21:39:42.676Z"
   },
   {
    "duration": 0,
    "start_time": "2022-08-11T21:39:42.678Z"
   },
   {
    "duration": 0,
    "start_time": "2022-08-11T21:39:42.679Z"
   },
   {
    "duration": 0,
    "start_time": "2022-08-11T21:39:42.706Z"
   },
   {
    "duration": 0,
    "start_time": "2022-08-11T21:39:42.707Z"
   },
   {
    "duration": 0,
    "start_time": "2022-08-11T21:39:42.708Z"
   },
   {
    "duration": 0,
    "start_time": "2022-08-11T21:39:42.710Z"
   },
   {
    "duration": 0,
    "start_time": "2022-08-11T21:39:42.711Z"
   },
   {
    "duration": 0,
    "start_time": "2022-08-11T21:39:42.712Z"
   },
   {
    "duration": 0,
    "start_time": "2022-08-11T21:39:42.714Z"
   },
   {
    "duration": 0,
    "start_time": "2022-08-11T21:39:42.715Z"
   },
   {
    "duration": 0,
    "start_time": "2022-08-11T21:39:42.716Z"
   },
   {
    "duration": 0,
    "start_time": "2022-08-11T21:39:42.717Z"
   },
   {
    "duration": 0,
    "start_time": "2022-08-11T21:39:42.718Z"
   },
   {
    "duration": 0,
    "start_time": "2022-08-11T21:39:42.720Z"
   },
   {
    "duration": 0,
    "start_time": "2022-08-11T21:39:42.721Z"
   },
   {
    "duration": 0,
    "start_time": "2022-08-11T21:39:42.723Z"
   },
   {
    "duration": 0,
    "start_time": "2022-08-11T21:39:42.724Z"
   },
   {
    "duration": 0,
    "start_time": "2022-08-11T21:39:42.725Z"
   },
   {
    "duration": 0,
    "start_time": "2022-08-11T21:39:42.726Z"
   },
   {
    "duration": 0,
    "start_time": "2022-08-11T21:39:42.728Z"
   },
   {
    "duration": 0,
    "start_time": "2022-08-11T21:39:42.729Z"
   },
   {
    "duration": 0,
    "start_time": "2022-08-11T21:39:42.730Z"
   },
   {
    "duration": 0,
    "start_time": "2022-08-11T21:39:42.732Z"
   },
   {
    "duration": 0,
    "start_time": "2022-08-11T21:39:42.733Z"
   },
   {
    "duration": 0,
    "start_time": "2022-08-11T21:39:42.734Z"
   },
   {
    "duration": 0,
    "start_time": "2022-08-11T21:39:42.735Z"
   },
   {
    "duration": 0,
    "start_time": "2022-08-11T21:39:42.737Z"
   },
   {
    "duration": 0,
    "start_time": "2022-08-11T21:39:42.738Z"
   },
   {
    "duration": 0,
    "start_time": "2022-08-11T21:39:42.739Z"
   },
   {
    "duration": 0,
    "start_time": "2022-08-11T21:39:42.740Z"
   },
   {
    "duration": 1256,
    "start_time": "2022-08-11T21:40:09.385Z"
   },
   {
    "duration": 708,
    "start_time": "2022-08-11T21:40:10.642Z"
   },
   {
    "duration": 17,
    "start_time": "2022-08-11T21:40:11.351Z"
   },
   {
    "duration": 13,
    "start_time": "2022-08-11T21:40:11.370Z"
   },
   {
    "duration": 63,
    "start_time": "2022-08-11T21:40:11.384Z"
   },
   {
    "duration": 74,
    "start_time": "2022-08-11T21:40:11.448Z"
   },
   {
    "duration": 3,
    "start_time": "2022-08-11T21:40:11.523Z"
   },
   {
    "duration": 20,
    "start_time": "2022-08-11T21:40:11.527Z"
   },
   {
    "duration": 4,
    "start_time": "2022-08-11T21:40:11.548Z"
   },
   {
    "duration": 88,
    "start_time": "2022-08-11T21:40:11.554Z"
   },
   {
    "duration": 24,
    "start_time": "2022-08-11T21:40:11.644Z"
   },
   {
    "duration": 7,
    "start_time": "2022-08-11T21:40:11.669Z"
   },
   {
    "duration": 77,
    "start_time": "2022-08-11T21:40:11.678Z"
   },
   {
    "duration": 5,
    "start_time": "2022-08-11T21:40:11.756Z"
   },
   {
    "duration": 1172,
    "start_time": "2022-08-11T21:40:11.762Z"
   },
   {
    "duration": 39,
    "start_time": "2022-08-11T21:40:12.936Z"
   },
   {
    "duration": 32,
    "start_time": "2022-08-11T21:40:12.977Z"
   },
   {
    "duration": 3,
    "start_time": "2022-08-11T21:40:13.011Z"
   },
   {
    "duration": 121,
    "start_time": "2022-08-11T21:40:13.015Z"
   },
   {
    "duration": 42,
    "start_time": "2022-08-11T21:40:13.137Z"
   },
   {
    "duration": 151,
    "start_time": "2022-08-11T21:40:13.181Z"
   },
   {
    "duration": 11,
    "start_time": "2022-08-11T21:40:13.333Z"
   },
   {
    "duration": 19,
    "start_time": "2022-08-11T21:40:13.345Z"
   },
   {
    "duration": 202,
    "start_time": "2022-08-11T21:40:13.365Z"
   },
   {
    "duration": 9,
    "start_time": "2022-08-11T21:40:13.569Z"
   },
   {
    "duration": 180,
    "start_time": "2022-08-11T21:40:13.579Z"
   },
   {
    "duration": 32,
    "start_time": "2022-08-11T21:40:13.760Z"
   },
   {
    "duration": 77,
    "start_time": "2022-08-11T21:40:13.808Z"
   },
   {
    "duration": 3,
    "start_time": "2022-08-11T21:40:13.886Z"
   },
   {
    "duration": 17,
    "start_time": "2022-08-11T21:40:13.890Z"
   },
   {
    "duration": 114,
    "start_time": "2022-08-11T21:40:13.909Z"
   },
   {
    "duration": 0,
    "start_time": "2022-08-11T21:40:14.024Z"
   },
   {
    "duration": 0,
    "start_time": "2022-08-11T21:40:14.025Z"
   },
   {
    "duration": 0,
    "start_time": "2022-08-11T21:40:14.026Z"
   },
   {
    "duration": 0,
    "start_time": "2022-08-11T21:40:14.027Z"
   },
   {
    "duration": 0,
    "start_time": "2022-08-11T21:40:14.028Z"
   },
   {
    "duration": 0,
    "start_time": "2022-08-11T21:40:14.028Z"
   },
   {
    "duration": 0,
    "start_time": "2022-08-11T21:40:14.029Z"
   },
   {
    "duration": 0,
    "start_time": "2022-08-11T21:40:14.030Z"
   },
   {
    "duration": 0,
    "start_time": "2022-08-11T21:40:14.031Z"
   },
   {
    "duration": 0,
    "start_time": "2022-08-11T21:40:14.032Z"
   },
   {
    "duration": 2008,
    "start_time": "2022-08-11T21:57:45.617Z"
   },
   {
    "duration": 1985,
    "start_time": "2022-08-11T21:58:02.195Z"
   },
   {
    "duration": 3101,
    "start_time": "2022-08-11T21:59:57.257Z"
   },
   {
    "duration": 4332,
    "start_time": "2022-08-11T22:00:49.450Z"
   },
   {
    "duration": 3926,
    "start_time": "2022-08-11T22:01:19.516Z"
   },
   {
    "duration": 6,
    "start_time": "2022-08-11T22:01:37.655Z"
   },
   {
    "duration": 8,
    "start_time": "2022-08-11T22:01:38.589Z"
   },
   {
    "duration": 3,
    "start_time": "2022-08-11T22:03:56.465Z"
   },
   {
    "duration": 9,
    "start_time": "2022-08-11T22:04:01.605Z"
   },
   {
    "duration": 102,
    "start_time": "2022-08-11T22:05:54.420Z"
   },
   {
    "duration": 98,
    "start_time": "2022-08-11T22:06:21.474Z"
   },
   {
    "duration": 3,
    "start_time": "2022-08-11T22:06:35.424Z"
   },
   {
    "duration": 8,
    "start_time": "2022-08-11T22:06:42.824Z"
   },
   {
    "duration": 5,
    "start_time": "2022-08-11T22:07:21.186Z"
   },
   {
    "duration": 8,
    "start_time": "2022-08-11T22:07:22.332Z"
   },
   {
    "duration": 7,
    "start_time": "2022-08-11T22:07:23.552Z"
   },
   {
    "duration": 8,
    "start_time": "2022-08-11T22:07:24.441Z"
   },
   {
    "duration": 8,
    "start_time": "2022-08-11T22:07:25.114Z"
   },
   {
    "duration": 5,
    "start_time": "2022-08-11T22:28:57.349Z"
   },
   {
    "duration": 87,
    "start_time": "2022-08-12T19:17:44.780Z"
   }
  ],
  "kernelspec": {
   "display_name": "Python 3 (ipykernel)",
   "language": "python",
   "name": "python3"
  },
  "language_info": {
   "codemirror_mode": {
    "name": "ipython",
    "version": 3
   },
   "file_extension": ".py",
   "mimetype": "text/x-python",
   "name": "python",
   "nbconvert_exporter": "python",
   "pygments_lexer": "ipython3",
   "version": "3.9.12"
  },
  "toc": {
   "base_numbering": 1,
   "nav_menu": {},
   "number_sections": true,
   "sideBar": true,
   "skip_h1_title": true,
   "title_cell": "Table of Contents",
   "title_sidebar": "Contents",
   "toc_cell": false,
   "toc_position": {},
   "toc_section_display": true,
   "toc_window_display": false
  }
 },
 "nbformat": 4,
 "nbformat_minor": 5
}
