{
 "cells": [
  {
   "cell_type": "code",
   "execution_count": 1,
   "id": "6fcd77df",
   "metadata": {},
   "outputs": [],
   "source": [
    "import pandas as pd\n",
    "import numpy as np\n",
    "\n",
    "from scipy import stats as st\n",
    "\n",
    "import warnings\n",
    "warnings.filterwarnings(action='ignore')\n",
    "\n",
    "from matplotlib import pyplot as plt\n",
    "import seaborn as sns\n",
    "%matplotlib inline\n",
    "\n",
    "import os\n",
    "\n",
    "pd.options.display.float_format = '{:.2f}'.format\n",
    "\n",
    "pth1 = '/Users/vadimhlebnikov/Downloads/messages.csv'\n",
    "pth2 = '/datasets/messages.csv'\n",
    "\n",
    "if os.path.exists(pth1):\n",
    "    messages = pd.read_csv('/Users/vadimhlebnikov/Downloads/messages.csv')\n",
    "    calls = pd.read_csv('/Users/vadimhlebnikov/Downloads/calls.csv')\n",
    "    internet = pd.read_csv('/Users/vadimhlebnikov/Downloads/internet.csv')\n",
    "    tariffs = pd.read_csv('/Users/vadimhlebnikov/Downloads/tariffs.csv')\n",
    "    users = pd.read_csv('/Users/vadimhlebnikov/Downloads/users.csv')\n",
    "elif os.path.exists(pth2):\n",
    "    messages = pd.read_csv('/datasets/messages.csv')\n",
    "    calls = pd.read_csv('/datasets/calls.csv')\n",
    "    internet = pd.read_csv('/datasets/internet.csv')\n",
    "    tariffs = pd.read_csv('/datasets/tariffs.csv')\n",
    "    users = pd.read_csv('/datasets/users.csv')\n",
    "else:\n",
    "    print('Something is wrong')"
   ]
  },
  {
   "cell_type": "markdown",
   "id": "96cf76fd",
   "metadata": {},
   "source": [
    "## Содержание\n",
    "* [Изучение данных из файлов](#chapter1)\n",
    "* [Предобработка данных](#chapter2)\n",
    "* [Исследовательский анализ данных](#chapter3)\n",
    " * [Подготовка данных](#chapter3.1)\n",
    " * [Анализ данных](#chapter3.2)\n",
    " * [Проверка гипотез](#chapter3.3)\n",
    "* [Общий вывод](#chapter4)"
   ]
  },
  {
   "cell_type": "markdown",
   "id": "19418bb1",
   "metadata": {},
   "source": [
    "## Изучение данных из файлов <a class =\"anchor\" id=\"chapter1\"></a>"
   ]
  },
  {
   "cell_type": "code",
   "execution_count": 2,
   "id": "46e4b48e",
   "metadata": {
    "scrolled": false
   },
   "outputs": [
    {
     "name": "stdout",
     "output_type": "stream",
     "text": [
      "id              0\n",
      "message_date    0\n",
      "user_id         0\n",
      "dtype: int64\n",
      "-------------//-------------\n",
      "id           0\n",
      "call_date    0\n",
      "duration     0\n",
      "user_id      0\n",
      "dtype: int64\n",
      "-------------//-------------\n",
      "Unnamed: 0      0\n",
      "id              0\n",
      "mb_used         0\n",
      "session_date    0\n",
      "user_id         0\n",
      "dtype: int64\n",
      "-------------//-------------\n",
      "messages_included        0\n",
      "mb_per_month_included    0\n",
      "minutes_included         0\n",
      "rub_monthly_fee          0\n",
      "rub_per_gb               0\n",
      "rub_per_message          0\n",
      "rub_per_minute           0\n",
      "tariff_name              0\n",
      "dtype: int64\n",
      "-------------//-------------\n",
      "user_id         0\n",
      "age             0\n",
      "churn_date    462\n",
      "city            0\n",
      "first_name      0\n",
      "last_name       0\n",
      "reg_date        0\n",
      "tariff          0\n",
      "dtype: int64\n",
      "-------------//-------------\n"
     ]
    }
   ],
   "source": [
    "#Проверяем наличие пропусков в датафреймах\n",
    "dfs = [messages,calls,internet,tariffs,users]\n",
    "for df in dfs:\n",
    "    print(df.isna().sum())\n",
    "    print('-------------//-------------')\n"
   ]
  },
  {
   "cell_type": "code",
   "execution_count": 3,
   "id": "086b23fc",
   "metadata": {
    "scrolled": true
   },
   "outputs": [
    {
     "name": "stdout",
     "output_type": "stream",
     "text": [
      "<class 'pandas.core.frame.DataFrame'>\n",
      "RangeIndex: 123036 entries, 0 to 123035\n",
      "Data columns (total 3 columns):\n",
      " #   Column        Non-Null Count   Dtype \n",
      "---  ------        --------------   ----- \n",
      " 0   id            123036 non-null  object\n",
      " 1   message_date  123036 non-null  object\n",
      " 2   user_id       123036 non-null  int64 \n",
      "dtypes: int64(1), object(2)\n",
      "memory usage: 2.8+ MB\n",
      "None\n",
      "-------------//-------------\n",
      "<class 'pandas.core.frame.DataFrame'>\n",
      "RangeIndex: 202607 entries, 0 to 202606\n",
      "Data columns (total 4 columns):\n",
      " #   Column     Non-Null Count   Dtype  \n",
      "---  ------     --------------   -----  \n",
      " 0   id         202607 non-null  object \n",
      " 1   call_date  202607 non-null  object \n",
      " 2   duration   202607 non-null  float64\n",
      " 3   user_id    202607 non-null  int64  \n",
      "dtypes: float64(1), int64(1), object(2)\n",
      "memory usage: 6.2+ MB\n",
      "None\n",
      "-------------//-------------\n",
      "<class 'pandas.core.frame.DataFrame'>\n",
      "RangeIndex: 149396 entries, 0 to 149395\n",
      "Data columns (total 5 columns):\n",
      " #   Column        Non-Null Count   Dtype  \n",
      "---  ------        --------------   -----  \n",
      " 0   Unnamed: 0    149396 non-null  int64  \n",
      " 1   id            149396 non-null  object \n",
      " 2   mb_used       149396 non-null  float64\n",
      " 3   session_date  149396 non-null  object \n",
      " 4   user_id       149396 non-null  int64  \n",
      "dtypes: float64(1), int64(2), object(2)\n",
      "memory usage: 5.7+ MB\n",
      "None\n",
      "-------------//-------------\n",
      "<class 'pandas.core.frame.DataFrame'>\n",
      "RangeIndex: 2 entries, 0 to 1\n",
      "Data columns (total 8 columns):\n",
      " #   Column                 Non-Null Count  Dtype \n",
      "---  ------                 --------------  ----- \n",
      " 0   messages_included      2 non-null      int64 \n",
      " 1   mb_per_month_included  2 non-null      int64 \n",
      " 2   minutes_included       2 non-null      int64 \n",
      " 3   rub_monthly_fee        2 non-null      int64 \n",
      " 4   rub_per_gb             2 non-null      int64 \n",
      " 5   rub_per_message        2 non-null      int64 \n",
      " 6   rub_per_minute         2 non-null      int64 \n",
      " 7   tariff_name            2 non-null      object\n",
      "dtypes: int64(7), object(1)\n",
      "memory usage: 256.0+ bytes\n",
      "None\n",
      "-------------//-------------\n",
      "<class 'pandas.core.frame.DataFrame'>\n",
      "RangeIndex: 500 entries, 0 to 499\n",
      "Data columns (total 8 columns):\n",
      " #   Column      Non-Null Count  Dtype \n",
      "---  ------      --------------  ----- \n",
      " 0   user_id     500 non-null    int64 \n",
      " 1   age         500 non-null    int64 \n",
      " 2   churn_date  38 non-null     object\n",
      " 3   city        500 non-null    object\n",
      " 4   first_name  500 non-null    object\n",
      " 5   last_name   500 non-null    object\n",
      " 6   reg_date    500 non-null    object\n",
      " 7   tariff      500 non-null    object\n",
      "dtypes: int64(2), object(6)\n",
      "memory usage: 31.4+ KB\n",
      "None\n",
      "-------------//-------------\n"
     ]
    }
   ],
   "source": [
    "for df in dfs:\n",
    "    print(df.info())\n",
    "    print('-------------//-------------')"
   ]
  },
  {
   "cell_type": "code",
   "execution_count": 4,
   "id": "d39a9e18",
   "metadata": {},
   "outputs": [
    {
     "name": "stdout",
     "output_type": "stream",
     "text": [
      "0\n",
      "0\n",
      "0\n",
      "0\n",
      "0\n"
     ]
    }
   ],
   "source": [
    "#проверяем дубликаты\n",
    "dfs = [messages,calls,internet,tariffs,users]\n",
    "for df in dfs:\n",
    "    print(df.duplicated().sum())"
   ]
  },
  {
   "cell_type": "markdown",
   "id": "cfc0efca",
   "metadata": {},
   "source": [
    "### Вывод\n",
    "Представленные датафреймы характеризуются сравительно небольшим объемом пропусков. Они присутствуют только в столбце users['churn_date'] и могут быть легко заменены. Кроме того, стоит удалить дублирующий столбец internet ['Unnamed: 0']. Также в датафреймах указан некорректный тип файлов с датами, его нужно изменить. Явных дубликатов нет."
   ]
  },
  {
   "cell_type": "markdown",
   "id": "86db4ea4",
   "metadata": {},
   "source": [
    "## Предобработка данных <a class =\"anchor\" id=\"chapter2\"></a>"
   ]
  },
  {
   "cell_type": "markdown",
   "id": "5a91d586",
   "metadata": {},
   "source": [
    "### Заполнение пропусков и изменение типов данных"
   ]
  },
  {
   "cell_type": "code",
   "execution_count": 5,
   "id": "6655ca79",
   "metadata": {
    "scrolled": true
   },
   "outputs": [],
   "source": [
    "#Заполняем единственный столбец с пропусками\n",
    "users = users.fillna('действующий')"
   ]
  },
  {
   "cell_type": "code",
   "execution_count": 6,
   "id": "99ba13f6",
   "metadata": {},
   "outputs": [],
   "source": [
    "messages['message_date'] = pd.to_datetime(messages.message_date,format='%Y-%m-%d')\n",
    "calls['call_date'] = pd.to_datetime(calls.call_date,format='%Y-%m-%d')\n",
    "internet['session_date'] = pd.to_datetime(internet.session_date,format='%Y-%m-%d')\n"
   ]
  },
  {
   "cell_type": "code",
   "execution_count": 7,
   "id": "fb3343d0",
   "metadata": {
    "scrolled": true
   },
   "outputs": [
    {
     "name": "stdout",
     "output_type": "stream",
     "text": [
      "<class 'pandas.core.frame.DataFrame'>\n",
      "RangeIndex: 123036 entries, 0 to 123035\n",
      "Data columns (total 3 columns):\n",
      " #   Column        Non-Null Count   Dtype         \n",
      "---  ------        --------------   -----         \n",
      " 0   id            123036 non-null  object        \n",
      " 1   message_date  123036 non-null  datetime64[ns]\n",
      " 2   user_id       123036 non-null  int64         \n",
      "dtypes: datetime64[ns](1), int64(1), object(1)\n",
      "memory usage: 2.8+ MB\n"
     ]
    }
   ],
   "source": [
    "#Проверка\n",
    "messages.info()"
   ]
  },
  {
   "cell_type": "code",
   "execution_count": 8,
   "id": "b03c9b58",
   "metadata": {},
   "outputs": [
    {
     "data": {
      "text/html": [
       "<div>\n",
       "<style scoped>\n",
       "    .dataframe tbody tr th:only-of-type {\n",
       "        vertical-align: middle;\n",
       "    }\n",
       "\n",
       "    .dataframe tbody tr th {\n",
       "        vertical-align: top;\n",
       "    }\n",
       "\n",
       "    .dataframe thead th {\n",
       "        text-align: right;\n",
       "    }\n",
       "</style>\n",
       "<table border=\"1\" class=\"dataframe\">\n",
       "  <thead>\n",
       "    <tr style=\"text-align: right;\">\n",
       "      <th></th>\n",
       "      <th>id</th>\n",
       "      <th>mb_used</th>\n",
       "      <th>session_date</th>\n",
       "      <th>user_id</th>\n",
       "    </tr>\n",
       "  </thead>\n",
       "  <tbody>\n",
       "    <tr>\n",
       "      <th>0</th>\n",
       "      <td>1000_0</td>\n",
       "      <td>112.95</td>\n",
       "      <td>2018-11-25</td>\n",
       "      <td>1000</td>\n",
       "    </tr>\n",
       "    <tr>\n",
       "      <th>1</th>\n",
       "      <td>1000_1</td>\n",
       "      <td>1052.81</td>\n",
       "      <td>2018-09-07</td>\n",
       "      <td>1000</td>\n",
       "    </tr>\n",
       "    <tr>\n",
       "      <th>2</th>\n",
       "      <td>1000_2</td>\n",
       "      <td>1197.26</td>\n",
       "      <td>2018-06-25</td>\n",
       "      <td>1000</td>\n",
       "    </tr>\n",
       "    <tr>\n",
       "      <th>3</th>\n",
       "      <td>1000_3</td>\n",
       "      <td>550.27</td>\n",
       "      <td>2018-08-22</td>\n",
       "      <td>1000</td>\n",
       "    </tr>\n",
       "    <tr>\n",
       "      <th>4</th>\n",
       "      <td>1000_4</td>\n",
       "      <td>302.56</td>\n",
       "      <td>2018-09-24</td>\n",
       "      <td>1000</td>\n",
       "    </tr>\n",
       "    <tr>\n",
       "      <th>...</th>\n",
       "      <td>...</td>\n",
       "      <td>...</td>\n",
       "      <td>...</td>\n",
       "      <td>...</td>\n",
       "    </tr>\n",
       "    <tr>\n",
       "      <th>149391</th>\n",
       "      <td>1499_152</td>\n",
       "      <td>318.90</td>\n",
       "      <td>2018-10-03</td>\n",
       "      <td>1499</td>\n",
       "    </tr>\n",
       "    <tr>\n",
       "      <th>149392</th>\n",
       "      <td>1499_153</td>\n",
       "      <td>490.13</td>\n",
       "      <td>2018-12-14</td>\n",
       "      <td>1499</td>\n",
       "    </tr>\n",
       "    <tr>\n",
       "      <th>149393</th>\n",
       "      <td>1499_154</td>\n",
       "      <td>0.00</td>\n",
       "      <td>2018-10-27</td>\n",
       "      <td>1499</td>\n",
       "    </tr>\n",
       "    <tr>\n",
       "      <th>149394</th>\n",
       "      <td>1499_155</td>\n",
       "      <td>1246.32</td>\n",
       "      <td>2018-11-26</td>\n",
       "      <td>1499</td>\n",
       "    </tr>\n",
       "    <tr>\n",
       "      <th>149395</th>\n",
       "      <td>1499_156</td>\n",
       "      <td>544.37</td>\n",
       "      <td>2018-10-26</td>\n",
       "      <td>1499</td>\n",
       "    </tr>\n",
       "  </tbody>\n",
       "</table>\n",
       "<p>149396 rows × 4 columns</p>\n",
       "</div>"
      ],
      "text/plain": [
       "              id  mb_used session_date  user_id\n",
       "0         1000_0   112.95   2018-11-25     1000\n",
       "1         1000_1  1052.81   2018-09-07     1000\n",
       "2         1000_2  1197.26   2018-06-25     1000\n",
       "3         1000_3   550.27   2018-08-22     1000\n",
       "4         1000_4   302.56   2018-09-24     1000\n",
       "...          ...      ...          ...      ...\n",
       "149391  1499_152   318.90   2018-10-03     1499\n",
       "149392  1499_153   490.13   2018-12-14     1499\n",
       "149393  1499_154     0.00   2018-10-27     1499\n",
       "149394  1499_155  1246.32   2018-11-26     1499\n",
       "149395  1499_156   544.37   2018-10-26     1499\n",
       "\n",
       "[149396 rows x 4 columns]"
      ]
     },
     "execution_count": 8,
     "metadata": {},
     "output_type": "execute_result"
    }
   ],
   "source": [
    "#Удаляем дублирующий столбец \n",
    "internet = internet.drop(columns=['Unnamed: 0'])\n",
    "internet"
   ]
  },
  {
   "cell_type": "code",
   "execution_count": 9,
   "id": "46677904",
   "metadata": {},
   "outputs": [
    {
     "data": {
      "text/plain": [
       "['Архангельск',\n",
       " 'Астрахань',\n",
       " 'Балашиха',\n",
       " 'Барнаул',\n",
       " 'Белгород',\n",
       " 'Брянск',\n",
       " 'Владивосток',\n",
       " 'Владикавказ',\n",
       " 'Владимир',\n",
       " 'Волгоград',\n",
       " 'Волжский',\n",
       " 'Вологда',\n",
       " 'Воронеж',\n",
       " 'Грозный',\n",
       " 'Екатеринбург',\n",
       " 'Иваново',\n",
       " 'Ижевск',\n",
       " 'Иркутск',\n",
       " 'Казань',\n",
       " 'Калининград',\n",
       " 'Калуга',\n",
       " 'Кемерово',\n",
       " 'Киров',\n",
       " 'Кострома',\n",
       " 'Краснодар',\n",
       " 'Красноярск',\n",
       " 'Курган',\n",
       " 'Курск',\n",
       " 'Липецк',\n",
       " 'Магнитогорск',\n",
       " 'Махачкала',\n",
       " 'Москва',\n",
       " 'Мурманск',\n",
       " 'Набережные Челны',\n",
       " 'Нижневартовск',\n",
       " 'Нижний Новгород',\n",
       " 'Нижний Тагил',\n",
       " 'Новокузнецк',\n",
       " 'Новороссийск',\n",
       " 'Новосибирск',\n",
       " 'Омск',\n",
       " 'Оренбург',\n",
       " 'Орёл',\n",
       " 'Пенза',\n",
       " 'Пермь',\n",
       " 'Петрозаводск',\n",
       " 'Подольск',\n",
       " 'Ростов-на-Дону',\n",
       " 'Рязань',\n",
       " 'Самара',\n",
       " 'Санкт-Петербург',\n",
       " 'Саранск',\n",
       " 'Саратов',\n",
       " 'Севастополь',\n",
       " 'Смоленск',\n",
       " 'Сочи',\n",
       " 'Ставрополь',\n",
       " 'Стерлитамак',\n",
       " 'Сургут',\n",
       " 'Тамбов',\n",
       " 'Тверь',\n",
       " 'Тольятти',\n",
       " 'Томск',\n",
       " 'Тула',\n",
       " 'Тюмень',\n",
       " 'Улан-Удэ',\n",
       " 'Ульяновск',\n",
       " 'Уфа',\n",
       " 'Хабаровск',\n",
       " 'Химки',\n",
       " 'Чебоксары',\n",
       " 'Челябинск',\n",
       " 'Череповец',\n",
       " 'Чита',\n",
       " 'Якутск',\n",
       " 'Ярославль']"
      ]
     },
     "execution_count": 9,
     "metadata": {},
     "output_type": "execute_result"
    }
   ],
   "source": [
    "#проверяем на неявные дубликаты \n",
    "sorted_city = users['city'].unique().tolist()\n",
    "sorted_city.sort()\n",
    "sorted_city"
   ]
  },
  {
   "cell_type": "markdown",
   "id": "a051674e",
   "metadata": {},
   "source": [
    "Данные переведены в корретный формат. Наявных дубликатов не выявлено. "
   ]
  },
  {
   "cell_type": "markdown",
   "id": "ed531cc5",
   "metadata": {},
   "source": [
    " ## Исследовательский анализ данных <a class =\"anchor\" id=\"chapter3\"></a>"
   ]
  },
  {
   "cell_type": "code",
   "execution_count": 10,
   "id": "6a3fe64b",
   "metadata": {},
   "outputs": [
    {
     "name": "stdout",
     "output_type": "stream",
     "text": [
      "        user_id\n",
      "count 123036.00\n",
      "mean    1256.99\n",
      "std      143.52\n",
      "min     1000.00\n",
      "25%     1134.00\n",
      "50%     1271.00\n",
      "75%     1381.00\n",
      "max     1499.00\n",
      "-------------//-------------\n",
      "       duration   user_id\n",
      "count 202607.00 202607.00\n",
      "mean       6.76   1253.94\n",
      "std        5.84    144.72\n",
      "min        0.00   1000.00\n",
      "25%        1.30   1126.00\n",
      "50%        6.00   1260.00\n",
      "75%       10.70   1379.00\n",
      "max       38.00   1499.00\n",
      "-------------//-------------\n",
      "        mb_used   user_id\n",
      "count 149396.00 149396.00\n",
      "mean     370.19   1252.10\n",
      "std      278.30    144.05\n",
      "min        0.00   1000.00\n",
      "25%      138.19   1130.00\n",
      "50%      348.01   1251.00\n",
      "75%      559.55   1380.00\n",
      "max     1724.83   1499.00\n",
      "-------------//-------------\n",
      "       messages_included  mb_per_month_included  minutes_included  \\\n",
      "count               2.00                   2.00              2.00   \n",
      "mean              525.00               23040.00           1750.00   \n",
      "std               671.75               10861.16           1767.77   \n",
      "min                50.00               15360.00            500.00   \n",
      "25%               287.50               19200.00           1125.00   \n",
      "50%               525.00               23040.00           1750.00   \n",
      "75%               762.50               26880.00           2375.00   \n",
      "max              1000.00               30720.00           3000.00   \n",
      "\n",
      "       rub_monthly_fee  rub_per_gb  rub_per_message  rub_per_minute  \n",
      "count             2.00        2.00             2.00            2.00  \n",
      "mean           1250.00      175.00             2.00            2.00  \n",
      "std             989.95       35.36             1.41            1.41  \n",
      "min             550.00      150.00             1.00            1.00  \n",
      "25%             900.00      162.50             1.50            1.50  \n",
      "50%            1250.00      175.00             2.00            2.00  \n",
      "75%            1600.00      187.50             2.50            2.50  \n",
      "max            1950.00      200.00             3.00            3.00  \n",
      "-------------//-------------\n",
      "       user_id    age\n",
      "count   500.00 500.00\n",
      "mean   1249.50  46.59\n",
      "std     144.48  16.67\n",
      "min    1000.00  18.00\n",
      "25%    1124.75  32.00\n",
      "50%    1249.50  46.00\n",
      "75%    1374.25  62.00\n",
      "max    1499.00  75.00\n",
      "-------------//-------------\n"
     ]
    }
   ],
   "source": [
    "#анализируем основные характеристики выборок. Явно ошибочных значений не выявлено\n",
    "dfs = [messages,calls,internet,tariffs,users]\n",
    "for df in dfs:\n",
    "    print(df.describe())\n",
    "    print('-------------//-------------')"
   ]
  },
  {
   "cell_type": "markdown",
   "id": "5ef33b12",
   "metadata": {},
   "source": [
    "### Подготовка данных <a class =\"anchor\" id=\"chapter3.1\"></a>"
   ]
  },
  {
   "cell_type": "code",
   "execution_count": 11,
   "id": "a21f4e0f",
   "metadata": {
    "scrolled": true
   },
   "outputs": [
    {
     "data": {
      "text/plain": [
       "<AxesSubplot:>"
      ]
     },
     "execution_count": 11,
     "metadata": {},
     "output_type": "execute_result"
    },
    {
     "data": {
      "image/png": "[encoded data removed]",
      "text/plain": [
       "<Figure size 432x288 with 1 Axes>"
      ]
     },
     "metadata": {
      "needs_background": "light"
     },
     "output_type": "display_data"
    }
   ],
   "source": [
    "internet['mb_used'].hist(bins=30)"
   ]
  },
  {
   "cell_type": "code",
   "execution_count": 12,
   "id": "82f7bc7c",
   "metadata": {},
   "outputs": [],
   "source": [
    "#Функция, убирающая выбросы\n",
    "def drop_ej(df, field_name):\n",
    "    distance = 1.5 * (np.percentile(df[field_name], 75) - np.percentile(df[field_name], 25))\n",
    "    df.drop(df[df[field_name] > distance + np.percentile(df[field_name], 75)].index, inplace=True)\n",
    "    df.drop(df[df[field_name] < np.percentile(df[field_name], 25) - distance].index, inplace=True)\n",
    "#Образаем выбросы по длительности звонков и использованию интеренета    \n",
    "drop_ej(calls,'duration')\n",
    "drop_ej(internet,'mb_used')"
   ]
  },
  {
   "cell_type": "code",
   "execution_count": 13,
   "id": "28084f0a",
   "metadata": {},
   "outputs": [
    {
     "data": {
      "text/plain": [
       "<AxesSubplot:>"
      ]
     },
     "execution_count": 13,
     "metadata": {},
     "output_type": "execute_result"
    },
    {
     "data": {
      "image/png": "[encoded data removed]",
      "text/plain": [
       "<Figure size 432x288 with 1 Axes>"
      ]
     },
     "metadata": {
      "needs_background": "light"
     },
     "output_type": "display_data"
    }
   ],
   "source": [
    "calls['duration'].hist(bins=30)"
   ]
  },
  {
   "cell_type": "code",
   "execution_count": 14,
   "id": "af688353",
   "metadata": {},
   "outputs": [],
   "source": [
    "#уберем в данных по интенету нулевые сессии\n",
    "internet = internet.query('mb_used != 0')"
   ]
  },
  {
   "cell_type": "code",
   "execution_count": 15,
   "id": "9cdf7994",
   "metadata": {},
   "outputs": [
    {
     "data": {
      "text/plain": [
       "<AxesSubplot:>"
      ]
     },
     "execution_count": 15,
     "metadata": {},
     "output_type": "execute_result"
    },
    {
     "data": {
      "image/png": "[encoded data removed]",
      "text/plain": [
       "<Figure size 432x288 with 1 Axes>"
      ]
     },
     "metadata": {
      "needs_background": "light"
     },
     "output_type": "display_data"
    }
   ],
   "source": [
    "internet['mb_used'].hist(bins=30)"
   ]
  },
  {
   "cell_type": "code",
   "execution_count": 16,
   "id": "1f853a4e",
   "metadata": {},
   "outputs": [],
   "source": [
    "#округляем в большую сторону звонки\n",
    "\n",
    "calls['duration'] = np.ceil(calls['duration'])"
   ]
  },
  {
   "cell_type": "code",
   "execution_count": 17,
   "id": "e2bae5f9",
   "metadata": {},
   "outputs": [],
   "source": [
    "#добавляем стобцы с месяцами\n",
    "calls['month'] = calls['call_date'].dt.month \n",
    "messages['month'] = messages['message_date'].dt.month\n",
    "internet['month'] = internet['session_date'].dt.month"
   ]
  },
  {
   "cell_type": "code",
   "execution_count": 18,
   "id": "8f41447d",
   "metadata": {},
   "outputs": [
    {
     "data": {
      "text/plain": [
       "<AxesSubplot:xlabel='month'>"
      ]
     },
     "execution_count": 18,
     "metadata": {},
     "output_type": "execute_result"
    },
    {
     "data": {
      "image/png": "[encoded data removed]",
      "text/plain": [
       "<Figure size 432x288 with 1 Axes>"
      ]
     },
     "metadata": {
      "needs_background": "light"
     },
     "output_type": "display_data"
    }
   ],
   "source": [
    "calls.pivot_table(index=['month'],aggfunc='sum')['duration'].plot()"
   ]
  },
  {
   "cell_type": "code",
   "execution_count": 19,
   "id": "a30913a8",
   "metadata": {
    "scrolled": true
   },
   "outputs": [
    {
     "data": {
      "text/plain": [
       "<AxesSubplot:xlabel='month'>"
      ]
     },
     "execution_count": 19,
     "metadata": {},
     "output_type": "execute_result"
    },
    {
     "data": {
      "image/png": "[encoded data removed]",
      "text/plain": [
       "<Figure size 432x288 with 1 Axes>"
      ]
     },
     "metadata": {
      "needs_background": "light"
     },
     "output_type": "display_data"
    }
   ],
   "source": [
    "messages.pivot_table(index=['month'],aggfunc='count')['id'].plot() "
   ]
  },
  {
   "cell_type": "code",
   "execution_count": 20,
   "id": "843e6d2e",
   "metadata": {},
   "outputs": [
    {
     "data": {
      "text/plain": [
       "<AxesSubplot:xlabel='month'>"
      ]
     },
     "execution_count": 20,
     "metadata": {},
     "output_type": "execute_result"
    },
    {
     "data": {
      "image/png": "[encoded data removed]",
      "text/plain": [
       "<Figure size 432x288 with 1 Axes>"
      ]
     },
     "metadata": {
      "needs_background": "light"
     },
     "output_type": "display_data"
    }
   ],
   "source": [
    "internet.pivot_table(index=['month'],aggfunc='sum')['mb_used'].plot()"
   ]
  },
  {
   "cell_type": "code",
   "execution_count": 21,
   "id": "bc0ec564",
   "metadata": {
    "scrolled": true
   },
   "outputs": [],
   "source": [
    "# создаем сводные таблицы по user_id и месяцам\n",
    "internet_pivot = pd.pivot_table(data=internet,index=['user_id','month'],aggfunc='sum')\n",
    "calls_pivot = pd.pivot_table(data=calls,index=['user_id','month'],aggfunc='sum')\n",
    "messages_pivot = pd.pivot_table(data=messages,index=['user_id','month'],aggfunc='count')\n",
    "\n",
    "messages_pivot = messages_pivot.drop(columns = 'id')\n",
    "\n",
    "#Объединяем сводные таблицы\n",
    "messages_pivot.columns = messages_pivot.columns.str.replace(\"message_date\", \"sms\")\n",
    "merged = calls_pivot.merge(messages_pivot,left_index=True,right_index=True,how='outer')\n",
    "merged = merged.merge(internet_pivot,left_index=True,right_index=True,how='outer')\n",
    "\n",
    "# Переводм месячное значение интернет-трафика в гигабайты и округляем в большую сторону с удалением \"старой\" колонки\n",
    "merged['gb_used'] = np.ceil(merged['mb_used']/1024)\n",
    "#merged = merged.drop(columns=['mb_used'])\n",
    "\n",
    "merged.reset_index()\n",
    "\n",
    "#присоединяем к датафрейму данные клиентов\n",
    "merged = merged.merge(users, on='user_id',how='outer')\n",
    "\n",
    "   \n",
    "\n",
    "\n",
    "\n",
    "\n",
    "\n"
   ]
  },
  {
   "cell_type": "code",
   "execution_count": 22,
   "id": "07cf50cc",
   "metadata": {},
   "outputs": [
    {
     "data": {
      "text/plain": [
       "<AxesSubplot:xlabel='month'>"
      ]
     },
     "execution_count": 22,
     "metadata": {},
     "output_type": "execute_result"
    },
    {
     "data": {
      "image/png": "[encoded data removed]",
      "text/plain": [
       "<Figure size 432x288 with 1 Axes>"
      ]
     },
     "metadata": {
      "needs_background": "light"
     },
     "output_type": "display_data"
    }
   ],
   "source": [
    "#Построим графики помоесячного потребления различных услуг абонентами\n",
    "\n",
    "calls_pivot.reset_index().groupby('month').aggregate('mean')['duration'].plot()"
   ]
  },
  {
   "cell_type": "code",
   "execution_count": 23,
   "id": "00456598",
   "metadata": {},
   "outputs": [
    {
     "data": {
      "text/plain": [
       "<AxesSubplot:xlabel='month'>"
      ]
     },
     "execution_count": 23,
     "metadata": {},
     "output_type": "execute_result"
    },
    {
     "data": {
      "image/png": "[encoded data removed]",
      "text/plain": [
       "<Figure size 432x288 with 1 Axes>"
      ]
     },
     "metadata": {
      "needs_background": "light"
     },
     "output_type": "display_data"
    }
   ],
   "source": [
    "messages_pivot.reset_index().groupby('month').aggregate('mean')['sms'].plot()"
   ]
  },
  {
   "cell_type": "code",
   "execution_count": 24,
   "id": "dc1031e2",
   "metadata": {},
   "outputs": [
    {
     "data": {
      "text/plain": [
       "<AxesSubplot:xlabel='month'>"
      ]
     },
     "execution_count": 24,
     "metadata": {},
     "output_type": "execute_result"
    },
    {
     "data": {
      "image/png": "[encoded data removed]",
      "text/plain": [
       "<Figure size 432x288 with 1 Axes>"
      ]
     },
     "metadata": {
      "needs_background": "light"
     },
     "output_type": "display_data"
    }
   ],
   "source": [
    "internet_pivot.reset_index().groupby('month').aggregate('mean')['mb_used'].plot()"
   ]
  },
  {
   "cell_type": "markdown",
   "id": "c0f600ba",
   "metadata": {},
   "source": [
    "Как видно из представленных выше графиков, согласно прредложенным к обработке данным, потребление телекоммуникационных услуг растет от начала к концу года."
   ]
  },
  {
   "cell_type": "code",
   "execution_count": 25,
   "id": "4b41619d",
   "metadata": {
    "scrolled": true
   },
   "outputs": [
    {
     "data": {
      "text/plain": [
       "user_id         0\n",
       "duration       42\n",
       "sms           499\n",
       "mb_used        15\n",
       "gb_used        15\n",
       "age             0\n",
       "churn_date      0\n",
       "city            0\n",
       "first_name      0\n",
       "last_name       0\n",
       "reg_date        0\n",
       "tariff          0\n",
       "dtype: int64"
      ]
     },
     "execution_count": 25,
     "metadata": {},
     "output_type": "execute_result"
    }
   ],
   "source": [
    "merged.isna().sum()"
   ]
  },
  {
   "cell_type": "code",
   "execution_count": 26,
   "id": "58f9112c",
   "metadata": {},
   "outputs": [],
   "source": [
    "merged = merged.fillna(0)\n"
   ]
  },
  {
   "cell_type": "code",
   "execution_count": 27,
   "id": "fc0b532e",
   "metadata": {},
   "outputs": [
    {
     "data": {
      "text/plain": [
       "user_id       0\n",
       "duration      0\n",
       "sms           0\n",
       "mb_used       0\n",
       "gb_used       0\n",
       "age           0\n",
       "churn_date    0\n",
       "city          0\n",
       "first_name    0\n",
       "last_name     0\n",
       "reg_date      0\n",
       "tariff        0\n",
       "dtype: int64"
      ]
     },
     "execution_count": 27,
     "metadata": {},
     "output_type": "execute_result"
    }
   ],
   "source": [
    "merged.isna().sum()"
   ]
  },
  {
   "cell_type": "code",
   "execution_count": 28,
   "id": "b18e9ad4",
   "metadata": {},
   "outputs": [],
   "source": [
    "#Вспомогательная функция для подсчета превышения тарифного плана (обращает отрицательные значения в ноль)\n",
    "def negative_number_to_zero(n):\n",
    "    if n < 0:\n",
    "        return 0\n",
    "    else:\n",
    "        return n\n",
    "    \n",
    "#Создаем столбцы с выручкой в зависимости от тарифного плана    \n",
    "merged ['smart'] = (merged['duration'] - tariffs.loc[0,'minutes_included']).apply(negative_number_to_zero)*tariffs.loc[0,'rub_per_minute'] + (merged['sms'] - tariffs.loc[0,'messages_included']).apply(negative_number_to_zero)*tariffs.loc[0,'rub_per_message'] + (merged['gb_used'] - tariffs.loc[0,'mb_per_month_included']/1024).apply(negative_number_to_zero)*tariffs.loc[0,'rub_per_gb'] + tariffs.loc[0,'rub_monthly_fee']\n",
    "merged['ultra'] = (merged['duration'] - tariffs.loc[1,'minutes_included']).apply(negative_number_to_zero)*tariffs.loc[1,'rub_per_minute'] + (merged['sms'] - tariffs.loc[1,'messages_included']).apply(negative_number_to_zero)*tariffs.loc[1,'rub_per_message'] + (merged['gb_used'] - tariffs.loc[1,'mb_per_month_included']/1024).apply(negative_number_to_zero)*tariffs.loc[1,'rub_per_gb'] + tariffs.loc[1,'rub_monthly_fee']    \n",
    "    \n",
    "                                                       "
   ]
  },
  {
   "cell_type": "code",
   "execution_count": 29,
   "id": "aed3bbc7",
   "metadata": {},
   "outputs": [],
   "source": [
    "#Добавляем столбец с расчетом выручки по каждому клиенту\n",
    "\n",
    "def revenue_summizer(line): \n",
    "    if line['tariff'] == 'ultra':\n",
    "        return line['ultra']\n",
    "    else:\n",
    "        return line['smart']\n",
    "    \n",
    "merged['revenue'] = merged.apply(revenue_summizer, axis=1)"
   ]
  },
  {
   "cell_type": "markdown",
   "id": "8fc641a9",
   "metadata": {},
   "source": [
    "### Анализ данных <a class =\"anchor\" id=\"chapter3.2\"></a>"
   ]
  },
  {
   "cell_type": "code",
   "execution_count": 30,
   "id": "08581ebd",
   "metadata": {},
   "outputs": [],
   "source": [
    "# выделим пользоавтелей тарифа \"Смарт\" и дадим характеристику рспределений по каждой из услуг, а также по выручке на клиента.\n",
    "smart_df = merged.query('tariff == \"smart\"')"
   ]
  },
  {
   "cell_type": "code",
   "execution_count": 31,
   "id": "10df24b0",
   "metadata": {},
   "outputs": [
    {
     "name": "stdout",
     "output_type": "stream",
     "text": [
      "count   2230.00\n",
      "mean     411.99\n",
      "std      187.73\n",
      "min        0.00\n",
      "25%      279.00\n",
      "50%      414.00\n",
      "75%      539.00\n",
      "max     1435.00\n",
      "Name: duration, dtype: float64\n",
      "Дисперсия 35242.19319105875\n",
      "count   2230.00\n",
      "mean      33.37\n",
      "std       28.23\n",
      "min        0.00\n",
      "25%       10.00\n",
      "50%       28.00\n",
      "75%       51.00\n",
      "max      143.00\n",
      "Name: sms, dtype: float64\n",
      "Дисперсия 796.9552557301128\n",
      "count   2230.00\n",
      "mean      16.23\n",
      "std        5.73\n",
      "min        0.00\n",
      "25%       13.00\n",
      "50%       16.00\n",
      "75%       20.00\n",
      "max       38.00\n",
      "Name: gb_used, dtype: float64\n",
      "Дисперсия 32.835622561948384\n",
      "count   2230.00\n",
      "mean    1267.67\n",
      "std      804.99\n",
      "min      550.00\n",
      "25%      550.00\n",
      "50%      989.00\n",
      "75%     1730.00\n",
      "max     6692.00\n",
      "Name: revenue, dtype: float64\n",
      "Дисперсия 648006.9182466348\n"
     ]
    }
   ],
   "source": [
    "metrics = ['duration','sms','gb_used','revenue']\n",
    "for i in metrics:\n",
    "    print(smart_df[i].describe())\n",
    "    print('Дисперсия', np.var(smart_df[i], ddof=1))"
   ]
  },
  {
   "cell_type": "markdown",
   "id": "a6e65eac",
   "metadata": {},
   "source": [
    "В среднем пользователю тарифа \"Смарт\" в месяц требуется 412 минут разговора, 33 смс и 16.2 гб интернет-трафика. **Медиана соответственно составляет 414 минут, 28 смс и 16 гб**. То есть средний клиент укладывается в норматив тарифного плана по звонкам и смс, но докупает около 1 гб в месяц. Стандартное отклонение:188, 28 и 6 соответственно (дисперсия:35242, 797, 33). Медианный месячный платеж клиента тарифа \"Смарт\" почти вдвое превышает стоимость тарифного плана."
   ]
  },
  {
   "cell_type": "code",
   "execution_count": 32,
   "id": "dde09255",
   "metadata": {},
   "outputs": [
    {
     "name": "stdout",
     "output_type": "stream",
     "text": [
      "count    986.00\n",
      "mean     518.38\n",
      "std      313.51\n",
      "min        0.00\n",
      "25%      278.00\n",
      "50%      505.50\n",
      "75%      744.00\n",
      "max     1583.00\n",
      "Name: duration, dtype: float64\n",
      "Дисперсия 98286.22468981991\n",
      "count   986.00\n",
      "mean     49.31\n",
      "std      47.81\n",
      "min       0.00\n",
      "25%       6.00\n",
      "50%      38.00\n",
      "75%      78.75\n",
      "max     224.00\n",
      "Name: sms, dtype: float64\n",
      "Дисперсия 2285.4174246558414\n",
      "count   986.00\n",
      "mean     18.98\n",
      "std       9.59\n",
      "min       0.00\n",
      "25%      12.00\n",
      "50%      19.00\n",
      "75%      26.00\n",
      "max      45.00\n",
      "Name: gb_used, dtype: float64\n",
      "Дисперсия 92.04214124648634\n",
      "count    986.00\n",
      "mean    2049.04\n",
      "std      328.47\n",
      "min     1950.00\n",
      "25%     1950.00\n",
      "50%     1950.00\n",
      "75%     1950.00\n",
      "max     4200.00\n",
      "Name: revenue, dtype: float64\n",
      "Дисперсия 107889.9336909628\n"
     ]
    }
   ],
   "source": [
    "# выделим пользоавтелей тарифа \"Ультра\" и дадим характеристику рспределений по каждой из услуг, а также по выручке на клиента.\n",
    "ultra_df = merged.query('tariff == \"ultra\"')\n",
    "for i in metrics:\n",
    "    print(ultra_df[i].describe())\n",
    "    print('Дисперсия', np.var(ultra_df[i], ddof=1))"
   ]
  },
  {
   "cell_type": "markdown",
   "id": "c909ce82",
   "metadata": {},
   "source": [
    "В среднем пользователю тарифа \"Ультра\" в месяц требуется 518 минут разговора, 49 смс и 19 гб интернет-трафика. **Медиана соответственно составляет 506 минут, 38 смс и 19 гб**. То есть средний клиент укладывается в норматив тарифного плана по звонкам, смс и интернету. При этом, в среднем недорасходуется больше трети лимита интенета, включенного в тариф. Стандартное отклонение:303, 46 и 9 соответственно (дисперсия:98286, 2285, 92). Медианный месячный платеж клиента тарифа \"Ультра\" составляет 1950 руб.,то есть оплачивается тарифный план и не докупаются дополнителльные звонки и трафик."
   ]
  },
  {
   "cell_type": "code",
   "execution_count": 33,
   "id": "c714c898",
   "metadata": {},
   "outputs": [
    {
     "data": {
      "text/plain": [
       "<matplotlib.legend.Legend at 0x7f7e31cee670>"
      ]
     },
     "execution_count": 33,
     "metadata": {},
     "output_type": "execute_result"
    },
    {
     "data": {
      "image/png": "[encoded data removed]",
      "text/plain": [
       "<Figure size 432x288 with 1 Axes>"
      ]
     },
     "metadata": {
      "needs_background": "light"
     },
     "output_type": "display_data"
    }
   ],
   "source": [
    "#Строим парные гистограммы для тарифных планов. Звонки\n",
    "\n",
    "sns.distplot(ultra_df['duration'],label ='ultra_df');\n",
    "sns.distplot(smart_df['duration'],label ='smart_df');\n",
    "plt.legend(loc='center right', title='Team')\n"
   ]
  },
  {
   "cell_type": "code",
   "execution_count": 34,
   "id": "fe124e14",
   "metadata": {},
   "outputs": [
    {
     "data": {
      "text/plain": [
       "<matplotlib.legend.Legend at 0x7f7e3242f460>"
      ]
     },
     "execution_count": 34,
     "metadata": {},
     "output_type": "execute_result"
    },
    {
     "data": {
      "image/png": "[encoded data removed]",
      "text/plain": [
       "<Figure size 432x288 with 1 Axes>"
      ]
     },
     "metadata": {
      "needs_background": "light"
     },
     "output_type": "display_data"
    }
   ],
   "source": [
    "#Смс\n",
    "sns.distplot(ultra_df['sms'],label ='ultra_df');\n",
    "sns.distplot(smart_df['sms'],label ='smart_df');\n",
    "plt.legend(loc='center right', title='Team')"
   ]
  },
  {
   "cell_type": "code",
   "execution_count": 35,
   "id": "48667eea",
   "metadata": {
    "scrolled": false
   },
   "outputs": [
    {
     "data": {
      "text/plain": [
       "<matplotlib.legend.Legend at 0x7f7e31c0c910>"
      ]
     },
     "execution_count": 35,
     "metadata": {},
     "output_type": "execute_result"
    },
    {
     "data": {
      "image/png": "[encoded data removed]",
      "text/plain": [
       "<Figure size 432x288 with 1 Axes>"
      ]
     },
     "metadata": {
      "needs_background": "light"
     },
     "output_type": "display_data"
    }
   ],
   "source": [
    "#Интернет (подозрительный пик в районе 20 гб)\n",
    "sns.distplot(ultra_df['gb_used'],label ='ultra_df');\n",
    "sns.distplot(smart_df['gb_used'],label ='smart_df');\n",
    "plt.legend(loc='center right', title='Team')"
   ]
  },
  {
   "cell_type": "code",
   "execution_count": 36,
   "id": "450bd56e",
   "metadata": {
    "scrolled": true
   },
   "outputs": [
    {
     "data": {
      "text/plain": [
       "<matplotlib.legend.Legend at 0x7f7e31d26be0>"
      ]
     },
     "execution_count": 36,
     "metadata": {},
     "output_type": "execute_result"
    },
    {
     "data": {
      "image/png": "[encoded data removed]",
      "text/plain": [
       "<Figure size 432x288 with 1 Axes>"
      ]
     },
     "metadata": {
      "needs_background": "light"
     },
     "output_type": "display_data"
    }
   ],
   "source": [
    "#Интернет\n",
    "sns.distplot(ultra_df['revenue'],label ='ultra_df');\n",
    "sns.distplot(smart_df['revenue'],label ='smart_df');\n",
    "plt.legend(loc='center right', title='Team')"
   ]
  },
  {
   "cell_type": "markdown",
   "id": "badb78cd",
   "metadata": {},
   "source": [
    "### Проверка гипотез <a class =\"anchor\" id=\"chapter3.3\"></a>"
   ]
  },
  {
   "cell_type": "code",
   "execution_count": 37,
   "id": "05a6e4aa",
   "metadata": {},
   "outputs": [
    {
     "data": {
      "image/png": "[encoded data removed]",
      "text/plain": [
       "<Figure size 864x576 with 2 Axes>"
      ]
     },
     "metadata": {
      "needs_background": "light"
     },
     "output_type": "display_data"
    },
    {
     "name": "stdout",
     "output_type": "stream",
     "text": [
      "Shapiro-Wilk normality test, W-statistic: 0.980360, p-value: 0.000000\n",
      "Shapiro-Wilk normality test, W-statistic: 0.993898, p-value: 0.000000\n"
     ]
    }
   ],
   "source": [
    "# Чтобы понять, какой критерий лучше пименять, проверяем нормальность распределений при помощи QQ-графиков и метода Шапиро-Уилка\n",
    "plt.figure(figsize=(12,8))\n",
    "plt.subplot(2,2,1)\n",
    "st.probplot(ultra_df['duration'], dist=\"norm\", plot=plt)\n",
    "plt.subplot(2,2,2)\n",
    "st.probplot(smart_df['duration'], dist=\"norm\", plot=plt)\n",
    "plt.show()\n",
    "\n",
    "print(\"Shapiro-Wilk normality test, W-statistic: %f, p-value: %f\" % st.shapiro(ultra_df['duration']))\n",
    "print(\"Shapiro-Wilk normality test, W-statistic: %f, p-value: %f\" % st.shapiro(smart_df['duration']))"
   ]
  },
  {
   "cell_type": "code",
   "execution_count": 38,
   "id": "5ddb4379",
   "metadata": {},
   "outputs": [
    {
     "data": {
      "image/png": "[encoded data removed]",
      "text/plain": [
       "<Figure size 864x576 with 2 Axes>"
      ]
     },
     "metadata": {
      "needs_background": "light"
     },
     "output_type": "display_data"
    },
    {
     "name": "stdout",
     "output_type": "stream",
     "text": [
      "Shapiro-Wilk normality test, W-statistic: 0.889942, p-value: 0.000000\n",
      "Shapiro-Wilk normality test, W-statistic: 0.926238, p-value: 0.000000\n"
     ]
    }
   ],
   "source": [
    "plt.figure(figsize=(12,8))\n",
    "plt.subplot(2,2,1)\n",
    "st.probplot(ultra_df['sms'], dist=\"norm\", plot=plt)\n",
    "plt.subplot(2,2,2)\n",
    "st.probplot(smart_df['sms'], dist=\"norm\", plot=plt)\n",
    "plt.show()\n",
    "\n",
    "print(\"Shapiro-Wilk normality test, W-statistic: %f, p-value: %f\" % st.shapiro(ultra_df['sms']))\n",
    "print(\"Shapiro-Wilk normality test, W-statistic: %f, p-value: %f\" % st.shapiro(smart_df['sms']))"
   ]
  },
  {
   "cell_type": "code",
   "execution_count": 39,
   "id": "7558ecee",
   "metadata": {},
   "outputs": [
    {
     "data": {
      "image/png": "[encoded data removed]",
      "text/plain": [
       "<Figure size 864x576 with 2 Axes>"
      ]
     },
     "metadata": {
      "needs_background": "light"
     },
     "output_type": "display_data"
    },
    {
     "name": "stdout",
     "output_type": "stream",
     "text": [
      "Shapiro-Wilk normality test, W-statistic: 0.988797, p-value: 0.000001\n",
      "Shapiro-Wilk normality test, W-statistic: 0.990283, p-value: 0.000000\n"
     ]
    }
   ],
   "source": [
    "plt.figure(figsize=(12,8))\n",
    "plt.subplot(2,2,1)\n",
    "st.probplot(ultra_df['gb_used'], dist=\"norm\", plot=plt)\n",
    "plt.subplot(2,2,2)\n",
    "st.probplot(smart_df['gb_used'], dist=\"norm\", plot=plt)\n",
    "plt.show()\n",
    "\n",
    "print(\"Shapiro-Wilk normality test, W-statistic: %f, p-value: %f\" % st.shapiro(ultra_df['gb_used']))\n",
    "print(\"Shapiro-Wilk normality test, W-statistic: %f, p-value: %f\" % st.shapiro(smart_df['gb_used']))"
   ]
  },
  {
   "cell_type": "code",
   "execution_count": 40,
   "id": "9ace8f9b",
   "metadata": {},
   "outputs": [
    {
     "data": {
      "image/png": "[encoded data removed]",
      "text/plain": [
       "<Figure size 864x576 with 2 Axes>"
      ]
     },
     "metadata": {
      "needs_background": "light"
     },
     "output_type": "display_data"
    },
    {
     "name": "stdout",
     "output_type": "stream",
     "text": [
      "Shapiro-Wilk normality test, W-statistic: 0.988797, p-value: 0.000001\n",
      "Shapiro-Wilk normality test, W-statistic: 0.990283, p-value: 0.000000\n"
     ]
    }
   ],
   "source": [
    "plt.figure(figsize=(12,8))\n",
    "plt.subplot(2,2,1)\n",
    "st.probplot(ultra_df['revenue'], dist=\"norm\", plot=plt)\n",
    "plt.subplot(2,2,2)\n",
    "st.probplot(smart_df['revenue'], dist=\"norm\", plot=plt)\n",
    "plt.show()\n",
    "\n",
    "print(\"Shapiro-Wilk normality test, W-statistic: %f, p-value: %f\" % st.shapiro(ultra_df['gb_used']))\n",
    "print(\"Shapiro-Wilk normality test, W-statistic: %f, p-value: %f\" % st.shapiro(smart_df['gb_used']))"
   ]
  },
  {
   "cell_type": "markdown",
   "id": "8d261474",
   "metadata": {},
   "source": [
    "При alpha=0.05 распределения нельзя считать нормальными. Поэтому параметрические тесты, в частности ttest применять нельзя. Применим непараметрический тест Манна-Уитни.\n"
   ]
  },
  {
   "cell_type": "markdown",
   "id": "b9967266",
   "metadata": {},
   "source": [
    "Сформулируем нулевую и альтернативную гипотезы для двухстороннего теста.\n",
    "\n",
    "𝐻0:Средние выручки пользователей тарифов «Ультра» и «Смарт» равны. \n",
    "\n",
    "𝐻1:Средние выручки пользователей тарифов «Ультра» и «Смарт» отличаются.\n",
    "\n",
    "Зададим уровень значимости:  𝛼=0.05"
   ]
  },
  {
   "cell_type": "code",
   "execution_count": 41,
   "id": "20ea6a53",
   "metadata": {},
   "outputs": [
    {
     "name": "stdout",
     "output_type": "stream",
     "text": [
      "p-значение:  5.504511746613403e-194\n",
      "Отвергаем нулевую гипотезу\n"
     ]
    }
   ],
   "source": [
    "#Двухсторонний тест\n",
    "alpha = 0.05\n",
    "results = st.mannwhitneyu(ultra_df['revenue'], smart_df['revenue'], alternative='two-sided')\n",
    "print('p-значение: ', results.pvalue)\n",
    "\n",
    "if (results.pvalue < alpha):\n",
    "    print(\"Отвергаем нулевую гипотезу\")\n",
    "else:\n",
    "    print(\"Не получилось отвергнуть нулевую гипотезу\")"
   ]
  },
  {
   "cell_type": "markdown",
   "id": "ec3b329b",
   "metadata": {},
   "source": [
    "Сформулируем нулевую и альтернативную гипотезы для одностооаннего теста.\n",
    "\n",
    "𝐻0:Средние выручки пользователей тарифов «Ультра» и «Смарт» равны.\n",
    "\n",
    "𝐻1:Средняя выручка пользователей тарифов «Ультра» больше средней выручки пользователей тарифа «Смарт».\n",
    "\n",
    "Зададим уровень значимости: 𝛼=0.05"
   ]
  },
  {
   "cell_type": "code",
   "execution_count": 42,
   "id": "30a66f51",
   "metadata": {},
   "outputs": [
    {
     "name": "stdout",
     "output_type": "stream",
     "text": [
      "p-значение:  2.7522558733067014e-194\n",
      "Отвергаем нулевую гипотезу\n"
     ]
    }
   ],
   "source": [
    "results = st.mannwhitneyu(ultra_df['revenue'], smart_df['revenue'], alternative='greater')\n",
    "print('p-значение: ', results.pvalue)\n",
    "\n",
    "if (results.pvalue < alpha):\n",
    "    print(\"Отвергаем нулевую гипотезу\")\n",
    "else:\n",
    "    print(\"Не получилось отвергнуть нулевую гипотезу\")"
   ]
  },
  {
   "cell_type": "markdown",
   "id": "227b9727",
   "metadata": {},
   "source": [
    "Таким обраом тест показывает, что предположение о равенстве выручки клиентов тарифов не сооответствует действительности и **клиенты с  тарифом \"Ультра\" платят больше** и поэтому на его продвижении стоит сконцентроваться маркетинговому отделу."
   ]
  },
  {
   "cell_type": "code",
   "execution_count": 43,
   "id": "275af66f",
   "metadata": {},
   "outputs": [
    {
     "name": "stdout",
     "output_type": "stream",
     "text": [
      "В Москве средняя выручка составляет: 1524.5908346972176 , медианная: 1750.0\n",
      "В остальных регионах средняя выручка составляет: 1503.1547024952015 , медианная: 1550.0\n",
      "Разница составляет соответственно 1.0142607624926647  и  1.1290322580645162\n"
     ]
    }
   ],
   "source": [
    "moscow_set = merged.query('city == \"Москва\"')\n",
    "other_set = merged.query('city != \"Москва\"')\n",
    "print('В Москве средняя выручка составляет:', moscow_set['revenue'].mean(),', медианная:', moscow_set['revenue'].median())\n",
    "print('В остальных регионах средняя выручка составляет:', other_set['revenue'].mean(),', медианная:', other_set['revenue'].median())\n",
    "print('Разница составляет соответственно', moscow_set['revenue'].mean()/other_set['revenue'].mean(),' и ', moscow_set['revenue'].median()/other_set['revenue'].median()) \n",
    "\n"
   ]
  },
  {
   "cell_type": "markdown",
   "id": "227229c0",
   "metadata": {},
   "source": [
    "Сформулируем нулевую и альтернативную гипотезы (двухсторонний тест).\n",
    "\n",
    "𝐻0:Средние выручки пользователей в Москве и остальных регионах совпадают.\n",
    "\n",
    "𝐻1:Средние выручки пользователей в Москве и остальных регионах отличаются.\n",
    "\n",
    "Зададим уровень значимости: 𝛼=0.05"
   ]
  },
  {
   "cell_type": "code",
   "execution_count": 44,
   "id": "49132749",
   "metadata": {},
   "outputs": [
    {
     "name": "stdout",
     "output_type": "stream",
     "text": [
      "p-значение:  0.3607165119837814\n",
      "Не получилось отвергнуть нулевую гипотезу\n"
     ]
    }
   ],
   "source": [
    "results = st.mannwhitneyu(moscow_set['revenue'], other_set['revenue'],alternative='two-sided')\n",
    "print('p-значение: ', results.pvalue)\n",
    "\n",
    "if (results.pvalue < alpha):\n",
    "    print(\"Отвергаем нулевую гипотезу\")\n",
    "else:\n",
    "    print(\"Не получилось отвергнуть нулевую гипотезу\")"
   ]
  },
  {
   "cell_type": "markdown",
   "id": "2f5f1028",
   "metadata": {},
   "source": [
    "Сформулируем нулевую и альтернативную гипотезы (односторонний тест).\n",
    "\n",
    "𝐻0:Средние выручки пользователей в Москве и остальных регионах совпадают.\n",
    "\n",
    "𝐻1:Средние выручки пользователей в Москве больше средней выручки в остальных регионах регионах отличаются.\n"
   ]
  },
  {
   "cell_type": "code",
   "execution_count": 45,
   "id": "603005d2",
   "metadata": {},
   "outputs": [
    {
     "name": "stdout",
     "output_type": "stream",
     "text": [
      "p-значение:  0.1803582559918907\n",
      "Не получилось отвергнуть нулевую гипотезу\n"
     ]
    }
   ],
   "source": [
    "alpha = 0.05\n",
    "\n",
    "results = st.mannwhitneyu(moscow_set['revenue'], other_set['revenue'],alternative='greater')\n",
    "print('p-значение: ', results.pvalue)\n",
    "\n",
    "if (results.pvalue < alpha):\n",
    "    print(\"Отвергаем нулевую гипотезу\")\n",
    "else:\n",
    "    print(\"Не получилось отвергнуть нулевую гипотезу\")"
   ]
  },
  {
   "cell_type": "markdown",
   "id": "3bebd244",
   "metadata": {},
   "source": [
    "По итогам проведения статистических тестов по критерию Манна-Уитни можно констатировать, что средние месячные выручки на тарифных планах нельзя считать равными. Средняя выручка на плане \"Ультра\" значительно выше. При этом нельзя сказать, что средняя выручка в Москве больше, чем других регионах. Нулевую гипотезу о равенстве средних выручек пользователей в Москве и регионах не получается отвергнуть. Это подтверждается сравнительно небольшой разницей в средней выручке на человека между Москвой и регионами (1,4%). При том различия в медианной выручке более значимы и составляют почти 13%. "
   ]
  },
  {
   "cell_type": "markdown",
   "id": "f149d352",
   "metadata": {},
   "source": [
    "## Общий вывод <a class =\"anchor\" id=\"chapter4\"></a>"
   ]
  },
  {
   "cell_type": "markdown",
   "id": "5330ab3c",
   "metadata": {},
   "source": [
    "1. Представленные наборы данных обладают сравнительно неплохим качеством и содержат пропуски только в одном столбце набора users - 'churn_date'. Они могут быть легко заменены на значение \"действующего\" абонента. \n",
    "\n",
    "\n",
    "2. Потребление услуг у пользователей планов \"Смарт\" и \"Ультра\" отличается. Так **на \"Смарте\" медианное месячное потребление услуг составляет 414 минут, 28 смс и 16 гб интернет-трафика, а на \"Ультре\" 506 минут, 38 смс и 19 гб интернет-трафика**.\n",
    "\n",
    "\n",
    "3. Интересно, что медианный клиент на \"Ультре\" при аналогичном потреблении услуг на \"Смарте\" экономил бы порядка 582 рубля. Иначе говоря, многие клиенты на \"Ультре\" не осваивают объемы оплачиваемых услуг. Например, медианный клиент на этом плане тратит всего 19 гб интернета при включенных в абонентскую плату 30 гб. Поэтому **с точки зрения продаж и рентабельности, продвижение \"Ультры\" является предпочтительным**.\n",
    "\n",
    "\n",
    "4. Статистические тесты показывают, что предположение о равенстве выручки клиентов двух тарифных планов не сооответствует действительности и клиенты с тарифом \"Ультра\" платят больше и поэтому на его продвижении стоит сконцентроваться маркетинговому отделу.\n",
    "\n",
    "\n",
    "5. Средняя выручка клиентов в Москве и остальных регионах почти не отличается (всего на 1,4%). По медиане разрыв сильнее в пользу \"Ультры\" (на 13%). При статистических тестах нулевую гипотезу о равенстве платежей в Москве и регионах отвергнуть не получается, что говорит о не слишком большой диференциации в размерах платежей клиентов между Москвой и регионами. "
   ]
  }
 ],
 "metadata": {
  "ExecuteTimeLog": [
   {
    "duration": 1552,
    "start_time": "2022-05-30T17:40:51.430Z"
   },
   {
    "duration": 40,
    "start_time": "2022-05-30T17:40:52.984Z"
   },
   {
    "duration": 74,
    "start_time": "2022-05-30T17:40:53.028Z"
   },
   {
    "duration": 248,
    "start_time": "2022-05-30T17:40:53.104Z"
   },
   {
    "duration": 3,
    "start_time": "2022-05-30T17:40:53.354Z"
   },
   {
    "duration": 86,
    "start_time": "2022-05-30T17:40:53.359Z"
   },
   {
    "duration": 15,
    "start_time": "2022-05-30T17:40:53.447Z"
   },
   {
    "duration": 20,
    "start_time": "2022-05-30T17:40:53.464Z"
   },
   {
    "duration": 5,
    "start_time": "2022-05-30T17:40:53.486Z"
   },
   {
    "duration": 112,
    "start_time": "2022-05-30T17:40:53.493Z"
   },
   {
    "duration": 112,
    "start_time": "2022-05-30T17:40:53.607Z"
   },
   {
    "duration": 261,
    "start_time": "2022-05-30T17:40:53.720Z"
   },
   {
    "duration": 187,
    "start_time": "2022-05-30T17:40:53.983Z"
   },
   {
    "duration": 10,
    "start_time": "2022-05-30T17:40:54.173Z"
   },
   {
    "duration": 194,
    "start_time": "2022-05-30T17:40:54.185Z"
   },
   {
    "duration": 5,
    "start_time": "2022-05-30T17:40:54.381Z"
   },
   {
    "duration": 66,
    "start_time": "2022-05-30T17:40:54.388Z"
   },
   {
    "duration": 84,
    "start_time": "2022-05-30T17:40:54.456Z"
   },
   {
    "duration": 21,
    "start_time": "2022-05-30T17:40:54.542Z"
   },
   {
    "duration": 15,
    "start_time": "2022-05-30T17:40:54.565Z"
   },
   {
    "duration": 53,
    "start_time": "2022-05-30T17:40:54.582Z"
   },
   {
    "duration": 9,
    "start_time": "2022-05-30T17:40:54.637Z"
   },
   {
    "duration": 21,
    "start_time": "2022-05-30T17:40:54.648Z"
   },
   {
    "duration": 18,
    "start_time": "2022-05-30T17:40:54.670Z"
   },
   {
    "duration": 248,
    "start_time": "2022-05-30T17:40:54.689Z"
   },
   {
    "duration": 240,
    "start_time": "2022-05-30T17:40:54.939Z"
   },
   {
    "duration": 269,
    "start_time": "2022-05-30T17:40:55.181Z"
   },
   {
    "duration": 306,
    "start_time": "2022-05-30T17:40:55.454Z"
   },
   {
    "duration": 326,
    "start_time": "2022-05-30T17:40:55.763Z"
   },
   {
    "duration": 373,
    "start_time": "2022-05-30T17:40:56.090Z"
   },
   {
    "duration": 254,
    "start_time": "2022-05-30T17:40:56.464Z"
   },
   {
    "duration": 258,
    "start_time": "2022-05-30T17:40:56.719Z"
   },
   {
    "duration": 7,
    "start_time": "2022-05-30T17:40:56.978Z"
   },
   {
    "duration": 7,
    "start_time": "2022-05-30T17:40:56.987Z"
   },
   {
    "duration": 32,
    "start_time": "2022-05-30T17:40:56.996Z"
   },
   {
    "duration": 11,
    "start_time": "2022-05-30T17:40:57.034Z"
   },
   {
    "duration": 7,
    "start_time": "2022-05-30T17:40:57.047Z"
   },
   {
    "duration": 1687,
    "start_time": "2022-05-30T17:57:28.897Z"
   },
   {
    "duration": 48,
    "start_time": "2022-05-30T17:57:30.586Z"
   },
   {
    "duration": 71,
    "start_time": "2022-05-30T17:57:30.638Z"
   },
   {
    "duration": 277,
    "start_time": "2022-05-30T17:57:30.711Z"
   },
   {
    "duration": 4,
    "start_time": "2022-05-30T17:57:30.990Z"
   },
   {
    "duration": 85,
    "start_time": "2022-05-30T17:57:30.995Z"
   },
   {
    "duration": 14,
    "start_time": "2022-05-30T17:57:31.082Z"
   },
   {
    "duration": 23,
    "start_time": "2022-05-30T17:57:31.097Z"
   },
   {
    "duration": 13,
    "start_time": "2022-05-30T17:57:31.130Z"
   },
   {
    "duration": 121,
    "start_time": "2022-05-30T17:57:31.145Z"
   },
   {
    "duration": 109,
    "start_time": "2022-05-30T17:57:31.268Z"
   },
   {
    "duration": 259,
    "start_time": "2022-05-30T17:57:31.379Z"
   },
   {
    "duration": 166,
    "start_time": "2022-05-30T17:57:31.640Z"
   },
   {
    "duration": 10,
    "start_time": "2022-05-30T17:57:31.807Z"
   },
   {
    "duration": 194,
    "start_time": "2022-05-30T17:57:31.830Z"
   },
   {
    "duration": 6,
    "start_time": "2022-05-30T17:57:32.033Z"
   },
   {
    "duration": 51,
    "start_time": "2022-05-30T17:57:32.042Z"
   },
   {
    "duration": 104,
    "start_time": "2022-05-30T17:57:32.095Z"
   },
   {
    "duration": 21,
    "start_time": "2022-05-30T17:57:32.200Z"
   },
   {
    "duration": 33,
    "start_time": "2022-05-30T17:57:32.222Z"
   },
   {
    "duration": 39,
    "start_time": "2022-05-30T17:57:32.257Z"
   },
   {
    "duration": 7,
    "start_time": "2022-05-30T17:57:32.298Z"
   },
   {
    "duration": 27,
    "start_time": "2022-05-30T17:57:32.307Z"
   },
   {
    "duration": 21,
    "start_time": "2022-05-30T17:57:32.337Z"
   },
   {
    "duration": 264,
    "start_time": "2022-05-30T17:57:32.360Z"
   },
   {
    "duration": 255,
    "start_time": "2022-05-30T17:57:32.636Z"
   },
   {
    "duration": 251,
    "start_time": "2022-05-30T17:57:32.894Z"
   },
   {
    "duration": 262,
    "start_time": "2022-05-30T17:57:33.149Z"
   },
   {
    "duration": 270,
    "start_time": "2022-05-30T17:57:33.413Z"
   },
   {
    "duration": 369,
    "start_time": "2022-05-30T17:57:33.685Z"
   },
   {
    "duration": 269,
    "start_time": "2022-05-30T17:57:34.056Z"
   },
   {
    "duration": 318,
    "start_time": "2022-05-30T17:57:34.335Z"
   },
   {
    "duration": 8,
    "start_time": "2022-05-30T17:57:34.655Z"
   },
   {
    "duration": 37,
    "start_time": "2022-05-30T17:57:34.664Z"
   },
   {
    "duration": 53,
    "start_time": "2022-05-30T17:57:34.703Z"
   },
   {
    "duration": 36,
    "start_time": "2022-05-30T17:57:34.758Z"
   },
   {
    "duration": 26,
    "start_time": "2022-05-30T17:57:34.796Z"
   },
   {
    "duration": 142,
    "start_time": "2022-05-30T17:57:46.927Z"
   },
   {
    "duration": 184,
    "start_time": "2022-05-30T17:57:50.773Z"
   },
   {
    "duration": 120,
    "start_time": "2022-05-30T17:58:15.417Z"
   },
   {
    "duration": 189,
    "start_time": "2022-05-30T17:58:17.284Z"
   },
   {
    "duration": 1716,
    "start_time": "2022-05-30T17:58:33.324Z"
   },
   {
    "duration": 42,
    "start_time": "2022-05-30T17:58:35.042Z"
   },
   {
    "duration": 88,
    "start_time": "2022-05-30T17:58:35.085Z"
   },
   {
    "duration": 247,
    "start_time": "2022-05-30T17:58:35.175Z"
   },
   {
    "duration": 10,
    "start_time": "2022-05-30T17:58:35.430Z"
   },
   {
    "duration": 82,
    "start_time": "2022-05-30T17:58:35.442Z"
   },
   {
    "duration": 17,
    "start_time": "2022-05-30T17:58:35.535Z"
   },
   {
    "duration": 19,
    "start_time": "2022-05-30T17:58:35.555Z"
   },
   {
    "duration": 5,
    "start_time": "2022-05-30T17:58:35.575Z"
   },
   {
    "duration": 117,
    "start_time": "2022-05-30T17:58:35.582Z"
   },
   {
    "duration": 118,
    "start_time": "2022-05-30T17:58:35.701Z"
   },
   {
    "duration": 291,
    "start_time": "2022-05-30T17:58:35.821Z"
   },
   {
    "duration": 190,
    "start_time": "2022-05-30T17:58:36.114Z"
   },
   {
    "duration": 11,
    "start_time": "2022-05-30T17:58:36.305Z"
   },
   {
    "duration": 210,
    "start_time": "2022-05-30T17:58:36.318Z"
   },
   {
    "duration": 7,
    "start_time": "2022-05-30T17:58:36.535Z"
   },
   {
    "duration": 245,
    "start_time": "2022-05-30T17:58:36.544Z"
   },
   {
    "duration": 92,
    "start_time": "2022-05-30T17:58:36.791Z"
   },
   {
    "duration": 21,
    "start_time": "2022-05-30T17:58:36.885Z"
   },
   {
    "duration": 38,
    "start_time": "2022-05-30T17:58:36.908Z"
   },
   {
    "duration": 33,
    "start_time": "2022-05-30T17:58:36.948Z"
   },
   {
    "duration": 7,
    "start_time": "2022-05-30T17:58:36.982Z"
   },
   {
    "duration": 20,
    "start_time": "2022-05-30T17:58:36.990Z"
   },
   {
    "duration": 43,
    "start_time": "2022-05-30T17:58:37.012Z"
   },
   {
    "duration": 245,
    "start_time": "2022-05-30T17:58:37.056Z"
   },
   {
    "duration": 265,
    "start_time": "2022-05-30T17:58:37.302Z"
   },
   {
    "duration": 280,
    "start_time": "2022-05-30T17:58:37.570Z"
   },
   {
    "duration": 275,
    "start_time": "2022-05-30T17:58:37.854Z"
   },
   {
    "duration": 297,
    "start_time": "2022-05-30T17:58:38.137Z"
   },
   {
    "duration": 411,
    "start_time": "2022-05-30T17:58:38.438Z"
   },
   {
    "duration": 292,
    "start_time": "2022-05-30T17:58:38.851Z"
   },
   {
    "duration": 276,
    "start_time": "2022-05-30T17:58:39.145Z"
   },
   {
    "duration": 10,
    "start_time": "2022-05-30T17:58:39.436Z"
   },
   {
    "duration": 13,
    "start_time": "2022-05-30T17:58:39.447Z"
   },
   {
    "duration": 13,
    "start_time": "2022-05-30T17:58:39.462Z"
   },
   {
    "duration": 7,
    "start_time": "2022-05-30T17:58:39.477Z"
   },
   {
    "duration": 7,
    "start_time": "2022-05-30T17:58:39.486Z"
   },
   {
    "duration": 135,
    "start_time": "2022-05-30T17:59:52.952Z"
   },
   {
    "duration": 12,
    "start_time": "2022-05-30T18:00:05.607Z"
   },
   {
    "duration": 9,
    "start_time": "2022-05-30T18:00:10.307Z"
   },
   {
    "duration": 8,
    "start_time": "2022-05-30T18:01:07.852Z"
   },
   {
    "duration": 4,
    "start_time": "2022-05-30T18:01:21.402Z"
   },
   {
    "duration": 4,
    "start_time": "2022-05-30T18:01:29.572Z"
   },
   {
    "duration": 4,
    "start_time": "2022-05-30T18:01:30.797Z"
   },
   {
    "duration": 4,
    "start_time": "2022-05-30T18:01:31.672Z"
   },
   {
    "duration": 4,
    "start_time": "2022-05-30T18:01:42.253Z"
   },
   {
    "duration": 5,
    "start_time": "2022-05-30T18:01:43.101Z"
   },
   {
    "duration": 5,
    "start_time": "2022-05-30T18:01:59.636Z"
   },
   {
    "duration": 9,
    "start_time": "2022-05-30T18:02:08.052Z"
   },
   {
    "duration": 16,
    "start_time": "2022-05-30T18:02:12.123Z"
   },
   {
    "duration": 4,
    "start_time": "2022-05-30T18:02:13.547Z"
   },
   {
    "duration": 5,
    "start_time": "2022-05-30T18:02:14.052Z"
   },
   {
    "duration": 5,
    "start_time": "2022-05-30T18:02:14.602Z"
   },
   {
    "duration": 5,
    "start_time": "2022-05-30T18:02:15.202Z"
   },
   {
    "duration": 4,
    "start_time": "2022-05-30T18:02:20.563Z"
   },
   {
    "duration": 4,
    "start_time": "2022-05-30T18:02:22.003Z"
   },
   {
    "duration": 4,
    "start_time": "2022-05-30T18:02:22.752Z"
   },
   {
    "duration": 7,
    "start_time": "2022-05-30T18:02:25.436Z"
   },
   {
    "duration": 17,
    "start_time": "2022-05-30T18:02:27.222Z"
   },
   {
    "duration": 1630,
    "start_time": "2022-05-30T18:03:58.203Z"
   },
   {
    "duration": 40,
    "start_time": "2022-05-30T18:03:59.839Z"
   },
   {
    "duration": 84,
    "start_time": "2022-05-30T18:03:59.881Z"
   },
   {
    "duration": 255,
    "start_time": "2022-05-30T18:03:59.967Z"
   },
   {
    "duration": 13,
    "start_time": "2022-05-30T18:04:00.224Z"
   },
   {
    "duration": 102,
    "start_time": "2022-05-30T18:04:00.242Z"
   },
   {
    "duration": 16,
    "start_time": "2022-05-30T18:04:00.346Z"
   },
   {
    "duration": 20,
    "start_time": "2022-05-30T18:04:00.364Z"
   },
   {
    "duration": 25,
    "start_time": "2022-05-30T18:04:00.387Z"
   },
   {
    "duration": 132,
    "start_time": "2022-05-30T18:04:00.415Z"
   },
   {
    "duration": 288,
    "start_time": "2022-05-30T18:04:00.549Z"
   },
   {
    "duration": 181,
    "start_time": "2022-05-30T18:04:00.839Z"
   },
   {
    "duration": 21,
    "start_time": "2022-05-30T18:04:01.022Z"
   },
   {
    "duration": 192,
    "start_time": "2022-05-30T18:04:01.045Z"
   },
   {
    "duration": 5,
    "start_time": "2022-05-30T18:04:01.239Z"
   },
   {
    "duration": 69,
    "start_time": "2022-05-30T18:04:01.246Z"
   },
   {
    "duration": 105,
    "start_time": "2022-05-30T18:04:01.316Z"
   },
   {
    "duration": 33,
    "start_time": "2022-05-30T18:04:01.422Z"
   },
   {
    "duration": 31,
    "start_time": "2022-05-30T18:04:01.457Z"
   },
   {
    "duration": 70,
    "start_time": "2022-05-30T18:04:01.489Z"
   },
   {
    "duration": 6,
    "start_time": "2022-05-30T18:04:01.561Z"
   },
   {
    "duration": 31,
    "start_time": "2022-05-30T18:04:01.568Z"
   },
   {
    "duration": 32,
    "start_time": "2022-05-30T18:04:01.601Z"
   },
   {
    "duration": 254,
    "start_time": "2022-05-30T18:04:01.640Z"
   },
   {
    "duration": 294,
    "start_time": "2022-05-30T18:04:01.895Z"
   },
   {
    "duration": 275,
    "start_time": "2022-05-30T18:04:02.191Z"
   },
   {
    "duration": 301,
    "start_time": "2022-05-30T18:04:02.468Z"
   },
   {
    "duration": 249,
    "start_time": "2022-05-30T18:04:02.773Z"
   },
   {
    "duration": 360,
    "start_time": "2022-05-30T18:04:03.024Z"
   },
   {
    "duration": 294,
    "start_time": "2022-05-30T18:04:03.386Z"
   },
   {
    "duration": 294,
    "start_time": "2022-05-30T18:04:03.681Z"
   },
   {
    "duration": 9,
    "start_time": "2022-05-30T18:04:03.977Z"
   },
   {
    "duration": 14,
    "start_time": "2022-05-30T18:04:03.988Z"
   },
   {
    "duration": 32,
    "start_time": "2022-05-30T18:04:04.005Z"
   },
   {
    "duration": 8,
    "start_time": "2022-05-30T18:04:04.039Z"
   },
   {
    "duration": 8,
    "start_time": "2022-05-30T18:04:04.049Z"
   },
   {
    "duration": 3,
    "start_time": "2022-05-30T18:04:04.058Z"
   },
   {
    "duration": 3,
    "start_time": "2022-05-30T18:04:06.992Z"
   },
   {
    "duration": 114,
    "start_time": "2022-05-30T18:05:00.508Z"
   },
   {
    "duration": 208,
    "start_time": "2022-05-30T18:05:02.454Z"
   },
   {
    "duration": 1947,
    "start_time": "2022-05-30T18:05:25.382Z"
   },
   {
    "duration": 72,
    "start_time": "2022-05-30T18:05:27.340Z"
   },
   {
    "duration": 100,
    "start_time": "2022-05-30T18:05:27.414Z"
   },
   {
    "duration": 260,
    "start_time": "2022-05-30T18:05:27.516Z"
   },
   {
    "duration": 3,
    "start_time": "2022-05-30T18:05:27.778Z"
   },
   {
    "duration": 109,
    "start_time": "2022-05-30T18:05:27.784Z"
   },
   {
    "duration": 14,
    "start_time": "2022-05-30T18:05:27.895Z"
   },
   {
    "duration": 32,
    "start_time": "2022-05-30T18:05:27.911Z"
   },
   {
    "duration": 6,
    "start_time": "2022-05-30T18:05:27.945Z"
   },
   {
    "duration": 104,
    "start_time": "2022-05-30T18:05:27.954Z"
   },
   {
    "duration": 293,
    "start_time": "2022-05-30T18:05:28.060Z"
   },
   {
    "duration": 118,
    "start_time": "2022-05-30T18:05:28.355Z"
   },
   {
    "duration": 177,
    "start_time": "2022-05-30T18:05:28.475Z"
   },
   {
    "duration": 11,
    "start_time": "2022-05-30T18:05:28.654Z"
   },
   {
    "duration": 213,
    "start_time": "2022-05-30T18:05:28.668Z"
   },
   {
    "duration": 6,
    "start_time": "2022-05-30T18:05:28.883Z"
   },
   {
    "duration": 71,
    "start_time": "2022-05-30T18:05:28.891Z"
   },
   {
    "duration": 104,
    "start_time": "2022-05-30T18:05:28.964Z"
   },
   {
    "duration": 21,
    "start_time": "2022-05-30T18:05:29.070Z"
   },
   {
    "duration": 40,
    "start_time": "2022-05-30T18:05:29.093Z"
   },
   {
    "duration": 38,
    "start_time": "2022-05-30T18:05:29.136Z"
   },
   {
    "duration": 7,
    "start_time": "2022-05-30T18:05:29.176Z"
   },
   {
    "duration": 29,
    "start_time": "2022-05-30T18:05:29.185Z"
   },
   {
    "duration": 38,
    "start_time": "2022-05-30T18:05:29.226Z"
   },
   {
    "duration": 296,
    "start_time": "2022-05-30T18:05:29.266Z"
   },
   {
    "duration": 287,
    "start_time": "2022-05-30T18:05:29.564Z"
   },
   {
    "duration": 283,
    "start_time": "2022-05-30T18:05:29.854Z"
   },
   {
    "duration": 307,
    "start_time": "2022-05-30T18:05:30.142Z"
   },
   {
    "duration": 273,
    "start_time": "2022-05-30T18:05:30.451Z"
   },
   {
    "duration": 404,
    "start_time": "2022-05-30T18:05:30.730Z"
   },
   {
    "duration": 258,
    "start_time": "2022-05-30T18:05:31.137Z"
   },
   {
    "duration": 281,
    "start_time": "2022-05-30T18:05:31.397Z"
   },
   {
    "duration": 11,
    "start_time": "2022-05-30T18:05:31.680Z"
   },
   {
    "duration": 19,
    "start_time": "2022-05-30T18:05:31.694Z"
   },
   {
    "duration": 51,
    "start_time": "2022-05-30T18:05:31.716Z"
   },
   {
    "duration": 43,
    "start_time": "2022-05-30T18:05:31.769Z"
   },
   {
    "duration": 36,
    "start_time": "2022-05-30T18:05:31.815Z"
   },
   {
    "duration": 27,
    "start_time": "2022-05-31T14:48:28.960Z"
   },
   {
    "duration": 50,
    "start_time": "2022-05-31T14:48:36.664Z"
   },
   {
    "duration": 82,
    "start_time": "2022-05-31T14:49:48.821Z"
   },
   {
    "duration": 72,
    "start_time": "2022-05-31T14:50:44.881Z"
   },
   {
    "duration": 16,
    "start_time": "2022-05-31T14:50:52.409Z"
   },
   {
    "duration": 7,
    "start_time": "2022-05-31T14:51:29.917Z"
   },
   {
    "duration": 693,
    "start_time": "2022-05-31T14:53:18.912Z"
   },
   {
    "duration": 4,
    "start_time": "2022-05-31T14:53:32.273Z"
   },
   {
    "duration": 7,
    "start_time": "2022-05-31T14:53:50.106Z"
   },
   {
    "duration": 4,
    "start_time": "2022-05-31T14:54:03.721Z"
   },
   {
    "duration": 16,
    "start_time": "2022-05-31T15:01:25.781Z"
   },
   {
    "duration": 1400,
    "start_time": "2022-05-31T15:02:44.922Z"
   },
   {
    "duration": 40,
    "start_time": "2022-05-31T15:02:46.325Z"
   },
   {
    "duration": 61,
    "start_time": "2022-05-31T15:02:46.366Z"
   },
   {
    "duration": 205,
    "start_time": "2022-05-31T15:02:46.428Z"
   },
   {
    "duration": 4,
    "start_time": "2022-05-31T15:02:46.635Z"
   },
   {
    "duration": 68,
    "start_time": "2022-05-31T15:02:46.640Z"
   },
   {
    "duration": 13,
    "start_time": "2022-05-31T15:02:46.710Z"
   },
   {
    "duration": 17,
    "start_time": "2022-05-31T15:02:46.725Z"
   },
   {
    "duration": 6,
    "start_time": "2022-05-31T15:02:46.743Z"
   },
   {
    "duration": 100,
    "start_time": "2022-05-31T15:02:46.750Z"
   },
   {
    "duration": 223,
    "start_time": "2022-05-31T15:02:46.852Z"
   },
   {
    "duration": 97,
    "start_time": "2022-05-31T15:02:47.077Z"
   },
   {
    "duration": 142,
    "start_time": "2022-05-31T15:02:47.175Z"
   },
   {
    "duration": 10,
    "start_time": "2022-05-31T15:02:47.321Z"
   },
   {
    "duration": 161,
    "start_time": "2022-05-31T15:02:47.332Z"
   },
   {
    "duration": 5,
    "start_time": "2022-05-31T15:02:47.495Z"
   },
   {
    "duration": 44,
    "start_time": "2022-05-31T15:02:47.502Z"
   },
   {
    "duration": 99,
    "start_time": "2022-05-31T15:02:47.548Z"
   },
   {
    "duration": 17,
    "start_time": "2022-05-31T15:02:47.648Z"
   },
   {
    "duration": 7,
    "start_time": "2022-05-31T15:02:47.666Z"
   },
   {
    "duration": 20,
    "start_time": "2022-05-31T15:02:47.674Z"
   },
   {
    "duration": 17,
    "start_time": "2022-05-31T15:02:47.696Z"
   },
   {
    "duration": 16,
    "start_time": "2022-05-31T15:02:47.715Z"
   },
   {
    "duration": 39,
    "start_time": "2022-05-31T15:02:47.733Z"
   },
   {
    "duration": 20,
    "start_time": "2022-05-31T15:02:47.774Z"
   },
   {
    "duration": 16,
    "start_time": "2022-05-31T15:02:47.795Z"
   },
   {
    "duration": 17,
    "start_time": "2022-05-31T15:02:47.813Z"
   },
   {
    "duration": 243,
    "start_time": "2022-05-31T15:02:47.832Z"
   },
   {
    "duration": 208,
    "start_time": "2022-05-31T15:02:48.077Z"
   },
   {
    "duration": 211,
    "start_time": "2022-05-31T15:02:48.287Z"
   },
   {
    "duration": 216,
    "start_time": "2022-05-31T15:02:48.500Z"
   },
   {
    "duration": 293,
    "start_time": "2022-05-31T15:02:48.718Z"
   },
   {
    "duration": 223,
    "start_time": "2022-05-31T15:02:49.013Z"
   },
   {
    "duration": 207,
    "start_time": "2022-05-31T15:02:49.238Z"
   },
   {
    "duration": 202,
    "start_time": "2022-05-31T15:02:49.446Z"
   },
   {
    "duration": 4,
    "start_time": "2022-05-31T15:02:49.650Z"
   },
   {
    "duration": 6,
    "start_time": "2022-05-31T15:02:49.655Z"
   },
   {
    "duration": 29,
    "start_time": "2022-05-31T15:02:49.663Z"
   },
   {
    "duration": 4,
    "start_time": "2022-05-31T15:02:49.694Z"
   },
   {
    "duration": 5,
    "start_time": "2022-05-31T15:02:49.699Z"
   },
   {
    "duration": 5,
    "start_time": "2022-05-31T15:12:50.622Z"
   },
   {
    "duration": 5,
    "start_time": "2022-05-31T15:13:25.763Z"
   },
   {
    "duration": 4,
    "start_time": "2022-05-31T15:13:34.126Z"
   },
   {
    "duration": 5,
    "start_time": "2022-05-31T15:14:21.934Z"
   },
   {
    "duration": 5,
    "start_time": "2022-05-31T15:14:50.842Z"
   },
   {
    "duration": 16,
    "start_time": "2022-05-31T15:15:55.762Z"
   },
   {
    "duration": 7,
    "start_time": "2022-05-31T15:16:03.465Z"
   },
   {
    "duration": 18,
    "start_time": "2022-05-31T15:30:18.643Z"
   },
   {
    "duration": 6,
    "start_time": "2022-05-31T15:30:25.463Z"
   },
   {
    "duration": 5,
    "start_time": "2022-05-31T15:32:23.476Z"
   },
   {
    "duration": 26,
    "start_time": "2022-05-31T15:33:19.543Z"
   },
   {
    "duration": 24,
    "start_time": "2022-05-31T15:33:32.022Z"
   },
   {
    "duration": 35,
    "start_time": "2022-05-31T15:33:56.904Z"
   },
   {
    "duration": 25,
    "start_time": "2022-05-31T15:34:11.212Z"
   },
   {
    "duration": 10,
    "start_time": "2022-05-31T15:34:55.632Z"
   },
   {
    "duration": 73,
    "start_time": "2022-05-31T15:36:05.603Z"
   },
   {
    "duration": 10,
    "start_time": "2022-05-31T15:36:12.923Z"
   },
   {
    "duration": 1461,
    "start_time": "2022-05-31T15:36:35.743Z"
   },
   {
    "duration": 42,
    "start_time": "2022-05-31T15:36:37.206Z"
   },
   {
    "duration": 70,
    "start_time": "2022-05-31T15:36:37.250Z"
   },
   {
    "duration": 212,
    "start_time": "2022-05-31T15:36:37.322Z"
   },
   {
    "duration": 3,
    "start_time": "2022-05-31T15:36:37.536Z"
   },
   {
    "duration": 85,
    "start_time": "2022-05-31T15:36:37.540Z"
   },
   {
    "duration": 12,
    "start_time": "2022-05-31T15:36:37.627Z"
   },
   {
    "duration": 17,
    "start_time": "2022-05-31T15:36:37.640Z"
   },
   {
    "duration": 4,
    "start_time": "2022-05-31T15:36:37.659Z"
   },
   {
    "duration": 97,
    "start_time": "2022-05-31T15:36:37.665Z"
   },
   {
    "duration": 236,
    "start_time": "2022-05-31T15:36:37.764Z"
   },
   {
    "duration": 111,
    "start_time": "2022-05-31T15:36:38.002Z"
   },
   {
    "duration": 142,
    "start_time": "2022-05-31T15:36:38.115Z"
   },
   {
    "duration": 9,
    "start_time": "2022-05-31T15:36:38.259Z"
   },
   {
    "duration": 173,
    "start_time": "2022-05-31T15:36:38.270Z"
   },
   {
    "duration": 4,
    "start_time": "2022-05-31T15:36:38.445Z"
   },
   {
    "duration": 61,
    "start_time": "2022-05-31T15:36:38.450Z"
   },
   {
    "duration": 82,
    "start_time": "2022-05-31T15:36:38.513Z"
   },
   {
    "duration": 12,
    "start_time": "2022-05-31T15:36:38.598Z"
   },
   {
    "duration": 6,
    "start_time": "2022-05-31T15:36:38.612Z"
   },
   {
    "duration": 0,
    "start_time": "2022-05-31T15:36:38.619Z"
   },
   {
    "duration": 0,
    "start_time": "2022-05-31T15:36:38.621Z"
   },
   {
    "duration": 0,
    "start_time": "2022-05-31T15:36:38.622Z"
   },
   {
    "duration": 0,
    "start_time": "2022-05-31T15:36:38.623Z"
   },
   {
    "duration": 0,
    "start_time": "2022-05-31T15:36:38.624Z"
   },
   {
    "duration": 0,
    "start_time": "2022-05-31T15:36:38.625Z"
   },
   {
    "duration": 0,
    "start_time": "2022-05-31T15:36:38.627Z"
   },
   {
    "duration": 0,
    "start_time": "2022-05-31T15:36:38.628Z"
   },
   {
    "duration": 0,
    "start_time": "2022-05-31T15:36:38.628Z"
   },
   {
    "duration": 0,
    "start_time": "2022-05-31T15:36:38.630Z"
   },
   {
    "duration": 0,
    "start_time": "2022-05-31T15:36:38.631Z"
   },
   {
    "duration": 0,
    "start_time": "2022-05-31T15:36:38.632Z"
   },
   {
    "duration": 0,
    "start_time": "2022-05-31T15:36:38.633Z"
   },
   {
    "duration": 0,
    "start_time": "2022-05-31T15:36:38.633Z"
   },
   {
    "duration": 0,
    "start_time": "2022-05-31T15:36:38.635Z"
   },
   {
    "duration": 0,
    "start_time": "2022-05-31T15:36:38.636Z"
   },
   {
    "duration": 0,
    "start_time": "2022-05-31T15:36:38.637Z"
   },
   {
    "duration": 0,
    "start_time": "2022-05-31T15:36:38.638Z"
   },
   {
    "duration": 0,
    "start_time": "2022-05-31T15:36:38.639Z"
   },
   {
    "duration": 0,
    "start_time": "2022-05-31T15:36:38.640Z"
   },
   {
    "duration": 0,
    "start_time": "2022-05-31T15:36:38.641Z"
   },
   {
    "duration": 0,
    "start_time": "2022-05-31T15:36:38.642Z"
   },
   {
    "duration": 0,
    "start_time": "2022-05-31T15:36:38.643Z"
   },
   {
    "duration": 1516,
    "start_time": "2022-05-31T15:37:30.739Z"
   },
   {
    "duration": 43,
    "start_time": "2022-05-31T15:37:32.256Z"
   },
   {
    "duration": 64,
    "start_time": "2022-05-31T15:37:32.302Z"
   },
   {
    "duration": 237,
    "start_time": "2022-05-31T15:37:32.368Z"
   },
   {
    "duration": 4,
    "start_time": "2022-05-31T15:37:32.607Z"
   },
   {
    "duration": 70,
    "start_time": "2022-05-31T15:37:32.613Z"
   },
   {
    "duration": 13,
    "start_time": "2022-05-31T15:37:32.691Z"
   },
   {
    "duration": 20,
    "start_time": "2022-05-31T15:37:32.706Z"
   },
   {
    "duration": 4,
    "start_time": "2022-05-31T15:37:32.728Z"
   },
   {
    "duration": 90,
    "start_time": "2022-05-31T15:37:32.735Z"
   },
   {
    "duration": 223,
    "start_time": "2022-05-31T15:37:32.827Z"
   },
   {
    "duration": 98,
    "start_time": "2022-05-31T15:37:33.052Z"
   },
   {
    "duration": 143,
    "start_time": "2022-05-31T15:37:33.151Z"
   },
   {
    "duration": 11,
    "start_time": "2022-05-31T15:37:33.296Z"
   },
   {
    "duration": 169,
    "start_time": "2022-05-31T15:37:33.308Z"
   },
   {
    "duration": 14,
    "start_time": "2022-05-31T15:37:33.479Z"
   },
   {
    "duration": 43,
    "start_time": "2022-05-31T15:37:33.495Z"
   },
   {
    "duration": 90,
    "start_time": "2022-05-31T15:37:33.540Z"
   },
   {
    "duration": 8,
    "start_time": "2022-05-31T15:37:33.632Z"
   },
   {
    "duration": 8,
    "start_time": "2022-05-31T15:37:33.642Z"
   },
   {
    "duration": 16,
    "start_time": "2022-05-31T15:37:33.651Z"
   },
   {
    "duration": 48,
    "start_time": "2022-05-31T15:37:33.669Z"
   },
   {
    "duration": 6,
    "start_time": "2022-05-31T15:37:33.719Z"
   },
   {
    "duration": 6,
    "start_time": "2022-05-31T15:37:33.726Z"
   },
   {
    "duration": 18,
    "start_time": "2022-05-31T15:37:33.733Z"
   },
   {
    "duration": 18,
    "start_time": "2022-05-31T15:37:33.752Z"
   },
   {
    "duration": 253,
    "start_time": "2022-05-31T15:37:33.793Z"
   },
   {
    "duration": 228,
    "start_time": "2022-05-31T15:37:34.050Z"
   },
   {
    "duration": 217,
    "start_time": "2022-05-31T15:37:34.280Z"
   },
   {
    "duration": 241,
    "start_time": "2022-05-31T15:37:34.499Z"
   },
   {
    "duration": 4,
    "start_time": "2022-05-31T15:37:34.741Z"
   },
   {
    "duration": 318,
    "start_time": "2022-05-31T15:37:34.746Z"
   },
   {
    "duration": 240,
    "start_time": "2022-05-31T15:37:35.066Z"
   },
   {
    "duration": 220,
    "start_time": "2022-05-31T15:37:35.310Z"
   },
   {
    "duration": 201,
    "start_time": "2022-05-31T15:37:35.531Z"
   },
   {
    "duration": 4,
    "start_time": "2022-05-31T15:37:35.734Z"
   },
   {
    "duration": 9,
    "start_time": "2022-05-31T15:37:35.739Z"
   },
   {
    "duration": 25,
    "start_time": "2022-05-31T15:37:35.749Z"
   },
   {
    "duration": 4,
    "start_time": "2022-05-31T15:37:35.776Z"
   },
   {
    "duration": 11,
    "start_time": "2022-05-31T15:37:35.781Z"
   },
   {
    "duration": 81,
    "start_time": "2022-05-31T15:39:15.503Z"
   },
   {
    "duration": 11,
    "start_time": "2022-05-31T15:40:51.713Z"
   },
   {
    "duration": 12,
    "start_time": "2022-05-31T15:41:19.502Z"
   },
   {
    "duration": 96,
    "start_time": "2022-05-31T15:41:49.355Z"
   },
   {
    "duration": 9,
    "start_time": "2022-05-31T15:41:51.643Z"
   },
   {
    "duration": 11,
    "start_time": "2022-05-31T15:41:56.614Z"
   },
   {
    "duration": 6,
    "start_time": "2022-05-31T15:42:03.602Z"
   },
   {
    "duration": 12,
    "start_time": "2022-05-31T15:42:10.455Z"
   },
   {
    "duration": 5,
    "start_time": "2022-05-31T15:42:14.783Z"
   },
   {
    "duration": 13,
    "start_time": "2022-05-31T15:42:23.275Z"
   },
   {
    "duration": 5,
    "start_time": "2022-05-31T15:42:30.474Z"
   },
   {
    "duration": 11,
    "start_time": "2022-05-31T15:42:34.682Z"
   },
   {
    "duration": 16,
    "start_time": "2022-05-31T15:44:22.194Z"
   },
   {
    "duration": 7,
    "start_time": "2022-05-31T15:44:37.988Z"
   },
   {
    "duration": 1469,
    "start_time": "2022-05-31T15:45:21.353Z"
   },
   {
    "duration": 48,
    "start_time": "2022-05-31T15:45:22.824Z"
   },
   {
    "duration": 70,
    "start_time": "2022-05-31T15:45:22.874Z"
   },
   {
    "duration": 203,
    "start_time": "2022-05-31T15:45:22.946Z"
   },
   {
    "duration": 4,
    "start_time": "2022-05-31T15:45:23.151Z"
   },
   {
    "duration": 85,
    "start_time": "2022-05-31T15:45:23.156Z"
   },
   {
    "duration": 14,
    "start_time": "2022-05-31T15:45:23.243Z"
   },
   {
    "duration": 19,
    "start_time": "2022-05-31T15:45:23.258Z"
   },
   {
    "duration": 17,
    "start_time": "2022-05-31T15:45:23.278Z"
   },
   {
    "duration": 95,
    "start_time": "2022-05-31T15:45:23.297Z"
   },
   {
    "duration": 222,
    "start_time": "2022-05-31T15:45:23.393Z"
   },
   {
    "duration": 102,
    "start_time": "2022-05-31T15:45:23.616Z"
   },
   {
    "duration": 158,
    "start_time": "2022-05-31T15:45:23.720Z"
   },
   {
    "duration": 14,
    "start_time": "2022-05-31T15:45:23.880Z"
   },
   {
    "duration": 183,
    "start_time": "2022-05-31T15:45:23.896Z"
   },
   {
    "duration": 11,
    "start_time": "2022-05-31T15:45:24.081Z"
   },
   {
    "duration": 46,
    "start_time": "2022-05-31T15:45:24.093Z"
   },
   {
    "duration": 93,
    "start_time": "2022-05-31T15:45:24.141Z"
   },
   {
    "duration": 7,
    "start_time": "2022-05-31T15:45:24.235Z"
   },
   {
    "duration": 13,
    "start_time": "2022-05-31T15:45:24.243Z"
   },
   {
    "duration": 12,
    "start_time": "2022-05-31T15:45:24.257Z"
   },
   {
    "duration": 26,
    "start_time": "2022-05-31T15:45:24.270Z"
   },
   {
    "duration": 17,
    "start_time": "2022-05-31T15:45:24.298Z"
   },
   {
    "duration": 38,
    "start_time": "2022-05-31T15:45:24.316Z"
   },
   {
    "duration": 6,
    "start_time": "2022-05-31T15:45:24.355Z"
   },
   {
    "duration": 9,
    "start_time": "2022-05-31T15:45:24.362Z"
   },
   {
    "duration": 32,
    "start_time": "2022-05-31T15:45:24.372Z"
   },
   {
    "duration": 18,
    "start_time": "2022-05-31T15:45:24.407Z"
   },
   {
    "duration": 251,
    "start_time": "2022-05-31T15:45:24.427Z"
   },
   {
    "duration": 233,
    "start_time": "2022-05-31T15:45:24.680Z"
   },
   {
    "duration": 232,
    "start_time": "2022-05-31T15:45:24.915Z"
   },
   {
    "duration": 261,
    "start_time": "2022-05-31T15:45:25.148Z"
   },
   {
    "duration": 5,
    "start_time": "2022-05-31T15:45:25.411Z"
   },
   {
    "duration": 294,
    "start_time": "2022-05-31T15:45:25.417Z"
   },
   {
    "duration": 216,
    "start_time": "2022-05-31T15:45:25.712Z"
   },
   {
    "duration": 205,
    "start_time": "2022-05-31T15:45:25.930Z"
   },
   {
    "duration": 203,
    "start_time": "2022-05-31T15:45:26.137Z"
   },
   {
    "duration": 4,
    "start_time": "2022-05-31T15:45:26.342Z"
   },
   {
    "duration": 9,
    "start_time": "2022-05-31T15:45:26.347Z"
   },
   {
    "duration": 15,
    "start_time": "2022-05-31T15:45:26.357Z"
   },
   {
    "duration": 19,
    "start_time": "2022-05-31T15:45:26.373Z"
   },
   {
    "duration": 4,
    "start_time": "2022-05-31T15:45:26.393Z"
   },
   {
    "duration": 20,
    "start_time": "2022-05-31T15:48:08.374Z"
   },
   {
    "duration": 6,
    "start_time": "2022-05-31T15:48:23.621Z"
   },
   {
    "duration": 20,
    "start_time": "2022-05-31T15:50:07.762Z"
   },
   {
    "duration": 6,
    "start_time": "2022-05-31T15:50:12.236Z"
   },
   {
    "duration": 1474,
    "start_time": "2022-05-31T15:50:24.487Z"
   },
   {
    "duration": 49,
    "start_time": "2022-05-31T15:50:25.962Z"
   },
   {
    "duration": 60,
    "start_time": "2022-05-31T15:50:26.013Z"
   },
   {
    "duration": 191,
    "start_time": "2022-05-31T15:50:26.075Z"
   },
   {
    "duration": 3,
    "start_time": "2022-05-31T15:50:26.268Z"
   },
   {
    "duration": 72,
    "start_time": "2022-05-31T15:50:26.272Z"
   },
   {
    "duration": 13,
    "start_time": "2022-05-31T15:50:26.345Z"
   },
   {
    "duration": 17,
    "start_time": "2022-05-31T15:50:26.360Z"
   },
   {
    "duration": 5,
    "start_time": "2022-05-31T15:50:26.391Z"
   },
   {
    "duration": 73,
    "start_time": "2022-05-31T15:50:26.399Z"
   },
   {
    "duration": 207,
    "start_time": "2022-05-31T15:50:26.492Z"
   },
   {
    "duration": 99,
    "start_time": "2022-05-31T15:50:26.701Z"
   },
   {
    "duration": 130,
    "start_time": "2022-05-31T15:50:26.802Z"
   },
   {
    "duration": 9,
    "start_time": "2022-05-31T15:50:26.934Z"
   },
   {
    "duration": 162,
    "start_time": "2022-05-31T15:50:26.944Z"
   },
   {
    "duration": 4,
    "start_time": "2022-05-31T15:50:27.107Z"
   },
   {
    "duration": 43,
    "start_time": "2022-05-31T15:50:27.113Z"
   },
   {
    "duration": 90,
    "start_time": "2022-05-31T15:50:27.157Z"
   },
   {
    "duration": 8,
    "start_time": "2022-05-31T15:50:27.249Z"
   },
   {
    "duration": 17,
    "start_time": "2022-05-31T15:50:27.258Z"
   },
   {
    "duration": 15,
    "start_time": "2022-05-31T15:50:27.277Z"
   },
   {
    "duration": 16,
    "start_time": "2022-05-31T15:50:27.294Z"
   },
   {
    "duration": 32,
    "start_time": "2022-05-31T15:50:27.312Z"
   },
   {
    "duration": 7,
    "start_time": "2022-05-31T15:50:27.346Z"
   },
   {
    "duration": 7,
    "start_time": "2022-05-31T15:50:27.355Z"
   },
   {
    "duration": 42,
    "start_time": "2022-05-31T15:50:27.363Z"
   },
   {
    "duration": 17,
    "start_time": "2022-05-31T15:50:27.407Z"
   },
   {
    "duration": 235,
    "start_time": "2022-05-31T15:50:27.428Z"
   },
   {
    "duration": 214,
    "start_time": "2022-05-31T15:50:27.665Z"
   },
   {
    "duration": 216,
    "start_time": "2022-05-31T15:50:27.881Z"
   },
   {
    "duration": 217,
    "start_time": "2022-05-31T15:50:28.099Z"
   },
   {
    "duration": 4,
    "start_time": "2022-05-31T15:50:28.318Z"
   },
   {
    "duration": 296,
    "start_time": "2022-05-31T15:50:28.324Z"
   },
   {
    "duration": 213,
    "start_time": "2022-05-31T15:50:28.622Z"
   },
   {
    "duration": 199,
    "start_time": "2022-05-31T15:50:28.836Z"
   },
   {
    "duration": 221,
    "start_time": "2022-05-31T15:50:29.036Z"
   },
   {
    "duration": 4,
    "start_time": "2022-05-31T15:50:29.259Z"
   },
   {
    "duration": 14,
    "start_time": "2022-05-31T15:50:29.264Z"
   },
   {
    "duration": 18,
    "start_time": "2022-05-31T15:50:29.280Z"
   },
   {
    "duration": 4,
    "start_time": "2022-05-31T15:50:29.299Z"
   },
   {
    "duration": 7,
    "start_time": "2022-05-31T15:50:29.304Z"
   },
   {
    "duration": 5,
    "start_time": "2022-05-31T15:53:13.975Z"
   },
   {
    "duration": 9,
    "start_time": "2022-05-31T15:53:18.070Z"
   },
   {
    "duration": 1396,
    "start_time": "2022-05-31T15:53:54.934Z"
   },
   {
    "duration": 40,
    "start_time": "2022-05-31T15:53:56.332Z"
   },
   {
    "duration": 60,
    "start_time": "2022-05-31T15:53:56.374Z"
   },
   {
    "duration": 192,
    "start_time": "2022-05-31T15:53:56.436Z"
   },
   {
    "duration": 3,
    "start_time": "2022-05-31T15:53:56.630Z"
   },
   {
    "duration": 75,
    "start_time": "2022-05-31T15:53:56.635Z"
   },
   {
    "duration": 12,
    "start_time": "2022-05-31T15:53:56.712Z"
   },
   {
    "duration": 18,
    "start_time": "2022-05-31T15:53:56.726Z"
   },
   {
    "duration": 5,
    "start_time": "2022-05-31T15:53:56.745Z"
   },
   {
    "duration": 92,
    "start_time": "2022-05-31T15:53:56.752Z"
   },
   {
    "duration": 211,
    "start_time": "2022-05-31T15:53:56.846Z"
   },
   {
    "duration": 96,
    "start_time": "2022-05-31T15:53:57.058Z"
   },
   {
    "duration": 137,
    "start_time": "2022-05-31T15:53:57.155Z"
   },
   {
    "duration": 10,
    "start_time": "2022-05-31T15:53:57.295Z"
   },
   {
    "duration": 159,
    "start_time": "2022-05-31T15:53:57.307Z"
   },
   {
    "duration": 6,
    "start_time": "2022-05-31T15:53:57.468Z"
   },
   {
    "duration": 54,
    "start_time": "2022-05-31T15:53:57.475Z"
   },
   {
    "duration": 90,
    "start_time": "2022-05-31T15:53:57.531Z"
   },
   {
    "duration": 8,
    "start_time": "2022-05-31T15:53:57.622Z"
   },
   {
    "duration": 7,
    "start_time": "2022-05-31T15:53:57.632Z"
   },
   {
    "duration": 8,
    "start_time": "2022-05-31T15:53:57.641Z"
   },
   {
    "duration": 17,
    "start_time": "2022-05-31T15:53:57.650Z"
   },
   {
    "duration": 47,
    "start_time": "2022-05-31T15:53:57.669Z"
   },
   {
    "duration": 7,
    "start_time": "2022-05-31T15:53:57.718Z"
   },
   {
    "duration": 16,
    "start_time": "2022-05-31T15:53:57.726Z"
   },
   {
    "duration": 23,
    "start_time": "2022-05-31T15:53:57.743Z"
   },
   {
    "duration": 26,
    "start_time": "2022-05-31T15:53:57.768Z"
   },
   {
    "duration": 209,
    "start_time": "2022-05-31T15:53:57.795Z"
   },
   {
    "duration": 206,
    "start_time": "2022-05-31T15:53:58.006Z"
   },
   {
    "duration": 214,
    "start_time": "2022-05-31T15:53:58.213Z"
   },
   {
    "duration": 244,
    "start_time": "2022-05-31T15:53:58.428Z"
   },
   {
    "duration": 5,
    "start_time": "2022-05-31T15:53:58.673Z"
   },
   {
    "duration": 287,
    "start_time": "2022-05-31T15:53:58.680Z"
   },
   {
    "duration": 214,
    "start_time": "2022-05-31T15:53:58.969Z"
   },
   {
    "duration": 202,
    "start_time": "2022-05-31T15:53:59.185Z"
   },
   {
    "duration": 216,
    "start_time": "2022-05-31T15:53:59.389Z"
   },
   {
    "duration": 8,
    "start_time": "2022-05-31T15:53:59.607Z"
   },
   {
    "duration": 9,
    "start_time": "2022-05-31T15:53:59.617Z"
   },
   {
    "duration": 19,
    "start_time": "2022-05-31T15:53:59.628Z"
   },
   {
    "duration": 6,
    "start_time": "2022-05-31T15:53:59.649Z"
   },
   {
    "duration": 6,
    "start_time": "2022-05-31T15:53:59.658Z"
   },
   {
    "duration": 6,
    "start_time": "2022-05-31T15:54:53.523Z"
   },
   {
    "duration": 8,
    "start_time": "2022-05-31T16:27:39.773Z"
   },
   {
    "duration": 5,
    "start_time": "2022-05-31T16:29:18.621Z"
   },
   {
    "duration": 4,
    "start_time": "2022-05-31T16:29:42.073Z"
   },
   {
    "duration": 27,
    "start_time": "2022-05-31T16:33:53.313Z"
   },
   {
    "duration": 13,
    "start_time": "2022-05-31T16:34:55.638Z"
   },
   {
    "duration": 102,
    "start_time": "2022-05-31T16:37:38.931Z"
   },
   {
    "duration": 9,
    "start_time": "2022-05-31T16:37:45.003Z"
   },
   {
    "duration": 26,
    "start_time": "2022-05-31T16:37:55.788Z"
   },
   {
    "duration": 156,
    "start_time": "2022-05-31T16:39:07.610Z"
   },
   {
    "duration": 154,
    "start_time": "2022-05-31T16:39:50.274Z"
   },
   {
    "duration": 358,
    "start_time": "2022-05-31T16:40:51.613Z"
   },
   {
    "duration": 132,
    "start_time": "2022-05-31T16:40:59.913Z"
   },
   {
    "duration": 166,
    "start_time": "2022-05-31T16:41:12.701Z"
   },
   {
    "duration": 145,
    "start_time": "2022-05-31T16:41:48.113Z"
   },
   {
    "duration": 144,
    "start_time": "2022-05-31T16:42:39.971Z"
   },
   {
    "duration": 113,
    "start_time": "2022-05-31T16:42:59.385Z"
   },
   {
    "duration": 11,
    "start_time": "2022-05-31T16:44:37.512Z"
   },
   {
    "duration": 12,
    "start_time": "2022-05-31T16:45:41.352Z"
   },
   {
    "duration": 13,
    "start_time": "2022-05-31T16:47:57.053Z"
   },
   {
    "duration": 11,
    "start_time": "2022-05-31T16:48:09.560Z"
   },
   {
    "duration": 11,
    "start_time": "2022-05-31T16:48:15.801Z"
   },
   {
    "duration": 10,
    "start_time": "2022-05-31T16:48:39.796Z"
   },
   {
    "duration": 129,
    "start_time": "2022-05-31T16:48:57.113Z"
   },
   {
    "duration": 11,
    "start_time": "2022-05-31T16:49:59.232Z"
   },
   {
    "duration": 132,
    "start_time": "2022-05-31T16:50:06.605Z"
   },
   {
    "duration": 10,
    "start_time": "2022-05-31T16:50:38.680Z"
   },
   {
    "duration": 247,
    "start_time": "2022-05-31T16:51:40.538Z"
   },
   {
    "duration": 110,
    "start_time": "2022-05-31T16:52:03.556Z"
   },
   {
    "duration": 107,
    "start_time": "2022-05-31T16:52:14.710Z"
   },
   {
    "duration": 110,
    "start_time": "2022-05-31T16:52:19.342Z"
   },
   {
    "duration": 131,
    "start_time": "2022-05-31T16:53:19.733Z"
   },
   {
    "duration": 128,
    "start_time": "2022-05-31T16:53:24.482Z"
   },
   {
    "duration": 117,
    "start_time": "2022-05-31T16:54:51.974Z"
   },
   {
    "duration": 1544,
    "start_time": "2022-05-31T16:55:22.192Z"
   },
   {
    "duration": 44,
    "start_time": "2022-05-31T16:55:23.738Z"
   },
   {
    "duration": 64,
    "start_time": "2022-05-31T16:55:23.783Z"
   },
   {
    "duration": 222,
    "start_time": "2022-05-31T16:55:23.850Z"
   },
   {
    "duration": 3,
    "start_time": "2022-05-31T16:55:24.074Z"
   },
   {
    "duration": 74,
    "start_time": "2022-05-31T16:55:24.079Z"
   },
   {
    "duration": 14,
    "start_time": "2022-05-31T16:55:24.155Z"
   },
   {
    "duration": 34,
    "start_time": "2022-05-31T16:55:24.171Z"
   },
   {
    "duration": 5,
    "start_time": "2022-05-31T16:55:24.207Z"
   },
   {
    "duration": 86,
    "start_time": "2022-05-31T16:55:24.214Z"
   },
   {
    "duration": 229,
    "start_time": "2022-05-31T16:55:24.302Z"
   },
   {
    "duration": 112,
    "start_time": "2022-05-31T16:55:24.532Z"
   },
   {
    "duration": 139,
    "start_time": "2022-05-31T16:55:24.646Z"
   },
   {
    "duration": 13,
    "start_time": "2022-05-31T16:55:24.786Z"
   },
   {
    "duration": 165,
    "start_time": "2022-05-31T16:55:24.801Z"
   },
   {
    "duration": 5,
    "start_time": "2022-05-31T16:55:24.967Z"
   },
   {
    "duration": 58,
    "start_time": "2022-05-31T16:55:24.973Z"
   },
   {
    "duration": 145,
    "start_time": "2022-05-31T16:55:25.033Z"
   },
   {
    "duration": 188,
    "start_time": "2022-05-31T16:55:25.180Z"
   },
   {
    "duration": 134,
    "start_time": "2022-05-31T16:55:25.369Z"
   },
   {
    "duration": 74,
    "start_time": "2022-05-31T16:55:25.505Z"
   },
   {
    "duration": 117,
    "start_time": "2022-05-31T16:55:25.592Z"
   },
   {
    "duration": 118,
    "start_time": "2022-05-31T16:55:25.711Z"
   },
   {
    "duration": 126,
    "start_time": "2022-05-31T16:55:25.831Z"
   },
   {
    "duration": 8,
    "start_time": "2022-05-31T16:55:25.959Z"
   },
   {
    "duration": 9,
    "start_time": "2022-05-31T16:55:25.968Z"
   },
   {
    "duration": 17,
    "start_time": "2022-05-31T16:55:25.979Z"
   },
   {
    "duration": 22,
    "start_time": "2022-05-31T16:55:26.000Z"
   },
   {
    "duration": 37,
    "start_time": "2022-05-31T16:55:26.024Z"
   },
   {
    "duration": 6,
    "start_time": "2022-05-31T16:55:26.062Z"
   },
   {
    "duration": 37,
    "start_time": "2022-05-31T16:55:26.069Z"
   },
   {
    "duration": 18,
    "start_time": "2022-05-31T16:55:26.107Z"
   },
   {
    "duration": 221,
    "start_time": "2022-05-31T16:55:26.127Z"
   },
   {
    "duration": 297,
    "start_time": "2022-05-31T16:55:26.350Z"
   },
   {
    "duration": 221,
    "start_time": "2022-05-31T16:55:26.648Z"
   },
   {
    "duration": 244,
    "start_time": "2022-05-31T16:55:26.870Z"
   },
   {
    "duration": 212,
    "start_time": "2022-05-31T16:55:27.115Z"
   },
   {
    "duration": 224,
    "start_time": "2022-05-31T16:55:27.329Z"
   },
   {
    "duration": 212,
    "start_time": "2022-05-31T16:55:27.555Z"
   },
   {
    "duration": 232,
    "start_time": "2022-05-31T16:55:27.768Z"
   },
   {
    "duration": 8,
    "start_time": "2022-05-31T16:55:28.002Z"
   },
   {
    "duration": 6,
    "start_time": "2022-05-31T16:55:28.011Z"
   },
   {
    "duration": 12,
    "start_time": "2022-05-31T16:55:28.019Z"
   },
   {
    "duration": 6,
    "start_time": "2022-05-31T16:55:28.033Z"
   },
   {
    "duration": 6,
    "start_time": "2022-05-31T16:55:28.041Z"
   }
  ],
  "kernelspec": {
   "display_name": "Python 3 (ipykernel)",
   "language": "python",
   "name": "python3"
  },
  "language_info": {
   "codemirror_mode": {
    "name": "ipython",
    "version": 3
   },
   "file_extension": ".py",
   "mimetype": "text/x-python",
   "name": "python",
   "nbconvert_exporter": "python",
   "pygments_lexer": "ipython3",
   "version": "3.9.12"
  },
  "toc": {
   "base_numbering": 1,
   "nav_menu": {
    "height": "220px",
    "width": "391px"
   },
   "number_sections": true,
   "sideBar": true,
   "skip_h1_title": true,
   "title_cell": "Table of Contents",
   "title_sidebar": "Contents",
   "toc_cell": false,
   "toc_position": {},
   "toc_section_display": true,
   "toc_window_display": false
  }
 },
 "nbformat": 4,
 "nbformat_minor": 5
}
