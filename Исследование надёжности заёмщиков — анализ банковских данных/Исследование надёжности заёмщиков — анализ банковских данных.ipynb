{
 "cells": [
  {
   "cell_type": "markdown",
   "id": "f34ef8dd",
   "metadata": {},
   "source": [
    "# Исследование надежности заемщиков"
   ]
  },
  {
   "cell_type": "markdown",
   "id": "8b1abb76",
   "metadata": {},
   "source": [
    "### Шаг 1. Обзор данных"
   ]
  },
  {
   "cell_type": "code",
   "execution_count": 1,
   "id": "b2c4db00",
   "metadata": {},
   "outputs": [],
   "source": [
    "import pandas as pd\n",
    "\n",
    "import os\n",
    "\n",
    "pth1 = '/Users/vadimhlebnikov/Downloads/data1.csv'\n",
    "pth2 = '/datasets/data.csv'\n",
    "\n",
    "if os.path.exists(pth1):\n",
    "    data = pd.read_csv(pth1)\n",
    "elif os.path.exists(pth2):\n",
    "    data = pd.read_csv(pth2)\n",
    "else:\n",
    "    print('Something is wrong')\n",
    "\n",
    "#data=pd.read_csv('/Users/vadimhlebnikov/Downloads/data1.csv')"
   ]
  },
  {
   "cell_type": "code",
   "execution_count": 2,
   "id": "79a50604",
   "metadata": {},
   "outputs": [
    {
     "name": "stdout",
     "output_type": "stream",
     "text": [
      "<class 'pandas.core.frame.DataFrame'>\n",
      "RangeIndex: 21525 entries, 0 to 21524\n",
      "Data columns (total 12 columns):\n",
      " #   Column            Non-Null Count  Dtype  \n",
      "---  ------            --------------  -----  \n",
      " 0   children          21525 non-null  int64  \n",
      " 1   days_employed     19351 non-null  float64\n",
      " 2   dob_years         21525 non-null  int64  \n",
      " 3   education         21525 non-null  object \n",
      " 4   education_id      21525 non-null  int64  \n",
      " 5   family_status     21525 non-null  object \n",
      " 6   family_status_id  21525 non-null  int64  \n",
      " 7   gender            21525 non-null  object \n",
      " 8   income_type       21525 non-null  object \n",
      " 9   debt              21525 non-null  int64  \n",
      " 10  total_income      19351 non-null  float64\n",
      " 11  purpose           21525 non-null  object \n",
      "dtypes: float64(2), int64(5), object(5)\n",
      "memory usage: 2.0+ MB\n"
     ]
    }
   ],
   "source": [
    "data.info()"
   ]
  },
  {
   "cell_type": "code",
   "execution_count": 3,
   "id": "8e090eb7",
   "metadata": {},
   "outputs": [
    {
     "data": {
      "text/html": [
       "<div>\n",
       "<style scoped>\n",
       "    .dataframe tbody tr th:only-of-type {\n",
       "        vertical-align: middle;\n",
       "    }\n",
       "\n",
       "    .dataframe tbody tr th {\n",
       "        vertical-align: top;\n",
       "    }\n",
       "\n",
       "    .dataframe thead th {\n",
       "        text-align: right;\n",
       "    }\n",
       "</style>\n",
       "<table border=\"1\" class=\"dataframe\">\n",
       "  <thead>\n",
       "    <tr style=\"text-align: right;\">\n",
       "      <th></th>\n",
       "      <th>children</th>\n",
       "      <th>days_employed</th>\n",
       "      <th>dob_years</th>\n",
       "      <th>education</th>\n",
       "      <th>education_id</th>\n",
       "      <th>family_status</th>\n",
       "      <th>family_status_id</th>\n",
       "      <th>gender</th>\n",
       "      <th>income_type</th>\n",
       "      <th>debt</th>\n",
       "      <th>total_income</th>\n",
       "      <th>purpose</th>\n",
       "    </tr>\n",
       "  </thead>\n",
       "  <tbody>\n",
       "    <tr>\n",
       "      <th>0</th>\n",
       "      <td>1</td>\n",
       "      <td>-8437.673028</td>\n",
       "      <td>42</td>\n",
       "      <td>высшее</td>\n",
       "      <td>0</td>\n",
       "      <td>женат / замужем</td>\n",
       "      <td>0</td>\n",
       "      <td>F</td>\n",
       "      <td>сотрудник</td>\n",
       "      <td>0</td>\n",
       "      <td>253875.639453</td>\n",
       "      <td>покупка жилья</td>\n",
       "    </tr>\n",
       "    <tr>\n",
       "      <th>1</th>\n",
       "      <td>1</td>\n",
       "      <td>-4024.803754</td>\n",
       "      <td>36</td>\n",
       "      <td>среднее</td>\n",
       "      <td>1</td>\n",
       "      <td>женат / замужем</td>\n",
       "      <td>0</td>\n",
       "      <td>F</td>\n",
       "      <td>сотрудник</td>\n",
       "      <td>0</td>\n",
       "      <td>112080.014102</td>\n",
       "      <td>приобретение автомобиля</td>\n",
       "    </tr>\n",
       "    <tr>\n",
       "      <th>2</th>\n",
       "      <td>0</td>\n",
       "      <td>-5623.422610</td>\n",
       "      <td>33</td>\n",
       "      <td>Среднее</td>\n",
       "      <td>1</td>\n",
       "      <td>женат / замужем</td>\n",
       "      <td>0</td>\n",
       "      <td>M</td>\n",
       "      <td>сотрудник</td>\n",
       "      <td>0</td>\n",
       "      <td>145885.952297</td>\n",
       "      <td>покупка жилья</td>\n",
       "    </tr>\n",
       "    <tr>\n",
       "      <th>3</th>\n",
       "      <td>3</td>\n",
       "      <td>-4124.747207</td>\n",
       "      <td>32</td>\n",
       "      <td>среднее</td>\n",
       "      <td>1</td>\n",
       "      <td>женат / замужем</td>\n",
       "      <td>0</td>\n",
       "      <td>M</td>\n",
       "      <td>сотрудник</td>\n",
       "      <td>0</td>\n",
       "      <td>267628.550329</td>\n",
       "      <td>дополнительное образование</td>\n",
       "    </tr>\n",
       "    <tr>\n",
       "      <th>4</th>\n",
       "      <td>0</td>\n",
       "      <td>340266.072047</td>\n",
       "      <td>53</td>\n",
       "      <td>среднее</td>\n",
       "      <td>1</td>\n",
       "      <td>гражданский брак</td>\n",
       "      <td>1</td>\n",
       "      <td>F</td>\n",
       "      <td>пенсионер</td>\n",
       "      <td>0</td>\n",
       "      <td>158616.077870</td>\n",
       "      <td>сыграть свадьбу</td>\n",
       "    </tr>\n",
       "    <tr>\n",
       "      <th>...</th>\n",
       "      <td>...</td>\n",
       "      <td>...</td>\n",
       "      <td>...</td>\n",
       "      <td>...</td>\n",
       "      <td>...</td>\n",
       "      <td>...</td>\n",
       "      <td>...</td>\n",
       "      <td>...</td>\n",
       "      <td>...</td>\n",
       "      <td>...</td>\n",
       "      <td>...</td>\n",
       "      <td>...</td>\n",
       "    </tr>\n",
       "    <tr>\n",
       "      <th>21520</th>\n",
       "      <td>1</td>\n",
       "      <td>-4529.316663</td>\n",
       "      <td>43</td>\n",
       "      <td>среднее</td>\n",
       "      <td>1</td>\n",
       "      <td>гражданский брак</td>\n",
       "      <td>1</td>\n",
       "      <td>F</td>\n",
       "      <td>компаньон</td>\n",
       "      <td>0</td>\n",
       "      <td>224791.862382</td>\n",
       "      <td>операции с жильем</td>\n",
       "    </tr>\n",
       "    <tr>\n",
       "      <th>21521</th>\n",
       "      <td>0</td>\n",
       "      <td>343937.404131</td>\n",
       "      <td>67</td>\n",
       "      <td>среднее</td>\n",
       "      <td>1</td>\n",
       "      <td>женат / замужем</td>\n",
       "      <td>0</td>\n",
       "      <td>F</td>\n",
       "      <td>пенсионер</td>\n",
       "      <td>0</td>\n",
       "      <td>155999.806512</td>\n",
       "      <td>сделка с автомобилем</td>\n",
       "    </tr>\n",
       "    <tr>\n",
       "      <th>21522</th>\n",
       "      <td>1</td>\n",
       "      <td>-2113.346888</td>\n",
       "      <td>38</td>\n",
       "      <td>среднее</td>\n",
       "      <td>1</td>\n",
       "      <td>гражданский брак</td>\n",
       "      <td>1</td>\n",
       "      <td>M</td>\n",
       "      <td>сотрудник</td>\n",
       "      <td>1</td>\n",
       "      <td>89672.561153</td>\n",
       "      <td>недвижимость</td>\n",
       "    </tr>\n",
       "    <tr>\n",
       "      <th>21523</th>\n",
       "      <td>3</td>\n",
       "      <td>-3112.481705</td>\n",
       "      <td>38</td>\n",
       "      <td>среднее</td>\n",
       "      <td>1</td>\n",
       "      <td>женат / замужем</td>\n",
       "      <td>0</td>\n",
       "      <td>M</td>\n",
       "      <td>сотрудник</td>\n",
       "      <td>1</td>\n",
       "      <td>244093.050500</td>\n",
       "      <td>на покупку своего автомобиля</td>\n",
       "    </tr>\n",
       "    <tr>\n",
       "      <th>21524</th>\n",
       "      <td>2</td>\n",
       "      <td>-1984.507589</td>\n",
       "      <td>40</td>\n",
       "      <td>среднее</td>\n",
       "      <td>1</td>\n",
       "      <td>женат / замужем</td>\n",
       "      <td>0</td>\n",
       "      <td>F</td>\n",
       "      <td>сотрудник</td>\n",
       "      <td>0</td>\n",
       "      <td>82047.418899</td>\n",
       "      <td>на покупку автомобиля</td>\n",
       "    </tr>\n",
       "  </tbody>\n",
       "</table>\n",
       "<p>21525 rows × 12 columns</p>\n",
       "</div>"
      ],
      "text/plain": [
       "       children  days_employed  dob_years education  education_id  \\\n",
       "0             1   -8437.673028         42    высшее             0   \n",
       "1             1   -4024.803754         36   среднее             1   \n",
       "2             0   -5623.422610         33   Среднее             1   \n",
       "3             3   -4124.747207         32   среднее             1   \n",
       "4             0  340266.072047         53   среднее             1   \n",
       "...         ...            ...        ...       ...           ...   \n",
       "21520         1   -4529.316663         43   среднее             1   \n",
       "21521         0  343937.404131         67   среднее             1   \n",
       "21522         1   -2113.346888         38   среднее             1   \n",
       "21523         3   -3112.481705         38   среднее             1   \n",
       "21524         2   -1984.507589         40   среднее             1   \n",
       "\n",
       "          family_status  family_status_id gender income_type  debt  \\\n",
       "0       женат / замужем                 0      F   сотрудник     0   \n",
       "1       женат / замужем                 0      F   сотрудник     0   \n",
       "2       женат / замужем                 0      M   сотрудник     0   \n",
       "3       женат / замужем                 0      M   сотрудник     0   \n",
       "4      гражданский брак                 1      F   пенсионер     0   \n",
       "...                 ...               ...    ...         ...   ...   \n",
       "21520  гражданский брак                 1      F   компаньон     0   \n",
       "21521   женат / замужем                 0      F   пенсионер     0   \n",
       "21522  гражданский брак                 1      M   сотрудник     1   \n",
       "21523   женат / замужем                 0      M   сотрудник     1   \n",
       "21524   женат / замужем                 0      F   сотрудник     0   \n",
       "\n",
       "        total_income                       purpose  \n",
       "0      253875.639453                 покупка жилья  \n",
       "1      112080.014102       приобретение автомобиля  \n",
       "2      145885.952297                 покупка жилья  \n",
       "3      267628.550329    дополнительное образование  \n",
       "4      158616.077870               сыграть свадьбу  \n",
       "...              ...                           ...  \n",
       "21520  224791.862382             операции с жильем  \n",
       "21521  155999.806512          сделка с автомобилем  \n",
       "21522   89672.561153                  недвижимость  \n",
       "21523  244093.050500  на покупку своего автомобиля  \n",
       "21524   82047.418899         на покупку автомобиля  \n",
       "\n",
       "[21525 rows x 12 columns]"
      ]
     },
     "metadata": {},
     "output_type": "display_data"
    }
   ],
   "source": [
    "display(data)"
   ]
  },
  {
   "cell_type": "markdown",
   "id": "8f886bac",
   "metadata": {},
   "source": [
    "Предавариетльный анализ показывает, что в столбце 'days_employed' содержатся отрицательные значения, чего быть не может. Их предстоит заменить на значения взятые по модулю. Также заметны однотипные значения, введенные с разным регистром букв, в столбце 'education'. Поэтому нужно подробнее ознакомиться с перечнем значений этого и других столбцов на предмет неявных дубликатов, а также поверить массив на предмет пропусков и заполнить их."
   ]
  },
  {
   "cell_type": "markdown",
   "id": "a0efd56c",
   "metadata": {},
   "source": [
    "### Шаг 2.1 Заполнение пропусков"
   ]
  },
  {
   "cell_type": "code",
   "execution_count": 4,
   "id": "00c226b4",
   "metadata": {},
   "outputs": [
    {
     "data": {
      "text/plain": [
       "children               0\n",
       "days_employed       2174\n",
       "dob_years              0\n",
       "education              0\n",
       "education_id           0\n",
       "family_status          0\n",
       "family_status_id       0\n",
       "gender                 0\n",
       "income_type            0\n",
       "debt                   0\n",
       "total_income        2174\n",
       "purpose                0\n",
       "dtype: int64"
      ]
     },
     "execution_count": 4,
     "metadata": {},
     "output_type": "execute_result"
    }
   ],
   "source": [
    "data.isna().sum()"
   ]
  },
  {
   "cell_type": "markdown",
   "id": "f49d6275",
   "metadata": {},
   "source": [
    "Найдены пропущнные значения в столбцах 'days_employed' и 'total_income'. Количество пропусков в столбцах одинаково и составляет около 10% строк"
   ]
  },
  {
   "cell_type": "markdown",
   "id": "5697ebc1",
   "metadata": {},
   "source": [
    "### Шаг 2.2 Проверка данных на аномалии и исправления."
   ]
  },
  {
   "cell_type": "code",
   "execution_count": 5,
   "id": "4a02454f",
   "metadata": {},
   "outputs": [
    {
     "data": {
      "text/plain": [
       "0.7389547038327526"
      ]
     },
     "execution_count": 5,
     "metadata": {},
     "output_type": "execute_result"
    }
   ],
   "source": [
    "(data[data['days_employed'] < 0]['days_employed'].count())/len(data)"
   ]
  },
  {
   "cell_type": "code",
   "execution_count": 6,
   "id": "30dd3baf",
   "metadata": {},
   "outputs": [
    {
     "data": {
      "text/plain": [
       "0.16004645760743322"
      ]
     },
     "execution_count": 6,
     "metadata": {},
     "output_type": "execute_result"
    }
   ],
   "source": [
    "(data[data['days_employed'] > 36500]['days_employed'].count())/len(data)"
   ]
  },
  {
   "cell_type": "markdown",
   "id": "244364e6",
   "metadata": {},
   "source": [
    "74% значений столбца 'days_employed' представляют собой отрицателные значения, что невозможно для показателя трудового стажа. Еще 16% значений данного столбца указывают на срок трудового стажа более 100 лет, что таже невозможно. Поэтому большая часть данных столбца являются некорректными. Причина некорректности данных, вероятно, кроется в ошибке ввода в виде лишнего минуса. Для решения проблемы вернем модуль чисел в столбце."
   ]
  },
  {
   "cell_type": "code",
   "execution_count": 7,
   "id": "987b798f",
   "metadata": {},
   "outputs": [
    {
     "data": {
      "text/html": [
       "<div>\n",
       "<style scoped>\n",
       "    .dataframe tbody tr th:only-of-type {\n",
       "        vertical-align: middle;\n",
       "    }\n",
       "\n",
       "    .dataframe tbody tr th {\n",
       "        vertical-align: top;\n",
       "    }\n",
       "\n",
       "    .dataframe thead th {\n",
       "        text-align: right;\n",
       "    }\n",
       "</style>\n",
       "<table border=\"1\" class=\"dataframe\">\n",
       "  <thead>\n",
       "    <tr style=\"text-align: right;\">\n",
       "      <th></th>\n",
       "      <th>children</th>\n",
       "      <th>days_employed</th>\n",
       "      <th>dob_years</th>\n",
       "      <th>education</th>\n",
       "      <th>education_id</th>\n",
       "      <th>family_status</th>\n",
       "      <th>family_status_id</th>\n",
       "      <th>gender</th>\n",
       "      <th>income_type</th>\n",
       "      <th>debt</th>\n",
       "      <th>total_income</th>\n",
       "      <th>purpose</th>\n",
       "    </tr>\n",
       "  </thead>\n",
       "  <tbody>\n",
       "    <tr>\n",
       "      <th>0</th>\n",
       "      <td>1</td>\n",
       "      <td>8437.673028</td>\n",
       "      <td>42</td>\n",
       "      <td>высшее</td>\n",
       "      <td>0</td>\n",
       "      <td>женат / замужем</td>\n",
       "      <td>0</td>\n",
       "      <td>F</td>\n",
       "      <td>сотрудник</td>\n",
       "      <td>0</td>\n",
       "      <td>253875.639453</td>\n",
       "      <td>покупка жилья</td>\n",
       "    </tr>\n",
       "    <tr>\n",
       "      <th>1</th>\n",
       "      <td>1</td>\n",
       "      <td>4024.803754</td>\n",
       "      <td>36</td>\n",
       "      <td>среднее</td>\n",
       "      <td>1</td>\n",
       "      <td>женат / замужем</td>\n",
       "      <td>0</td>\n",
       "      <td>F</td>\n",
       "      <td>сотрудник</td>\n",
       "      <td>0</td>\n",
       "      <td>112080.014102</td>\n",
       "      <td>приобретение автомобиля</td>\n",
       "    </tr>\n",
       "    <tr>\n",
       "      <th>2</th>\n",
       "      <td>0</td>\n",
       "      <td>5623.422610</td>\n",
       "      <td>33</td>\n",
       "      <td>Среднее</td>\n",
       "      <td>1</td>\n",
       "      <td>женат / замужем</td>\n",
       "      <td>0</td>\n",
       "      <td>M</td>\n",
       "      <td>сотрудник</td>\n",
       "      <td>0</td>\n",
       "      <td>145885.952297</td>\n",
       "      <td>покупка жилья</td>\n",
       "    </tr>\n",
       "    <tr>\n",
       "      <th>3</th>\n",
       "      <td>3</td>\n",
       "      <td>4124.747207</td>\n",
       "      <td>32</td>\n",
       "      <td>среднее</td>\n",
       "      <td>1</td>\n",
       "      <td>женат / замужем</td>\n",
       "      <td>0</td>\n",
       "      <td>M</td>\n",
       "      <td>сотрудник</td>\n",
       "      <td>0</td>\n",
       "      <td>267628.550329</td>\n",
       "      <td>дополнительное образование</td>\n",
       "    </tr>\n",
       "    <tr>\n",
       "      <th>4</th>\n",
       "      <td>0</td>\n",
       "      <td>340266.072047</td>\n",
       "      <td>53</td>\n",
       "      <td>среднее</td>\n",
       "      <td>1</td>\n",
       "      <td>гражданский брак</td>\n",
       "      <td>1</td>\n",
       "      <td>F</td>\n",
       "      <td>пенсионер</td>\n",
       "      <td>0</td>\n",
       "      <td>158616.077870</td>\n",
       "      <td>сыграть свадьбу</td>\n",
       "    </tr>\n",
       "    <tr>\n",
       "      <th>...</th>\n",
       "      <td>...</td>\n",
       "      <td>...</td>\n",
       "      <td>...</td>\n",
       "      <td>...</td>\n",
       "      <td>...</td>\n",
       "      <td>...</td>\n",
       "      <td>...</td>\n",
       "      <td>...</td>\n",
       "      <td>...</td>\n",
       "      <td>...</td>\n",
       "      <td>...</td>\n",
       "      <td>...</td>\n",
       "    </tr>\n",
       "    <tr>\n",
       "      <th>21520</th>\n",
       "      <td>1</td>\n",
       "      <td>4529.316663</td>\n",
       "      <td>43</td>\n",
       "      <td>среднее</td>\n",
       "      <td>1</td>\n",
       "      <td>гражданский брак</td>\n",
       "      <td>1</td>\n",
       "      <td>F</td>\n",
       "      <td>компаньон</td>\n",
       "      <td>0</td>\n",
       "      <td>224791.862382</td>\n",
       "      <td>операции с жильем</td>\n",
       "    </tr>\n",
       "    <tr>\n",
       "      <th>21521</th>\n",
       "      <td>0</td>\n",
       "      <td>343937.404131</td>\n",
       "      <td>67</td>\n",
       "      <td>среднее</td>\n",
       "      <td>1</td>\n",
       "      <td>женат / замужем</td>\n",
       "      <td>0</td>\n",
       "      <td>F</td>\n",
       "      <td>пенсионер</td>\n",
       "      <td>0</td>\n",
       "      <td>155999.806512</td>\n",
       "      <td>сделка с автомобилем</td>\n",
       "    </tr>\n",
       "    <tr>\n",
       "      <th>21522</th>\n",
       "      <td>1</td>\n",
       "      <td>2113.346888</td>\n",
       "      <td>38</td>\n",
       "      <td>среднее</td>\n",
       "      <td>1</td>\n",
       "      <td>гражданский брак</td>\n",
       "      <td>1</td>\n",
       "      <td>M</td>\n",
       "      <td>сотрудник</td>\n",
       "      <td>1</td>\n",
       "      <td>89672.561153</td>\n",
       "      <td>недвижимость</td>\n",
       "    </tr>\n",
       "    <tr>\n",
       "      <th>21523</th>\n",
       "      <td>3</td>\n",
       "      <td>3112.481705</td>\n",
       "      <td>38</td>\n",
       "      <td>среднее</td>\n",
       "      <td>1</td>\n",
       "      <td>женат / замужем</td>\n",
       "      <td>0</td>\n",
       "      <td>M</td>\n",
       "      <td>сотрудник</td>\n",
       "      <td>1</td>\n",
       "      <td>244093.050500</td>\n",
       "      <td>на покупку своего автомобиля</td>\n",
       "    </tr>\n",
       "    <tr>\n",
       "      <th>21524</th>\n",
       "      <td>2</td>\n",
       "      <td>1984.507589</td>\n",
       "      <td>40</td>\n",
       "      <td>среднее</td>\n",
       "      <td>1</td>\n",
       "      <td>женат / замужем</td>\n",
       "      <td>0</td>\n",
       "      <td>F</td>\n",
       "      <td>сотрудник</td>\n",
       "      <td>0</td>\n",
       "      <td>82047.418899</td>\n",
       "      <td>на покупку автомобиля</td>\n",
       "    </tr>\n",
       "  </tbody>\n",
       "</table>\n",
       "<p>21525 rows × 12 columns</p>\n",
       "</div>"
      ],
      "text/plain": [
       "       children  days_employed  dob_years education  education_id  \\\n",
       "0             1    8437.673028         42    высшее             0   \n",
       "1             1    4024.803754         36   среднее             1   \n",
       "2             0    5623.422610         33   Среднее             1   \n",
       "3             3    4124.747207         32   среднее             1   \n",
       "4             0  340266.072047         53   среднее             1   \n",
       "...         ...            ...        ...       ...           ...   \n",
       "21520         1    4529.316663         43   среднее             1   \n",
       "21521         0  343937.404131         67   среднее             1   \n",
       "21522         1    2113.346888         38   среднее             1   \n",
       "21523         3    3112.481705         38   среднее             1   \n",
       "21524         2    1984.507589         40   среднее             1   \n",
       "\n",
       "          family_status  family_status_id gender income_type  debt  \\\n",
       "0       женат / замужем                 0      F   сотрудник     0   \n",
       "1       женат / замужем                 0      F   сотрудник     0   \n",
       "2       женат / замужем                 0      M   сотрудник     0   \n",
       "3       женат / замужем                 0      M   сотрудник     0   \n",
       "4      гражданский брак                 1      F   пенсионер     0   \n",
       "...                 ...               ...    ...         ...   ...   \n",
       "21520  гражданский брак                 1      F   компаньон     0   \n",
       "21521   женат / замужем                 0      F   пенсионер     0   \n",
       "21522  гражданский брак                 1      M   сотрудник     1   \n",
       "21523   женат / замужем                 0      M   сотрудник     1   \n",
       "21524   женат / замужем                 0      F   сотрудник     0   \n",
       "\n",
       "        total_income                       purpose  \n",
       "0      253875.639453                 покупка жилья  \n",
       "1      112080.014102       приобретение автомобиля  \n",
       "2      145885.952297                 покупка жилья  \n",
       "3      267628.550329    дополнительное образование  \n",
       "4      158616.077870               сыграть свадьбу  \n",
       "...              ...                           ...  \n",
       "21520  224791.862382             операции с жильем  \n",
       "21521  155999.806512          сделка с автомобилем  \n",
       "21522   89672.561153                  недвижимость  \n",
       "21523  244093.050500  на покупку своего автомобиля  \n",
       "21524   82047.418899         на покупку автомобиля  \n",
       "\n",
       "[21525 rows x 12 columns]"
      ]
     },
     "metadata": {},
     "output_type": "display_data"
    }
   ],
   "source": [
    "data['days_employed'] = data['days_employed'].abs()\n",
    "display(data)"
   ]
  },
  {
   "cell_type": "code",
   "execution_count": 8,
   "id": "ba4cb657",
   "metadata": {},
   "outputs": [
    {
     "data": {
      "text/plain": [
       "35    617\n",
       "40    609\n",
       "41    607\n",
       "34    603\n",
       "38    598\n",
       "42    597\n",
       "33    581\n",
       "39    573\n",
       "31    560\n",
       "36    555\n",
       "44    547\n",
       "29    545\n",
       "30    540\n",
       "48    538\n",
       "37    537\n",
       "50    514\n",
       "43    513\n",
       "32    510\n",
       "49    508\n",
       "28    503\n",
       "45    497\n",
       "27    493\n",
       "56    487\n",
       "52    484\n",
       "47    480\n",
       "54    479\n",
       "46    475\n",
       "58    461\n",
       "57    460\n",
       "53    459\n",
       "51    448\n",
       "59    444\n",
       "55    443\n",
       "26    408\n",
       "60    377\n",
       "25    357\n",
       "61    355\n",
       "62    352\n",
       "63    269\n",
       "64    265\n",
       "24    264\n",
       "23    254\n",
       "65    194\n",
       "66    183\n",
       "22    183\n",
       "67    167\n",
       "21    111\n",
       "0     101\n",
       "68     99\n",
       "69     85\n",
       "70     65\n",
       "71     58\n",
       "20     51\n",
       "72     33\n",
       "19     14\n",
       "73      8\n",
       "74      6\n",
       "75      1\n",
       "Name: dob_years, dtype: int64"
      ]
     },
     "execution_count": 8,
     "metadata": {},
     "output_type": "execute_result"
    }
   ],
   "source": [
    "data['dob_years'].value_counts()"
   ]
  },
  {
   "cell_type": "code",
   "execution_count": 9,
   "id": "61194638",
   "metadata": {},
   "outputs": [
    {
     "data": {
      "text/html": [
       "<div>\n",
       "<style scoped>\n",
       "    .dataframe tbody tr th:only-of-type {\n",
       "        vertical-align: middle;\n",
       "    }\n",
       "\n",
       "    .dataframe tbody tr th {\n",
       "        vertical-align: top;\n",
       "    }\n",
       "\n",
       "    .dataframe thead th {\n",
       "        text-align: right;\n",
       "    }\n",
       "</style>\n",
       "<table border=\"1\" class=\"dataframe\">\n",
       "  <thead>\n",
       "    <tr style=\"text-align: right;\">\n",
       "      <th></th>\n",
       "      <th>children</th>\n",
       "      <th>days_employed</th>\n",
       "      <th>dob_years</th>\n",
       "      <th>education</th>\n",
       "      <th>education_id</th>\n",
       "      <th>family_status</th>\n",
       "      <th>family_status_id</th>\n",
       "      <th>gender</th>\n",
       "      <th>income_type</th>\n",
       "      <th>debt</th>\n",
       "      <th>total_income</th>\n",
       "      <th>purpose</th>\n",
       "    </tr>\n",
       "  </thead>\n",
       "  <tbody>\n",
       "    <tr>\n",
       "      <th>99</th>\n",
       "      <td>0</td>\n",
       "      <td>346541.618895</td>\n",
       "      <td>0</td>\n",
       "      <td>Среднее</td>\n",
       "      <td>1</td>\n",
       "      <td>женат / замужем</td>\n",
       "      <td>0</td>\n",
       "      <td>F</td>\n",
       "      <td>пенсионер</td>\n",
       "      <td>0</td>\n",
       "      <td>71291.522491</td>\n",
       "      <td>автомобиль</td>\n",
       "    </tr>\n",
       "    <tr>\n",
       "      <th>149</th>\n",
       "      <td>0</td>\n",
       "      <td>2664.273168</td>\n",
       "      <td>0</td>\n",
       "      <td>среднее</td>\n",
       "      <td>1</td>\n",
       "      <td>в разводе</td>\n",
       "      <td>3</td>\n",
       "      <td>F</td>\n",
       "      <td>сотрудник</td>\n",
       "      <td>0</td>\n",
       "      <td>70176.435951</td>\n",
       "      <td>операции с жильем</td>\n",
       "    </tr>\n",
       "    <tr>\n",
       "      <th>270</th>\n",
       "      <td>3</td>\n",
       "      <td>1872.663186</td>\n",
       "      <td>0</td>\n",
       "      <td>среднее</td>\n",
       "      <td>1</td>\n",
       "      <td>женат / замужем</td>\n",
       "      <td>0</td>\n",
       "      <td>F</td>\n",
       "      <td>сотрудник</td>\n",
       "      <td>0</td>\n",
       "      <td>102166.458894</td>\n",
       "      <td>ремонт жилью</td>\n",
       "    </tr>\n",
       "    <tr>\n",
       "      <th>578</th>\n",
       "      <td>0</td>\n",
       "      <td>397856.565013</td>\n",
       "      <td>0</td>\n",
       "      <td>среднее</td>\n",
       "      <td>1</td>\n",
       "      <td>женат / замужем</td>\n",
       "      <td>0</td>\n",
       "      <td>F</td>\n",
       "      <td>пенсионер</td>\n",
       "      <td>0</td>\n",
       "      <td>97620.687042</td>\n",
       "      <td>строительство собственной недвижимости</td>\n",
       "    </tr>\n",
       "    <tr>\n",
       "      <th>1040</th>\n",
       "      <td>0</td>\n",
       "      <td>1158.029561</td>\n",
       "      <td>0</td>\n",
       "      <td>высшее</td>\n",
       "      <td>0</td>\n",
       "      <td>в разводе</td>\n",
       "      <td>3</td>\n",
       "      <td>F</td>\n",
       "      <td>компаньон</td>\n",
       "      <td>0</td>\n",
       "      <td>303994.134987</td>\n",
       "      <td>свой автомобиль</td>\n",
       "    </tr>\n",
       "    <tr>\n",
       "      <th>...</th>\n",
       "      <td>...</td>\n",
       "      <td>...</td>\n",
       "      <td>...</td>\n",
       "      <td>...</td>\n",
       "      <td>...</td>\n",
       "      <td>...</td>\n",
       "      <td>...</td>\n",
       "      <td>...</td>\n",
       "      <td>...</td>\n",
       "      <td>...</td>\n",
       "      <td>...</td>\n",
       "      <td>...</td>\n",
       "    </tr>\n",
       "    <tr>\n",
       "      <th>19829</th>\n",
       "      <td>0</td>\n",
       "      <td>NaN</td>\n",
       "      <td>0</td>\n",
       "      <td>среднее</td>\n",
       "      <td>1</td>\n",
       "      <td>женат / замужем</td>\n",
       "      <td>0</td>\n",
       "      <td>F</td>\n",
       "      <td>сотрудник</td>\n",
       "      <td>0</td>\n",
       "      <td>NaN</td>\n",
       "      <td>жилье</td>\n",
       "    </tr>\n",
       "    <tr>\n",
       "      <th>20462</th>\n",
       "      <td>0</td>\n",
       "      <td>338734.868540</td>\n",
       "      <td>0</td>\n",
       "      <td>среднее</td>\n",
       "      <td>1</td>\n",
       "      <td>женат / замужем</td>\n",
       "      <td>0</td>\n",
       "      <td>F</td>\n",
       "      <td>пенсионер</td>\n",
       "      <td>0</td>\n",
       "      <td>259193.920299</td>\n",
       "      <td>покупка своего жилья</td>\n",
       "    </tr>\n",
       "    <tr>\n",
       "      <th>20577</th>\n",
       "      <td>0</td>\n",
       "      <td>331741.271455</td>\n",
       "      <td>0</td>\n",
       "      <td>среднее</td>\n",
       "      <td>1</td>\n",
       "      <td>Не женат / не замужем</td>\n",
       "      <td>4</td>\n",
       "      <td>F</td>\n",
       "      <td>пенсионер</td>\n",
       "      <td>0</td>\n",
       "      <td>129788.762899</td>\n",
       "      <td>недвижимость</td>\n",
       "    </tr>\n",
       "    <tr>\n",
       "      <th>21179</th>\n",
       "      <td>2</td>\n",
       "      <td>108.967042</td>\n",
       "      <td>0</td>\n",
       "      <td>высшее</td>\n",
       "      <td>0</td>\n",
       "      <td>женат / замужем</td>\n",
       "      <td>0</td>\n",
       "      <td>M</td>\n",
       "      <td>компаньон</td>\n",
       "      <td>0</td>\n",
       "      <td>240702.007382</td>\n",
       "      <td>строительство жилой недвижимости</td>\n",
       "    </tr>\n",
       "    <tr>\n",
       "      <th>21313</th>\n",
       "      <td>0</td>\n",
       "      <td>1268.487728</td>\n",
       "      <td>0</td>\n",
       "      <td>среднее</td>\n",
       "      <td>1</td>\n",
       "      <td>Не женат / не замужем</td>\n",
       "      <td>4</td>\n",
       "      <td>M</td>\n",
       "      <td>сотрудник</td>\n",
       "      <td>0</td>\n",
       "      <td>152419.184851</td>\n",
       "      <td>операции с жильем</td>\n",
       "    </tr>\n",
       "  </tbody>\n",
       "</table>\n",
       "<p>101 rows × 12 columns</p>\n",
       "</div>"
      ],
      "text/plain": [
       "       children  days_employed  dob_years education  education_id  \\\n",
       "99            0  346541.618895          0   Среднее             1   \n",
       "149           0    2664.273168          0   среднее             1   \n",
       "270           3    1872.663186          0   среднее             1   \n",
       "578           0  397856.565013          0   среднее             1   \n",
       "1040          0    1158.029561          0    высшее             0   \n",
       "...         ...            ...        ...       ...           ...   \n",
       "19829         0            NaN          0   среднее             1   \n",
       "20462         0  338734.868540          0   среднее             1   \n",
       "20577         0  331741.271455          0   среднее             1   \n",
       "21179         2     108.967042          0    высшее             0   \n",
       "21313         0    1268.487728          0   среднее             1   \n",
       "\n",
       "               family_status  family_status_id gender income_type  debt  \\\n",
       "99           женат / замужем                 0      F   пенсионер     0   \n",
       "149                в разводе                 3      F   сотрудник     0   \n",
       "270          женат / замужем                 0      F   сотрудник     0   \n",
       "578          женат / замужем                 0      F   пенсионер     0   \n",
       "1040               в разводе                 3      F   компаньон     0   \n",
       "...                      ...               ...    ...         ...   ...   \n",
       "19829        женат / замужем                 0      F   сотрудник     0   \n",
       "20462        женат / замужем                 0      F   пенсионер     0   \n",
       "20577  Не женат / не замужем                 4      F   пенсионер     0   \n",
       "21179        женат / замужем                 0      M   компаньон     0   \n",
       "21313  Не женат / не замужем                 4      M   сотрудник     0   \n",
       "\n",
       "        total_income                                 purpose  \n",
       "99      71291.522491                              автомобиль  \n",
       "149     70176.435951                       операции с жильем  \n",
       "270    102166.458894                            ремонт жилью  \n",
       "578     97620.687042  строительство собственной недвижимости  \n",
       "1040   303994.134987                         свой автомобиль  \n",
       "...              ...                                     ...  \n",
       "19829            NaN                                   жилье  \n",
       "20462  259193.920299                    покупка своего жилья  \n",
       "20577  129788.762899                            недвижимость  \n",
       "21179  240702.007382        строительство жилой недвижимости  \n",
       "21313  152419.184851                       операции с жильем  \n",
       "\n",
       "[101 rows x 12 columns]"
      ]
     },
     "execution_count": 9,
     "metadata": {},
     "output_type": "execute_result"
    }
   ],
   "source": [
    "data[data['dob_years'] == 0]"
   ]
  },
  {
   "cell_type": "markdown",
   "id": "ad02a5dc",
   "metadata": {},
   "source": [
    "Столбец с возрастом клиентов 'dob_years' содержит **101** строку со значением **0 лет**, что невозмоно. Необходимо направить запрос на уточнение данных к их источнику."
   ]
  },
  {
   "cell_type": "code",
   "execution_count": 10,
   "id": "2aaf271a",
   "metadata": {},
   "outputs": [
    {
     "data": {
      "text/plain": [
       "F      14236\n",
       "M       7288\n",
       "XNA        1\n",
       "Name: gender, dtype: int64"
      ]
     },
     "execution_count": 10,
     "metadata": {},
     "output_type": "execute_result"
    }
   ],
   "source": [
    "data['gender'].value_counts()"
   ]
  },
  {
   "cell_type": "markdown",
   "id": "0b4a2a7e",
   "metadata": {},
   "source": [
    "В столбце 'gender' нетипичное значение содержится только в одной строке, что говорит о сравнительно неплохом качестве данных в этой части."
   ]
  },
  {
   "cell_type": "code",
   "execution_count": 11,
   "id": "31d122f4",
   "metadata": {},
   "outputs": [
    {
     "data": {
      "text/plain": [
       "array([ 1,  0,  3,  2, -1,  4, 20,  5])"
      ]
     },
     "execution_count": 11,
     "metadata": {},
     "output_type": "execute_result"
    }
   ],
   "source": [
    "data['children'].unique()"
   ]
  },
  {
   "cell_type": "code",
   "execution_count": 12,
   "id": "c7dd3864",
   "metadata": {},
   "outputs": [
    {
     "data": {
      "text/plain": [
       "children\n",
       "-1        47\n",
       " 0     14149\n",
       " 1      4818\n",
       " 2      2055\n",
       " 3       330\n",
       " 4        41\n",
       " 5         9\n",
       " 20       76\n",
       "Name: children, dtype: int64"
      ]
     },
     "execution_count": 12,
     "metadata": {},
     "output_type": "execute_result"
    }
   ],
   "source": [
    "data.groupby('children')['children'].count()"
   ]
  },
  {
   "cell_type": "markdown",
   "id": "d28fc242",
   "metadata": {},
   "source": [
    "Выявлено, что в датасете содержится 47 заемщиков с **\"-1\" ребёнком**, что невозможно, и 76 заемщиков с **20 детьми**. Вероятно, это является ошибкой ввода данных и эти значения нужно заменить на \"1\" и \"20\" соответственно. "
   ]
  },
  {
   "cell_type": "code",
   "execution_count": 13,
   "id": "5bb8083a",
   "metadata": {},
   "outputs": [],
   "source": [
    "data = data.replace({'children':{-1:1, 20:2}})\n"
   ]
  },
  {
   "cell_type": "code",
   "execution_count": 14,
   "id": "0b796a94",
   "metadata": {},
   "outputs": [
    {
     "data": {
      "text/plain": [
       "array([1, 0, 3, 2, 4, 5])"
      ]
     },
     "execution_count": 14,
     "metadata": {},
     "output_type": "execute_result"
    }
   ],
   "source": [
    "data['children'].unique()"
   ]
  },
  {
   "cell_type": "code",
   "execution_count": 15,
   "id": "78e2edcf",
   "metadata": {},
   "outputs": [
    {
     "data": {
      "text/plain": [
       "children\n",
       "0    14149\n",
       "1     4865\n",
       "2     2131\n",
       "3      330\n",
       "4       41\n",
       "5        9\n",
       "Name: children, dtype: int64"
      ]
     },
     "execution_count": 15,
     "metadata": {},
     "output_type": "execute_result"
    }
   ],
   "source": [
    "data.groupby('children')['children'].count()\n",
    "\n"
   ]
  },
  {
   "cell_type": "markdown",
   "id": "7a4b3436",
   "metadata": {},
   "source": [
    "### Шаг 2.3. Изменение типов данных."
   ]
  },
  {
   "cell_type": "code",
   "execution_count": 16,
   "id": "6cd196c4",
   "metadata": {},
   "outputs": [
    {
     "name": "stdout",
     "output_type": "stream",
     "text": [
      "<class 'pandas.core.frame.DataFrame'>\n",
      "RangeIndex: 21525 entries, 0 to 21524\n",
      "Data columns (total 12 columns):\n",
      " #   Column            Non-Null Count  Dtype  \n",
      "---  ------            --------------  -----  \n",
      " 0   children          21525 non-null  int64  \n",
      " 1   days_employed     19351 non-null  float64\n",
      " 2   dob_years         21525 non-null  int64  \n",
      " 3   education         21525 non-null  object \n",
      " 4   education_id      21525 non-null  int64  \n",
      " 5   family_status     21525 non-null  object \n",
      " 6   family_status_id  21525 non-null  int64  \n",
      " 7   gender            21525 non-null  object \n",
      " 8   income_type       21525 non-null  object \n",
      " 9   debt              21525 non-null  int64  \n",
      " 10  total_income      19351 non-null  float64\n",
      " 11  purpose           21525 non-null  object \n",
      "dtypes: float64(2), int64(5), object(5)\n",
      "memory usage: 2.0+ MB\n"
     ]
    }
   ],
   "source": [
    "data.info()"
   ]
  },
  {
   "cell_type": "code",
   "execution_count": 17,
   "id": "fcc17415",
   "metadata": {},
   "outputs": [],
   "source": [
    "days_employed_median=data['days_employed'].median()\n",
    "total_income_median=data['total_income'].median()"
   ]
  },
  {
   "cell_type": "code",
   "execution_count": 18,
   "id": "396b1689",
   "metadata": {},
   "outputs": [],
   "source": [
    "data['days_employed']=data['days_employed'].fillna(days_employed_median)\n",
    "data['total_income']=data['total_income'].fillna(total_income_median)"
   ]
  },
  {
   "cell_type": "code",
   "execution_count": 19,
   "id": "7059674f",
   "metadata": {},
   "outputs": [
    {
     "data": {
      "text/plain": [
       "children            0\n",
       "days_employed       0\n",
       "dob_years           0\n",
       "education           0\n",
       "education_id        0\n",
       "family_status       0\n",
       "family_status_id    0\n",
       "gender              0\n",
       "income_type         0\n",
       "debt                0\n",
       "total_income        0\n",
       "purpose             0\n",
       "dtype: int64"
      ]
     },
     "execution_count": 19,
     "metadata": {},
     "output_type": "execute_result"
    }
   ],
   "source": [
    "data.isna().sum()"
   ]
  },
  {
   "cell_type": "code",
   "execution_count": 20,
   "id": "7bd28da7",
   "metadata": {},
   "outputs": [],
   "source": [
    "try:\n",
    "    data['total_income'] = pd.to_numeric(data['total_income'], errors='coerce').astype(int)\n",
    "except:\n",
    "    print('ошибка')"
   ]
  },
  {
   "cell_type": "code",
   "execution_count": 21,
   "id": "9a9327e6",
   "metadata": {},
   "outputs": [
    {
     "name": "stdout",
     "output_type": "stream",
     "text": [
      "Произошла какая-то ошибка\n",
      "Произошло деление на 0\n"
     ]
    }
   ],
   "source": [
    "# Код ревьюера\n",
    "\n",
    "try:\n",
    "    1 / 0\n",
    "except:\n",
    "    print('Произошла какая-то ошибка')\n",
    "    \n",
    "try:\n",
    "    1 / 0\n",
    "except ZeroDivisionError:\n",
    "    print('Произошло деление на 0')\n",
    "    \n",
    "# 1 / 0"
   ]
  },
  {
   "cell_type": "code",
   "execution_count": 22,
   "id": "809ea77f",
   "metadata": {},
   "outputs": [
    {
     "name": "stdout",
     "output_type": "stream",
     "text": [
      "14585    20667\n",
      "13006    21205\n",
      "16174    21367\n",
      "1598     21695\n",
      "14276    21895\n",
      "10881    22472\n",
      "18509    23844\n",
      "9070     24457\n",
      "10068    25227\n",
      "12052    25308\n",
      "Name: total_income, dtype: int64\n",
      "11071    1286280\n",
      "15268    1350245\n",
      "18353    1427934\n",
      "18368    1551152\n",
      "17503    1597613\n",
      "17178    1711309\n",
      "20809    1715018\n",
      "9169     1726276\n",
      "19606    2200852\n",
      "12412    2265604\n",
      "Name: total_income, dtype: int64\n"
     ]
    }
   ],
   "source": [
    "print(data['total_income'].sort_values().head(10))\n",
    "print(data['total_income'].sort_values().tail(10))"
   ]
  },
  {
   "cell_type": "markdown",
   "id": "7b20f1ef",
   "metadata": {},
   "source": [
    "В столбце 'total_income' очень большой разброс значений, поэтому оптимальным будет провести заполенее пропусков *медианными значениями*. Выполненная проверка показывает, что пропущенных значений в указанных столбцах больше нет.\n"
   ]
  },
  {
   "cell_type": "markdown",
   "id": "123d1109",
   "metadata": {},
   "source": [
    "### Шаг 2.4. Удаление дубликатов."
   ]
  },
  {
   "cell_type": "code",
   "execution_count": 23,
   "id": "9859f610",
   "metadata": {},
   "outputs": [
    {
     "data": {
      "text/plain": [
       "54"
      ]
     },
     "execution_count": 23,
     "metadata": {},
     "output_type": "execute_result"
    }
   ],
   "source": [
    "data.duplicated().sum()"
   ]
  },
  {
   "cell_type": "code",
   "execution_count": 24,
   "id": "7847e185",
   "metadata": {},
   "outputs": [],
   "source": [
    "data=data.drop_duplicates().reset_index(drop=True)"
   ]
  },
  {
   "cell_type": "markdown",
   "id": "5369f8fd",
   "metadata": {},
   "source": [
    "Выявлены и удалены 54 явных дубликата"
   ]
  },
  {
   "cell_type": "code",
   "execution_count": 25,
   "id": "707cdc02",
   "metadata": {},
   "outputs": [
    {
     "data": {
      "text/plain": [
       "array(['высшее', 'среднее', 'Среднее', 'СРЕДНЕЕ', 'ВЫСШЕЕ',\n",
       "       'неоконченное высшее', 'начальное', 'Высшее',\n",
       "       'НЕОКОНЧЕННОЕ ВЫСШЕЕ', 'Неоконченное высшее', 'НАЧАЛЬНОЕ',\n",
       "       'Начальное', 'Ученая степень', 'УЧЕНАЯ СТЕПЕНЬ', 'ученая степень'],\n",
       "      dtype=object)"
      ]
     },
     "execution_count": 25,
     "metadata": {},
     "output_type": "execute_result"
    }
   ],
   "source": [
    "data['education'].unique()"
   ]
  },
  {
   "cell_type": "code",
   "execution_count": 26,
   "id": "704dc3c8",
   "metadata": {},
   "outputs": [
    {
     "data": {
      "text/plain": [
       "array(['женат / замужем', 'гражданский брак', 'вдовец / вдова',\n",
       "       'в разводе', 'Не женат / не замужем'], dtype=object)"
      ]
     },
     "execution_count": 26,
     "metadata": {},
     "output_type": "execute_result"
    }
   ],
   "source": [
    "data['family_status'].unique()\n"
   ]
  },
  {
   "cell_type": "code",
   "execution_count": 27,
   "id": "0bf466a0",
   "metadata": {},
   "outputs": [
    {
     "data": {
      "text/plain": [
       "array(['сотрудник', 'пенсионер', 'компаньон', 'госслужащий',\n",
       "       'безработный', 'предприниматель', 'студент', 'в декрете'],\n",
       "      dtype=object)"
      ]
     },
     "execution_count": 27,
     "metadata": {},
     "output_type": "execute_result"
    }
   ],
   "source": [
    "data['income_type'].unique()"
   ]
  },
  {
   "cell_type": "code",
   "execution_count": 28,
   "id": "d192e58f",
   "metadata": {},
   "outputs": [
    {
     "data": {
      "text/plain": [
       "array(['покупка жилья', 'приобретение автомобиля',\n",
       "       'дополнительное образование', 'сыграть свадьбу',\n",
       "       'операции с жильем', 'образование', 'на проведение свадьбы',\n",
       "       'покупка жилья для семьи', 'покупка недвижимости',\n",
       "       'покупка коммерческой недвижимости', 'покупка жилой недвижимости',\n",
       "       'строительство собственной недвижимости', 'недвижимость',\n",
       "       'строительство недвижимости', 'на покупку подержанного автомобиля',\n",
       "       'на покупку своего автомобиля',\n",
       "       'операции с коммерческой недвижимостью',\n",
       "       'строительство жилой недвижимости', 'жилье',\n",
       "       'операции со своей недвижимостью', 'автомобили',\n",
       "       'заняться образованием', 'сделка с подержанным автомобилем',\n",
       "       'получение образования', 'автомобиль', 'свадьба',\n",
       "       'получение дополнительного образования', 'покупка своего жилья',\n",
       "       'операции с недвижимостью', 'получение высшего образования',\n",
       "       'свой автомобиль', 'сделка с автомобилем',\n",
       "       'профильное образование', 'высшее образование',\n",
       "       'покупка жилья для сдачи', 'на покупку автомобиля', 'ремонт жилью',\n",
       "       'заняться высшим образованием'], dtype=object)"
      ]
     },
     "execution_count": 28,
     "metadata": {},
     "output_type": "execute_result"
    }
   ],
   "source": [
    "data['purpose'].unique()"
   ]
  },
  {
   "cell_type": "code",
   "execution_count": 29,
   "id": "a57e9bcf",
   "metadata": {},
   "outputs": [],
   "source": [
    "data['education']=data['education'].str.lower()"
   ]
  },
  {
   "cell_type": "code",
   "execution_count": 30,
   "id": "ebe7bb15",
   "metadata": {},
   "outputs": [
    {
     "data": {
      "text/plain": [
       "17"
      ]
     },
     "execution_count": 30,
     "metadata": {},
     "output_type": "execute_result"
    }
   ],
   "source": [
    "data.duplicated().sum()"
   ]
  },
  {
   "cell_type": "code",
   "execution_count": 31,
   "id": "43556b1d",
   "metadata": {},
   "outputs": [],
   "source": [
    "data=data.drop_duplicates().reset_index(drop=True)"
   ]
  },
  {
   "cell_type": "markdown",
   "id": "c51650a8",
   "metadata": {},
   "source": [
    "Проведен анализ неявных дубликатов. Выявлены неявные повторы в столбце 'education', данные откорректированы методом str.lower() и удалены вновь выявленные дубликаты."
   ]
  },
  {
   "cell_type": "markdown",
   "id": "a0a964b1",
   "metadata": {},
   "source": [
    "### Шаг 2.5. Формирование дополнительных датафреймов словарей, декомпозиция исходного датафрейма."
   ]
  },
  {
   "cell_type": "code",
   "execution_count": 32,
   "id": "c30927ae",
   "metadata": {},
   "outputs": [],
   "source": [
    "education_id_table=data[['education_id','education']]"
   ]
  },
  {
   "cell_type": "code",
   "execution_count": 33,
   "id": "786a1070",
   "metadata": {},
   "outputs": [],
   "source": [
    "family_status_id_table=data[['family_status_id','family_status']]\n"
   ]
  },
  {
   "cell_type": "code",
   "execution_count": 34,
   "id": "44aa5798",
   "metadata": {
    "scrolled": true
   },
   "outputs": [],
   "source": [
    "education_id_table=education_id_table.drop_duplicates().reset_index(drop=True)"
   ]
  },
  {
   "cell_type": "code",
   "execution_count": 35,
   "id": "240fe808",
   "metadata": {},
   "outputs": [],
   "source": [
    "family_status_id_table=family_status_id_table.drop_duplicates().reset_index(drop=True)"
   ]
  },
  {
   "cell_type": "code",
   "execution_count": 36,
   "id": "103d39df",
   "metadata": {},
   "outputs": [],
   "source": [
    "data=data.drop(['education', 'family_status'],axis=1)"
   ]
  },
  {
   "cell_type": "markdown",
   "id": "56568a05",
   "metadata": {},
   "source": [
    "### Шаг 2.6. Категоризация дохода"
   ]
  },
  {
   "cell_type": "code",
   "execution_count": 37,
   "id": "872df220",
   "metadata": {},
   "outputs": [
    {
     "name": "stdout",
     "output_type": "stream",
     "text": [
      "E\n",
      "B\n"
     ]
    }
   ],
   "source": [
    "def income_f (income):\n",
    "    if income <= 30000:\n",
    "        return 'E'\n",
    "    if income <= 50000:\n",
    "        return 'D'\n",
    "    if income <= 200000:\n",
    "        return 'C'\n",
    "    if income <= 1000000:\n",
    "        return 'B'\n",
    "    return 'A'\n",
    "\n",
    "print(income_f (25000))\n",
    "\n",
    "print(income_f (235000))  \n",
    "\n"
   ]
  },
  {
   "cell_type": "markdown",
   "id": "b36527f5",
   "metadata": {},
   "source": [
    "Для категоризации клиентов по уровню дохода и целям кредита напишем функции income_f и purpose_cat протестируем их. Затем с их помощью сформируем столбцы с категориями.\n",
    "\n"
   ]
  },
  {
   "cell_type": "code",
   "execution_count": 38,
   "id": "9da128e6",
   "metadata": {},
   "outputs": [],
   "source": [
    "data['total_income_category'] = data['total_income'].apply(income_f)"
   ]
  },
  {
   "cell_type": "markdown",
   "id": "1e159bb5",
   "metadata": {},
   "source": [
    "<div class=\"alert alert-success\"; style=\"border-left: 7px solid green\">\n",
    "<h5> ✔️ <font color=\"green\">Комментарий ревьюера (зеленый)</font></h5>\n",
    "\n",
    "Рад видеть правильно примененный метод .apply()\n",
    "\n",
    "</div>"
   ]
  },
  {
   "cell_type": "code",
   "execution_count": 39,
   "id": "4a4bb1b0",
   "metadata": {},
   "outputs": [
    {
     "data": {
      "text/plain": [
       "C    16016\n",
       "B     5041\n",
       "D      350\n",
       "A       25\n",
       "E       22\n",
       "Name: total_income_category, dtype: int64"
      ]
     },
     "execution_count": 39,
     "metadata": {},
     "output_type": "execute_result"
    }
   ],
   "source": [
    "data['total_income_category'].value_counts()"
   ]
  },
  {
   "cell_type": "markdown",
   "id": "5eb6656b",
   "metadata": {},
   "source": [
    "### Шаг 2.7. Категоризация целей кредита."
   ]
  },
  {
   "cell_type": "code",
   "execution_count": 40,
   "id": "2ecdb988",
   "metadata": {},
   "outputs": [
    {
     "data": {
      "text/plain": [
       "array(['покупка жилья', 'приобретение автомобиля',\n",
       "       'дополнительное образование', 'сыграть свадьбу',\n",
       "       'операции с жильем', 'образование', 'на проведение свадьбы',\n",
       "       'покупка жилья для семьи', 'покупка недвижимости',\n",
       "       'покупка коммерческой недвижимости', 'покупка жилой недвижимости',\n",
       "       'строительство собственной недвижимости', 'недвижимость',\n",
       "       'строительство недвижимости', 'на покупку подержанного автомобиля',\n",
       "       'на покупку своего автомобиля',\n",
       "       'операции с коммерческой недвижимостью',\n",
       "       'строительство жилой недвижимости', 'жилье',\n",
       "       'операции со своей недвижимостью', 'автомобили',\n",
       "       'заняться образованием', 'сделка с подержанным автомобилем',\n",
       "       'получение образования', 'автомобиль', 'свадьба',\n",
       "       'получение дополнительного образования', 'покупка своего жилья',\n",
       "       'операции с недвижимостью', 'получение высшего образования',\n",
       "       'свой автомобиль', 'сделка с автомобилем',\n",
       "       'профильное образование', 'высшее образование',\n",
       "       'покупка жилья для сдачи', 'на покупку автомобиля', 'ремонт жилью',\n",
       "       'заняться высшим образованием'], dtype=object)"
      ]
     },
     "execution_count": 40,
     "metadata": {},
     "output_type": "execute_result"
    }
   ],
   "source": [
    "purpose_list=data['purpose'].unique()\n",
    "purpose_list"
   ]
  },
  {
   "cell_type": "code",
   "execution_count": 41,
   "id": "ad0c4c9a",
   "metadata": {},
   "outputs": [],
   "source": [
    "def purpose_cat (purpose):\n",
    "    if 'жил' in purpose:\n",
    "        return 'операции с недвижимостью'\n",
    "    if 'недв' in purpose:\n",
    "        return 'операции с недвижимостью'\n",
    "    if 'авто' in purpose:\n",
    "        return 'операции с автомобилем'\n",
    "    if 'свад' in purpose:\n",
    "        return 'проведение свадьбы'\n",
    "    return 'получение образования'\n"
   ]
  },
  {
   "cell_type": "code",
   "execution_count": 42,
   "id": "bc7d7c64",
   "metadata": {},
   "outputs": [
    {
     "data": {
      "text/plain": [
       "purpose_category\n",
       "операции с автомобилем       4306\n",
       "операции с недвижимостью    10811\n",
       "получение образования        4013\n",
       "проведение свадьбы           2324\n",
       "Name: debt, dtype: int64"
      ]
     },
     "execution_count": 42,
     "metadata": {},
     "output_type": "execute_result"
    }
   ],
   "source": [
    "data['purpose_category'] = data['purpose'].apply(purpose_cat)\n",
    "data.groupby('purpose_category')['debt'].count()\n"
   ]
  },
  {
   "cell_type": "code",
   "execution_count": 43,
   "id": "2cbe2a73",
   "metadata": {},
   "outputs": [
    {
     "name": "stdout",
     "output_type": "stream",
     "text": [
      "debt            0       1\n",
      "children                 \n",
      "0         13028.0  1063.0\n",
      "1          4410.0   445.0\n",
      "2          1926.0   202.0\n",
      "3           303.0    27.0\n",
      "4            37.0     4.0\n",
      "5             9.0     NaN\n"
     ]
    }
   ],
   "source": [
    "data_pivot_children = data.pivot_table(index=['children'], columns='debt',values='total_income_category', aggfunc='count')\n",
    "print(data_pivot_children.head(10)) "
   ]
  },
  {
   "cell_type": "code",
   "execution_count": 44,
   "id": "69ba292e",
   "metadata": {},
   "outputs": [
    {
     "data": {
      "text/html": [
       "<div>\n",
       "<style scoped>\n",
       "    .dataframe tbody tr th:only-of-type {\n",
       "        vertical-align: middle;\n",
       "    }\n",
       "\n",
       "    .dataframe tbody tr th {\n",
       "        vertical-align: top;\n",
       "    }\n",
       "\n",
       "    .dataframe thead th {\n",
       "        text-align: right;\n",
       "    }\n",
       "</style>\n",
       "<table border=\"1\" class=\"dataframe\">\n",
       "  <thead>\n",
       "    <tr style=\"text-align: right;\">\n",
       "      <th>debt</th>\n",
       "      <th>0</th>\n",
       "      <th>1</th>\n",
       "      <th>share</th>\n",
       "      <th>total_share</th>\n",
       "    </tr>\n",
       "    <tr>\n",
       "      <th>children</th>\n",
       "      <th></th>\n",
       "      <th></th>\n",
       "      <th></th>\n",
       "      <th></th>\n",
       "    </tr>\n",
       "  </thead>\n",
       "  <tbody>\n",
       "    <tr>\n",
       "      <th>0</th>\n",
       "      <td>13028.0</td>\n",
       "      <td>1063.0</td>\n",
       "      <td>0.075438</td>\n",
       "      <td>0.656801</td>\n",
       "    </tr>\n",
       "    <tr>\n",
       "      <th>1</th>\n",
       "      <td>4410.0</td>\n",
       "      <td>445.0</td>\n",
       "      <td>0.091658</td>\n",
       "      <td>0.226298</td>\n",
       "    </tr>\n",
       "    <tr>\n",
       "      <th>2</th>\n",
       "      <td>1926.0</td>\n",
       "      <td>202.0</td>\n",
       "      <td>0.094925</td>\n",
       "      <td>0.099189</td>\n",
       "    </tr>\n",
       "    <tr>\n",
       "      <th>3</th>\n",
       "      <td>303.0</td>\n",
       "      <td>27.0</td>\n",
       "      <td>0.081818</td>\n",
       "      <td>0.015382</td>\n",
       "    </tr>\n",
       "    <tr>\n",
       "      <th>4</th>\n",
       "      <td>37.0</td>\n",
       "      <td>4.0</td>\n",
       "      <td>0.097561</td>\n",
       "      <td>0.001911</td>\n",
       "    </tr>\n",
       "    <tr>\n",
       "      <th>5</th>\n",
       "      <td>9.0</td>\n",
       "      <td>NaN</td>\n",
       "      <td>NaN</td>\n",
       "      <td>NaN</td>\n",
       "    </tr>\n",
       "  </tbody>\n",
       "</table>\n",
       "</div>"
      ],
      "text/plain": [
       "debt            0       1     share  total_share\n",
       "children                                        \n",
       "0         13028.0  1063.0  0.075438     0.656801\n",
       "1          4410.0   445.0  0.091658     0.226298\n",
       "2          1926.0   202.0  0.094925     0.099189\n",
       "3           303.0    27.0  0.081818     0.015382\n",
       "4            37.0     4.0  0.097561     0.001911\n",
       "5             9.0     NaN       NaN          NaN"
      ]
     },
     "execution_count": 44,
     "metadata": {},
     "output_type": "execute_result"
    }
   ],
   "source": [
    "data_pivot_children['share'] = data_pivot_children[1]/(data_pivot_children[1] + data_pivot_children[0])\n",
    "data_pivot_children['total_share'] = (data_pivot_children[1] + data_pivot_children[0])/(data_pivot_children[1].sum() + data_pivot_children[0].sum())\n",
    "data_pivot_children"
   ]
  },
  {
   "cell_type": "markdown",
   "id": "1405cfe9",
   "metadata": {},
   "source": [
    "Самая низкая доля задолженностии по возврату кредита у клиентов, которые не имеют детей. Поэтому можно можно констатировать, что наличие детей влияет на вероятность возврата кредита. Вероятность своевременнго невозврата кредита у семьи с двумя детьми несколько возрастает в сравнении с семьей с одним ребенком. У семей с тремя детьми вероятность снижается, но это может быть связано как господдержкой многодетных семей, так и их низким количеством в выборке и соотвтственно высокой статистической погрешностю в группах семейных заемщиков с численностью детей три и более. Для качественных выводов по этой группе, представленый размер выборки недостаточен.  "
   ]
  },
  {
   "cell_type": "code",
   "execution_count": 45,
   "id": "5e60d9dc",
   "metadata": {},
   "outputs": [
    {
     "name": "stdout",
     "output_type": "stream",
     "text": [
      "debt                  0    1\n",
      "family_status_id            \n",
      "0                 11408  931\n",
      "1                  3763  388\n",
      "2                   896   63\n",
      "3                  1110   85\n",
      "4                  2536  274\n"
     ]
    }
   ],
   "source": [
    "data_pivot_family = data.pivot_table(index=['family_status_id'], columns='debt',values='total_income_category', aggfunc='count')\n",
    "print(data_pivot_family.head(10)) "
   ]
  },
  {
   "cell_type": "code",
   "execution_count": 46,
   "id": "5b0d8760",
   "metadata": {},
   "outputs": [
    {
     "data": {
      "text/html": [
       "<div>\n",
       "<style scoped>\n",
       "    .dataframe tbody tr th:only-of-type {\n",
       "        vertical-align: middle;\n",
       "    }\n",
       "\n",
       "    .dataframe tbody tr th {\n",
       "        vertical-align: top;\n",
       "    }\n",
       "\n",
       "    .dataframe thead th {\n",
       "        text-align: right;\n",
       "    }\n",
       "</style>\n",
       "<table border=\"1\" class=\"dataframe\">\n",
       "  <thead>\n",
       "    <tr style=\"text-align: right;\">\n",
       "      <th></th>\n",
       "      <th>family_status_id</th>\n",
       "      <th>family_status</th>\n",
       "    </tr>\n",
       "  </thead>\n",
       "  <tbody>\n",
       "    <tr>\n",
       "      <th>0</th>\n",
       "      <td>0</td>\n",
       "      <td>женат / замужем</td>\n",
       "    </tr>\n",
       "    <tr>\n",
       "      <th>1</th>\n",
       "      <td>1</td>\n",
       "      <td>гражданский брак</td>\n",
       "    </tr>\n",
       "    <tr>\n",
       "      <th>2</th>\n",
       "      <td>2</td>\n",
       "      <td>вдовец / вдова</td>\n",
       "    </tr>\n",
       "    <tr>\n",
       "      <th>3</th>\n",
       "      <td>3</td>\n",
       "      <td>в разводе</td>\n",
       "    </tr>\n",
       "    <tr>\n",
       "      <th>4</th>\n",
       "      <td>4</td>\n",
       "      <td>Не женат / не замужем</td>\n",
       "    </tr>\n",
       "  </tbody>\n",
       "</table>\n",
       "</div>"
      ],
      "text/plain": [
       "   family_status_id          family_status\n",
       "0                 0        женат / замужем\n",
       "1                 1       гражданский брак\n",
       "2                 2         вдовец / вдова\n",
       "3                 3              в разводе\n",
       "4                 4  Не женат / не замужем"
      ]
     },
     "execution_count": 46,
     "metadata": {},
     "output_type": "execute_result"
    }
   ],
   "source": [
    "family_status_id_table"
   ]
  },
  {
   "cell_type": "code",
   "execution_count": 47,
   "id": "81bfce47",
   "metadata": {},
   "outputs": [],
   "source": [
    "data_pivot_family['share'] = data_pivot_family[1]/(data_pivot_family[1] + data_pivot_family[0])\n",
    "data_pivot_family['total_share'] = (data_pivot_family[1] + data_pivot_family[0])/(data_pivot_family[1].sum() + data_pivot_family[0].sum())"
   ]
  },
  {
   "cell_type": "code",
   "execution_count": 48,
   "id": "829ea7df",
   "metadata": {},
   "outputs": [],
   "source": [
    "data_pivot_family=data_pivot_family.merge(family_status_id_table,left_on= 'family_status_id', right_on= 'family_status_id')"
   ]
  },
  {
   "cell_type": "code",
   "execution_count": 49,
   "id": "8452a1b0",
   "metadata": {},
   "outputs": [
    {
     "data": {
      "text/html": [
       "<div>\n",
       "<style scoped>\n",
       "    .dataframe tbody tr th:only-of-type {\n",
       "        vertical-align: middle;\n",
       "    }\n",
       "\n",
       "    .dataframe tbody tr th {\n",
       "        vertical-align: top;\n",
       "    }\n",
       "\n",
       "    .dataframe thead th {\n",
       "        text-align: right;\n",
       "    }\n",
       "</style>\n",
       "<table border=\"1\" class=\"dataframe\">\n",
       "  <thead>\n",
       "    <tr style=\"text-align: right;\">\n",
       "      <th></th>\n",
       "      <th>family_status_id</th>\n",
       "      <th>0</th>\n",
       "      <th>1</th>\n",
       "      <th>share</th>\n",
       "      <th>total_share</th>\n",
       "      <th>family_status</th>\n",
       "    </tr>\n",
       "  </thead>\n",
       "  <tbody>\n",
       "    <tr>\n",
       "      <th>0</th>\n",
       "      <td>0</td>\n",
       "      <td>11408</td>\n",
       "      <td>931</td>\n",
       "      <td>0.075452</td>\n",
       "      <td>0.575138</td>\n",
       "      <td>женат / замужем</td>\n",
       "    </tr>\n",
       "    <tr>\n",
       "      <th>1</th>\n",
       "      <td>1</td>\n",
       "      <td>3763</td>\n",
       "      <td>388</td>\n",
       "      <td>0.093471</td>\n",
       "      <td>0.193484</td>\n",
       "      <td>гражданский брак</td>\n",
       "    </tr>\n",
       "    <tr>\n",
       "      <th>2</th>\n",
       "      <td>2</td>\n",
       "      <td>896</td>\n",
       "      <td>63</td>\n",
       "      <td>0.065693</td>\n",
       "      <td>0.044700</td>\n",
       "      <td>вдовец / вдова</td>\n",
       "    </tr>\n",
       "    <tr>\n",
       "      <th>3</th>\n",
       "      <td>3</td>\n",
       "      <td>1110</td>\n",
       "      <td>85</td>\n",
       "      <td>0.071130</td>\n",
       "      <td>0.055701</td>\n",
       "      <td>в разводе</td>\n",
       "    </tr>\n",
       "    <tr>\n",
       "      <th>4</th>\n",
       "      <td>4</td>\n",
       "      <td>2536</td>\n",
       "      <td>274</td>\n",
       "      <td>0.097509</td>\n",
       "      <td>0.130978</td>\n",
       "      <td>Не женат / не замужем</td>\n",
       "    </tr>\n",
       "  </tbody>\n",
       "</table>\n",
       "</div>"
      ],
      "text/plain": [
       "   family_status_id      0    1     share  total_share          family_status\n",
       "0                 0  11408  931  0.075452     0.575138        женат / замужем\n",
       "1                 1   3763  388  0.093471     0.193484       гражданский брак\n",
       "2                 2    896   63  0.065693     0.044700         вдовец / вдова\n",
       "3                 3   1110   85  0.071130     0.055701              в разводе\n",
       "4                 4   2536  274  0.097509     0.130978  Не женат / не замужем"
      ]
     },
     "execution_count": 49,
     "metadata": {},
     "output_type": "execute_result"
    }
   ],
   "source": [
    "data_pivot_family"
   ]
  },
  {
   "cell_type": "markdown",
   "id": "2fe7a611",
   "metadata": {},
   "source": [
    "Как показывает анализ, семейный статус заметно влияет на появление просроченной задолженности по кредиту. Вероятность возникновения \"просрочки\" у женатых заемщиков составляет 7,6%, что на 2,2 процентных пункта меньше, чем у не женатых. Не женатые заемщики являются более рискованными для банка. Заемщики в гражданском браке по уровню риска просрочки ближе к не женатым (9,4%) и по сравнению с женатыми являются достаточно рискованными. \n",
    "\n",
    "Вдовцы и заемщики в разводе показывают низакий уровень риска по невозврату клиентов (6,6 и 7,1% соответственно), но их доля в выборке сравнительно невелика (4,5 и 5,5% соответственно) , что делает данные по этим группа менее надежными."
   ]
  },
  {
   "cell_type": "code",
   "execution_count": 50,
   "id": "8d511e13",
   "metadata": {},
   "outputs": [
    {
     "data": {
      "text/html": [
       "<div>\n",
       "<style scoped>\n",
       "    .dataframe tbody tr th:only-of-type {\n",
       "        vertical-align: middle;\n",
       "    }\n",
       "\n",
       "    .dataframe tbody tr th {\n",
       "        vertical-align: top;\n",
       "    }\n",
       "\n",
       "    .dataframe thead th {\n",
       "        text-align: right;\n",
       "    }\n",
       "</style>\n",
       "<table border=\"1\" class=\"dataframe\">\n",
       "  <thead>\n",
       "    <tr style=\"text-align: right;\">\n",
       "      <th>debt</th>\n",
       "      <th>0</th>\n",
       "      <th>1</th>\n",
       "      <th>share</th>\n",
       "      <th>total_share</th>\n",
       "    </tr>\n",
       "    <tr>\n",
       "      <th>total_income_category</th>\n",
       "      <th></th>\n",
       "      <th></th>\n",
       "      <th></th>\n",
       "      <th></th>\n",
       "    </tr>\n",
       "  </thead>\n",
       "  <tbody>\n",
       "    <tr>\n",
       "      <th>A</th>\n",
       "      <td>23</td>\n",
       "      <td>2</td>\n",
       "      <td>0.080000</td>\n",
       "      <td>0.001165</td>\n",
       "    </tr>\n",
       "    <tr>\n",
       "      <th>B</th>\n",
       "      <td>4685</td>\n",
       "      <td>356</td>\n",
       "      <td>0.070621</td>\n",
       "      <td>0.234968</td>\n",
       "    </tr>\n",
       "    <tr>\n",
       "      <th>C</th>\n",
       "      <td>14656</td>\n",
       "      <td>1360</td>\n",
       "      <td>0.084915</td>\n",
       "      <td>0.746527</td>\n",
       "    </tr>\n",
       "    <tr>\n",
       "      <th>D</th>\n",
       "      <td>329</td>\n",
       "      <td>21</td>\n",
       "      <td>0.060000</td>\n",
       "      <td>0.016314</td>\n",
       "    </tr>\n",
       "    <tr>\n",
       "      <th>E</th>\n",
       "      <td>20</td>\n",
       "      <td>2</td>\n",
       "      <td>0.090909</td>\n",
       "      <td>0.001025</td>\n",
       "    </tr>\n",
       "  </tbody>\n",
       "</table>\n",
       "</div>"
      ],
      "text/plain": [
       "debt                       0     1     share  total_share\n",
       "total_income_category                                    \n",
       "A                         23     2  0.080000     0.001165\n",
       "B                       4685   356  0.070621     0.234968\n",
       "C                      14656  1360  0.084915     0.746527\n",
       "D                        329    21  0.060000     0.016314\n",
       "E                         20     2  0.090909     0.001025"
      ]
     },
     "execution_count": 50,
     "metadata": {},
     "output_type": "execute_result"
    }
   ],
   "source": [
    "data_pivot_income = data.pivot_table(index=['total_income_category'], columns='debt',values='income_type', aggfunc='count')\n",
    "data_pivot_income['share'] = data_pivot_income[1]/(data_pivot_income[1] + data_pivot_income[0])\n",
    "data_pivot_income['total_share'] = (data_pivot_income[1] + data_pivot_income[0])/(data_pivot_income[1].sum() + data_pivot_income[0].sum())\n",
    "data_pivot_income"
   ]
  },
  {
   "cell_type": "code",
   "execution_count": null,
   "id": "ba3efd51",
   "metadata": {},
   "outputs": [],
   "source": []
  },
  {
   "cell_type": "markdown",
   "id": "ce2b903f",
   "metadata": {},
   "source": [
    "На примере сравнения двух групп заемщиков с доходами от 50 до 200 тыс. руб. в месяц (группа C) и от 200 тыс. до 1 млн руб. (группа B) можно констатировать, что уровень дохода оказывает существенное влияние на вероятность возникновения \"просрочки\". В группе B доля выхода клиента на просрочку на 1,4 процентных пункта ниже. Анализировать данные по остальным группам заемщиков затруднительно, так как их доля в выборке сравнительно мала и суммарно составляет менее 2%."
   ]
  },
  {
   "cell_type": "code",
   "execution_count": 51,
   "id": "f79c53e7",
   "metadata": {
    "scrolled": true
   },
   "outputs": [],
   "source": [
    "data_pivot_purpose = data.pivot_table(index=['purpose_category'], columns='debt',values='income_type', aggfunc='count')\n",
    "data_pivot_purpose['share'] = data_pivot_purpose[1]/(data_pivot_purpose[1] + data_pivot_purpose[0])\n",
    "data_pivot_purpose['total_share'] = (data_pivot_purpose[1] + data_pivot_purpose[0])/(data_pivot_purpose[1].sum() + data_pivot_purpose[0].sum())\n",
    "data_pivot_purpose = data_pivot_purpose.sort_values('share',ascending=False)"
   ]
  },
  {
   "cell_type": "code",
   "execution_count": 52,
   "id": "078d5631",
   "metadata": {},
   "outputs": [
    {
     "data": {
      "text/html": [
       "<div>\n",
       "<style scoped>\n",
       "    .dataframe tbody tr th:only-of-type {\n",
       "        vertical-align: middle;\n",
       "    }\n",
       "\n",
       "    .dataframe tbody tr th {\n",
       "        vertical-align: top;\n",
       "    }\n",
       "\n",
       "    .dataframe thead th {\n",
       "        text-align: right;\n",
       "    }\n",
       "</style>\n",
       "<table border=\"1\" class=\"dataframe\">\n",
       "  <thead>\n",
       "    <tr style=\"text-align: right;\">\n",
       "      <th>debt</th>\n",
       "      <th>0</th>\n",
       "      <th>1</th>\n",
       "      <th>share</th>\n",
       "      <th>total_share</th>\n",
       "    </tr>\n",
       "    <tr>\n",
       "      <th>purpose_category</th>\n",
       "      <th></th>\n",
       "      <th></th>\n",
       "      <th></th>\n",
       "      <th></th>\n",
       "    </tr>\n",
       "  </thead>\n",
       "  <tbody>\n",
       "    <tr>\n",
       "      <th>операции с автомобилем</th>\n",
       "      <td>3903</td>\n",
       "      <td>403</td>\n",
       "      <td>0.093590</td>\n",
       "      <td>0.200708</td>\n",
       "    </tr>\n",
       "    <tr>\n",
       "      <th>получение образования</th>\n",
       "      <td>3643</td>\n",
       "      <td>370</td>\n",
       "      <td>0.092200</td>\n",
       "      <td>0.187051</td>\n",
       "    </tr>\n",
       "    <tr>\n",
       "      <th>проведение свадьбы</th>\n",
       "      <td>2138</td>\n",
       "      <td>186</td>\n",
       "      <td>0.080034</td>\n",
       "      <td>0.108325</td>\n",
       "    </tr>\n",
       "    <tr>\n",
       "      <th>операции с недвижимостью</th>\n",
       "      <td>10029</td>\n",
       "      <td>782</td>\n",
       "      <td>0.072334</td>\n",
       "      <td>0.503915</td>\n",
       "    </tr>\n",
       "  </tbody>\n",
       "</table>\n",
       "</div>"
      ],
      "text/plain": [
       "debt                          0    1     share  total_share\n",
       "purpose_category                                           \n",
       "операции с автомобилем     3903  403  0.093590     0.200708\n",
       "получение образования      3643  370  0.092200     0.187051\n",
       "проведение свадьбы         2138  186  0.080034     0.108325\n",
       "операции с недвижимостью  10029  782  0.072334     0.503915"
      ]
     },
     "execution_count": 52,
     "metadata": {},
     "output_type": "execute_result"
    }
   ],
   "source": [
    "data_pivot_purpose"
   ]
  },
  {
   "cell_type": "markdown",
   "id": "ddf5f9ff",
   "metadata": {},
   "source": [
    "Обнаружена значительная разница в вероятности возникнования \"просрочки\" между группами заемщиков по целям кредитования. Самый высокий риск \"просочки\" по автокредитованияю (9,4% клиенов допустили не оплату вовремя), самый низкий - в операциях с недвижимостью (7,2%)."
   ]
  },
  {
   "cell_type": "markdown",
   "id": "1c2305ed",
   "metadata": {},
   "source": [
    "### Общий вывод\n"
   ]
  },
  {
   "cell_type": "markdown",
   "id": "22d97428",
   "metadata": {},
   "source": [
    "Предоставленный для анализа датафрейм имел определенные недостатки с точки зрения чистоты данных. В частности трудовой стаж клиентов в значительной части массива имелы отрицательные значения. Поэтому было решено взять модульное значение этих данных. В порядка 10% строк столбцов, содержащих данные о трудовом стаже и доходе клиентов, содержались пропуски. Поэтому они были заменены на медианные значения датафрейма из-за большого разброса данныз в соответствующих столбцах.\n",
    "\n",
    "#### 1.12.1  Есть ли зависимость между количеством детей и возвратом кредита в срок?\n",
    "*Да, такая зависимость обнаружена*. Самая низкая доля задолженностии по возврату кредита сложилась у клиентов, которые не имеют детей. Она составляет **7,5%**. У семей с одним ребенком проблемы со своевременныйм возвратом долга возникли в **9,2% случаев**, у семей с двумя детьми - в **9,5%** случаев.\n",
    "\n",
    "#### 1.12.2  Есть ли зависимость между семейным положением и возвратом кредита в срок?\n",
    "*Да, такая зависимость обнаружена*. Семейный статус заметно влияет на появление просроченной задолженности по кредиту. Вероятность возникновения \"просрочки\" у женатых заемщиков составляет **7,6%**, что на **2,2** процентных пункта меньше, чем у не женатых. Не женатые заемщики являются более рискованными для банка. Заемщики в гражданском браке по уровню риска просрочки ближе к не женатым (**9,4%**).\n",
    "\n",
    "#### 1.12.3  Есть ли зависимость между уровнем дохода и возвратом кредита в срок?\n",
    "*Да, такая зависимость обнаружена*. Данные клиентов показывают, что уровень дохода оказывает существенное влияние на вероятность возникновения \"просрочки\". В группе клиентов с доходом *от 200 тыс. до 1 млн руб.* в месяц доля просроченных кредитов составляет **7,1%**, в группе с доходом *от 50 до 200 тыс. руб.* - **8,5%**.\n",
    "\n",
    "#### 1.12.4  Как разные цели кредита влияют на его возврат в срок?\n",
    "По целям кредитования наиболее рискованным является автокредитование (выход на \"просочку\" допущен в **9,4%** случаев). Меньше всего фактов наличия посроченной задолженности в относительном выражении выявлено по направлению кредитов на операции с недвижимостью (**7,2%**). Кредитование на цели образованяи является сравительно рискованным (**9,2%**). Выдача кредитов на свадьбы более перспективна с точки зрения возврата. Проблемы возникли у **8%** заемщиков из данной категории."
   ]
  },
  {
   "cell_type": "code",
   "execution_count": 53,
   "id": "a5270219",
   "metadata": {},
   "outputs": [
    {
     "data": {
      "text/plain": [
       "<AxesSubplot:xlabel='purpose_category'>"
      ]
     },
     "execution_count": 53,
     "metadata": {},
     "output_type": "execute_result"
    },
    {
     "data": {
      "image/png": "[encoded data removed]",
      "text/plain": [
       "<Figure size 432x288 with 1 Axes>"
      ]
     },
     "metadata": {
      "needs_background": "light"
     },
     "output_type": "display_data"
    }
   ],
   "source": [
    "graf=data_pivot_purpose[['share']]\n",
    "graf.plot.bar()"
   ]
  }
 ],
 "metadata": {
  "ExecuteTimeLog": [
   {
    "duration": 474,
    "start_time": "2022-05-01T19:52:06.577Z"
   },
   {
    "duration": 14,
    "start_time": "2022-05-01T19:52:07.053Z"
   },
   {
    "duration": 23,
    "start_time": "2022-05-01T19:52:07.069Z"
   },
   {
    "duration": 9,
    "start_time": "2022-05-01T19:52:07.099Z"
   },
   {
    "duration": 24,
    "start_time": "2022-05-01T19:52:07.110Z"
   },
   {
    "duration": 47,
    "start_time": "2022-05-01T19:52:07.135Z"
   },
   {
    "duration": 35,
    "start_time": "2022-05-01T19:52:07.184Z"
   },
   {
    "duration": 12,
    "start_time": "2022-05-01T19:52:07.220Z"
   },
   {
    "duration": 24,
    "start_time": "2022-05-01T19:52:07.234Z"
   },
   {
    "duration": 4,
    "start_time": "2022-05-01T19:52:07.262Z"
   },
   {
    "duration": 40,
    "start_time": "2022-05-01T19:52:07.267Z"
   },
   {
    "duration": 36,
    "start_time": "2022-05-01T19:52:07.309Z"
   },
   {
    "duration": 45,
    "start_time": "2022-05-01T19:52:07.346Z"
   },
   {
    "duration": 37,
    "start_time": "2022-05-01T19:52:07.393Z"
   },
   {
    "duration": 32,
    "start_time": "2022-05-01T19:52:07.432Z"
   },
   {
    "duration": 27,
    "start_time": "2022-05-01T19:52:07.465Z"
   },
   {
    "duration": 11,
    "start_time": "2022-05-01T19:52:07.494Z"
   },
   {
    "duration": 6,
    "start_time": "2022-05-01T19:52:07.507Z"
   },
   {
    "duration": 9,
    "start_time": "2022-05-01T19:52:07.515Z"
   },
   {
    "duration": 12,
    "start_time": "2022-05-01T19:52:07.526Z"
   },
   {
    "duration": 21,
    "start_time": "2022-05-01T19:52:07.540Z"
   },
   {
    "duration": 42,
    "start_time": "2022-05-01T19:52:07.562Z"
   },
   {
    "duration": 5,
    "start_time": "2022-05-01T19:52:07.606Z"
   },
   {
    "duration": 10,
    "start_time": "2022-05-01T19:52:07.613Z"
   },
   {
    "duration": 5,
    "start_time": "2022-05-01T19:52:07.625Z"
   },
   {
    "duration": 6,
    "start_time": "2022-05-01T19:52:07.632Z"
   },
   {
    "duration": 7,
    "start_time": "2022-05-01T19:52:07.640Z"
   },
   {
    "duration": 4,
    "start_time": "2022-05-01T19:52:07.650Z"
   },
   {
    "duration": 8,
    "start_time": "2022-05-01T19:52:07.655Z"
   },
   {
    "duration": 35,
    "start_time": "2022-05-01T19:52:07.665Z"
   },
   {
    "duration": 11,
    "start_time": "2022-05-01T19:52:07.701Z"
   },
   {
    "duration": 17,
    "start_time": "2022-05-01T19:52:07.713Z"
   },
   {
    "duration": 19,
    "start_time": "2022-05-01T19:52:07.732Z"
   },
   {
    "duration": 43,
    "start_time": "2022-05-01T19:52:07.753Z"
   },
   {
    "duration": 60,
    "start_time": "2022-05-01T19:52:07.797Z"
   },
   {
    "duration": 28,
    "start_time": "2022-05-01T19:52:07.859Z"
   },
   {
    "duration": 8,
    "start_time": "2022-05-01T19:52:07.888Z"
   },
   {
    "duration": 25,
    "start_time": "2022-05-01T19:52:07.898Z"
   },
   {
    "duration": 23,
    "start_time": "2022-05-01T19:52:07.925Z"
   },
   {
    "duration": 13,
    "start_time": "2022-05-01T19:52:07.950Z"
   },
   {
    "duration": 32,
    "start_time": "2022-05-01T19:52:07.965Z"
   },
   {
    "duration": 11,
    "start_time": "2022-05-01T19:52:07.999Z"
   },
   {
    "duration": 22,
    "start_time": "2022-05-01T19:52:08.011Z"
   },
   {
    "duration": 26,
    "start_time": "2022-05-01T19:52:08.034Z"
   },
   {
    "duration": 36,
    "start_time": "2022-05-01T19:52:08.062Z"
   },
   {
    "duration": 41,
    "start_time": "2022-05-01T19:52:08.100Z"
   },
   {
    "duration": 27,
    "start_time": "2022-05-01T19:52:08.142Z"
   },
   {
    "duration": 10,
    "start_time": "2022-05-01T19:52:08.170Z"
   },
   {
    "duration": 3,
    "start_time": "2022-05-01T19:55:07.535Z"
   },
   {
    "duration": 532,
    "start_time": "2022-05-01T19:59:38.392Z"
   },
   {
    "duration": 14,
    "start_time": "2022-05-01T19:59:38.926Z"
   },
   {
    "duration": 22,
    "start_time": "2022-05-01T19:59:38.942Z"
   },
   {
    "duration": 9,
    "start_time": "2022-05-01T19:59:38.965Z"
   },
   {
    "duration": 27,
    "start_time": "2022-05-01T19:59:38.975Z"
   },
   {
    "duration": 8,
    "start_time": "2022-05-01T19:59:39.005Z"
   },
   {
    "duration": 33,
    "start_time": "2022-05-01T19:59:39.015Z"
   },
   {
    "duration": 18,
    "start_time": "2022-05-01T19:59:39.050Z"
   },
   {
    "duration": 4,
    "start_time": "2022-05-01T19:59:39.070Z"
   },
   {
    "duration": 4,
    "start_time": "2022-05-01T19:59:39.078Z"
   },
   {
    "duration": 30,
    "start_time": "2022-05-01T19:59:39.084Z"
   },
   {
    "duration": 3,
    "start_time": "2022-05-01T19:59:39.116Z"
   },
   {
    "duration": 7,
    "start_time": "2022-05-01T19:59:39.121Z"
   },
   {
    "duration": 10,
    "start_time": "2022-05-01T19:59:39.130Z"
   },
   {
    "duration": 16,
    "start_time": "2022-05-01T19:59:39.141Z"
   },
   {
    "duration": 18,
    "start_time": "2022-05-01T19:59:39.158Z"
   },
   {
    "duration": 32,
    "start_time": "2022-05-01T19:59:39.177Z"
   },
   {
    "duration": 7,
    "start_time": "2022-05-01T19:59:39.215Z"
   },
   {
    "duration": 6,
    "start_time": "2022-05-01T19:59:39.223Z"
   },
   {
    "duration": 5,
    "start_time": "2022-05-01T19:59:39.231Z"
   },
   {
    "duration": 9,
    "start_time": "2022-05-01T19:59:39.238Z"
   },
   {
    "duration": 18,
    "start_time": "2022-05-01T19:59:39.249Z"
   },
   {
    "duration": 49,
    "start_time": "2022-05-01T19:59:39.268Z"
   },
   {
    "duration": 4,
    "start_time": "2022-05-01T19:59:39.319Z"
   },
   {
    "duration": 7,
    "start_time": "2022-05-01T19:59:39.324Z"
   },
   {
    "duration": 7,
    "start_time": "2022-05-01T19:59:39.333Z"
   },
   {
    "duration": 4,
    "start_time": "2022-05-01T19:59:39.341Z"
   },
   {
    "duration": 6,
    "start_time": "2022-05-01T19:59:39.348Z"
   },
   {
    "duration": 4,
    "start_time": "2022-05-01T19:59:39.355Z"
   },
   {
    "duration": 10,
    "start_time": "2022-05-01T19:59:39.360Z"
   },
   {
    "duration": 29,
    "start_time": "2022-05-01T19:59:39.371Z"
   },
   {
    "duration": 8,
    "start_time": "2022-05-01T19:59:39.402Z"
   },
   {
    "duration": 12,
    "start_time": "2022-05-01T19:59:39.417Z"
   },
   {
    "duration": 8,
    "start_time": "2022-05-01T19:59:39.431Z"
   },
   {
    "duration": 13,
    "start_time": "2022-05-01T19:59:39.441Z"
   },
   {
    "duration": 6,
    "start_time": "2022-05-01T19:59:39.456Z"
   },
   {
    "duration": 9,
    "start_time": "2022-05-01T19:59:39.463Z"
   },
   {
    "duration": 5,
    "start_time": "2022-05-01T19:59:39.473Z"
   },
   {
    "duration": 44,
    "start_time": "2022-05-01T19:59:39.479Z"
   },
   {
    "duration": 17,
    "start_time": "2022-05-01T19:59:39.524Z"
   },
   {
    "duration": 10,
    "start_time": "2022-05-01T19:59:39.543Z"
   },
   {
    "duration": 15,
    "start_time": "2022-05-01T19:59:39.555Z"
   },
   {
    "duration": 6,
    "start_time": "2022-05-01T19:59:39.571Z"
   },
   {
    "duration": 28,
    "start_time": "2022-05-01T19:59:39.578Z"
   },
   {
    "duration": 9,
    "start_time": "2022-05-01T19:59:39.608Z"
   },
   {
    "duration": 12,
    "start_time": "2022-05-01T19:59:39.619Z"
   },
   {
    "duration": 22,
    "start_time": "2022-05-01T19:59:39.633Z"
   },
   {
    "duration": 16,
    "start_time": "2022-05-01T19:59:39.657Z"
   },
   {
    "duration": 26,
    "start_time": "2022-05-01T19:59:39.675Z"
   },
   {
    "duration": 545,
    "start_time": "2022-05-03T17:41:57.336Z"
   },
   {
    "duration": 22,
    "start_time": "2022-05-03T17:41:57.884Z"
   },
   {
    "duration": 43,
    "start_time": "2022-05-03T17:41:57.908Z"
   },
   {
    "duration": 38,
    "start_time": "2022-05-03T17:41:57.954Z"
   },
   {
    "duration": 14,
    "start_time": "2022-05-03T17:41:57.994Z"
   },
   {
    "duration": 8,
    "start_time": "2022-05-03T17:41:58.010Z"
   },
   {
    "duration": 32,
    "start_time": "2022-05-03T17:41:58.020Z"
   },
   {
    "duration": 42,
    "start_time": "2022-05-03T17:41:58.055Z"
   },
   {
    "duration": 32,
    "start_time": "2022-05-03T17:41:58.100Z"
   },
   {
    "duration": 10,
    "start_time": "2022-05-03T17:41:58.136Z"
   },
   {
    "duration": 10,
    "start_time": "2022-05-03T17:41:58.148Z"
   },
   {
    "duration": 40,
    "start_time": "2022-05-03T17:41:58.160Z"
   },
   {
    "duration": 8,
    "start_time": "2022-05-03T17:41:58.202Z"
   },
   {
    "duration": 6,
    "start_time": "2022-05-03T17:41:58.212Z"
   },
   {
    "duration": 7,
    "start_time": "2022-05-03T17:41:58.220Z"
   },
   {
    "duration": 19,
    "start_time": "2022-05-03T17:41:58.229Z"
   },
   {
    "duration": 6,
    "start_time": "2022-05-03T17:41:58.292Z"
   },
   {
    "duration": 7,
    "start_time": "2022-05-03T17:41:58.300Z"
   },
   {
    "duration": 15,
    "start_time": "2022-05-03T17:41:58.309Z"
   },
   {
    "duration": 5,
    "start_time": "2022-05-03T17:41:58.326Z"
   },
   {
    "duration": 7,
    "start_time": "2022-05-03T17:41:58.333Z"
   },
   {
    "duration": 51,
    "start_time": "2022-05-03T17:41:58.342Z"
   },
   {
    "duration": 27,
    "start_time": "2022-05-03T17:41:58.395Z"
   },
   {
    "duration": 29,
    "start_time": "2022-05-03T17:41:58.424Z"
   },
   {
    "duration": 39,
    "start_time": "2022-05-03T17:41:58.455Z"
   },
   {
    "duration": 11,
    "start_time": "2022-05-03T17:41:58.496Z"
   },
   {
    "duration": 9,
    "start_time": "2022-05-03T17:41:58.509Z"
   },
   {
    "duration": 15,
    "start_time": "2022-05-03T17:41:58.525Z"
   },
   {
    "duration": 53,
    "start_time": "2022-05-03T17:41:58.542Z"
   },
   {
    "duration": 28,
    "start_time": "2022-05-03T17:41:58.598Z"
   },
   {
    "duration": 28,
    "start_time": "2022-05-03T17:41:58.628Z"
   },
   {
    "duration": 34,
    "start_time": "2022-05-03T17:41:58.659Z"
   },
   {
    "duration": 8,
    "start_time": "2022-05-03T17:41:58.696Z"
   },
   {
    "duration": 11,
    "start_time": "2022-05-03T17:41:58.707Z"
   },
   {
    "duration": 11,
    "start_time": "2022-05-03T17:41:58.721Z"
   },
   {
    "duration": 8,
    "start_time": "2022-05-03T17:41:58.734Z"
   },
   {
    "duration": 48,
    "start_time": "2022-05-03T17:41:58.745Z"
   },
   {
    "duration": 13,
    "start_time": "2022-05-03T17:41:58.795Z"
   },
   {
    "duration": 20,
    "start_time": "2022-05-03T17:41:58.810Z"
   },
   {
    "duration": 11,
    "start_time": "2022-05-03T17:41:58.832Z"
   },
   {
    "duration": 5,
    "start_time": "2022-05-03T17:41:58.845Z"
   },
   {
    "duration": 51,
    "start_time": "2022-05-03T17:41:58.852Z"
   },
   {
    "duration": 23,
    "start_time": "2022-05-03T17:41:58.906Z"
   },
   {
    "duration": 18,
    "start_time": "2022-05-03T17:41:58.931Z"
   },
   {
    "duration": 50,
    "start_time": "2022-05-03T17:41:58.951Z"
   },
   {
    "duration": 9,
    "start_time": "2022-05-03T17:41:59.003Z"
   },
   {
    "duration": 16,
    "start_time": "2022-05-03T17:41:59.014Z"
   },
   {
    "duration": 15,
    "start_time": "2022-05-03T17:41:59.032Z"
   },
   {
    "duration": 16,
    "start_time": "2022-05-03T17:41:59.049Z"
   },
   {
    "duration": 53,
    "start_time": "2022-05-03T17:41:59.067Z"
   },
   {
    "duration": 25,
    "start_time": "2022-05-03T17:41:59.122Z"
   },
   {
    "duration": 11,
    "start_time": "2022-05-03T17:41:59.149Z"
   },
   {
    "duration": 604,
    "start_time": "2022-05-03T17:41:59.162Z"
   }
  ],
  "kernelspec": {
   "display_name": "Python 3 (ipykernel)",
   "language": "python",
   "name": "python3"
  },
  "language_info": {
   "codemirror_mode": {
    "name": "ipython",
    "version": 3
   },
   "file_extension": ".py",
   "mimetype": "text/x-python",
   "name": "python",
   "nbconvert_exporter": "python",
   "pygments_lexer": "ipython3",
   "version": "3.9.12"
  },
  "toc": {
   "base_numbering": 1,
   "nav_menu": {},
   "number_sections": true,
   "sideBar": true,
   "skip_h1_title": true,
   "title_cell": "Table of Contents",
   "title_sidebar": "Contents",
   "toc_cell": false,
   "toc_position": {
    "height": "calc(100% - 180px)",
    "left": "10px",
    "top": "150px",
    "width": "383.188px"
   },
   "toc_section_display": true,
   "toc_window_display": true
  }
 },
 "nbformat": 4,
 "nbformat_minor": 5
}
