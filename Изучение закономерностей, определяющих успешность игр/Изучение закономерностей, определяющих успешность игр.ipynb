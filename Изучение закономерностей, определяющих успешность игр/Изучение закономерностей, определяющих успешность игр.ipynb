{
 "cells": [
  {
   "cell_type": "code",
   "execution_count": 2,
   "id": "083ba24b",
   "metadata": {},
   "outputs": [],
   "source": [
    "import pandas as pd\n",
    "import numpy as np\n",
    "import datetime\n",
    "\n",
    "from scipy import stats as st\n",
    "\n",
    "import warnings\n",
    "warnings.filterwarnings(action='ignore')\n",
    "\n",
    "from matplotlib import pyplot as plt\n",
    "import seaborn as sns\n",
    "\n",
    "try:\n",
    "    games = pd.read_csv('/datasets/games.csv')\n",
    "    \n",
    "except:\n",
    "    games = pd.read_csv('/Users/vadimhlebnikov/Downloads/games.csv')"
   ]
  },
  {
   "cell_type": "markdown",
   "id": "7df417fc",
   "metadata": {},
   "source": [
    "# Описание проекта\n",
    "\n",
    "Вы работаете в интернет-магазине «Стримчик», который продаёт по всему миру компьютерные игры. Из открытых источников доступны исторические данные о продажах игр, оценки пользователей и экспертов, жанры и платформы (например, Xbox или PlayStation). Нужно выявить определяющие успешность игры закономерности. Это позволит сделать ставку на потенциально популярный продукт и спланировать рекламные кампании.\n"
   ]
  },
  {
   "cell_type": "markdown",
   "id": "a4a94762",
   "metadata": {},
   "source": [
    "## Содержание\n",
    "* [Изучение данных](#chapter1)\n",
    "* [Предобработка данных](#chapter2)\n",
    "* [Исследовательский анализ данных](#chapter3)\n",
    " * [Анализ продаж игр на всех платформах](#chapter3.1)\n",
    " * [Анализ данных актуального периода](#chapter3.2)\n",
    " * [Изучение зависимости между оценками и продажами](#chapter3.3)\n",
    " * [Анализ продаж по жанрам](#chapter3.4)\n",
    " * [Портреты регионов продаж](#chapter3.5)\n",
    " * [Проверка гипотез о равенстве рейтингов](#chapter3.6)\n",
    "* [Общий вывод](#chapter4)"
   ]
  },
  {
   "cell_type": "markdown",
   "id": "26bb4603",
   "metadata": {
    "scrolled": true
   },
   "source": [
    "## Изучение данных <a class =\"anchor\" id=\"chapter1\"></a>\n"
   ]
  },
  {
   "cell_type": "code",
   "execution_count": 3,
   "id": "e00a33aa",
   "metadata": {},
   "outputs": [
    {
     "name": "stdout",
     "output_type": "stream",
     "text": [
      "<class 'pandas.core.frame.DataFrame'>\n",
      "RangeIndex: 16715 entries, 0 to 16714\n",
      "Data columns (total 11 columns):\n",
      " #   Column           Non-Null Count  Dtype  \n",
      "---  ------           --------------  -----  \n",
      " 0   Name             16713 non-null  object \n",
      " 1   Platform         16715 non-null  object \n",
      " 2   Year_of_Release  16446 non-null  float64\n",
      " 3   Genre            16713 non-null  object \n",
      " 4   NA_sales         16715 non-null  float64\n",
      " 5   EU_sales         16715 non-null  float64\n",
      " 6   JP_sales         16715 non-null  float64\n",
      " 7   Other_sales      16715 non-null  float64\n",
      " 8   Critic_Score     8137 non-null   float64\n",
      " 9   User_Score       10014 non-null  object \n",
      " 10  Rating           9949 non-null   object \n",
      "dtypes: float64(6), object(5)\n",
      "memory usage: 1.4+ MB\n"
     ]
    }
   ],
   "source": [
    "games.info()"
   ]
  },
  {
   "cell_type": "code",
   "execution_count": 4,
   "id": "061b0fc3",
   "metadata": {
    "scrolled": true
   },
   "outputs": [
    {
     "data": {
      "text/plain": [
       "<AxesSubplot:>"
      ]
     },
     "execution_count": 4,
     "metadata": {},
     "output_type": "execute_result"
    },
    {
     "data": {
      "image/png": "[encoded data removed]",
      "text/plain": [
       "<Figure size 432x288 with 2 Axes>"
      ]
     },
     "metadata": {
      "needs_background": "light"
     },
     "output_type": "display_data"
    }
   ],
   "source": [
    "#построим тепловую карту пропусков\n",
    "cols = games.columns\n",
    "sns.heatmap(games[cols].isna())"
   ]
  },
  {
   "cell_type": "code",
   "execution_count": 5,
   "id": "96b8bd67",
   "metadata": {
    "scrolled": true
   },
   "outputs": [
    {
     "data": {
      "text/html": [
       "<div>\n",
       "<style scoped>\n",
       "    .dataframe tbody tr th:only-of-type {\n",
       "        vertical-align: middle;\n",
       "    }\n",
       "\n",
       "    .dataframe tbody tr th {\n",
       "        vertical-align: top;\n",
       "    }\n",
       "\n",
       "    .dataframe thead th {\n",
       "        text-align: right;\n",
       "    }\n",
       "</style>\n",
       "<table border=\"1\" class=\"dataframe\">\n",
       "  <thead>\n",
       "    <tr style=\"text-align: right;\">\n",
       "      <th></th>\n",
       "      <th>Name</th>\n",
       "      <th>Platform</th>\n",
       "      <th>Genre</th>\n",
       "      <th>NA_sales</th>\n",
       "      <th>EU_sales</th>\n",
       "      <th>JP_sales</th>\n",
       "      <th>Other_sales</th>\n",
       "      <th>Critic_Score</th>\n",
       "      <th>User_Score</th>\n",
       "      <th>Rating</th>\n",
       "      <th>critic_Score_na_share</th>\n",
       "      <th>user_Score_na_share</th>\n",
       "    </tr>\n",
       "    <tr>\n",
       "      <th>Year_of_Release</th>\n",
       "      <th></th>\n",
       "      <th></th>\n",
       "      <th></th>\n",
       "      <th></th>\n",
       "      <th></th>\n",
       "      <th></th>\n",
       "      <th></th>\n",
       "      <th></th>\n",
       "      <th></th>\n",
       "      <th></th>\n",
       "      <th></th>\n",
       "      <th></th>\n",
       "    </tr>\n",
       "  </thead>\n",
       "  <tbody>\n",
       "    <tr>\n",
       "      <th>1980.0</th>\n",
       "      <td>9</td>\n",
       "      <td>9</td>\n",
       "      <td>9</td>\n",
       "      <td>9</td>\n",
       "      <td>9</td>\n",
       "      <td>9</td>\n",
       "      <td>9</td>\n",
       "      <td>0</td>\n",
       "      <td>0</td>\n",
       "      <td>0</td>\n",
       "      <td>1.000000</td>\n",
       "      <td>1.000000</td>\n",
       "    </tr>\n",
       "    <tr>\n",
       "      <th>1981.0</th>\n",
       "      <td>46</td>\n",
       "      <td>46</td>\n",
       "      <td>46</td>\n",
       "      <td>46</td>\n",
       "      <td>46</td>\n",
       "      <td>46</td>\n",
       "      <td>46</td>\n",
       "      <td>0</td>\n",
       "      <td>0</td>\n",
       "      <td>0</td>\n",
       "      <td>1.000000</td>\n",
       "      <td>1.000000</td>\n",
       "    </tr>\n",
       "    <tr>\n",
       "      <th>1982.0</th>\n",
       "      <td>36</td>\n",
       "      <td>36</td>\n",
       "      <td>36</td>\n",
       "      <td>36</td>\n",
       "      <td>36</td>\n",
       "      <td>36</td>\n",
       "      <td>36</td>\n",
       "      <td>0</td>\n",
       "      <td>0</td>\n",
       "      <td>0</td>\n",
       "      <td>1.000000</td>\n",
       "      <td>1.000000</td>\n",
       "    </tr>\n",
       "    <tr>\n",
       "      <th>1983.0</th>\n",
       "      <td>17</td>\n",
       "      <td>17</td>\n",
       "      <td>17</td>\n",
       "      <td>17</td>\n",
       "      <td>17</td>\n",
       "      <td>17</td>\n",
       "      <td>17</td>\n",
       "      <td>0</td>\n",
       "      <td>0</td>\n",
       "      <td>0</td>\n",
       "      <td>1.000000</td>\n",
       "      <td>1.000000</td>\n",
       "    </tr>\n",
       "    <tr>\n",
       "      <th>1984.0</th>\n",
       "      <td>14</td>\n",
       "      <td>14</td>\n",
       "      <td>14</td>\n",
       "      <td>14</td>\n",
       "      <td>14</td>\n",
       "      <td>14</td>\n",
       "      <td>14</td>\n",
       "      <td>0</td>\n",
       "      <td>0</td>\n",
       "      <td>0</td>\n",
       "      <td>1.000000</td>\n",
       "      <td>1.000000</td>\n",
       "    </tr>\n",
       "    <tr>\n",
       "      <th>1985.0</th>\n",
       "      <td>14</td>\n",
       "      <td>14</td>\n",
       "      <td>14</td>\n",
       "      <td>14</td>\n",
       "      <td>14</td>\n",
       "      <td>14</td>\n",
       "      <td>14</td>\n",
       "      <td>1</td>\n",
       "      <td>1</td>\n",
       "      <td>1</td>\n",
       "      <td>0.928571</td>\n",
       "      <td>0.928571</td>\n",
       "    </tr>\n",
       "    <tr>\n",
       "      <th>1986.0</th>\n",
       "      <td>21</td>\n",
       "      <td>21</td>\n",
       "      <td>21</td>\n",
       "      <td>21</td>\n",
       "      <td>21</td>\n",
       "      <td>21</td>\n",
       "      <td>21</td>\n",
       "      <td>0</td>\n",
       "      <td>0</td>\n",
       "      <td>0</td>\n",
       "      <td>1.000000</td>\n",
       "      <td>1.000000</td>\n",
       "    </tr>\n",
       "    <tr>\n",
       "      <th>1987.0</th>\n",
       "      <td>16</td>\n",
       "      <td>16</td>\n",
       "      <td>16</td>\n",
       "      <td>16</td>\n",
       "      <td>16</td>\n",
       "      <td>16</td>\n",
       "      <td>16</td>\n",
       "      <td>0</td>\n",
       "      <td>0</td>\n",
       "      <td>0</td>\n",
       "      <td>1.000000</td>\n",
       "      <td>1.000000</td>\n",
       "    </tr>\n",
       "    <tr>\n",
       "      <th>1988.0</th>\n",
       "      <td>15</td>\n",
       "      <td>15</td>\n",
       "      <td>15</td>\n",
       "      <td>15</td>\n",
       "      <td>15</td>\n",
       "      <td>15</td>\n",
       "      <td>15</td>\n",
       "      <td>1</td>\n",
       "      <td>1</td>\n",
       "      <td>1</td>\n",
       "      <td>0.933333</td>\n",
       "      <td>0.933333</td>\n",
       "    </tr>\n",
       "    <tr>\n",
       "      <th>1989.0</th>\n",
       "      <td>17</td>\n",
       "      <td>17</td>\n",
       "      <td>17</td>\n",
       "      <td>17</td>\n",
       "      <td>17</td>\n",
       "      <td>17</td>\n",
       "      <td>17</td>\n",
       "      <td>0</td>\n",
       "      <td>0</td>\n",
       "      <td>0</td>\n",
       "      <td>1.000000</td>\n",
       "      <td>1.000000</td>\n",
       "    </tr>\n",
       "    <tr>\n",
       "      <th>1990.0</th>\n",
       "      <td>16</td>\n",
       "      <td>16</td>\n",
       "      <td>16</td>\n",
       "      <td>16</td>\n",
       "      <td>16</td>\n",
       "      <td>16</td>\n",
       "      <td>16</td>\n",
       "      <td>0</td>\n",
       "      <td>0</td>\n",
       "      <td>0</td>\n",
       "      <td>1.000000</td>\n",
       "      <td>1.000000</td>\n",
       "    </tr>\n",
       "    <tr>\n",
       "      <th>1991.0</th>\n",
       "      <td>41</td>\n",
       "      <td>41</td>\n",
       "      <td>41</td>\n",
       "      <td>41</td>\n",
       "      <td>41</td>\n",
       "      <td>41</td>\n",
       "      <td>41</td>\n",
       "      <td>0</td>\n",
       "      <td>0</td>\n",
       "      <td>0</td>\n",
       "      <td>1.000000</td>\n",
       "      <td>1.000000</td>\n",
       "    </tr>\n",
       "    <tr>\n",
       "      <th>1992.0</th>\n",
       "      <td>43</td>\n",
       "      <td>43</td>\n",
       "      <td>43</td>\n",
       "      <td>43</td>\n",
       "      <td>43</td>\n",
       "      <td>43</td>\n",
       "      <td>43</td>\n",
       "      <td>1</td>\n",
       "      <td>1</td>\n",
       "      <td>2</td>\n",
       "      <td>0.976744</td>\n",
       "      <td>0.976744</td>\n",
       "    </tr>\n",
       "    <tr>\n",
       "      <th>1993.0</th>\n",
       "      <td>60</td>\n",
       "      <td>62</td>\n",
       "      <td>60</td>\n",
       "      <td>62</td>\n",
       "      <td>62</td>\n",
       "      <td>62</td>\n",
       "      <td>62</td>\n",
       "      <td>0</td>\n",
       "      <td>0</td>\n",
       "      <td>0</td>\n",
       "      <td>1.000000</td>\n",
       "      <td>1.000000</td>\n",
       "    </tr>\n",
       "    <tr>\n",
       "      <th>1994.0</th>\n",
       "      <td>121</td>\n",
       "      <td>121</td>\n",
       "      <td>121</td>\n",
       "      <td>121</td>\n",
       "      <td>121</td>\n",
       "      <td>121</td>\n",
       "      <td>121</td>\n",
       "      <td>1</td>\n",
       "      <td>1</td>\n",
       "      <td>1</td>\n",
       "      <td>0.991736</td>\n",
       "      <td>0.991736</td>\n",
       "    </tr>\n",
       "    <tr>\n",
       "      <th>1995.0</th>\n",
       "      <td>219</td>\n",
       "      <td>219</td>\n",
       "      <td>219</td>\n",
       "      <td>219</td>\n",
       "      <td>219</td>\n",
       "      <td>219</td>\n",
       "      <td>219</td>\n",
       "      <td>0</td>\n",
       "      <td>0</td>\n",
       "      <td>0</td>\n",
       "      <td>1.000000</td>\n",
       "      <td>1.000000</td>\n",
       "    </tr>\n",
       "    <tr>\n",
       "      <th>1996.0</th>\n",
       "      <td>263</td>\n",
       "      <td>263</td>\n",
       "      <td>263</td>\n",
       "      <td>263</td>\n",
       "      <td>263</td>\n",
       "      <td>263</td>\n",
       "      <td>263</td>\n",
       "      <td>8</td>\n",
       "      <td>8</td>\n",
       "      <td>7</td>\n",
       "      <td>0.969582</td>\n",
       "      <td>0.969582</td>\n",
       "    </tr>\n",
       "    <tr>\n",
       "      <th>1997.0</th>\n",
       "      <td>289</td>\n",
       "      <td>289</td>\n",
       "      <td>289</td>\n",
       "      <td>289</td>\n",
       "      <td>289</td>\n",
       "      <td>289</td>\n",
       "      <td>289</td>\n",
       "      <td>17</td>\n",
       "      <td>19</td>\n",
       "      <td>19</td>\n",
       "      <td>0.941176</td>\n",
       "      <td>0.934256</td>\n",
       "    </tr>\n",
       "    <tr>\n",
       "      <th>1998.0</th>\n",
       "      <td>379</td>\n",
       "      <td>379</td>\n",
       "      <td>379</td>\n",
       "      <td>379</td>\n",
       "      <td>379</td>\n",
       "      <td>379</td>\n",
       "      <td>379</td>\n",
       "      <td>28</td>\n",
       "      <td>31</td>\n",
       "      <td>32</td>\n",
       "      <td>0.926121</td>\n",
       "      <td>0.918206</td>\n",
       "    </tr>\n",
       "    <tr>\n",
       "      <th>1999.0</th>\n",
       "      <td>338</td>\n",
       "      <td>338</td>\n",
       "      <td>338</td>\n",
       "      <td>338</td>\n",
       "      <td>338</td>\n",
       "      <td>338</td>\n",
       "      <td>338</td>\n",
       "      <td>39</td>\n",
       "      <td>39</td>\n",
       "      <td>42</td>\n",
       "      <td>0.884615</td>\n",
       "      <td>0.884615</td>\n",
       "    </tr>\n",
       "    <tr>\n",
       "      <th>2000.0</th>\n",
       "      <td>350</td>\n",
       "      <td>350</td>\n",
       "      <td>350</td>\n",
       "      <td>350</td>\n",
       "      <td>350</td>\n",
       "      <td>350</td>\n",
       "      <td>350</td>\n",
       "      <td>143</td>\n",
       "      <td>150</td>\n",
       "      <td>148</td>\n",
       "      <td>0.591429</td>\n",
       "      <td>0.571429</td>\n",
       "    </tr>\n",
       "    <tr>\n",
       "      <th>2001.0</th>\n",
       "      <td>482</td>\n",
       "      <td>482</td>\n",
       "      <td>482</td>\n",
       "      <td>482</td>\n",
       "      <td>482</td>\n",
       "      <td>482</td>\n",
       "      <td>482</td>\n",
       "      <td>326</td>\n",
       "      <td>339</td>\n",
       "      <td>339</td>\n",
       "      <td>0.323651</td>\n",
       "      <td>0.296680</td>\n",
       "    </tr>\n",
       "    <tr>\n",
       "      <th>2002.0</th>\n",
       "      <td>829</td>\n",
       "      <td>829</td>\n",
       "      <td>829</td>\n",
       "      <td>829</td>\n",
       "      <td>829</td>\n",
       "      <td>829</td>\n",
       "      <td>829</td>\n",
       "      <td>627</td>\n",
       "      <td>656</td>\n",
       "      <td>655</td>\n",
       "      <td>0.243667</td>\n",
       "      <td>0.208685</td>\n",
       "    </tr>\n",
       "    <tr>\n",
       "      <th>2003.0</th>\n",
       "      <td>775</td>\n",
       "      <td>775</td>\n",
       "      <td>775</td>\n",
       "      <td>775</td>\n",
       "      <td>775</td>\n",
       "      <td>775</td>\n",
       "      <td>775</td>\n",
       "      <td>585</td>\n",
       "      <td>611</td>\n",
       "      <td>613</td>\n",
       "      <td>0.245161</td>\n",
       "      <td>0.211613</td>\n",
       "    </tr>\n",
       "    <tr>\n",
       "      <th>2004.0</th>\n",
       "      <td>762</td>\n",
       "      <td>762</td>\n",
       "      <td>762</td>\n",
       "      <td>762</td>\n",
       "      <td>762</td>\n",
       "      <td>762</td>\n",
       "      <td>762</td>\n",
       "      <td>561</td>\n",
       "      <td>596</td>\n",
       "      <td>598</td>\n",
       "      <td>0.263780</td>\n",
       "      <td>0.217848</td>\n",
       "    </tr>\n",
       "    <tr>\n",
       "      <th>2005.0</th>\n",
       "      <td>939</td>\n",
       "      <td>939</td>\n",
       "      <td>939</td>\n",
       "      <td>939</td>\n",
       "      <td>939</td>\n",
       "      <td>939</td>\n",
       "      <td>939</td>\n",
       "      <td>655</td>\n",
       "      <td>704</td>\n",
       "      <td>706</td>\n",
       "      <td>0.302449</td>\n",
       "      <td>0.250266</td>\n",
       "    </tr>\n",
       "    <tr>\n",
       "      <th>2006.0</th>\n",
       "      <td>1006</td>\n",
       "      <td>1006</td>\n",
       "      <td>1006</td>\n",
       "      <td>1006</td>\n",
       "      <td>1006</td>\n",
       "      <td>1006</td>\n",
       "      <td>1006</td>\n",
       "      <td>620</td>\n",
       "      <td>676</td>\n",
       "      <td>678</td>\n",
       "      <td>0.383698</td>\n",
       "      <td>0.328032</td>\n",
       "    </tr>\n",
       "    <tr>\n",
       "      <th>2007.0</th>\n",
       "      <td>1197</td>\n",
       "      <td>1197</td>\n",
       "      <td>1197</td>\n",
       "      <td>1197</td>\n",
       "      <td>1197</td>\n",
       "      <td>1197</td>\n",
       "      <td>1197</td>\n",
       "      <td>692</td>\n",
       "      <td>821</td>\n",
       "      <td>821</td>\n",
       "      <td>0.421888</td>\n",
       "      <td>0.314119</td>\n",
       "    </tr>\n",
       "    <tr>\n",
       "      <th>2008.0</th>\n",
       "      <td>1427</td>\n",
       "      <td>1427</td>\n",
       "      <td>1427</td>\n",
       "      <td>1427</td>\n",
       "      <td>1427</td>\n",
       "      <td>1427</td>\n",
       "      <td>1427</td>\n",
       "      <td>715</td>\n",
       "      <td>987</td>\n",
       "      <td>981</td>\n",
       "      <td>0.498949</td>\n",
       "      <td>0.308339</td>\n",
       "    </tr>\n",
       "    <tr>\n",
       "      <th>2009.0</th>\n",
       "      <td>1426</td>\n",
       "      <td>1426</td>\n",
       "      <td>1426</td>\n",
       "      <td>1426</td>\n",
       "      <td>1426</td>\n",
       "      <td>1426</td>\n",
       "      <td>1426</td>\n",
       "      <td>651</td>\n",
       "      <td>1019</td>\n",
       "      <td>1011</td>\n",
       "      <td>0.543478</td>\n",
       "      <td>0.285414</td>\n",
       "    </tr>\n",
       "    <tr>\n",
       "      <th>2010.0</th>\n",
       "      <td>1255</td>\n",
       "      <td>1255</td>\n",
       "      <td>1255</td>\n",
       "      <td>1255</td>\n",
       "      <td>1255</td>\n",
       "      <td>1255</td>\n",
       "      <td>1255</td>\n",
       "      <td>500</td>\n",
       "      <td>798</td>\n",
       "      <td>799</td>\n",
       "      <td>0.601594</td>\n",
       "      <td>0.364143</td>\n",
       "    </tr>\n",
       "    <tr>\n",
       "      <th>2011.0</th>\n",
       "      <td>1136</td>\n",
       "      <td>1136</td>\n",
       "      <td>1136</td>\n",
       "      <td>1136</td>\n",
       "      <td>1136</td>\n",
       "      <td>1136</td>\n",
       "      <td>1136</td>\n",
       "      <td>500</td>\n",
       "      <td>718</td>\n",
       "      <td>703</td>\n",
       "      <td>0.559859</td>\n",
       "      <td>0.367958</td>\n",
       "    </tr>\n",
       "    <tr>\n",
       "      <th>2012.0</th>\n",
       "      <td>653</td>\n",
       "      <td>653</td>\n",
       "      <td>653</td>\n",
       "      <td>653</td>\n",
       "      <td>653</td>\n",
       "      <td>653</td>\n",
       "      <td>653</td>\n",
       "      <td>321</td>\n",
       "      <td>363</td>\n",
       "      <td>355</td>\n",
       "      <td>0.508423</td>\n",
       "      <td>0.444104</td>\n",
       "    </tr>\n",
       "    <tr>\n",
       "      <th>2013.0</th>\n",
       "      <td>544</td>\n",
       "      <td>544</td>\n",
       "      <td>544</td>\n",
       "      <td>544</td>\n",
       "      <td>544</td>\n",
       "      <td>544</td>\n",
       "      <td>544</td>\n",
       "      <td>273</td>\n",
       "      <td>319</td>\n",
       "      <td>316</td>\n",
       "      <td>0.498162</td>\n",
       "      <td>0.413603</td>\n",
       "    </tr>\n",
       "    <tr>\n",
       "      <th>2014.0</th>\n",
       "      <td>581</td>\n",
       "      <td>581</td>\n",
       "      <td>581</td>\n",
       "      <td>581</td>\n",
       "      <td>581</td>\n",
       "      <td>581</td>\n",
       "      <td>581</td>\n",
       "      <td>261</td>\n",
       "      <td>350</td>\n",
       "      <td>345</td>\n",
       "      <td>0.550775</td>\n",
       "      <td>0.397590</td>\n",
       "    </tr>\n",
       "    <tr>\n",
       "      <th>2015.0</th>\n",
       "      <td>606</td>\n",
       "      <td>606</td>\n",
       "      <td>606</td>\n",
       "      <td>606</td>\n",
       "      <td>606</td>\n",
       "      <td>606</td>\n",
       "      <td>606</td>\n",
       "      <td>225</td>\n",
       "      <td>335</td>\n",
       "      <td>315</td>\n",
       "      <td>0.628713</td>\n",
       "      <td>0.447195</td>\n",
       "    </tr>\n",
       "    <tr>\n",
       "      <th>2016.0</th>\n",
       "      <td>502</td>\n",
       "      <td>502</td>\n",
       "      <td>502</td>\n",
       "      <td>502</td>\n",
       "      <td>502</td>\n",
       "      <td>502</td>\n",
       "      <td>502</td>\n",
       "      <td>232</td>\n",
       "      <td>296</td>\n",
       "      <td>280</td>\n",
       "      <td>0.537849</td>\n",
       "      <td>0.410359</td>\n",
       "    </tr>\n",
       "  </tbody>\n",
       "</table>\n",
       "</div>"
      ],
      "text/plain": [
       "                 Name  Platform  Genre  NA_sales  EU_sales  JP_sales  \\\n",
       "Year_of_Release                                                        \n",
       "1980.0              9         9      9         9         9         9   \n",
       "1981.0             46        46     46        46        46        46   \n",
       "1982.0             36        36     36        36        36        36   \n",
       "1983.0             17        17     17        17        17        17   \n",
       "1984.0             14        14     14        14        14        14   \n",
       "1985.0             14        14     14        14        14        14   \n",
       "1986.0             21        21     21        21        21        21   \n",
       "1987.0             16        16     16        16        16        16   \n",
       "1988.0             15        15     15        15        15        15   \n",
       "1989.0             17        17     17        17        17        17   \n",
       "1990.0             16        16     16        16        16        16   \n",
       "1991.0             41        41     41        41        41        41   \n",
       "1992.0             43        43     43        43        43        43   \n",
       "1993.0             60        62     60        62        62        62   \n",
       "1994.0            121       121    121       121       121       121   \n",
       "1995.0            219       219    219       219       219       219   \n",
       "1996.0            263       263    263       263       263       263   \n",
       "1997.0            289       289    289       289       289       289   \n",
       "1998.0            379       379    379       379       379       379   \n",
       "1999.0            338       338    338       338       338       338   \n",
       "2000.0            350       350    350       350       350       350   \n",
       "2001.0            482       482    482       482       482       482   \n",
       "2002.0            829       829    829       829       829       829   \n",
       "2003.0            775       775    775       775       775       775   \n",
       "2004.0            762       762    762       762       762       762   \n",
       "2005.0            939       939    939       939       939       939   \n",
       "2006.0           1006      1006   1006      1006      1006      1006   \n",
       "2007.0           1197      1197   1197      1197      1197      1197   \n",
       "2008.0           1427      1427   1427      1427      1427      1427   \n",
       "2009.0           1426      1426   1426      1426      1426      1426   \n",
       "2010.0           1255      1255   1255      1255      1255      1255   \n",
       "2011.0           1136      1136   1136      1136      1136      1136   \n",
       "2012.0            653       653    653       653       653       653   \n",
       "2013.0            544       544    544       544       544       544   \n",
       "2014.0            581       581    581       581       581       581   \n",
       "2015.0            606       606    606       606       606       606   \n",
       "2016.0            502       502    502       502       502       502   \n",
       "\n",
       "                 Other_sales  Critic_Score  User_Score  Rating  \\\n",
       "Year_of_Release                                                  \n",
       "1980.0                     9             0           0       0   \n",
       "1981.0                    46             0           0       0   \n",
       "1982.0                    36             0           0       0   \n",
       "1983.0                    17             0           0       0   \n",
       "1984.0                    14             0           0       0   \n",
       "1985.0                    14             1           1       1   \n",
       "1986.0                    21             0           0       0   \n",
       "1987.0                    16             0           0       0   \n",
       "1988.0                    15             1           1       1   \n",
       "1989.0                    17             0           0       0   \n",
       "1990.0                    16             0           0       0   \n",
       "1991.0                    41             0           0       0   \n",
       "1992.0                    43             1           1       2   \n",
       "1993.0                    62             0           0       0   \n",
       "1994.0                   121             1           1       1   \n",
       "1995.0                   219             0           0       0   \n",
       "1996.0                   263             8           8       7   \n",
       "1997.0                   289            17          19      19   \n",
       "1998.0                   379            28          31      32   \n",
       "1999.0                   338            39          39      42   \n",
       "2000.0                   350           143         150     148   \n",
       "2001.0                   482           326         339     339   \n",
       "2002.0                   829           627         656     655   \n",
       "2003.0                   775           585         611     613   \n",
       "2004.0                   762           561         596     598   \n",
       "2005.0                   939           655         704     706   \n",
       "2006.0                  1006           620         676     678   \n",
       "2007.0                  1197           692         821     821   \n",
       "2008.0                  1427           715         987     981   \n",
       "2009.0                  1426           651        1019    1011   \n",
       "2010.0                  1255           500         798     799   \n",
       "2011.0                  1136           500         718     703   \n",
       "2012.0                   653           321         363     355   \n",
       "2013.0                   544           273         319     316   \n",
       "2014.0                   581           261         350     345   \n",
       "2015.0                   606           225         335     315   \n",
       "2016.0                   502           232         296     280   \n",
       "\n",
       "                 critic_Score_na_share  user_Score_na_share  \n",
       "Year_of_Release                                              \n",
       "1980.0                        1.000000             1.000000  \n",
       "1981.0                        1.000000             1.000000  \n",
       "1982.0                        1.000000             1.000000  \n",
       "1983.0                        1.000000             1.000000  \n",
       "1984.0                        1.000000             1.000000  \n",
       "1985.0                        0.928571             0.928571  \n",
       "1986.0                        1.000000             1.000000  \n",
       "1987.0                        1.000000             1.000000  \n",
       "1988.0                        0.933333             0.933333  \n",
       "1989.0                        1.000000             1.000000  \n",
       "1990.0                        1.000000             1.000000  \n",
       "1991.0                        1.000000             1.000000  \n",
       "1992.0                        0.976744             0.976744  \n",
       "1993.0                        1.000000             1.000000  \n",
       "1994.0                        0.991736             0.991736  \n",
       "1995.0                        1.000000             1.000000  \n",
       "1996.0                        0.969582             0.969582  \n",
       "1997.0                        0.941176             0.934256  \n",
       "1998.0                        0.926121             0.918206  \n",
       "1999.0                        0.884615             0.884615  \n",
       "2000.0                        0.591429             0.571429  \n",
       "2001.0                        0.323651             0.296680  \n",
       "2002.0                        0.243667             0.208685  \n",
       "2003.0                        0.245161             0.211613  \n",
       "2004.0                        0.263780             0.217848  \n",
       "2005.0                        0.302449             0.250266  \n",
       "2006.0                        0.383698             0.328032  \n",
       "2007.0                        0.421888             0.314119  \n",
       "2008.0                        0.498949             0.308339  \n",
       "2009.0                        0.543478             0.285414  \n",
       "2010.0                        0.601594             0.364143  \n",
       "2011.0                        0.559859             0.367958  \n",
       "2012.0                        0.508423             0.444104  \n",
       "2013.0                        0.498162             0.413603  \n",
       "2014.0                        0.550775             0.397590  \n",
       "2015.0                        0.628713             0.447195  \n",
       "2016.0                        0.537849             0.410359  "
      ]
     },
     "execution_count": 5,
     "metadata": {},
     "output_type": "execute_result"
    }
   ],
   "source": [
    "year_group = games.groupby('Year_of_Release').count()\n",
    "year_group['critic_Score_na_share'] = 1 - (year_group['Critic_Score']/ year_group['NA_sales'])\n",
    "year_group['user_Score_na_share'] = 1 - (year_group['User_Score']/ year_group['NA_sales'])\n",
    "year_group\n",
    "\n"
   ]
  },
  {
   "cell_type": "code",
   "execution_count": 6,
   "id": "5f95d8ee",
   "metadata": {
    "scrolled": false
   },
   "outputs": [
    {
     "data": {
      "text/html": [
       "<div>\n",
       "<style scoped>\n",
       "    .dataframe tbody tr th:only-of-type {\n",
       "        vertical-align: middle;\n",
       "    }\n",
       "\n",
       "    .dataframe tbody tr th {\n",
       "        vertical-align: top;\n",
       "    }\n",
       "\n",
       "    .dataframe thead th {\n",
       "        text-align: right;\n",
       "    }\n",
       "</style>\n",
       "<table border=\"1\" class=\"dataframe\">\n",
       "  <thead>\n",
       "    <tr style=\"text-align: right;\">\n",
       "      <th></th>\n",
       "      <th>Name</th>\n",
       "      <th>Year_of_Release</th>\n",
       "      <th>Genre</th>\n",
       "      <th>NA_sales</th>\n",
       "      <th>EU_sales</th>\n",
       "      <th>JP_sales</th>\n",
       "      <th>Other_sales</th>\n",
       "      <th>Critic_Score</th>\n",
       "      <th>User_Score</th>\n",
       "      <th>Rating</th>\n",
       "      <th>critic_Score_na_share</th>\n",
       "      <th>user_Score_na_share</th>\n",
       "    </tr>\n",
       "    <tr>\n",
       "      <th>Platform</th>\n",
       "      <th></th>\n",
       "      <th></th>\n",
       "      <th></th>\n",
       "      <th></th>\n",
       "      <th></th>\n",
       "      <th></th>\n",
       "      <th></th>\n",
       "      <th></th>\n",
       "      <th></th>\n",
       "      <th></th>\n",
       "      <th></th>\n",
       "      <th></th>\n",
       "    </tr>\n",
       "  </thead>\n",
       "  <tbody>\n",
       "    <tr>\n",
       "      <th>NG</th>\n",
       "      <td>12</td>\n",
       "      <td>12</td>\n",
       "      <td>12</td>\n",
       "      <td>12</td>\n",
       "      <td>12</td>\n",
       "      <td>12</td>\n",
       "      <td>12</td>\n",
       "      <td>0</td>\n",
       "      <td>0</td>\n",
       "      <td>0</td>\n",
       "      <td>1.0</td>\n",
       "      <td>1.0</td>\n",
       "    </tr>\n",
       "    <tr>\n",
       "      <th>NES</th>\n",
       "      <td>98</td>\n",
       "      <td>98</td>\n",
       "      <td>98</td>\n",
       "      <td>98</td>\n",
       "      <td>98</td>\n",
       "      <td>98</td>\n",
       "      <td>98</td>\n",
       "      <td>0</td>\n",
       "      <td>0</td>\n",
       "      <td>0</td>\n",
       "      <td>1.0</td>\n",
       "      <td>1.0</td>\n",
       "    </tr>\n",
       "    <tr>\n",
       "      <th>N64</th>\n",
       "      <td>319</td>\n",
       "      <td>316</td>\n",
       "      <td>319</td>\n",
       "      <td>319</td>\n",
       "      <td>319</td>\n",
       "      <td>319</td>\n",
       "      <td>319</td>\n",
       "      <td>0</td>\n",
       "      <td>0</td>\n",
       "      <td>0</td>\n",
       "      <td>1.0</td>\n",
       "      <td>1.0</td>\n",
       "    </tr>\n",
       "    <tr>\n",
       "      <th>GG</th>\n",
       "      <td>1</td>\n",
       "      <td>1</td>\n",
       "      <td>1</td>\n",
       "      <td>1</td>\n",
       "      <td>1</td>\n",
       "      <td>1</td>\n",
       "      <td>1</td>\n",
       "      <td>0</td>\n",
       "      <td>0</td>\n",
       "      <td>0</td>\n",
       "      <td>1.0</td>\n",
       "      <td>1.0</td>\n",
       "    </tr>\n",
       "    <tr>\n",
       "      <th>SAT</th>\n",
       "      <td>173</td>\n",
       "      <td>173</td>\n",
       "      <td>173</td>\n",
       "      <td>173</td>\n",
       "      <td>173</td>\n",
       "      <td>173</td>\n",
       "      <td>173</td>\n",
       "      <td>0</td>\n",
       "      <td>0</td>\n",
       "      <td>0</td>\n",
       "      <td>1.0</td>\n",
       "      <td>1.0</td>\n",
       "    </tr>\n",
       "    <tr>\n",
       "      <th>SCD</th>\n",
       "      <td>6</td>\n",
       "      <td>6</td>\n",
       "      <td>6</td>\n",
       "      <td>6</td>\n",
       "      <td>6</td>\n",
       "      <td>6</td>\n",
       "      <td>6</td>\n",
       "      <td>0</td>\n",
       "      <td>0</td>\n",
       "      <td>0</td>\n",
       "      <td>1.0</td>\n",
       "      <td>1.0</td>\n",
       "    </tr>\n",
       "    <tr>\n",
       "      <th>SNES</th>\n",
       "      <td>239</td>\n",
       "      <td>239</td>\n",
       "      <td>239</td>\n",
       "      <td>239</td>\n",
       "      <td>239</td>\n",
       "      <td>239</td>\n",
       "      <td>239</td>\n",
       "      <td>0</td>\n",
       "      <td>0</td>\n",
       "      <td>0</td>\n",
       "      <td>1.0</td>\n",
       "      <td>1.0</td>\n",
       "    </tr>\n",
       "    <tr>\n",
       "      <th>TG16</th>\n",
       "      <td>2</td>\n",
       "      <td>2</td>\n",
       "      <td>2</td>\n",
       "      <td>2</td>\n",
       "      <td>2</td>\n",
       "      <td>2</td>\n",
       "      <td>2</td>\n",
       "      <td>0</td>\n",
       "      <td>0</td>\n",
       "      <td>0</td>\n",
       "      <td>1.0</td>\n",
       "      <td>1.0</td>\n",
       "    </tr>\n",
       "    <tr>\n",
       "      <th>WS</th>\n",
       "      <td>6</td>\n",
       "      <td>6</td>\n",
       "      <td>6</td>\n",
       "      <td>6</td>\n",
       "      <td>6</td>\n",
       "      <td>6</td>\n",
       "      <td>6</td>\n",
       "      <td>0</td>\n",
       "      <td>0</td>\n",
       "      <td>0</td>\n",
       "      <td>1.0</td>\n",
       "      <td>1.0</td>\n",
       "    </tr>\n",
       "    <tr>\n",
       "      <th>GEN</th>\n",
       "      <td>27</td>\n",
       "      <td>29</td>\n",
       "      <td>27</td>\n",
       "      <td>29</td>\n",
       "      <td>29</td>\n",
       "      <td>29</td>\n",
       "      <td>29</td>\n",
       "      <td>0</td>\n",
       "      <td>0</td>\n",
       "      <td>0</td>\n",
       "      <td>1.0</td>\n",
       "      <td>1.0</td>\n",
       "    </tr>\n",
       "    <tr>\n",
       "      <th>GB</th>\n",
       "      <td>98</td>\n",
       "      <td>97</td>\n",
       "      <td>98</td>\n",
       "      <td>98</td>\n",
       "      <td>98</td>\n",
       "      <td>98</td>\n",
       "      <td>98</td>\n",
       "      <td>0</td>\n",
       "      <td>0</td>\n",
       "      <td>0</td>\n",
       "      <td>1.0</td>\n",
       "      <td>1.0</td>\n",
       "    </tr>\n",
       "    <tr>\n",
       "      <th>3DO</th>\n",
       "      <td>3</td>\n",
       "      <td>3</td>\n",
       "      <td>3</td>\n",
       "      <td>3</td>\n",
       "      <td>3</td>\n",
       "      <td>3</td>\n",
       "      <td>3</td>\n",
       "      <td>0</td>\n",
       "      <td>0</td>\n",
       "      <td>0</td>\n",
       "      <td>1.0</td>\n",
       "      <td>1.0</td>\n",
       "    </tr>\n",
       "    <tr>\n",
       "      <th>PCFX</th>\n",
       "      <td>1</td>\n",
       "      <td>1</td>\n",
       "      <td>1</td>\n",
       "      <td>1</td>\n",
       "      <td>1</td>\n",
       "      <td>1</td>\n",
       "      <td>1</td>\n",
       "      <td>0</td>\n",
       "      <td>0</td>\n",
       "      <td>0</td>\n",
       "      <td>1.0</td>\n",
       "      <td>1.0</td>\n",
       "    </tr>\n",
       "    <tr>\n",
       "      <th>2600</th>\n",
       "      <td>133</td>\n",
       "      <td>116</td>\n",
       "      <td>133</td>\n",
       "      <td>133</td>\n",
       "      <td>133</td>\n",
       "      <td>133</td>\n",
       "      <td>133</td>\n",
       "      <td>0</td>\n",
       "      <td>0</td>\n",
       "      <td>0</td>\n",
       "      <td>1.0</td>\n",
       "      <td>1.0</td>\n",
       "    </tr>\n",
       "  </tbody>\n",
       "</table>\n",
       "</div>"
      ],
      "text/plain": [
       "          Name  Year_of_Release  Genre  NA_sales  EU_sales  JP_sales  \\\n",
       "Platform                                                               \n",
       "NG          12               12     12        12        12        12   \n",
       "NES         98               98     98        98        98        98   \n",
       "N64        319              316    319       319       319       319   \n",
       "GG           1                1      1         1         1         1   \n",
       "SAT        173              173    173       173       173       173   \n",
       "SCD          6                6      6         6         6         6   \n",
       "SNES       239              239    239       239       239       239   \n",
       "TG16         2                2      2         2         2         2   \n",
       "WS           6                6      6         6         6         6   \n",
       "GEN         27               29     27        29        29        29   \n",
       "GB          98               97     98        98        98        98   \n",
       "3DO          3                3      3         3         3         3   \n",
       "PCFX         1                1      1         1         1         1   \n",
       "2600       133              116    133       133       133       133   \n",
       "\n",
       "          Other_sales  Critic_Score  User_Score  Rating  \\\n",
       "Platform                                                  \n",
       "NG                 12             0           0       0   \n",
       "NES                98             0           0       0   \n",
       "N64               319             0           0       0   \n",
       "GG                  1             0           0       0   \n",
       "SAT               173             0           0       0   \n",
       "SCD                 6             0           0       0   \n",
       "SNES              239             0           0       0   \n",
       "TG16                2             0           0       0   \n",
       "WS                  6             0           0       0   \n",
       "GEN                29             0           0       0   \n",
       "GB                 98             0           0       0   \n",
       "3DO                 3             0           0       0   \n",
       "PCFX                1             0           0       0   \n",
       "2600              133             0           0       0   \n",
       "\n",
       "          critic_Score_na_share  user_Score_na_share  \n",
       "Platform                                              \n",
       "NG                          1.0                  1.0  \n",
       "NES                         1.0                  1.0  \n",
       "N64                         1.0                  1.0  \n",
       "GG                          1.0                  1.0  \n",
       "SAT                         1.0                  1.0  \n",
       "SCD                         1.0                  1.0  \n",
       "SNES                        1.0                  1.0  \n",
       "TG16                        1.0                  1.0  \n",
       "WS                          1.0                  1.0  \n",
       "GEN                         1.0                  1.0  \n",
       "GB                          1.0                  1.0  \n",
       "3DO                         1.0                  1.0  \n",
       "PCFX                        1.0                  1.0  \n",
       "2600                        1.0                  1.0  "
      ]
     },
     "metadata": {},
     "output_type": "display_data"
    },
    {
     "data": {
      "text/plain": [
       "14"
      ]
     },
     "metadata": {},
     "output_type": "display_data"
    }
   ],
   "source": [
    "platform_group = games.groupby('Platform').count()\n",
    "platform_group['critic_Score_na_share'] = 1 - (platform_group['Critic_Score']/ platform_group['NA_sales'])\n",
    "platform_group['user_Score_na_share'] = 1 - (platform_group['User_Score']/ platform_group['NA_sales'])\n",
    "display(platform_group.sort_values('critic_Score_na_share').query('critic_Score_na_share == 1'))\n",
    "display(len(platform_group.sort_values('critic_Score_na_share').query('critic_Score_na_share == 1')))\n"
   ]
  },
  {
   "cell_type": "markdown",
   "id": "46a8c55f",
   "metadata": {},
   "source": [
    "Представленный набор данных обладает достаточной полнотой в части основных разделов, касающихся времени выхода игр, жанров и продаж. Большие объемы пропустов в оценках характерны для периоода до начала 2000-х, а также для отдельны платформ. Например, 14 платформ вообще не имеют оценок критиков и пользователей. Есть большие объемы пропусков в столбцах с рейтингами и оценками игр. С учетом масштаба пропусков и содержания разделов с пропусками корректно заполнить их не получится."
   ]
  },
  {
   "cell_type": "markdown",
   "id": "c68ae5b0",
   "metadata": {},
   "source": [
    "## Предобработка данных <a class =\"anchor\" id=\"chapter2\"></a>"
   ]
  },
  {
   "cell_type": "code",
   "execution_count": 8,
   "id": "50abdd6a",
   "metadata": {},
   "outputs": [
    {
     "name": "stdout",
     "output_type": "stream",
     "text": [
      "<class 'pandas.core.frame.DataFrame'>\n",
      "RangeIndex: 16715 entries, 0 to 16714\n",
      "Data columns (total 11 columns):\n",
      " #   Column           Non-Null Count  Dtype  \n",
      "---  ------           --------------  -----  \n",
      " 0   name             16713 non-null  object \n",
      " 1   platform         16715 non-null  object \n",
      " 2   year_of_release  16446 non-null  float64\n",
      " 3   genre            16713 non-null  object \n",
      " 4   na_sales         16715 non-null  float64\n",
      " 5   eu_sales         16715 non-null  float64\n",
      " 6   jp_sales         16715 non-null  float64\n",
      " 7   other_sales      16715 non-null  float64\n",
      " 8   critic_score     8137 non-null   float64\n",
      " 9   user_score       10014 non-null  object \n",
      " 10  rating           9949 non-null   object \n",
      "dtypes: float64(6), object(5)\n",
      "memory usage: 1.4+ MB\n"
     ]
    }
   ],
   "source": [
    "#Переведем название столбцов в нижний регистр \n",
    "games.columns = games.columns.str.lower()\n",
    "games.info()"
   ]
  },
  {
   "cell_type": "code",
   "execution_count": 9,
   "id": "35c14a96",
   "metadata": {},
   "outputs": [],
   "source": [
    "#Заполним пропуски в названях игр\n",
    "games['name'] = games['name'].fillna('Out of name')\n"
   ]
  },
  {
   "cell_type": "code",
   "execution_count": 10,
   "id": "607004e6",
   "metadata": {
    "scrolled": true
   },
   "outputs": [],
   "source": [
    "# делаем функцию, которая вытащит год выпуска из названия и заполнит пропуск в соответствующем столбце\n",
    "def get_year(line):\n",
    "    if 1980 < pd.to_numeric(''.join(filter(str.isdigit, line['name']))) < 2017:\n",
    "        return ''.join(filter(str.isdigit, line['name']))\n",
    "    \n",
    "games['get_year'] = games.apply(get_year,axis=1)\n",
    "\n",
    "games['year_of_release'] = games['year_of_release'].fillna(games['get_year'])"
   ]
  },
  {
   "cell_type": "code",
   "execution_count": 12,
   "id": "6a0c0674",
   "metadata": {},
   "outputs": [
    {
     "data": {
      "text/plain": [
       "Index(['name', 'platform', 'year_of_release', 'genre', 'na_sales', 'eu_sales',\n",
       "       'jp_sales', 'other_sales', 'critic_score', 'user_score', 'rating',\n",
       "       'get_year'],\n",
       "      dtype='object')"
      ]
     },
     "execution_count": 12,
     "metadata": {},
     "output_type": "execute_result"
    }
   ],
   "source": [
    "games.columns"
   ]
  },
  {
   "cell_type": "code",
   "execution_count": 13,
   "id": "3ef0c1f9",
   "metadata": {
    "scrolled": true
   },
   "outputs": [
    {
     "data": {
      "text/html": [
       "<div>\n",
       "<style scoped>\n",
       "    .dataframe tbody tr th:only-of-type {\n",
       "        vertical-align: middle;\n",
       "    }\n",
       "\n",
       "    .dataframe tbody tr th {\n",
       "        vertical-align: top;\n",
       "    }\n",
       "\n",
       "    .dataframe thead th {\n",
       "        text-align: right;\n",
       "    }\n",
       "</style>\n",
       "<table border=\"1\" class=\"dataframe\">\n",
       "  <thead>\n",
       "    <tr style=\"text-align: right;\">\n",
       "      <th></th>\n",
       "      <th>name</th>\n",
       "      <th>platform</th>\n",
       "      <th>year_of_release</th>\n",
       "      <th>genre</th>\n",
       "      <th>na_sales</th>\n",
       "      <th>eu_sales</th>\n",
       "      <th>jp_sales</th>\n",
       "      <th>other_sales</th>\n",
       "      <th>critic_score</th>\n",
       "      <th>user_score</th>\n",
       "      <th>rating</th>\n",
       "      <th>get_year</th>\n",
       "    </tr>\n",
       "  </thead>\n",
       "  <tbody>\n",
       "    <tr>\n",
       "      <th>119</th>\n",
       "      <td>Zumba Fitness</td>\n",
       "      <td>Wii</td>\n",
       "      <td>2010.0</td>\n",
       "      <td>Sports</td>\n",
       "      <td>3.45</td>\n",
       "      <td>2.59</td>\n",
       "      <td>0.0</td>\n",
       "      <td>0.66</td>\n",
       "      <td>NaN</td>\n",
       "      <td>tbd</td>\n",
       "      <td>E</td>\n",
       "      <td>None</td>\n",
       "    </tr>\n",
       "    <tr>\n",
       "      <th>301</th>\n",
       "      <td>Namco Museum: 50th Anniversary</td>\n",
       "      <td>PS2</td>\n",
       "      <td>2005.0</td>\n",
       "      <td>Misc</td>\n",
       "      <td>2.08</td>\n",
       "      <td>1.35</td>\n",
       "      <td>0.0</td>\n",
       "      <td>0.54</td>\n",
       "      <td>61.0</td>\n",
       "      <td>tbd</td>\n",
       "      <td>E10+</td>\n",
       "      <td>None</td>\n",
       "    </tr>\n",
       "    <tr>\n",
       "      <th>520</th>\n",
       "      <td>Zumba Fitness 2</td>\n",
       "      <td>Wii</td>\n",
       "      <td>2011.0</td>\n",
       "      <td>Sports</td>\n",
       "      <td>1.51</td>\n",
       "      <td>1.03</td>\n",
       "      <td>0.0</td>\n",
       "      <td>0.27</td>\n",
       "      <td>NaN</td>\n",
       "      <td>tbd</td>\n",
       "      <td>T</td>\n",
       "      <td>None</td>\n",
       "    </tr>\n",
       "    <tr>\n",
       "      <th>645</th>\n",
       "      <td>uDraw Studio</td>\n",
       "      <td>Wii</td>\n",
       "      <td>2010.0</td>\n",
       "      <td>Misc</td>\n",
       "      <td>1.65</td>\n",
       "      <td>0.57</td>\n",
       "      <td>0.0</td>\n",
       "      <td>0.20</td>\n",
       "      <td>71.0</td>\n",
       "      <td>tbd</td>\n",
       "      <td>E</td>\n",
       "      <td>None</td>\n",
       "    </tr>\n",
       "    <tr>\n",
       "      <th>657</th>\n",
       "      <td>Frogger's Adventures: Temple of the Frog</td>\n",
       "      <td>GBA</td>\n",
       "      <td>None</td>\n",
       "      <td>Adventure</td>\n",
       "      <td>2.15</td>\n",
       "      <td>0.18</td>\n",
       "      <td>0.0</td>\n",
       "      <td>0.07</td>\n",
       "      <td>73.0</td>\n",
       "      <td>tbd</td>\n",
       "      <td>E</td>\n",
       "      <td>None</td>\n",
       "    </tr>\n",
       "    <tr>\n",
       "      <th>...</th>\n",
       "      <td>...</td>\n",
       "      <td>...</td>\n",
       "      <td>...</td>\n",
       "      <td>...</td>\n",
       "      <td>...</td>\n",
       "      <td>...</td>\n",
       "      <td>...</td>\n",
       "      <td>...</td>\n",
       "      <td>...</td>\n",
       "      <td>...</td>\n",
       "      <td>...</td>\n",
       "      <td>...</td>\n",
       "    </tr>\n",
       "    <tr>\n",
       "      <th>16695</th>\n",
       "      <td>Planet Monsters</td>\n",
       "      <td>GBA</td>\n",
       "      <td>2001.0</td>\n",
       "      <td>Action</td>\n",
       "      <td>0.01</td>\n",
       "      <td>0.00</td>\n",
       "      <td>0.0</td>\n",
       "      <td>0.00</td>\n",
       "      <td>67.0</td>\n",
       "      <td>tbd</td>\n",
       "      <td>E</td>\n",
       "      <td>None</td>\n",
       "    </tr>\n",
       "    <tr>\n",
       "      <th>16697</th>\n",
       "      <td>Bust-A-Move 3000</td>\n",
       "      <td>GC</td>\n",
       "      <td>2003.0</td>\n",
       "      <td>Puzzle</td>\n",
       "      <td>0.01</td>\n",
       "      <td>0.00</td>\n",
       "      <td>0.0</td>\n",
       "      <td>0.00</td>\n",
       "      <td>53.0</td>\n",
       "      <td>tbd</td>\n",
       "      <td>E</td>\n",
       "      <td>None</td>\n",
       "    </tr>\n",
       "    <tr>\n",
       "      <th>16698</th>\n",
       "      <td>Mega Brain Boost</td>\n",
       "      <td>DS</td>\n",
       "      <td>2008.0</td>\n",
       "      <td>Puzzle</td>\n",
       "      <td>0.01</td>\n",
       "      <td>0.00</td>\n",
       "      <td>0.0</td>\n",
       "      <td>0.00</td>\n",
       "      <td>48.0</td>\n",
       "      <td>tbd</td>\n",
       "      <td>E</td>\n",
       "      <td>None</td>\n",
       "    </tr>\n",
       "    <tr>\n",
       "      <th>16704</th>\n",
       "      <td>Plushees</td>\n",
       "      <td>DS</td>\n",
       "      <td>2008.0</td>\n",
       "      <td>Simulation</td>\n",
       "      <td>0.01</td>\n",
       "      <td>0.00</td>\n",
       "      <td>0.0</td>\n",
       "      <td>0.00</td>\n",
       "      <td>NaN</td>\n",
       "      <td>tbd</td>\n",
       "      <td>E</td>\n",
       "      <td>None</td>\n",
       "    </tr>\n",
       "    <tr>\n",
       "      <th>16706</th>\n",
       "      <td>Men in Black II: Alien Escape</td>\n",
       "      <td>GC</td>\n",
       "      <td>2003.0</td>\n",
       "      <td>Shooter</td>\n",
       "      <td>0.01</td>\n",
       "      <td>0.00</td>\n",
       "      <td>0.0</td>\n",
       "      <td>0.00</td>\n",
       "      <td>NaN</td>\n",
       "      <td>tbd</td>\n",
       "      <td>T</td>\n",
       "      <td>None</td>\n",
       "    </tr>\n",
       "  </tbody>\n",
       "</table>\n",
       "<p>2424 rows × 12 columns</p>\n",
       "</div>"
      ],
      "text/plain": [
       "                                           name platform year_of_release  \\\n",
       "119                               Zumba Fitness      Wii          2010.0   \n",
       "301              Namco Museum: 50th Anniversary      PS2          2005.0   \n",
       "520                             Zumba Fitness 2      Wii          2011.0   \n",
       "645                                uDraw Studio      Wii          2010.0   \n",
       "657    Frogger's Adventures: Temple of the Frog      GBA            None   \n",
       "...                                         ...      ...             ...   \n",
       "16695                           Planet Monsters      GBA          2001.0   \n",
       "16697                          Bust-A-Move 3000       GC          2003.0   \n",
       "16698                          Mega Brain Boost       DS          2008.0   \n",
       "16704                                  Plushees       DS          2008.0   \n",
       "16706             Men in Black II: Alien Escape       GC          2003.0   \n",
       "\n",
       "            genre  na_sales  eu_sales  jp_sales  other_sales  critic_score  \\\n",
       "119        Sports      3.45      2.59       0.0         0.66           NaN   \n",
       "301          Misc      2.08      1.35       0.0         0.54          61.0   \n",
       "520        Sports      1.51      1.03       0.0         0.27           NaN   \n",
       "645          Misc      1.65      0.57       0.0         0.20          71.0   \n",
       "657     Adventure      2.15      0.18       0.0         0.07          73.0   \n",
       "...           ...       ...       ...       ...          ...           ...   \n",
       "16695      Action      0.01      0.00       0.0         0.00          67.0   \n",
       "16697      Puzzle      0.01      0.00       0.0         0.00          53.0   \n",
       "16698      Puzzle      0.01      0.00       0.0         0.00          48.0   \n",
       "16704  Simulation      0.01      0.00       0.0         0.00           NaN   \n",
       "16706     Shooter      0.01      0.00       0.0         0.00           NaN   \n",
       "\n",
       "      user_score rating get_year  \n",
       "119          tbd      E     None  \n",
       "301          tbd   E10+     None  \n",
       "520          tbd      T     None  \n",
       "645          tbd      E     None  \n",
       "657          tbd      E     None  \n",
       "...          ...    ...      ...  \n",
       "16695        tbd      E     None  \n",
       "16697        tbd      E     None  \n",
       "16698        tbd      E     None  \n",
       "16704        tbd      E     None  \n",
       "16706        tbd      T     None  \n",
       "\n",
       "[2424 rows x 12 columns]"
      ]
     },
     "execution_count": 13,
     "metadata": {},
     "output_type": "execute_result"
    }
   ],
   "source": [
    "#Оценим масштабы значения 'tbd' в столбце user_score\n",
    "games[games['user_score'] == 'tbd']"
   ]
  },
  {
   "cell_type": "code",
   "execution_count": 14,
   "id": "d2398304",
   "metadata": {},
   "outputs": [
    {
     "data": {
      "text/plain": [
       "6701"
      ]
     },
     "execution_count": 14,
     "metadata": {},
     "output_type": "execute_result"
    }
   ],
   "source": [
    "games['user_score'].isna().sum()"
   ]
  },
  {
   "cell_type": "code",
   "execution_count": 15,
   "id": "20a3a81b",
   "metadata": {},
   "outputs": [],
   "source": [
    "#Заменим 'tbd' на пропуски\n",
    "games = games.replace('tbd', np.nan)"
   ]
  },
  {
   "cell_type": "markdown",
   "id": "74e3acad",
   "metadata": {},
   "source": [
    "<div class=\"alert alert-success\"; style=\"border-left: 7px solid green\">\n",
    "<h3>✔ Комментарий ревьюера V.2</h3>\n",
    "    \n",
    "Можно такое сделать как `pd.to_numeric(errros='coerce')`, так всё, что не является числом, заменится на пропуск и приведётся нужный тип\n",
    "</div>    \n"
   ]
  },
  {
   "cell_type": "code",
   "execution_count": 16,
   "id": "1fb915d7",
   "metadata": {},
   "outputs": [
    {
     "data": {
      "text/html": [
       "<div>\n",
       "<style scoped>\n",
       "    .dataframe tbody tr th:only-of-type {\n",
       "        vertical-align: middle;\n",
       "    }\n",
       "\n",
       "    .dataframe tbody tr th {\n",
       "        vertical-align: top;\n",
       "    }\n",
       "\n",
       "    .dataframe thead th {\n",
       "        text-align: right;\n",
       "    }\n",
       "</style>\n",
       "<table border=\"1\" class=\"dataframe\">\n",
       "  <thead>\n",
       "    <tr style=\"text-align: right;\">\n",
       "      <th></th>\n",
       "      <th>name</th>\n",
       "      <th>platform</th>\n",
       "      <th>year_of_release</th>\n",
       "      <th>genre</th>\n",
       "      <th>na_sales</th>\n",
       "      <th>eu_sales</th>\n",
       "      <th>jp_sales</th>\n",
       "      <th>other_sales</th>\n",
       "      <th>critic_score</th>\n",
       "      <th>user_score</th>\n",
       "      <th>rating</th>\n",
       "      <th>get_year</th>\n",
       "    </tr>\n",
       "  </thead>\n",
       "  <tbody>\n",
       "  </tbody>\n",
       "</table>\n",
       "</div>"
      ],
      "text/plain": [
       "Empty DataFrame\n",
       "Columns: [name, platform, year_of_release, genre, na_sales, eu_sales, jp_sales, other_sales, critic_score, user_score, rating, get_year]\n",
       "Index: []"
      ]
     },
     "execution_count": 16,
     "metadata": {},
     "output_type": "execute_result"
    }
   ],
   "source": [
    "games[games['user_score'] == 'tbd']"
   ]
  },
  {
   "cell_type": "code",
   "execution_count": 17,
   "id": "26d12956",
   "metadata": {},
   "outputs": [
    {
     "data": {
      "text/plain": [
       "9125"
      ]
     },
     "execution_count": 17,
     "metadata": {},
     "output_type": "execute_result"
    }
   ],
   "source": [
    "games['user_score'].isna().sum()"
   ]
  },
  {
   "cell_type": "markdown",
   "id": "9272b39a",
   "metadata": {},
   "source": [
    "<div class=\"alert alert-danger\"; style=\"border-left: 7px solid red\">\n",
    "<h3>👀 Комментарий ревьюера</h3>\n",
    "    \n",
    "`tbd` указывают, когда данных недостаточно для того, чтобы посчитать рейтинг, т.е. по факту это пропуск. Т.к. ты не стал заменять пропуски и аргументированно это сделал, то довольно странно заменять пропуски и тут. Чтобы так заменять, нужно вообще говоря показать, что рейтинг зависит от продаж. Разница между средними ниже может быть случайной, для этого можно пользоваться множественной проверкой гипотез, типа ANOVA, но про это будет дальше в курсе, поэтому сейчас заморачиваться не стоит. Идеи с группировкой неплохие, но есть много тонкостей. Более того, такая замена потом может корреляцию сместить\n",
    "</div> "
   ]
  },
  {
   "cell_type": "markdown",
   "id": "46b6dbe6",
   "metadata": {},
   "source": [
    "<div class=\"alert alert-info\" style=\"background:#ffdbf1;color:#2e00ab;border-left:7px solid #2e00ab\">\n",
    "    Заменил 'tbd' пропусками\n",
    "</div>"
   ]
  },
  {
   "cell_type": "markdown",
   "id": "b5ea98b0",
   "metadata": {},
   "source": [
    "<div class=\"alert alert-warning\"; style=\"border-left: 7px solid yellow\" >\n",
    "<h3>!! Комментарий ревьюера</h3>\n",
    "    \n",
    "Хардкодить числа не стоит, почему бы по индексам не брать их из таблички сгруппированной?</div> "
   ]
  },
  {
   "cell_type": "code",
   "execution_count": 18,
   "id": "b8efba74",
   "metadata": {
    "scrolled": true
   },
   "outputs": [
    {
     "name": "stdout",
     "output_type": "stream",
     "text": [
      "<class 'pandas.core.frame.DataFrame'>\n",
      "RangeIndex: 16715 entries, 0 to 16714\n",
      "Data columns (total 12 columns):\n",
      " #   Column           Non-Null Count  Dtype  \n",
      "---  ------           --------------  -----  \n",
      " 0   name             16715 non-null  object \n",
      " 1   platform         16715 non-null  object \n",
      " 2   year_of_release  16464 non-null  float64\n",
      " 3   genre            16713 non-null  object \n",
      " 4   na_sales         16715 non-null  float64\n",
      " 5   eu_sales         16715 non-null  float64\n",
      " 6   jp_sales         16715 non-null  float64\n",
      " 7   other_sales      16715 non-null  float64\n",
      " 8   critic_score     8137 non-null   float64\n",
      " 9   user_score       7590 non-null   float64\n",
      " 10  rating           9949 non-null   object \n",
      " 11  get_year         778 non-null    object \n",
      "dtypes: float64(7), object(5)\n",
      "memory usage: 1.5+ MB\n"
     ]
    }
   ],
   "source": [
    "games['user_score'] = games['user_score'].astype('float')\n",
    "games['year_of_release'] = games['year_of_release'].astype('float')\n",
    "games.info()"
   ]
  },
  {
   "cell_type": "code",
   "execution_count": 19,
   "id": "9cb68ea8",
   "metadata": {},
   "outputs": [
    {
     "data": {
      "text/html": [
       "<div>\n",
       "<style scoped>\n",
       "    .dataframe tbody tr th:only-of-type {\n",
       "        vertical-align: middle;\n",
       "    }\n",
       "\n",
       "    .dataframe tbody tr th {\n",
       "        vertical-align: top;\n",
       "    }\n",
       "\n",
       "    .dataframe thead th {\n",
       "        text-align: right;\n",
       "    }\n",
       "</style>\n",
       "<table border=\"1\" class=\"dataframe\">\n",
       "  <thead>\n",
       "    <tr style=\"text-align: right;\">\n",
       "      <th></th>\n",
       "      <th>name</th>\n",
       "      <th>platform</th>\n",
       "      <th>year_of_release</th>\n",
       "      <th>genre</th>\n",
       "      <th>na_sales</th>\n",
       "      <th>eu_sales</th>\n",
       "      <th>jp_sales</th>\n",
       "      <th>other_sales</th>\n",
       "      <th>critic_score</th>\n",
       "      <th>user_score</th>\n",
       "      <th>rating</th>\n",
       "      <th>get_year</th>\n",
       "      <th>total_sales</th>\n",
       "    </tr>\n",
       "  </thead>\n",
       "  <tbody>\n",
       "    <tr>\n",
       "      <th>0</th>\n",
       "      <td>Wii Sports</td>\n",
       "      <td>Wii</td>\n",
       "      <td>2006.0</td>\n",
       "      <td>Sports</td>\n",
       "      <td>41.36</td>\n",
       "      <td>28.96</td>\n",
       "      <td>3.77</td>\n",
       "      <td>8.45</td>\n",
       "      <td>76.0</td>\n",
       "      <td>8.0</td>\n",
       "      <td>E</td>\n",
       "      <td>None</td>\n",
       "      <td>82.54</td>\n",
       "    </tr>\n",
       "    <tr>\n",
       "      <th>1</th>\n",
       "      <td>Super Mario Bros.</td>\n",
       "      <td>NES</td>\n",
       "      <td>1985.0</td>\n",
       "      <td>Platform</td>\n",
       "      <td>29.08</td>\n",
       "      <td>3.58</td>\n",
       "      <td>6.81</td>\n",
       "      <td>0.77</td>\n",
       "      <td>NaN</td>\n",
       "      <td>NaN</td>\n",
       "      <td>NaN</td>\n",
       "      <td>None</td>\n",
       "      <td>40.24</td>\n",
       "    </tr>\n",
       "    <tr>\n",
       "      <th>2</th>\n",
       "      <td>Mario Kart Wii</td>\n",
       "      <td>Wii</td>\n",
       "      <td>2008.0</td>\n",
       "      <td>Racing</td>\n",
       "      <td>15.68</td>\n",
       "      <td>12.76</td>\n",
       "      <td>3.79</td>\n",
       "      <td>3.29</td>\n",
       "      <td>82.0</td>\n",
       "      <td>8.3</td>\n",
       "      <td>E</td>\n",
       "      <td>None</td>\n",
       "      <td>35.52</td>\n",
       "    </tr>\n",
       "    <tr>\n",
       "      <th>3</th>\n",
       "      <td>Wii Sports Resort</td>\n",
       "      <td>Wii</td>\n",
       "      <td>2009.0</td>\n",
       "      <td>Sports</td>\n",
       "      <td>15.61</td>\n",
       "      <td>10.93</td>\n",
       "      <td>3.28</td>\n",
       "      <td>2.95</td>\n",
       "      <td>80.0</td>\n",
       "      <td>8.0</td>\n",
       "      <td>E</td>\n",
       "      <td>None</td>\n",
       "      <td>32.77</td>\n",
       "    </tr>\n",
       "    <tr>\n",
       "      <th>4</th>\n",
       "      <td>Pokemon Red/Pokemon Blue</td>\n",
       "      <td>GB</td>\n",
       "      <td>1996.0</td>\n",
       "      <td>Role-Playing</td>\n",
       "      <td>11.27</td>\n",
       "      <td>8.89</td>\n",
       "      <td>10.22</td>\n",
       "      <td>1.00</td>\n",
       "      <td>NaN</td>\n",
       "      <td>NaN</td>\n",
       "      <td>NaN</td>\n",
       "      <td>None</td>\n",
       "      <td>31.38</td>\n",
       "    </tr>\n",
       "    <tr>\n",
       "      <th>...</th>\n",
       "      <td>...</td>\n",
       "      <td>...</td>\n",
       "      <td>...</td>\n",
       "      <td>...</td>\n",
       "      <td>...</td>\n",
       "      <td>...</td>\n",
       "      <td>...</td>\n",
       "      <td>...</td>\n",
       "      <td>...</td>\n",
       "      <td>...</td>\n",
       "      <td>...</td>\n",
       "      <td>...</td>\n",
       "      <td>...</td>\n",
       "    </tr>\n",
       "    <tr>\n",
       "      <th>16710</th>\n",
       "      <td>Samurai Warriors: Sanada Maru</td>\n",
       "      <td>PS3</td>\n",
       "      <td>2016.0</td>\n",
       "      <td>Action</td>\n",
       "      <td>0.00</td>\n",
       "      <td>0.00</td>\n",
       "      <td>0.01</td>\n",
       "      <td>0.00</td>\n",
       "      <td>NaN</td>\n",
       "      <td>NaN</td>\n",
       "      <td>NaN</td>\n",
       "      <td>None</td>\n",
       "      <td>0.01</td>\n",
       "    </tr>\n",
       "    <tr>\n",
       "      <th>16711</th>\n",
       "      <td>LMA Manager 2007</td>\n",
       "      <td>X360</td>\n",
       "      <td>2006.0</td>\n",
       "      <td>Sports</td>\n",
       "      <td>0.00</td>\n",
       "      <td>0.01</td>\n",
       "      <td>0.00</td>\n",
       "      <td>0.00</td>\n",
       "      <td>NaN</td>\n",
       "      <td>NaN</td>\n",
       "      <td>NaN</td>\n",
       "      <td>2007</td>\n",
       "      <td>0.01</td>\n",
       "    </tr>\n",
       "    <tr>\n",
       "      <th>16712</th>\n",
       "      <td>Haitaka no Psychedelica</td>\n",
       "      <td>PSV</td>\n",
       "      <td>2016.0</td>\n",
       "      <td>Adventure</td>\n",
       "      <td>0.00</td>\n",
       "      <td>0.00</td>\n",
       "      <td>0.01</td>\n",
       "      <td>0.00</td>\n",
       "      <td>NaN</td>\n",
       "      <td>NaN</td>\n",
       "      <td>NaN</td>\n",
       "      <td>None</td>\n",
       "      <td>0.01</td>\n",
       "    </tr>\n",
       "    <tr>\n",
       "      <th>16713</th>\n",
       "      <td>Spirits &amp; Spells</td>\n",
       "      <td>GBA</td>\n",
       "      <td>2003.0</td>\n",
       "      <td>Platform</td>\n",
       "      <td>0.01</td>\n",
       "      <td>0.00</td>\n",
       "      <td>0.00</td>\n",
       "      <td>0.00</td>\n",
       "      <td>NaN</td>\n",
       "      <td>NaN</td>\n",
       "      <td>NaN</td>\n",
       "      <td>None</td>\n",
       "      <td>0.01</td>\n",
       "    </tr>\n",
       "    <tr>\n",
       "      <th>16714</th>\n",
       "      <td>Winning Post 8 2016</td>\n",
       "      <td>PSV</td>\n",
       "      <td>2016.0</td>\n",
       "      <td>Simulation</td>\n",
       "      <td>0.00</td>\n",
       "      <td>0.00</td>\n",
       "      <td>0.01</td>\n",
       "      <td>0.00</td>\n",
       "      <td>NaN</td>\n",
       "      <td>NaN</td>\n",
       "      <td>NaN</td>\n",
       "      <td>None</td>\n",
       "      <td>0.01</td>\n",
       "    </tr>\n",
       "  </tbody>\n",
       "</table>\n",
       "<p>16715 rows × 13 columns</p>\n",
       "</div>"
      ],
      "text/plain": [
       "                                name platform  year_of_release         genre  \\\n",
       "0                         Wii Sports      Wii           2006.0        Sports   \n",
       "1                  Super Mario Bros.      NES           1985.0      Platform   \n",
       "2                     Mario Kart Wii      Wii           2008.0        Racing   \n",
       "3                  Wii Sports Resort      Wii           2009.0        Sports   \n",
       "4           Pokemon Red/Pokemon Blue       GB           1996.0  Role-Playing   \n",
       "...                              ...      ...              ...           ...   \n",
       "16710  Samurai Warriors: Sanada Maru      PS3           2016.0        Action   \n",
       "16711               LMA Manager 2007     X360           2006.0        Sports   \n",
       "16712        Haitaka no Psychedelica      PSV           2016.0     Adventure   \n",
       "16713               Spirits & Spells      GBA           2003.0      Platform   \n",
       "16714            Winning Post 8 2016      PSV           2016.0    Simulation   \n",
       "\n",
       "       na_sales  eu_sales  jp_sales  other_sales  critic_score  user_score  \\\n",
       "0         41.36     28.96      3.77         8.45          76.0         8.0   \n",
       "1         29.08      3.58      6.81         0.77           NaN         NaN   \n",
       "2         15.68     12.76      3.79         3.29          82.0         8.3   \n",
       "3         15.61     10.93      3.28         2.95          80.0         8.0   \n",
       "4         11.27      8.89     10.22         1.00           NaN         NaN   \n",
       "...         ...       ...       ...          ...           ...         ...   \n",
       "16710      0.00      0.00      0.01         0.00           NaN         NaN   \n",
       "16711      0.00      0.01      0.00         0.00           NaN         NaN   \n",
       "16712      0.00      0.00      0.01         0.00           NaN         NaN   \n",
       "16713      0.01      0.00      0.00         0.00           NaN         NaN   \n",
       "16714      0.00      0.00      0.01         0.00           NaN         NaN   \n",
       "\n",
       "      rating get_year  total_sales  \n",
       "0          E     None        82.54  \n",
       "1        NaN     None        40.24  \n",
       "2          E     None        35.52  \n",
       "3          E     None        32.77  \n",
       "4        NaN     None        31.38  \n",
       "...      ...      ...          ...  \n",
       "16710    NaN     None         0.01  \n",
       "16711    NaN     2007         0.01  \n",
       "16712    NaN     None         0.01  \n",
       "16713    NaN     None         0.01  \n",
       "16714    NaN     None         0.01  \n",
       "\n",
       "[16715 rows x 13 columns]"
      ]
     },
     "execution_count": 19,
     "metadata": {},
     "output_type": "execute_result"
    }
   ],
   "source": [
    "#Посчитаем суммарные продажи по всем регионам\n",
    "games['total_sales'] = games[['na_sales','eu_sales','jp_sales','other_sales']].sum(axis=1) \n",
    "games"
   ]
  },
  {
   "cell_type": "markdown",
   "id": "e04810a5",
   "metadata": {},
   "source": [
    "<div class=\"alert alert-success\"; style=\"border-left: 7px solid green\">\n",
    "<h3>✔ Комментарий ревьюера</h3>\n",
    "    \n",
    "Можно ещё: `games[['na_sales','eu_sales',..].sum(axis=1)`. Такая запись полезна, когда хочется просуммировать колонки из списка</div>    \n"
   ]
  },
  {
   "cell_type": "markdown",
   "id": "2c8db9ef",
   "metadata": {},
   "source": [
    "<div class=\"alert alert-info\" style=\"background:#ffdbf1;color:#2e00ab;border-left:7px solid #2e00ab\">\n",
    "    Спасибо. Очень удобно!\n",
    "</div>"
   ]
  },
  {
   "cell_type": "code",
   "execution_count": 20,
   "id": "9f971d1d",
   "metadata": {
    "scrolled": true
   },
   "outputs": [
    {
     "data": {
      "text/plain": [
       "count    16715.000000\n",
       "mean         0.533396\n",
       "std          1.548261\n",
       "min          0.000000\n",
       "25%          0.060000\n",
       "50%          0.170000\n",
       "75%          0.470000\n",
       "max         82.540000\n",
       "Name: total_sales, dtype: float64"
      ]
     },
     "execution_count": 20,
     "metadata": {},
     "output_type": "execute_result"
    }
   ],
   "source": [
    "games['total_sales'].describe()"
   ]
  },
  {
   "cell_type": "code",
   "execution_count": 21,
   "id": "6b055b1f",
   "metadata": {},
   "outputs": [
    {
     "data": {
      "text/plain": [
       "16715"
      ]
     },
     "execution_count": 21,
     "metadata": {},
     "output_type": "execute_result"
    }
   ],
   "source": [
    "len(games)"
   ]
  },
  {
   "cell_type": "code",
   "execution_count": 22,
   "id": "40196317",
   "metadata": {
    "scrolled": true
   },
   "outputs": [
    {
     "data": {
      "text/html": [
       "<div>\n",
       "<style scoped>\n",
       "    .dataframe tbody tr th:only-of-type {\n",
       "        vertical-align: middle;\n",
       "    }\n",
       "\n",
       "    .dataframe tbody tr th {\n",
       "        vertical-align: top;\n",
       "    }\n",
       "\n",
       "    .dataframe thead th {\n",
       "        text-align: right;\n",
       "    }\n",
       "</style>\n",
       "<table border=\"1\" class=\"dataframe\">\n",
       "  <thead>\n",
       "    <tr style=\"text-align: right;\">\n",
       "      <th></th>\n",
       "      <th>name</th>\n",
       "      <th>platform</th>\n",
       "      <th>year_of_release</th>\n",
       "      <th>genre</th>\n",
       "      <th>na_sales</th>\n",
       "      <th>eu_sales</th>\n",
       "      <th>jp_sales</th>\n",
       "      <th>other_sales</th>\n",
       "      <th>critic_score</th>\n",
       "      <th>user_score</th>\n",
       "      <th>rating</th>\n",
       "      <th>get_year</th>\n",
       "      <th>total_sales</th>\n",
       "    </tr>\n",
       "  </thead>\n",
       "  <tbody>\n",
       "    <tr>\n",
       "      <th>14244</th>\n",
       "      <td>Out of name</td>\n",
       "      <td>GEN</td>\n",
       "      <td>1993.0</td>\n",
       "      <td>NaN</td>\n",
       "      <td>0.0</td>\n",
       "      <td>0.00</td>\n",
       "      <td>0.03</td>\n",
       "      <td>0.0</td>\n",
       "      <td>NaN</td>\n",
       "      <td>NaN</td>\n",
       "      <td>NaN</td>\n",
       "      <td>None</td>\n",
       "      <td>0.03</td>\n",
       "    </tr>\n",
       "    <tr>\n",
       "      <th>16230</th>\n",
       "      <td>Madden NFL 13</td>\n",
       "      <td>PS3</td>\n",
       "      <td>2012.0</td>\n",
       "      <td>Sports</td>\n",
       "      <td>0.0</td>\n",
       "      <td>0.01</td>\n",
       "      <td>0.00</td>\n",
       "      <td>0.0</td>\n",
       "      <td>83.0</td>\n",
       "      <td>5.5</td>\n",
       "      <td>E</td>\n",
       "      <td>None</td>\n",
       "      <td>0.01</td>\n",
       "    </tr>\n",
       "  </tbody>\n",
       "</table>\n",
       "</div>"
      ],
      "text/plain": [
       "                name platform  year_of_release   genre  na_sales  eu_sales  \\\n",
       "14244    Out of name      GEN           1993.0     NaN       0.0      0.00   \n",
       "16230  Madden NFL 13      PS3           2012.0  Sports       0.0      0.01   \n",
       "\n",
       "       jp_sales  other_sales  critic_score  user_score rating get_year  \\\n",
       "14244      0.03          0.0           NaN         NaN    NaN     None   \n",
       "16230      0.00          0.0          83.0         5.5      E     None   \n",
       "\n",
       "       total_sales  \n",
       "14244         0.03  \n",
       "16230         0.01  "
      ]
     },
     "execution_count": 22,
     "metadata": {},
     "output_type": "execute_result"
    }
   ],
   "source": [
    "#выявим дубликаты в датафрейме и удалим их\n",
    "games[games.duplicated(subset=['platform','year_of_release','name'])]\n"
   ]
  },
  {
   "cell_type": "code",
   "execution_count": 23,
   "id": "71fa380c",
   "metadata": {
    "scrolled": true
   },
   "outputs": [
    {
     "data": {
      "text/html": [
       "<div>\n",
       "<style scoped>\n",
       "    .dataframe tbody tr th:only-of-type {\n",
       "        vertical-align: middle;\n",
       "    }\n",
       "\n",
       "    .dataframe tbody tr th {\n",
       "        vertical-align: top;\n",
       "    }\n",
       "\n",
       "    .dataframe thead th {\n",
       "        text-align: right;\n",
       "    }\n",
       "</style>\n",
       "<table border=\"1\" class=\"dataframe\">\n",
       "  <thead>\n",
       "    <tr style=\"text-align: right;\">\n",
       "      <th></th>\n",
       "      <th>name</th>\n",
       "      <th>platform</th>\n",
       "      <th>year_of_release</th>\n",
       "      <th>genre</th>\n",
       "      <th>na_sales</th>\n",
       "      <th>eu_sales</th>\n",
       "      <th>jp_sales</th>\n",
       "      <th>other_sales</th>\n",
       "      <th>critic_score</th>\n",
       "      <th>user_score</th>\n",
       "      <th>rating</th>\n",
       "      <th>get_year</th>\n",
       "      <th>total_sales</th>\n",
       "    </tr>\n",
       "  </thead>\n",
       "  <tbody>\n",
       "    <tr>\n",
       "      <th>0</th>\n",
       "      <td>Wii Sports</td>\n",
       "      <td>Wii</td>\n",
       "      <td>2006.0</td>\n",
       "      <td>Sports</td>\n",
       "      <td>41.36</td>\n",
       "      <td>28.96</td>\n",
       "      <td>3.77</td>\n",
       "      <td>8.45</td>\n",
       "      <td>76.0</td>\n",
       "      <td>8.0</td>\n",
       "      <td>E</td>\n",
       "      <td>None</td>\n",
       "      <td>82.54</td>\n",
       "    </tr>\n",
       "    <tr>\n",
       "      <th>1</th>\n",
       "      <td>Super Mario Bros.</td>\n",
       "      <td>NES</td>\n",
       "      <td>1985.0</td>\n",
       "      <td>Platform</td>\n",
       "      <td>29.08</td>\n",
       "      <td>3.58</td>\n",
       "      <td>6.81</td>\n",
       "      <td>0.77</td>\n",
       "      <td>NaN</td>\n",
       "      <td>NaN</td>\n",
       "      <td>NaN</td>\n",
       "      <td>None</td>\n",
       "      <td>40.24</td>\n",
       "    </tr>\n",
       "    <tr>\n",
       "      <th>2</th>\n",
       "      <td>Mario Kart Wii</td>\n",
       "      <td>Wii</td>\n",
       "      <td>2008.0</td>\n",
       "      <td>Racing</td>\n",
       "      <td>15.68</td>\n",
       "      <td>12.76</td>\n",
       "      <td>3.79</td>\n",
       "      <td>3.29</td>\n",
       "      <td>82.0</td>\n",
       "      <td>8.3</td>\n",
       "      <td>E</td>\n",
       "      <td>None</td>\n",
       "      <td>35.52</td>\n",
       "    </tr>\n",
       "    <tr>\n",
       "      <th>3</th>\n",
       "      <td>Wii Sports Resort</td>\n",
       "      <td>Wii</td>\n",
       "      <td>2009.0</td>\n",
       "      <td>Sports</td>\n",
       "      <td>15.61</td>\n",
       "      <td>10.93</td>\n",
       "      <td>3.28</td>\n",
       "      <td>2.95</td>\n",
       "      <td>80.0</td>\n",
       "      <td>8.0</td>\n",
       "      <td>E</td>\n",
       "      <td>None</td>\n",
       "      <td>32.77</td>\n",
       "    </tr>\n",
       "    <tr>\n",
       "      <th>4</th>\n",
       "      <td>Pokemon Red/Pokemon Blue</td>\n",
       "      <td>GB</td>\n",
       "      <td>1996.0</td>\n",
       "      <td>Role-Playing</td>\n",
       "      <td>11.27</td>\n",
       "      <td>8.89</td>\n",
       "      <td>10.22</td>\n",
       "      <td>1.00</td>\n",
       "      <td>NaN</td>\n",
       "      <td>NaN</td>\n",
       "      <td>NaN</td>\n",
       "      <td>None</td>\n",
       "      <td>31.38</td>\n",
       "    </tr>\n",
       "    <tr>\n",
       "      <th>...</th>\n",
       "      <td>...</td>\n",
       "      <td>...</td>\n",
       "      <td>...</td>\n",
       "      <td>...</td>\n",
       "      <td>...</td>\n",
       "      <td>...</td>\n",
       "      <td>...</td>\n",
       "      <td>...</td>\n",
       "      <td>...</td>\n",
       "      <td>...</td>\n",
       "      <td>...</td>\n",
       "      <td>...</td>\n",
       "      <td>...</td>\n",
       "    </tr>\n",
       "    <tr>\n",
       "      <th>16710</th>\n",
       "      <td>Samurai Warriors: Sanada Maru</td>\n",
       "      <td>PS3</td>\n",
       "      <td>2016.0</td>\n",
       "      <td>Action</td>\n",
       "      <td>0.00</td>\n",
       "      <td>0.00</td>\n",
       "      <td>0.01</td>\n",
       "      <td>0.00</td>\n",
       "      <td>NaN</td>\n",
       "      <td>NaN</td>\n",
       "      <td>NaN</td>\n",
       "      <td>None</td>\n",
       "      <td>0.01</td>\n",
       "    </tr>\n",
       "    <tr>\n",
       "      <th>16711</th>\n",
       "      <td>LMA Manager 2007</td>\n",
       "      <td>X360</td>\n",
       "      <td>2006.0</td>\n",
       "      <td>Sports</td>\n",
       "      <td>0.00</td>\n",
       "      <td>0.01</td>\n",
       "      <td>0.00</td>\n",
       "      <td>0.00</td>\n",
       "      <td>NaN</td>\n",
       "      <td>NaN</td>\n",
       "      <td>NaN</td>\n",
       "      <td>2007</td>\n",
       "      <td>0.01</td>\n",
       "    </tr>\n",
       "    <tr>\n",
       "      <th>16712</th>\n",
       "      <td>Haitaka no Psychedelica</td>\n",
       "      <td>PSV</td>\n",
       "      <td>2016.0</td>\n",
       "      <td>Adventure</td>\n",
       "      <td>0.00</td>\n",
       "      <td>0.00</td>\n",
       "      <td>0.01</td>\n",
       "      <td>0.00</td>\n",
       "      <td>NaN</td>\n",
       "      <td>NaN</td>\n",
       "      <td>NaN</td>\n",
       "      <td>None</td>\n",
       "      <td>0.01</td>\n",
       "    </tr>\n",
       "    <tr>\n",
       "      <th>16713</th>\n",
       "      <td>Spirits &amp; Spells</td>\n",
       "      <td>GBA</td>\n",
       "      <td>2003.0</td>\n",
       "      <td>Platform</td>\n",
       "      <td>0.01</td>\n",
       "      <td>0.00</td>\n",
       "      <td>0.00</td>\n",
       "      <td>0.00</td>\n",
       "      <td>NaN</td>\n",
       "      <td>NaN</td>\n",
       "      <td>NaN</td>\n",
       "      <td>None</td>\n",
       "      <td>0.01</td>\n",
       "    </tr>\n",
       "    <tr>\n",
       "      <th>16714</th>\n",
       "      <td>Winning Post 8 2016</td>\n",
       "      <td>PSV</td>\n",
       "      <td>2016.0</td>\n",
       "      <td>Simulation</td>\n",
       "      <td>0.00</td>\n",
       "      <td>0.00</td>\n",
       "      <td>0.01</td>\n",
       "      <td>0.00</td>\n",
       "      <td>NaN</td>\n",
       "      <td>NaN</td>\n",
       "      <td>NaN</td>\n",
       "      <td>None</td>\n",
       "      <td>0.01</td>\n",
       "    </tr>\n",
       "  </tbody>\n",
       "</table>\n",
       "<p>16713 rows × 13 columns</p>\n",
       "</div>"
      ],
      "text/plain": [
       "                                name platform  year_of_release         genre  \\\n",
       "0                         Wii Sports      Wii           2006.0        Sports   \n",
       "1                  Super Mario Bros.      NES           1985.0      Platform   \n",
       "2                     Mario Kart Wii      Wii           2008.0        Racing   \n",
       "3                  Wii Sports Resort      Wii           2009.0        Sports   \n",
       "4           Pokemon Red/Pokemon Blue       GB           1996.0  Role-Playing   \n",
       "...                              ...      ...              ...           ...   \n",
       "16710  Samurai Warriors: Sanada Maru      PS3           2016.0        Action   \n",
       "16711               LMA Manager 2007     X360           2006.0        Sports   \n",
       "16712        Haitaka no Psychedelica      PSV           2016.0     Adventure   \n",
       "16713               Spirits & Spells      GBA           2003.0      Platform   \n",
       "16714            Winning Post 8 2016      PSV           2016.0    Simulation   \n",
       "\n",
       "       na_sales  eu_sales  jp_sales  other_sales  critic_score  user_score  \\\n",
       "0         41.36     28.96      3.77         8.45          76.0         8.0   \n",
       "1         29.08      3.58      6.81         0.77           NaN         NaN   \n",
       "2         15.68     12.76      3.79         3.29          82.0         8.3   \n",
       "3         15.61     10.93      3.28         2.95          80.0         8.0   \n",
       "4         11.27      8.89     10.22         1.00           NaN         NaN   \n",
       "...         ...       ...       ...          ...           ...         ...   \n",
       "16710      0.00      0.00      0.01         0.00           NaN         NaN   \n",
       "16711      0.00      0.01      0.00         0.00           NaN         NaN   \n",
       "16712      0.00      0.00      0.01         0.00           NaN         NaN   \n",
       "16713      0.01      0.00      0.00         0.00           NaN         NaN   \n",
       "16714      0.00      0.00      0.01         0.00           NaN         NaN   \n",
       "\n",
       "      rating get_year  total_sales  \n",
       "0          E     None        82.54  \n",
       "1        NaN     None        40.24  \n",
       "2          E     None        35.52  \n",
       "3          E     None        32.77  \n",
       "4        NaN     None        31.38  \n",
       "...      ...      ...          ...  \n",
       "16710    NaN     None         0.01  \n",
       "16711    NaN     2007         0.01  \n",
       "16712    NaN     None         0.01  \n",
       "16713    NaN     None         0.01  \n",
       "16714    NaN     None         0.01  \n",
       "\n",
       "[16713 rows x 13 columns]"
      ]
     },
     "execution_count": 23,
     "metadata": {},
     "output_type": "execute_result"
    }
   ],
   "source": [
    "games = games.drop_duplicates(subset=['platform','year_of_release','name'])\n",
    "games"
   ]
  },
  {
   "cell_type": "markdown",
   "id": "372076e8",
   "metadata": {},
   "source": [
    " ## Исследовательский анализ данных <a class =\"anchor\" id=\"chapter3\"></a>"
   ]
  },
  {
   "cell_type": "markdown",
   "id": "230bf9bc",
   "metadata": {},
   "source": [
    "### Анализ продаж игр на всех платформах <a class =\"anchor\" id=\"chapter3.1\"></a>"
   ]
  },
  {
   "cell_type": "code",
   "execution_count": 24,
   "id": "7533e8fa",
   "metadata": {
    "scrolled": true
   },
   "outputs": [
    {
     "data": {
      "image/png": "[encoded data removed]",
      "text/plain": [
       "<Figure size 432x288 with 1 Axes>"
      ]
     },
     "metadata": {
      "needs_background": "light"
     },
     "output_type": "display_data"
    }
   ],
   "source": [
    "#Изучим выход игр по годам\n",
    "games_time = games.groupby('year_of_release').count()['name'].plot()\n"
   ]
  },
  {
   "cell_type": "markdown",
   "id": "311a8f57",
   "metadata": {},
   "source": [
    "До 1990 года продавалось очень мало игр. Данные за этот период можно исключить из анализа."
   ]
  },
  {
   "cell_type": "code",
   "execution_count": 25,
   "id": "85b24f77",
   "metadata": {},
   "outputs": [
    {
     "data": {
      "text/html": [
       "<div>\n",
       "<style scoped>\n",
       "    .dataframe tbody tr th:only-of-type {\n",
       "        vertical-align: middle;\n",
       "    }\n",
       "\n",
       "    .dataframe tbody tr th {\n",
       "        vertical-align: top;\n",
       "    }\n",
       "\n",
       "    .dataframe thead th {\n",
       "        text-align: right;\n",
       "    }\n",
       "</style>\n",
       "<table border=\"1\" class=\"dataframe\">\n",
       "  <thead>\n",
       "    <tr style=\"text-align: right;\">\n",
       "      <th></th>\n",
       "      <th>platform</th>\n",
       "      <th>total_sales</th>\n",
       "    </tr>\n",
       "  </thead>\n",
       "  <tbody>\n",
       "    <tr>\n",
       "      <th>0</th>\n",
       "      <td>PS2</td>\n",
       "      <td>1255.77</td>\n",
       "    </tr>\n",
       "    <tr>\n",
       "      <th>1</th>\n",
       "      <td>X360</td>\n",
       "      <td>971.42</td>\n",
       "    </tr>\n",
       "    <tr>\n",
       "      <th>2</th>\n",
       "      <td>PS3</td>\n",
       "      <td>939.64</td>\n",
       "    </tr>\n",
       "    <tr>\n",
       "      <th>3</th>\n",
       "      <td>Wii</td>\n",
       "      <td>907.51</td>\n",
       "    </tr>\n",
       "    <tr>\n",
       "      <th>4</th>\n",
       "      <td>DS</td>\n",
       "      <td>806.12</td>\n",
       "    </tr>\n",
       "    <tr>\n",
       "      <th>5</th>\n",
       "      <td>PS</td>\n",
       "      <td>730.86</td>\n",
       "    </tr>\n",
       "    <tr>\n",
       "      <th>6</th>\n",
       "      <td>GBA</td>\n",
       "      <td>317.85</td>\n",
       "    </tr>\n",
       "    <tr>\n",
       "      <th>7</th>\n",
       "      <td>PS4</td>\n",
       "      <td>314.14</td>\n",
       "    </tr>\n",
       "    <tr>\n",
       "      <th>8</th>\n",
       "      <td>PSP</td>\n",
       "      <td>294.05</td>\n",
       "    </tr>\n",
       "    <tr>\n",
       "      <th>9</th>\n",
       "      <td>PC</td>\n",
       "      <td>259.52</td>\n",
       "    </tr>\n",
       "  </tbody>\n",
       "</table>\n",
       "</div>"
      ],
      "text/plain": [
       "  platform  total_sales\n",
       "0      PS2      1255.77\n",
       "1     X360       971.42\n",
       "2      PS3       939.64\n",
       "3      Wii       907.51\n",
       "4       DS       806.12\n",
       "5       PS       730.86\n",
       "6      GBA       317.85\n",
       "7      PS4       314.14\n",
       "8      PSP       294.05\n",
       "9       PC       259.52"
      ]
     },
     "execution_count": 25,
     "metadata": {},
     "output_type": "execute_result"
    }
   ],
   "source": [
    "#Определеим самые популярные платформы\n",
    "plot_data= games.pivot_table(index='year_of_release', columns='platform', values='total_sales', aggfunc='sum').fillna(0)\n",
    "top_platforms = games.pivot_table(index='platform', values='total_sales', aggfunc='sum').sort_values(by='total_sales', ascending=False).head(10).reset_index()\n",
    "top_platforms"
   ]
  },
  {
   "cell_type": "code",
   "execution_count": 26,
   "id": "59446933",
   "metadata": {},
   "outputs": [
    {
     "data": {
      "text/plain": [
       "['PS2', 'X360', 'PS3', 'Wii', 'DS', 'PS', 'GBA', 'PS4', 'PSP', 'PC']"
      ]
     },
     "execution_count": 26,
     "metadata": {},
     "output_type": "execute_result"
    }
   ],
   "source": [
    "top_platforms['platform'].tolist()\n"
   ]
  },
  {
   "cell_type": "code",
   "execution_count": 27,
   "id": "4a5dbc5a",
   "metadata": {
    "scrolled": false
   },
   "outputs": [
    {
     "data": {
      "text/html": [
       "<div>\n",
       "<style scoped>\n",
       "    .dataframe tbody tr th:only-of-type {\n",
       "        vertical-align: middle;\n",
       "    }\n",
       "\n",
       "    .dataframe tbody tr th {\n",
       "        vertical-align: top;\n",
       "    }\n",
       "\n",
       "    .dataframe thead th {\n",
       "        text-align: right;\n",
       "    }\n",
       "</style>\n",
       "<table border=\"1\" class=\"dataframe\">\n",
       "  <thead>\n",
       "    <tr style=\"text-align: right;\">\n",
       "      <th>platform</th>\n",
       "      <th>PS2</th>\n",
       "      <th>X360</th>\n",
       "      <th>PS3</th>\n",
       "      <th>Wii</th>\n",
       "      <th>DS</th>\n",
       "      <th>PS</th>\n",
       "      <th>GBA</th>\n",
       "      <th>PS4</th>\n",
       "      <th>PSP</th>\n",
       "      <th>PC</th>\n",
       "    </tr>\n",
       "    <tr>\n",
       "      <th>year_of_release</th>\n",
       "      <th></th>\n",
       "      <th></th>\n",
       "      <th></th>\n",
       "      <th></th>\n",
       "      <th></th>\n",
       "      <th></th>\n",
       "      <th></th>\n",
       "      <th></th>\n",
       "      <th></th>\n",
       "      <th></th>\n",
       "    </tr>\n",
       "  </thead>\n",
       "  <tbody>\n",
       "    <tr>\n",
       "      <th>1980.0</th>\n",
       "      <td>0.00</td>\n",
       "      <td>0.00</td>\n",
       "      <td>0.00</td>\n",
       "      <td>0.00</td>\n",
       "      <td>0.00</td>\n",
       "      <td>0.00</td>\n",
       "      <td>0.00</td>\n",
       "      <td>0.00</td>\n",
       "      <td>0.00</td>\n",
       "      <td>0.00</td>\n",
       "    </tr>\n",
       "    <tr>\n",
       "      <th>1981.0</th>\n",
       "      <td>0.00</td>\n",
       "      <td>0.00</td>\n",
       "      <td>0.00</td>\n",
       "      <td>0.00</td>\n",
       "      <td>0.00</td>\n",
       "      <td>0.00</td>\n",
       "      <td>0.00</td>\n",
       "      <td>0.00</td>\n",
       "      <td>0.00</td>\n",
       "      <td>0.00</td>\n",
       "    </tr>\n",
       "    <tr>\n",
       "      <th>1982.0</th>\n",
       "      <td>0.00</td>\n",
       "      <td>0.00</td>\n",
       "      <td>0.00</td>\n",
       "      <td>0.00</td>\n",
       "      <td>0.00</td>\n",
       "      <td>0.00</td>\n",
       "      <td>0.00</td>\n",
       "      <td>0.00</td>\n",
       "      <td>0.00</td>\n",
       "      <td>0.00</td>\n",
       "    </tr>\n",
       "    <tr>\n",
       "      <th>1983.0</th>\n",
       "      <td>0.00</td>\n",
       "      <td>0.00</td>\n",
       "      <td>0.00</td>\n",
       "      <td>0.00</td>\n",
       "      <td>0.00</td>\n",
       "      <td>0.00</td>\n",
       "      <td>0.00</td>\n",
       "      <td>0.00</td>\n",
       "      <td>0.00</td>\n",
       "      <td>0.00</td>\n",
       "    </tr>\n",
       "    <tr>\n",
       "      <th>1984.0</th>\n",
       "      <td>0.00</td>\n",
       "      <td>0.00</td>\n",
       "      <td>0.00</td>\n",
       "      <td>0.00</td>\n",
       "      <td>0.00</td>\n",
       "      <td>0.00</td>\n",
       "      <td>0.00</td>\n",
       "      <td>0.00</td>\n",
       "      <td>0.00</td>\n",
       "      <td>0.00</td>\n",
       "    </tr>\n",
       "    <tr>\n",
       "      <th>1985.0</th>\n",
       "      <td>0.00</td>\n",
       "      <td>0.00</td>\n",
       "      <td>0.00</td>\n",
       "      <td>0.00</td>\n",
       "      <td>0.02</td>\n",
       "      <td>0.00</td>\n",
       "      <td>0.00</td>\n",
       "      <td>0.00</td>\n",
       "      <td>0.00</td>\n",
       "      <td>0.04</td>\n",
       "    </tr>\n",
       "    <tr>\n",
       "      <th>1986.0</th>\n",
       "      <td>0.00</td>\n",
       "      <td>0.00</td>\n",
       "      <td>0.00</td>\n",
       "      <td>0.00</td>\n",
       "      <td>0.00</td>\n",
       "      <td>0.00</td>\n",
       "      <td>0.00</td>\n",
       "      <td>0.00</td>\n",
       "      <td>0.00</td>\n",
       "      <td>0.00</td>\n",
       "    </tr>\n",
       "    <tr>\n",
       "      <th>1987.0</th>\n",
       "      <td>0.00</td>\n",
       "      <td>0.00</td>\n",
       "      <td>0.00</td>\n",
       "      <td>0.00</td>\n",
       "      <td>0.00</td>\n",
       "      <td>0.00</td>\n",
       "      <td>0.00</td>\n",
       "      <td>0.00</td>\n",
       "      <td>0.00</td>\n",
       "      <td>0.00</td>\n",
       "    </tr>\n",
       "    <tr>\n",
       "      <th>1988.0</th>\n",
       "      <td>0.00</td>\n",
       "      <td>0.00</td>\n",
       "      <td>0.00</td>\n",
       "      <td>0.00</td>\n",
       "      <td>0.00</td>\n",
       "      <td>0.00</td>\n",
       "      <td>0.00</td>\n",
       "      <td>0.00</td>\n",
       "      <td>0.00</td>\n",
       "      <td>0.03</td>\n",
       "    </tr>\n",
       "    <tr>\n",
       "      <th>1989.0</th>\n",
       "      <td>0.00</td>\n",
       "      <td>0.00</td>\n",
       "      <td>0.00</td>\n",
       "      <td>0.00</td>\n",
       "      <td>0.00</td>\n",
       "      <td>0.00</td>\n",
       "      <td>0.00</td>\n",
       "      <td>0.00</td>\n",
       "      <td>0.00</td>\n",
       "      <td>0.00</td>\n",
       "    </tr>\n",
       "    <tr>\n",
       "      <th>1990.0</th>\n",
       "      <td>0.00</td>\n",
       "      <td>0.00</td>\n",
       "      <td>0.00</td>\n",
       "      <td>0.00</td>\n",
       "      <td>0.00</td>\n",
       "      <td>0.00</td>\n",
       "      <td>0.00</td>\n",
       "      <td>0.00</td>\n",
       "      <td>0.00</td>\n",
       "      <td>0.00</td>\n",
       "    </tr>\n",
       "    <tr>\n",
       "      <th>1991.0</th>\n",
       "      <td>0.00</td>\n",
       "      <td>0.00</td>\n",
       "      <td>0.00</td>\n",
       "      <td>0.00</td>\n",
       "      <td>0.00</td>\n",
       "      <td>0.00</td>\n",
       "      <td>0.00</td>\n",
       "      <td>0.00</td>\n",
       "      <td>0.00</td>\n",
       "      <td>0.00</td>\n",
       "    </tr>\n",
       "    <tr>\n",
       "      <th>1992.0</th>\n",
       "      <td>0.00</td>\n",
       "      <td>0.00</td>\n",
       "      <td>0.00</td>\n",
       "      <td>0.00</td>\n",
       "      <td>0.00</td>\n",
       "      <td>0.00</td>\n",
       "      <td>0.00</td>\n",
       "      <td>0.00</td>\n",
       "      <td>0.00</td>\n",
       "      <td>3.03</td>\n",
       "    </tr>\n",
       "    <tr>\n",
       "      <th>1993.0</th>\n",
       "      <td>0.00</td>\n",
       "      <td>0.00</td>\n",
       "      <td>0.00</td>\n",
       "      <td>0.00</td>\n",
       "      <td>0.00</td>\n",
       "      <td>0.00</td>\n",
       "      <td>0.00</td>\n",
       "      <td>0.00</td>\n",
       "      <td>0.00</td>\n",
       "      <td>0.00</td>\n",
       "    </tr>\n",
       "    <tr>\n",
       "      <th>1994.0</th>\n",
       "      <td>0.00</td>\n",
       "      <td>0.00</td>\n",
       "      <td>0.00</td>\n",
       "      <td>0.00</td>\n",
       "      <td>0.00</td>\n",
       "      <td>6.03</td>\n",
       "      <td>0.00</td>\n",
       "      <td>0.00</td>\n",
       "      <td>0.00</td>\n",
       "      <td>12.87</td>\n",
       "    </tr>\n",
       "    <tr>\n",
       "      <th>1995.0</th>\n",
       "      <td>0.00</td>\n",
       "      <td>0.00</td>\n",
       "      <td>0.00</td>\n",
       "      <td>0.00</td>\n",
       "      <td>0.00</td>\n",
       "      <td>35.96</td>\n",
       "      <td>0.00</td>\n",
       "      <td>0.00</td>\n",
       "      <td>0.00</td>\n",
       "      <td>4.22</td>\n",
       "    </tr>\n",
       "    <tr>\n",
       "      <th>1996.0</th>\n",
       "      <td>0.00</td>\n",
       "      <td>0.00</td>\n",
       "      <td>0.00</td>\n",
       "      <td>0.00</td>\n",
       "      <td>0.00</td>\n",
       "      <td>94.70</td>\n",
       "      <td>0.00</td>\n",
       "      <td>0.00</td>\n",
       "      <td>0.00</td>\n",
       "      <td>10.58</td>\n",
       "    </tr>\n",
       "    <tr>\n",
       "      <th>1997.0</th>\n",
       "      <td>0.00</td>\n",
       "      <td>0.00</td>\n",
       "      <td>0.00</td>\n",
       "      <td>0.00</td>\n",
       "      <td>0.00</td>\n",
       "      <td>136.17</td>\n",
       "      <td>0.00</td>\n",
       "      <td>0.00</td>\n",
       "      <td>0.00</td>\n",
       "      <td>11.27</td>\n",
       "    </tr>\n",
       "    <tr>\n",
       "      <th>1998.0</th>\n",
       "      <td>0.00</td>\n",
       "      <td>0.00</td>\n",
       "      <td>0.00</td>\n",
       "      <td>0.00</td>\n",
       "      <td>0.00</td>\n",
       "      <td>169.49</td>\n",
       "      <td>0.00</td>\n",
       "      <td>0.00</td>\n",
       "      <td>0.00</td>\n",
       "      <td>3.26</td>\n",
       "    </tr>\n",
       "    <tr>\n",
       "      <th>1999.0</th>\n",
       "      <td>0.00</td>\n",
       "      <td>0.00</td>\n",
       "      <td>0.00</td>\n",
       "      <td>0.00</td>\n",
       "      <td>0.00</td>\n",
       "      <td>144.53</td>\n",
       "      <td>0.00</td>\n",
       "      <td>0.00</td>\n",
       "      <td>0.00</td>\n",
       "      <td>4.74</td>\n",
       "    </tr>\n",
       "    <tr>\n",
       "      <th>2000.0</th>\n",
       "      <td>39.17</td>\n",
       "      <td>0.00</td>\n",
       "      <td>0.00</td>\n",
       "      <td>0.00</td>\n",
       "      <td>0.00</td>\n",
       "      <td>96.37</td>\n",
       "      <td>0.07</td>\n",
       "      <td>0.00</td>\n",
       "      <td>0.00</td>\n",
       "      <td>4.66</td>\n",
       "    </tr>\n",
       "    <tr>\n",
       "      <th>2001.0</th>\n",
       "      <td>166.43</td>\n",
       "      <td>0.00</td>\n",
       "      <td>0.00</td>\n",
       "      <td>0.00</td>\n",
       "      <td>0.00</td>\n",
       "      <td>35.59</td>\n",
       "      <td>61.53</td>\n",
       "      <td>0.00</td>\n",
       "      <td>0.00</td>\n",
       "      <td>5.47</td>\n",
       "    </tr>\n",
       "    <tr>\n",
       "      <th>2002.0</th>\n",
       "      <td>205.38</td>\n",
       "      <td>0.00</td>\n",
       "      <td>0.00</td>\n",
       "      <td>0.00</td>\n",
       "      <td>0.00</td>\n",
       "      <td>6.67</td>\n",
       "      <td>74.16</td>\n",
       "      <td>0.00</td>\n",
       "      <td>0.00</td>\n",
       "      <td>8.57</td>\n",
       "    </tr>\n",
       "    <tr>\n",
       "      <th>2003.0</th>\n",
       "      <td>186.77</td>\n",
       "      <td>0.00</td>\n",
       "      <td>0.00</td>\n",
       "      <td>0.00</td>\n",
       "      <td>0.00</td>\n",
       "      <td>2.07</td>\n",
       "      <td>56.67</td>\n",
       "      <td>0.00</td>\n",
       "      <td>0.00</td>\n",
       "      <td>8.84</td>\n",
       "    </tr>\n",
       "    <tr>\n",
       "      <th>2004.0</th>\n",
       "      <td>220.55</td>\n",
       "      <td>0.00</td>\n",
       "      <td>0.00</td>\n",
       "      <td>0.00</td>\n",
       "      <td>17.27</td>\n",
       "      <td>0.00</td>\n",
       "      <td>77.91</td>\n",
       "      <td>0.00</td>\n",
       "      <td>7.06</td>\n",
       "      <td>10.39</td>\n",
       "    </tr>\n",
       "    <tr>\n",
       "      <th>2005.0</th>\n",
       "      <td>160.98</td>\n",
       "      <td>8.25</td>\n",
       "      <td>0.00</td>\n",
       "      <td>0.00</td>\n",
       "      <td>130.14</td>\n",
       "      <td>0.00</td>\n",
       "      <td>33.86</td>\n",
       "      <td>0.00</td>\n",
       "      <td>43.84</td>\n",
       "      <td>4.37</td>\n",
       "    </tr>\n",
       "    <tr>\n",
       "      <th>2006.0</th>\n",
       "      <td>106.46</td>\n",
       "      <td>51.62</td>\n",
       "      <td>20.96</td>\n",
       "      <td>137.15</td>\n",
       "      <td>119.81</td>\n",
       "      <td>0.00</td>\n",
       "      <td>5.28</td>\n",
       "      <td>0.00</td>\n",
       "      <td>55.32</td>\n",
       "      <td>2.85</td>\n",
       "    </tr>\n",
       "    <tr>\n",
       "      <th>2007.0</th>\n",
       "      <td>75.99</td>\n",
       "      <td>95.42</td>\n",
       "      <td>73.19</td>\n",
       "      <td>152.77</td>\n",
       "      <td>146.94</td>\n",
       "      <td>0.00</td>\n",
       "      <td>3.40</td>\n",
       "      <td>0.00</td>\n",
       "      <td>46.93</td>\n",
       "      <td>9.28</td>\n",
       "    </tr>\n",
       "    <tr>\n",
       "      <th>2008.0</th>\n",
       "      <td>53.90</td>\n",
       "      <td>135.26</td>\n",
       "      <td>118.52</td>\n",
       "      <td>171.32</td>\n",
       "      <td>145.32</td>\n",
       "      <td>0.00</td>\n",
       "      <td>0.00</td>\n",
       "      <td>0.00</td>\n",
       "      <td>34.56</td>\n",
       "      <td>12.42</td>\n",
       "    </tr>\n",
       "    <tr>\n",
       "      <th>2009.0</th>\n",
       "      <td>26.40</td>\n",
       "      <td>120.29</td>\n",
       "      <td>130.93</td>\n",
       "      <td>206.97</td>\n",
       "      <td>119.54</td>\n",
       "      <td>0.00</td>\n",
       "      <td>0.00</td>\n",
       "      <td>0.00</td>\n",
       "      <td>38.58</td>\n",
       "      <td>16.91</td>\n",
       "    </tr>\n",
       "    <tr>\n",
       "      <th>2010.0</th>\n",
       "      <td>5.64</td>\n",
       "      <td>170.03</td>\n",
       "      <td>142.17</td>\n",
       "      <td>127.95</td>\n",
       "      <td>85.02</td>\n",
       "      <td>0.00</td>\n",
       "      <td>0.00</td>\n",
       "      <td>0.00</td>\n",
       "      <td>35.04</td>\n",
       "      <td>24.28</td>\n",
       "    </tr>\n",
       "    <tr>\n",
       "      <th>2011.0</th>\n",
       "      <td>0.45</td>\n",
       "      <td>143.89</td>\n",
       "      <td>156.78</td>\n",
       "      <td>59.65</td>\n",
       "      <td>26.18</td>\n",
       "      <td>0.00</td>\n",
       "      <td>0.00</td>\n",
       "      <td>0.00</td>\n",
       "      <td>17.82</td>\n",
       "      <td>35.03</td>\n",
       "    </tr>\n",
       "    <tr>\n",
       "      <th>2012.0</th>\n",
       "      <td>0.00</td>\n",
       "      <td>99.74</td>\n",
       "      <td>107.35</td>\n",
       "      <td>21.71</td>\n",
       "      <td>11.01</td>\n",
       "      <td>0.00</td>\n",
       "      <td>0.00</td>\n",
       "      <td>0.00</td>\n",
       "      <td>7.69</td>\n",
       "      <td>23.22</td>\n",
       "    </tr>\n",
       "    <tr>\n",
       "      <th>2013.0</th>\n",
       "      <td>0.00</td>\n",
       "      <td>88.58</td>\n",
       "      <td>113.25</td>\n",
       "      <td>8.59</td>\n",
       "      <td>1.54</td>\n",
       "      <td>0.00</td>\n",
       "      <td>0.00</td>\n",
       "      <td>25.99</td>\n",
       "      <td>3.14</td>\n",
       "      <td>12.73</td>\n",
       "    </tr>\n",
       "    <tr>\n",
       "      <th>2014.0</th>\n",
       "      <td>0.00</td>\n",
       "      <td>34.74</td>\n",
       "      <td>47.76</td>\n",
       "      <td>3.75</td>\n",
       "      <td>0.00</td>\n",
       "      <td>0.00</td>\n",
       "      <td>0.00</td>\n",
       "      <td>100.00</td>\n",
       "      <td>0.24</td>\n",
       "      <td>13.28</td>\n",
       "    </tr>\n",
       "    <tr>\n",
       "      <th>2015.0</th>\n",
       "      <td>0.00</td>\n",
       "      <td>11.96</td>\n",
       "      <td>16.82</td>\n",
       "      <td>1.14</td>\n",
       "      <td>0.00</td>\n",
       "      <td>0.00</td>\n",
       "      <td>0.00</td>\n",
       "      <td>118.90</td>\n",
       "      <td>0.12</td>\n",
       "      <td>8.52</td>\n",
       "    </tr>\n",
       "    <tr>\n",
       "      <th>2016.0</th>\n",
       "      <td>0.00</td>\n",
       "      <td>1.52</td>\n",
       "      <td>3.60</td>\n",
       "      <td>0.18</td>\n",
       "      <td>0.00</td>\n",
       "      <td>0.00</td>\n",
       "      <td>0.00</td>\n",
       "      <td>69.25</td>\n",
       "      <td>0.00</td>\n",
       "      <td>5.25</td>\n",
       "    </tr>\n",
       "  </tbody>\n",
       "</table>\n",
       "</div>"
      ],
      "text/plain": [
       "platform            PS2    X360     PS3     Wii      DS      PS    GBA  \\\n",
       "year_of_release                                                          \n",
       "1980.0             0.00    0.00    0.00    0.00    0.00    0.00   0.00   \n",
       "1981.0             0.00    0.00    0.00    0.00    0.00    0.00   0.00   \n",
       "1982.0             0.00    0.00    0.00    0.00    0.00    0.00   0.00   \n",
       "1983.0             0.00    0.00    0.00    0.00    0.00    0.00   0.00   \n",
       "1984.0             0.00    0.00    0.00    0.00    0.00    0.00   0.00   \n",
       "1985.0             0.00    0.00    0.00    0.00    0.02    0.00   0.00   \n",
       "1986.0             0.00    0.00    0.00    0.00    0.00    0.00   0.00   \n",
       "1987.0             0.00    0.00    0.00    0.00    0.00    0.00   0.00   \n",
       "1988.0             0.00    0.00    0.00    0.00    0.00    0.00   0.00   \n",
       "1989.0             0.00    0.00    0.00    0.00    0.00    0.00   0.00   \n",
       "1990.0             0.00    0.00    0.00    0.00    0.00    0.00   0.00   \n",
       "1991.0             0.00    0.00    0.00    0.00    0.00    0.00   0.00   \n",
       "1992.0             0.00    0.00    0.00    0.00    0.00    0.00   0.00   \n",
       "1993.0             0.00    0.00    0.00    0.00    0.00    0.00   0.00   \n",
       "1994.0             0.00    0.00    0.00    0.00    0.00    6.03   0.00   \n",
       "1995.0             0.00    0.00    0.00    0.00    0.00   35.96   0.00   \n",
       "1996.0             0.00    0.00    0.00    0.00    0.00   94.70   0.00   \n",
       "1997.0             0.00    0.00    0.00    0.00    0.00  136.17   0.00   \n",
       "1998.0             0.00    0.00    0.00    0.00    0.00  169.49   0.00   \n",
       "1999.0             0.00    0.00    0.00    0.00    0.00  144.53   0.00   \n",
       "2000.0            39.17    0.00    0.00    0.00    0.00   96.37   0.07   \n",
       "2001.0           166.43    0.00    0.00    0.00    0.00   35.59  61.53   \n",
       "2002.0           205.38    0.00    0.00    0.00    0.00    6.67  74.16   \n",
       "2003.0           186.77    0.00    0.00    0.00    0.00    2.07  56.67   \n",
       "2004.0           220.55    0.00    0.00    0.00   17.27    0.00  77.91   \n",
       "2005.0           160.98    8.25    0.00    0.00  130.14    0.00  33.86   \n",
       "2006.0           106.46   51.62   20.96  137.15  119.81    0.00   5.28   \n",
       "2007.0            75.99   95.42   73.19  152.77  146.94    0.00   3.40   \n",
       "2008.0            53.90  135.26  118.52  171.32  145.32    0.00   0.00   \n",
       "2009.0            26.40  120.29  130.93  206.97  119.54    0.00   0.00   \n",
       "2010.0             5.64  170.03  142.17  127.95   85.02    0.00   0.00   \n",
       "2011.0             0.45  143.89  156.78   59.65   26.18    0.00   0.00   \n",
       "2012.0             0.00   99.74  107.35   21.71   11.01    0.00   0.00   \n",
       "2013.0             0.00   88.58  113.25    8.59    1.54    0.00   0.00   \n",
       "2014.0             0.00   34.74   47.76    3.75    0.00    0.00   0.00   \n",
       "2015.0             0.00   11.96   16.82    1.14    0.00    0.00   0.00   \n",
       "2016.0             0.00    1.52    3.60    0.18    0.00    0.00   0.00   \n",
       "\n",
       "platform            PS4    PSP     PC  \n",
       "year_of_release                        \n",
       "1980.0             0.00   0.00   0.00  \n",
       "1981.0             0.00   0.00   0.00  \n",
       "1982.0             0.00   0.00   0.00  \n",
       "1983.0             0.00   0.00   0.00  \n",
       "1984.0             0.00   0.00   0.00  \n",
       "1985.0             0.00   0.00   0.04  \n",
       "1986.0             0.00   0.00   0.00  \n",
       "1987.0             0.00   0.00   0.00  \n",
       "1988.0             0.00   0.00   0.03  \n",
       "1989.0             0.00   0.00   0.00  \n",
       "1990.0             0.00   0.00   0.00  \n",
       "1991.0             0.00   0.00   0.00  \n",
       "1992.0             0.00   0.00   3.03  \n",
       "1993.0             0.00   0.00   0.00  \n",
       "1994.0             0.00   0.00  12.87  \n",
       "1995.0             0.00   0.00   4.22  \n",
       "1996.0             0.00   0.00  10.58  \n",
       "1997.0             0.00   0.00  11.27  \n",
       "1998.0             0.00   0.00   3.26  \n",
       "1999.0             0.00   0.00   4.74  \n",
       "2000.0             0.00   0.00   4.66  \n",
       "2001.0             0.00   0.00   5.47  \n",
       "2002.0             0.00   0.00   8.57  \n",
       "2003.0             0.00   0.00   8.84  \n",
       "2004.0             0.00   7.06  10.39  \n",
       "2005.0             0.00  43.84   4.37  \n",
       "2006.0             0.00  55.32   2.85  \n",
       "2007.0             0.00  46.93   9.28  \n",
       "2008.0             0.00  34.56  12.42  \n",
       "2009.0             0.00  38.58  16.91  \n",
       "2010.0             0.00  35.04  24.28  \n",
       "2011.0             0.00  17.82  35.03  \n",
       "2012.0             0.00   7.69  23.22  \n",
       "2013.0            25.99   3.14  12.73  \n",
       "2014.0           100.00   0.24  13.28  \n",
       "2015.0           118.90   0.12   8.52  \n",
       "2016.0            69.25   0.00   5.25  "
      ]
     },
     "execution_count": 27,
     "metadata": {},
     "output_type": "execute_result"
    }
   ],
   "source": [
    "top_plot_data = plot_data[['PS2', 'X360', 'PS3', 'Wii', 'DS', 'PS', 'GBA', 'PS4', 'PSP', 'PC']]\n",
    "top_plot_data"
   ]
  },
  {
   "cell_type": "code",
   "execution_count": 28,
   "id": "a894344a",
   "metadata": {},
   "outputs": [
    {
     "data": {
      "text/html": [
       "<div>\n",
       "<style scoped>\n",
       "    .dataframe tbody tr th:only-of-type {\n",
       "        vertical-align: middle;\n",
       "    }\n",
       "\n",
       "    .dataframe tbody tr th {\n",
       "        vertical-align: top;\n",
       "    }\n",
       "\n",
       "    .dataframe thead th {\n",
       "        text-align: right;\n",
       "    }\n",
       "</style>\n",
       "<table border=\"1\" class=\"dataframe\">\n",
       "  <thead>\n",
       "    <tr style=\"text-align: right;\">\n",
       "      <th>platform</th>\n",
       "      <th>PS2</th>\n",
       "      <th>X360</th>\n",
       "      <th>PS3</th>\n",
       "      <th>Wii</th>\n",
       "      <th>DS</th>\n",
       "      <th>PS</th>\n",
       "      <th>GBA</th>\n",
       "      <th>PS4</th>\n",
       "      <th>PSP</th>\n",
       "      <th>PC</th>\n",
       "    </tr>\n",
       "    <tr>\n",
       "      <th>year_of_release</th>\n",
       "      <th></th>\n",
       "      <th></th>\n",
       "      <th></th>\n",
       "      <th></th>\n",
       "      <th></th>\n",
       "      <th></th>\n",
       "      <th></th>\n",
       "      <th></th>\n",
       "      <th></th>\n",
       "      <th></th>\n",
       "    </tr>\n",
       "  </thead>\n",
       "  <tbody>\n",
       "    <tr>\n",
       "      <th>1980.0</th>\n",
       "      <td>0.00</td>\n",
       "      <td>0.00</td>\n",
       "      <td>0.00</td>\n",
       "      <td>0.00</td>\n",
       "      <td>0.00</td>\n",
       "      <td>0.00</td>\n",
       "      <td>0.00</td>\n",
       "      <td>0.00</td>\n",
       "      <td>0.00</td>\n",
       "      <td>0.00</td>\n",
       "    </tr>\n",
       "    <tr>\n",
       "      <th>1981.0</th>\n",
       "      <td>0.00</td>\n",
       "      <td>0.00</td>\n",
       "      <td>0.00</td>\n",
       "      <td>0.00</td>\n",
       "      <td>0.00</td>\n",
       "      <td>0.00</td>\n",
       "      <td>0.00</td>\n",
       "      <td>0.00</td>\n",
       "      <td>0.00</td>\n",
       "      <td>0.00</td>\n",
       "    </tr>\n",
       "    <tr>\n",
       "      <th>1982.0</th>\n",
       "      <td>0.00</td>\n",
       "      <td>0.00</td>\n",
       "      <td>0.00</td>\n",
       "      <td>0.00</td>\n",
       "      <td>0.00</td>\n",
       "      <td>0.00</td>\n",
       "      <td>0.00</td>\n",
       "      <td>0.00</td>\n",
       "      <td>0.00</td>\n",
       "      <td>0.00</td>\n",
       "    </tr>\n",
       "    <tr>\n",
       "      <th>1983.0</th>\n",
       "      <td>0.00</td>\n",
       "      <td>0.00</td>\n",
       "      <td>0.00</td>\n",
       "      <td>0.00</td>\n",
       "      <td>0.00</td>\n",
       "      <td>0.00</td>\n",
       "      <td>0.00</td>\n",
       "      <td>0.00</td>\n",
       "      <td>0.00</td>\n",
       "      <td>0.00</td>\n",
       "    </tr>\n",
       "    <tr>\n",
       "      <th>1984.0</th>\n",
       "      <td>0.00</td>\n",
       "      <td>0.00</td>\n",
       "      <td>0.00</td>\n",
       "      <td>0.00</td>\n",
       "      <td>0.00</td>\n",
       "      <td>0.00</td>\n",
       "      <td>0.00</td>\n",
       "      <td>0.00</td>\n",
       "      <td>0.00</td>\n",
       "      <td>0.00</td>\n",
       "    </tr>\n",
       "    <tr>\n",
       "      <th>1985.0</th>\n",
       "      <td>0.00</td>\n",
       "      <td>0.00</td>\n",
       "      <td>0.00</td>\n",
       "      <td>0.00</td>\n",
       "      <td>0.02</td>\n",
       "      <td>0.00</td>\n",
       "      <td>0.00</td>\n",
       "      <td>0.00</td>\n",
       "      <td>0.00</td>\n",
       "      <td>0.04</td>\n",
       "    </tr>\n",
       "    <tr>\n",
       "      <th>1986.0</th>\n",
       "      <td>0.00</td>\n",
       "      <td>0.00</td>\n",
       "      <td>0.00</td>\n",
       "      <td>0.00</td>\n",
       "      <td>0.00</td>\n",
       "      <td>0.00</td>\n",
       "      <td>0.00</td>\n",
       "      <td>0.00</td>\n",
       "      <td>0.00</td>\n",
       "      <td>0.00</td>\n",
       "    </tr>\n",
       "    <tr>\n",
       "      <th>1987.0</th>\n",
       "      <td>0.00</td>\n",
       "      <td>0.00</td>\n",
       "      <td>0.00</td>\n",
       "      <td>0.00</td>\n",
       "      <td>0.00</td>\n",
       "      <td>0.00</td>\n",
       "      <td>0.00</td>\n",
       "      <td>0.00</td>\n",
       "      <td>0.00</td>\n",
       "      <td>0.00</td>\n",
       "    </tr>\n",
       "    <tr>\n",
       "      <th>1988.0</th>\n",
       "      <td>0.00</td>\n",
       "      <td>0.00</td>\n",
       "      <td>0.00</td>\n",
       "      <td>0.00</td>\n",
       "      <td>0.00</td>\n",
       "      <td>0.00</td>\n",
       "      <td>0.00</td>\n",
       "      <td>0.00</td>\n",
       "      <td>0.00</td>\n",
       "      <td>0.03</td>\n",
       "    </tr>\n",
       "    <tr>\n",
       "      <th>1989.0</th>\n",
       "      <td>0.00</td>\n",
       "      <td>0.00</td>\n",
       "      <td>0.00</td>\n",
       "      <td>0.00</td>\n",
       "      <td>0.00</td>\n",
       "      <td>0.00</td>\n",
       "      <td>0.00</td>\n",
       "      <td>0.00</td>\n",
       "      <td>0.00</td>\n",
       "      <td>0.00</td>\n",
       "    </tr>\n",
       "    <tr>\n",
       "      <th>1990.0</th>\n",
       "      <td>0.00</td>\n",
       "      <td>0.00</td>\n",
       "      <td>0.00</td>\n",
       "      <td>0.00</td>\n",
       "      <td>0.00</td>\n",
       "      <td>0.00</td>\n",
       "      <td>0.00</td>\n",
       "      <td>0.00</td>\n",
       "      <td>0.00</td>\n",
       "      <td>0.00</td>\n",
       "    </tr>\n",
       "    <tr>\n",
       "      <th>1991.0</th>\n",
       "      <td>0.00</td>\n",
       "      <td>0.00</td>\n",
       "      <td>0.00</td>\n",
       "      <td>0.00</td>\n",
       "      <td>0.00</td>\n",
       "      <td>0.00</td>\n",
       "      <td>0.00</td>\n",
       "      <td>0.00</td>\n",
       "      <td>0.00</td>\n",
       "      <td>0.00</td>\n",
       "    </tr>\n",
       "    <tr>\n",
       "      <th>1992.0</th>\n",
       "      <td>0.00</td>\n",
       "      <td>0.00</td>\n",
       "      <td>0.00</td>\n",
       "      <td>0.00</td>\n",
       "      <td>0.00</td>\n",
       "      <td>0.00</td>\n",
       "      <td>0.00</td>\n",
       "      <td>0.00</td>\n",
       "      <td>0.00</td>\n",
       "      <td>3.03</td>\n",
       "    </tr>\n",
       "    <tr>\n",
       "      <th>1993.0</th>\n",
       "      <td>0.00</td>\n",
       "      <td>0.00</td>\n",
       "      <td>0.00</td>\n",
       "      <td>0.00</td>\n",
       "      <td>0.00</td>\n",
       "      <td>0.00</td>\n",
       "      <td>0.00</td>\n",
       "      <td>0.00</td>\n",
       "      <td>0.00</td>\n",
       "      <td>0.00</td>\n",
       "    </tr>\n",
       "    <tr>\n",
       "      <th>1994.0</th>\n",
       "      <td>0.00</td>\n",
       "      <td>0.00</td>\n",
       "      <td>0.00</td>\n",
       "      <td>0.00</td>\n",
       "      <td>0.00</td>\n",
       "      <td>6.03</td>\n",
       "      <td>0.00</td>\n",
       "      <td>0.00</td>\n",
       "      <td>0.00</td>\n",
       "      <td>12.87</td>\n",
       "    </tr>\n",
       "    <tr>\n",
       "      <th>1995.0</th>\n",
       "      <td>0.00</td>\n",
       "      <td>0.00</td>\n",
       "      <td>0.00</td>\n",
       "      <td>0.00</td>\n",
       "      <td>0.00</td>\n",
       "      <td>35.96</td>\n",
       "      <td>0.00</td>\n",
       "      <td>0.00</td>\n",
       "      <td>0.00</td>\n",
       "      <td>4.22</td>\n",
       "    </tr>\n",
       "    <tr>\n",
       "      <th>1996.0</th>\n",
       "      <td>0.00</td>\n",
       "      <td>0.00</td>\n",
       "      <td>0.00</td>\n",
       "      <td>0.00</td>\n",
       "      <td>0.00</td>\n",
       "      <td>94.70</td>\n",
       "      <td>0.00</td>\n",
       "      <td>0.00</td>\n",
       "      <td>0.00</td>\n",
       "      <td>10.58</td>\n",
       "    </tr>\n",
       "    <tr>\n",
       "      <th>1997.0</th>\n",
       "      <td>0.00</td>\n",
       "      <td>0.00</td>\n",
       "      <td>0.00</td>\n",
       "      <td>0.00</td>\n",
       "      <td>0.00</td>\n",
       "      <td>136.17</td>\n",
       "      <td>0.00</td>\n",
       "      <td>0.00</td>\n",
       "      <td>0.00</td>\n",
       "      <td>11.27</td>\n",
       "    </tr>\n",
       "    <tr>\n",
       "      <th>1998.0</th>\n",
       "      <td>0.00</td>\n",
       "      <td>0.00</td>\n",
       "      <td>0.00</td>\n",
       "      <td>0.00</td>\n",
       "      <td>0.00</td>\n",
       "      <td>169.49</td>\n",
       "      <td>0.00</td>\n",
       "      <td>0.00</td>\n",
       "      <td>0.00</td>\n",
       "      <td>3.26</td>\n",
       "    </tr>\n",
       "    <tr>\n",
       "      <th>1999.0</th>\n",
       "      <td>0.00</td>\n",
       "      <td>0.00</td>\n",
       "      <td>0.00</td>\n",
       "      <td>0.00</td>\n",
       "      <td>0.00</td>\n",
       "      <td>144.53</td>\n",
       "      <td>0.00</td>\n",
       "      <td>0.00</td>\n",
       "      <td>0.00</td>\n",
       "      <td>4.74</td>\n",
       "    </tr>\n",
       "    <tr>\n",
       "      <th>2000.0</th>\n",
       "      <td>39.17</td>\n",
       "      <td>0.00</td>\n",
       "      <td>0.00</td>\n",
       "      <td>0.00</td>\n",
       "      <td>0.00</td>\n",
       "      <td>96.37</td>\n",
       "      <td>0.07</td>\n",
       "      <td>0.00</td>\n",
       "      <td>0.00</td>\n",
       "      <td>4.66</td>\n",
       "    </tr>\n",
       "    <tr>\n",
       "      <th>2001.0</th>\n",
       "      <td>166.43</td>\n",
       "      <td>0.00</td>\n",
       "      <td>0.00</td>\n",
       "      <td>0.00</td>\n",
       "      <td>0.00</td>\n",
       "      <td>35.59</td>\n",
       "      <td>61.53</td>\n",
       "      <td>0.00</td>\n",
       "      <td>0.00</td>\n",
       "      <td>5.47</td>\n",
       "    </tr>\n",
       "    <tr>\n",
       "      <th>2002.0</th>\n",
       "      <td>205.38</td>\n",
       "      <td>0.00</td>\n",
       "      <td>0.00</td>\n",
       "      <td>0.00</td>\n",
       "      <td>0.00</td>\n",
       "      <td>6.67</td>\n",
       "      <td>74.16</td>\n",
       "      <td>0.00</td>\n",
       "      <td>0.00</td>\n",
       "      <td>8.57</td>\n",
       "    </tr>\n",
       "    <tr>\n",
       "      <th>2003.0</th>\n",
       "      <td>186.77</td>\n",
       "      <td>0.00</td>\n",
       "      <td>0.00</td>\n",
       "      <td>0.00</td>\n",
       "      <td>0.00</td>\n",
       "      <td>2.07</td>\n",
       "      <td>56.67</td>\n",
       "      <td>0.00</td>\n",
       "      <td>0.00</td>\n",
       "      <td>8.84</td>\n",
       "    </tr>\n",
       "    <tr>\n",
       "      <th>2004.0</th>\n",
       "      <td>220.55</td>\n",
       "      <td>0.00</td>\n",
       "      <td>0.00</td>\n",
       "      <td>0.00</td>\n",
       "      <td>17.27</td>\n",
       "      <td>0.00</td>\n",
       "      <td>77.91</td>\n",
       "      <td>0.00</td>\n",
       "      <td>7.06</td>\n",
       "      <td>10.39</td>\n",
       "    </tr>\n",
       "    <tr>\n",
       "      <th>2005.0</th>\n",
       "      <td>160.98</td>\n",
       "      <td>8.25</td>\n",
       "      <td>0.00</td>\n",
       "      <td>0.00</td>\n",
       "      <td>130.14</td>\n",
       "      <td>0.00</td>\n",
       "      <td>33.86</td>\n",
       "      <td>0.00</td>\n",
       "      <td>43.84</td>\n",
       "      <td>4.37</td>\n",
       "    </tr>\n",
       "    <tr>\n",
       "      <th>2006.0</th>\n",
       "      <td>106.46</td>\n",
       "      <td>51.62</td>\n",
       "      <td>20.96</td>\n",
       "      <td>137.15</td>\n",
       "      <td>119.81</td>\n",
       "      <td>0.00</td>\n",
       "      <td>5.28</td>\n",
       "      <td>0.00</td>\n",
       "      <td>55.32</td>\n",
       "      <td>2.85</td>\n",
       "    </tr>\n",
       "    <tr>\n",
       "      <th>2007.0</th>\n",
       "      <td>75.99</td>\n",
       "      <td>95.42</td>\n",
       "      <td>73.19</td>\n",
       "      <td>152.77</td>\n",
       "      <td>146.94</td>\n",
       "      <td>0.00</td>\n",
       "      <td>3.40</td>\n",
       "      <td>0.00</td>\n",
       "      <td>46.93</td>\n",
       "      <td>9.28</td>\n",
       "    </tr>\n",
       "    <tr>\n",
       "      <th>2008.0</th>\n",
       "      <td>53.90</td>\n",
       "      <td>135.26</td>\n",
       "      <td>118.52</td>\n",
       "      <td>171.32</td>\n",
       "      <td>145.32</td>\n",
       "      <td>0.00</td>\n",
       "      <td>0.00</td>\n",
       "      <td>0.00</td>\n",
       "      <td>34.56</td>\n",
       "      <td>12.42</td>\n",
       "    </tr>\n",
       "    <tr>\n",
       "      <th>2009.0</th>\n",
       "      <td>26.40</td>\n",
       "      <td>120.29</td>\n",
       "      <td>130.93</td>\n",
       "      <td>206.97</td>\n",
       "      <td>119.54</td>\n",
       "      <td>0.00</td>\n",
       "      <td>0.00</td>\n",
       "      <td>0.00</td>\n",
       "      <td>38.58</td>\n",
       "      <td>16.91</td>\n",
       "    </tr>\n",
       "    <tr>\n",
       "      <th>2010.0</th>\n",
       "      <td>5.64</td>\n",
       "      <td>170.03</td>\n",
       "      <td>142.17</td>\n",
       "      <td>127.95</td>\n",
       "      <td>85.02</td>\n",
       "      <td>0.00</td>\n",
       "      <td>0.00</td>\n",
       "      <td>0.00</td>\n",
       "      <td>35.04</td>\n",
       "      <td>24.28</td>\n",
       "    </tr>\n",
       "    <tr>\n",
       "      <th>2011.0</th>\n",
       "      <td>0.45</td>\n",
       "      <td>143.89</td>\n",
       "      <td>156.78</td>\n",
       "      <td>59.65</td>\n",
       "      <td>26.18</td>\n",
       "      <td>0.00</td>\n",
       "      <td>0.00</td>\n",
       "      <td>0.00</td>\n",
       "      <td>17.82</td>\n",
       "      <td>35.03</td>\n",
       "    </tr>\n",
       "    <tr>\n",
       "      <th>2012.0</th>\n",
       "      <td>0.00</td>\n",
       "      <td>99.74</td>\n",
       "      <td>107.35</td>\n",
       "      <td>21.71</td>\n",
       "      <td>11.01</td>\n",
       "      <td>0.00</td>\n",
       "      <td>0.00</td>\n",
       "      <td>0.00</td>\n",
       "      <td>7.69</td>\n",
       "      <td>23.22</td>\n",
       "    </tr>\n",
       "    <tr>\n",
       "      <th>2013.0</th>\n",
       "      <td>0.00</td>\n",
       "      <td>88.58</td>\n",
       "      <td>113.25</td>\n",
       "      <td>8.59</td>\n",
       "      <td>1.54</td>\n",
       "      <td>0.00</td>\n",
       "      <td>0.00</td>\n",
       "      <td>25.99</td>\n",
       "      <td>3.14</td>\n",
       "      <td>12.73</td>\n",
       "    </tr>\n",
       "    <tr>\n",
       "      <th>2014.0</th>\n",
       "      <td>0.00</td>\n",
       "      <td>34.74</td>\n",
       "      <td>47.76</td>\n",
       "      <td>3.75</td>\n",
       "      <td>0.00</td>\n",
       "      <td>0.00</td>\n",
       "      <td>0.00</td>\n",
       "      <td>100.00</td>\n",
       "      <td>0.24</td>\n",
       "      <td>13.28</td>\n",
       "    </tr>\n",
       "    <tr>\n",
       "      <th>2015.0</th>\n",
       "      <td>0.00</td>\n",
       "      <td>11.96</td>\n",
       "      <td>16.82</td>\n",
       "      <td>1.14</td>\n",
       "      <td>0.00</td>\n",
       "      <td>0.00</td>\n",
       "      <td>0.00</td>\n",
       "      <td>118.90</td>\n",
       "      <td>0.12</td>\n",
       "      <td>8.52</td>\n",
       "    </tr>\n",
       "    <tr>\n",
       "      <th>2016.0</th>\n",
       "      <td>0.00</td>\n",
       "      <td>1.52</td>\n",
       "      <td>3.60</td>\n",
       "      <td>0.18</td>\n",
       "      <td>0.00</td>\n",
       "      <td>0.00</td>\n",
       "      <td>0.00</td>\n",
       "      <td>69.25</td>\n",
       "      <td>0.00</td>\n",
       "      <td>5.25</td>\n",
       "    </tr>\n",
       "  </tbody>\n",
       "</table>\n",
       "</div>"
      ],
      "text/plain": [
       "platform            PS2    X360     PS3     Wii      DS      PS    GBA  \\\n",
       "year_of_release                                                          \n",
       "1980.0             0.00    0.00    0.00    0.00    0.00    0.00   0.00   \n",
       "1981.0             0.00    0.00    0.00    0.00    0.00    0.00   0.00   \n",
       "1982.0             0.00    0.00    0.00    0.00    0.00    0.00   0.00   \n",
       "1983.0             0.00    0.00    0.00    0.00    0.00    0.00   0.00   \n",
       "1984.0             0.00    0.00    0.00    0.00    0.00    0.00   0.00   \n",
       "1985.0             0.00    0.00    0.00    0.00    0.02    0.00   0.00   \n",
       "1986.0             0.00    0.00    0.00    0.00    0.00    0.00   0.00   \n",
       "1987.0             0.00    0.00    0.00    0.00    0.00    0.00   0.00   \n",
       "1988.0             0.00    0.00    0.00    0.00    0.00    0.00   0.00   \n",
       "1989.0             0.00    0.00    0.00    0.00    0.00    0.00   0.00   \n",
       "1990.0             0.00    0.00    0.00    0.00    0.00    0.00   0.00   \n",
       "1991.0             0.00    0.00    0.00    0.00    0.00    0.00   0.00   \n",
       "1992.0             0.00    0.00    0.00    0.00    0.00    0.00   0.00   \n",
       "1993.0             0.00    0.00    0.00    0.00    0.00    0.00   0.00   \n",
       "1994.0             0.00    0.00    0.00    0.00    0.00    6.03   0.00   \n",
       "1995.0             0.00    0.00    0.00    0.00    0.00   35.96   0.00   \n",
       "1996.0             0.00    0.00    0.00    0.00    0.00   94.70   0.00   \n",
       "1997.0             0.00    0.00    0.00    0.00    0.00  136.17   0.00   \n",
       "1998.0             0.00    0.00    0.00    0.00    0.00  169.49   0.00   \n",
       "1999.0             0.00    0.00    0.00    0.00    0.00  144.53   0.00   \n",
       "2000.0            39.17    0.00    0.00    0.00    0.00   96.37   0.07   \n",
       "2001.0           166.43    0.00    0.00    0.00    0.00   35.59  61.53   \n",
       "2002.0           205.38    0.00    0.00    0.00    0.00    6.67  74.16   \n",
       "2003.0           186.77    0.00    0.00    0.00    0.00    2.07  56.67   \n",
       "2004.0           220.55    0.00    0.00    0.00   17.27    0.00  77.91   \n",
       "2005.0           160.98    8.25    0.00    0.00  130.14    0.00  33.86   \n",
       "2006.0           106.46   51.62   20.96  137.15  119.81    0.00   5.28   \n",
       "2007.0            75.99   95.42   73.19  152.77  146.94    0.00   3.40   \n",
       "2008.0            53.90  135.26  118.52  171.32  145.32    0.00   0.00   \n",
       "2009.0            26.40  120.29  130.93  206.97  119.54    0.00   0.00   \n",
       "2010.0             5.64  170.03  142.17  127.95   85.02    0.00   0.00   \n",
       "2011.0             0.45  143.89  156.78   59.65   26.18    0.00   0.00   \n",
       "2012.0             0.00   99.74  107.35   21.71   11.01    0.00   0.00   \n",
       "2013.0             0.00   88.58  113.25    8.59    1.54    0.00   0.00   \n",
       "2014.0             0.00   34.74   47.76    3.75    0.00    0.00   0.00   \n",
       "2015.0             0.00   11.96   16.82    1.14    0.00    0.00   0.00   \n",
       "2016.0             0.00    1.52    3.60    0.18    0.00    0.00   0.00   \n",
       "\n",
       "platform            PS4    PSP     PC  \n",
       "year_of_release                        \n",
       "1980.0             0.00   0.00   0.00  \n",
       "1981.0             0.00   0.00   0.00  \n",
       "1982.0             0.00   0.00   0.00  \n",
       "1983.0             0.00   0.00   0.00  \n",
       "1984.0             0.00   0.00   0.00  \n",
       "1985.0             0.00   0.00   0.04  \n",
       "1986.0             0.00   0.00   0.00  \n",
       "1987.0             0.00   0.00   0.00  \n",
       "1988.0             0.00   0.00   0.03  \n",
       "1989.0             0.00   0.00   0.00  \n",
       "1990.0             0.00   0.00   0.00  \n",
       "1991.0             0.00   0.00   0.00  \n",
       "1992.0             0.00   0.00   3.03  \n",
       "1993.0             0.00   0.00   0.00  \n",
       "1994.0             0.00   0.00  12.87  \n",
       "1995.0             0.00   0.00   4.22  \n",
       "1996.0             0.00   0.00  10.58  \n",
       "1997.0             0.00   0.00  11.27  \n",
       "1998.0             0.00   0.00   3.26  \n",
       "1999.0             0.00   0.00   4.74  \n",
       "2000.0             0.00   0.00   4.66  \n",
       "2001.0             0.00   0.00   5.47  \n",
       "2002.0             0.00   0.00   8.57  \n",
       "2003.0             0.00   0.00   8.84  \n",
       "2004.0             0.00   7.06  10.39  \n",
       "2005.0             0.00  43.84   4.37  \n",
       "2006.0             0.00  55.32   2.85  \n",
       "2007.0             0.00  46.93   9.28  \n",
       "2008.0             0.00  34.56  12.42  \n",
       "2009.0             0.00  38.58  16.91  \n",
       "2010.0             0.00  35.04  24.28  \n",
       "2011.0             0.00  17.82  35.03  \n",
       "2012.0             0.00   7.69  23.22  \n",
       "2013.0            25.99   3.14  12.73  \n",
       "2014.0           100.00   0.24  13.28  \n",
       "2015.0           118.90   0.12   8.52  \n",
       "2016.0            69.25   0.00   5.25  "
      ]
     },
     "execution_count": 28,
     "metadata": {},
     "output_type": "execute_result"
    }
   ],
   "source": [
    "top_plot_data"
   ]
  },
  {
   "cell_type": "code",
   "execution_count": 29,
   "id": "653530ef",
   "metadata": {},
   "outputs": [
    {
     "data": {
      "image/png": "[encoded data removed]",
      "text/plain": [
       "<Figure size 1224x720 with 1 Axes>"
      ]
     },
     "metadata": {
      "needs_background": "light"
     },
     "output_type": "display_data"
    }
   ],
   "source": [
    "#Построим график распределение продах по годам среди ТОП-10 самых популярных платформ\n",
    "fig = plt.figure(figsize=(17,10))\n",
    "ax = fig.add_subplot(111)\n",
    "ax.plot(top_plot_data,label = top_plot_data.columns)\n",
    "ax.set_xlim(1990, 2018)\n",
    "ax.legend(top_plot_data.columns)\n",
    "fig.show()"
   ]
  },
  {
   "cell_type": "code",
   "execution_count": 30,
   "id": "3cde0c68",
   "metadata": {},
   "outputs": [
    {
     "data": {
      "text/plain": [
       "7.0"
      ]
     },
     "execution_count": 30,
     "metadata": {},
     "output_type": "execute_result"
    }
   ],
   "source": [
    "#Рассчитаем медианный сок присутствия платфорым на рынке\n",
    "games.groupby('platform')['year_of_release'].nunique().median()"
   ]
  },
  {
   "cell_type": "code",
   "execution_count": 31,
   "id": "22a5b959",
   "metadata": {},
   "outputs": [
    {
     "data": {
      "image/png": "[encoded data removed]",
      "text/plain": [
       "<Figure size 720x864 with 2 Axes>"
      ]
     },
     "metadata": {
      "needs_background": "light"
     },
     "output_type": "display_data"
    }
   ],
   "source": [
    "plt.figure(figsize = (10,12))\n",
    "ax = sns.heatmap(top_plot_data)\n"
   ]
  },
  {
   "cell_type": "markdown",
   "id": "721dc724",
   "metadata": {},
   "source": [
    "Как видно на графиках и из расчетов, жизненный цикл платформ составляет порядка 7 лет. PlayStation выпусказал новое поколение совей платформы примерно каждые шесть лет: в 1994, 2000, 2006 и 2013 годах. Nintendo между запусками GameBoy Advance и Nintendo DS прошло порядка 4 года, и их жизненный цикл составлял 5-7 лет. \n"
   ]
  },
  {
   "cell_type": "markdown",
   "id": "01929707",
   "metadata": {},
   "source": [
    "### Анализ данных актуального периода <a class =\"anchor\" id=\"chapter3.2\"></a>"
   ]
  },
  {
   "cell_type": "code",
   "execution_count": 32,
   "id": "38e199ad",
   "metadata": {},
   "outputs": [],
   "source": [
    "actual_plot_data = plot_data"
   ]
  },
  {
   "cell_type": "code",
   "execution_count": 33,
   "id": "4e664932",
   "metadata": {
    "scrolled": true
   },
   "outputs": [
    {
     "data": {
      "text/plain": [
       "['3DS', 'DS', 'PC', 'PS3', 'PS4', 'PSP', 'PSV', 'Wii', 'WiiU', 'X360', 'XOne']"
      ]
     },
     "execution_count": 33,
     "metadata": {},
     "output_type": "execute_result"
    }
   ],
   "source": [
    "#С учетом выхода продаж игр на плато в 2012 году, ограничим этой датой актуальный период\n",
    "\n",
    "actual_plot_data = plot_data\n",
    "actual_plot_data = actual_plot_data.query('year_of_release > 2011')\n",
    "actual_platforms = actual_plot_data.sum().reset_index() \n",
    "actual_platforms.columns = ['platform', 'sells']\n",
    "actual_platforms = actual_platforms.query('sells > 0')\n",
    "actual_platform_list = actual_platforms['platform'].tolist()\n",
    "\n",
    "actual_platform_list"
   ]
  },
  {
   "cell_type": "code",
   "execution_count": 34,
   "id": "46a20078",
   "metadata": {},
   "outputs": [],
   "source": [
    "actual_plot_data = actual_plot_data[['3DS',\n",
    " 'DS',\n",
    " 'PC',\n",
    " 'PS3',\n",
    " 'PS4',\n",
    " 'PSP',\n",
    " 'PSV',\n",
    " 'Wii',\n",
    " 'WiiU',\n",
    " 'X360',\n",
    " 'XOne']]"
   ]
  },
  {
   "cell_type": "code",
   "execution_count": 35,
   "id": "c07c9ab0",
   "metadata": {
    "scrolled": true
   },
   "outputs": [
    {
     "data": {
      "image/png": "[encoded data removed]",
      "text/plain": [
       "<Figure size 1224x720 with 1 Axes>"
      ]
     },
     "metadata": {
      "needs_background": "light"
     },
     "output_type": "display_data"
    }
   ],
   "source": [
    "#Построим графики и изучим данные по всем платформам с 2012 года, обрезав 2016 год, так как по нему очевидно неполные годовые данные\n",
    "\n",
    "fig = plt.figure(figsize=(17,10))\n",
    "ax = fig.add_subplot(111)\n",
    "ax.plot(actual_plot_data)\n",
    "ax.set_xlim(2012, 2015)\n",
    "ax.legend(actual_plot_data)\n",
    "fig.show()"
   ]
  },
  {
   "cell_type": "markdown",
   "id": "85815165",
   "metadata": {},
   "source": [
    "**К числу растущих платформ можно отнести PS4 и XOne**, которые стартовали в 2013 года и стремятся к пику своего жизненного цикла. X360 и PS3, лидировавшие в начале 2010-х, находятся в завершающей стадии своего жизненного цикла и показывают динамичный спад продаж. 3DS все еще показывает существенные продажи, заметен выраженный ниспадающий тренд. WiiU достигла своего пика в 2014 году и уже уже по итогам 2015 года был заметный спад продаж, который, вероятно, продолжится по итогам 2016 года и в 2017-м."
   ]
  },
  {
   "cell_type": "code",
   "execution_count": 36,
   "id": "a9cdc267",
   "metadata": {},
   "outputs": [],
   "source": [
    "#Обрежем стартовый датафрейм по актуальному периоду и платформам\n",
    "actual_games = games.query('year_of_release > 2011')\n",
    "actual_games = actual_games[(games['platform'].isin(actual_platform_list))]\n"
   ]
  },
  {
   "cell_type": "code",
   "execution_count": 37,
   "id": "636f29bd",
   "metadata": {},
   "outputs": [
    {
     "data": {
      "image/png": "[encoded data removed]",
      "text/plain": [
       "<Figure size 864x360 with 1 Axes>"
      ]
     },
     "metadata": {
      "needs_background": "light"
     },
     "output_type": "display_data"
    },
    {
     "data": {
      "image/png": "[encoded data removed]",
      "text/plain": [
       "<Figure size 864x360 with 1 Axes>"
      ]
     },
     "metadata": {
      "needs_background": "light"
     },
     "output_type": "display_data"
    },
    {
     "data": {
      "image/png": "[encoded data removed]",
      "text/plain": [
       "<Figure size 864x360 with 1 Axes>"
      ]
     },
     "metadata": {
      "needs_background": "light"
     },
     "output_type": "display_data"
    },
    {
     "data": {
      "image/png": "[encoded data removed]",
      "text/plain": [
       "<Figure size 864x360 with 1 Axes>"
      ]
     },
     "metadata": {
      "needs_background": "light"
     },
     "output_type": "display_data"
    },
    {
     "data": {
      "image/png": "[encoded data removed]",
      "text/plain": [
       "<Figure size 864x360 with 1 Axes>"
      ]
     },
     "metadata": {
      "needs_background": "light"
     },
     "output_type": "display_data"
    },
    {
     "data": {
      "image/png": "[encoded data removed]",
      "text/plain": [
       "<Figure size 864x360 with 1 Axes>"
      ]
     },
     "metadata": {
      "needs_background": "light"
     },
     "output_type": "display_data"
    },
    {
     "data": {
      "image/png": "[encoded data removed]",
      "text/plain": [
       "<Figure size 864x360 with 1 Axes>"
      ]
     },
     "metadata": {
      "needs_background": "light"
     },
     "output_type": "display_data"
    },
    {
     "data": {
      "image/png": "[encoded data removed]",
      "text/plain": [
       "<Figure size 864x360 with 1 Axes>"
      ]
     },
     "metadata": {
      "needs_background": "light"
     },
     "output_type": "display_data"
    },
    {
     "data": {
      "image/png": "[encoded data removed]",
      "text/plain": [
       "<Figure size 864x360 with 1 Axes>"
      ]
     },
     "metadata": {
      "needs_background": "light"
     },
     "output_type": "display_data"
    },
    {
     "data": {
      "image/png": "[encoded data removed]",
      "text/plain": [
       "<Figure size 864x360 with 1 Axes>"
      ]
     },
     "metadata": {
      "needs_background": "light"
     },
     "output_type": "display_data"
    },
    {
     "data": {
      "image/png": "[encoded data removed]",
      "text/plain": [
       "<Figure size 864x360 with 1 Axes>"
      ]
     },
     "metadata": {
      "needs_background": "light"
     },
     "output_type": "display_data"
    }
   ],
   "source": [
    "#Построим \"ящики с усами\" дла актуальных платформ\n",
    "for i in actual_platform_list:\n",
    "    actual_games[actual_games['platform'] == i].boxplot('total_sales', by='platform', figsize = (12,5))"
   ]
  },
  {
   "cell_type": "code",
   "execution_count": 38,
   "id": "c2363187",
   "metadata": {},
   "outputs": [
    {
     "data": {
      "text/plain": [
       "<AxesSubplot:title={'center':'total_sales'}, xlabel='platform'>"
      ]
     },
     "execution_count": 38,
     "metadata": {},
     "output_type": "execute_result"
    },
    {
     "data": {
      "image/png": "[encoded data removed]",
      "text/plain": [
       "<Figure size 1224x720 with 1 Axes>"
      ]
     },
     "metadata": {
      "needs_background": "light"
     },
     "output_type": "display_data"
    }
   ],
   "source": [
    " #Взглянем на ситуацию на общем графике\n",
    "actual_games.boxplot('total_sales', by='platform', figsize = (17,10))"
   ]
  },
  {
   "cell_type": "code",
   "execution_count": 39,
   "id": "e6d203e8",
   "metadata": {
    "scrolled": false
   },
   "outputs": [
    {
     "data": {
      "text/plain": [
       "platform\n",
       "X360    0.31\n",
       "WiiU    0.22\n",
       "XOne    0.22\n",
       "PS4     0.20\n",
       "PS3     0.20\n",
       "Wii     0.18\n",
       "3DS     0.11\n",
       "PC      0.08\n",
       "DS      0.05\n",
       "PSV     0.05\n",
       "PSP     0.03\n",
       "Name: total_sales, dtype: float64"
      ]
     },
     "execution_count": 39,
     "metadata": {},
     "output_type": "execute_result"
    }
   ],
   "source": [
    "#Выделим медианы\n",
    "actual_games.groupby('platform')['total_sales'].median().sort_values(ascending=False)"
   ]
  },
  {
   "cell_type": "code",
   "execution_count": 40,
   "id": "5133b7ac",
   "metadata": {},
   "outputs": [
    {
     "data": {
      "text/html": [
       "<th style=\"text-align:center\"><td style=\"vertical-align:top\"><h2>PS3</h2><table style=\"display:inline\" border=\"1\" class=\"dataframe\">\n",
       "  <thead>\n",
       "    <tr style=\"text-align: right;\">\n",
       "      <th></th>\n",
       "      <th>index</th>\n",
       "      <th>total_sales</th>\n",
       "    </tr>\n",
       "  </thead>\n",
       "  <tbody>\n",
       "    <tr>\n",
       "      <th>0</th>\n",
       "      <td>count</td>\n",
       "      <td>492.000000</td>\n",
       "    </tr>\n",
       "    <tr>\n",
       "      <th>1</th>\n",
       "      <td>mean</td>\n",
       "      <td>0.586951</td>\n",
       "    </tr>\n",
       "    <tr>\n",
       "      <th>2</th>\n",
       "      <td>std</td>\n",
       "      <td>1.464113</td>\n",
       "    </tr>\n",
       "    <tr>\n",
       "      <th>3</th>\n",
       "      <td>min</td>\n",
       "      <td>0.010000</td>\n",
       "    </tr>\n",
       "    <tr>\n",
       "      <th>4</th>\n",
       "      <td>25%</td>\n",
       "      <td>0.050000</td>\n",
       "    </tr>\n",
       "    <tr>\n",
       "      <th>5</th>\n",
       "      <td>50%</td>\n",
       "      <td>0.200000</td>\n",
       "    </tr>\n",
       "    <tr>\n",
       "      <th>6</th>\n",
       "      <td>75%</td>\n",
       "      <td>0.610000</td>\n",
       "    </tr>\n",
       "    <tr>\n",
       "      <th>7</th>\n",
       "      <td>max</td>\n",
       "      <td>21.050000</td>\n",
       "    </tr>\n",
       "  </tbody>\n",
       "</table style=\"display:inline\"></td></th><th style=\"text-align:center\"><td style=\"vertical-align:top\"><h2>PS4</h2><table style=\"display:inline\" border=\"1\" class=\"dataframe\">\n",
       "  <thead>\n",
       "    <tr style=\"text-align: right;\">\n",
       "      <th></th>\n",
       "      <th>index</th>\n",
       "      <th>total_sales</th>\n",
       "    </tr>\n",
       "  </thead>\n",
       "  <tbody>\n",
       "    <tr>\n",
       "      <th>0</th>\n",
       "      <td>count</td>\n",
       "      <td>392.000000</td>\n",
       "    </tr>\n",
       "    <tr>\n",
       "      <th>1</th>\n",
       "      <td>mean</td>\n",
       "      <td>0.801378</td>\n",
       "    </tr>\n",
       "    <tr>\n",
       "      <th>2</th>\n",
       "      <td>std</td>\n",
       "      <td>1.609456</td>\n",
       "    </tr>\n",
       "    <tr>\n",
       "      <th>3</th>\n",
       "      <td>min</td>\n",
       "      <td>0.010000</td>\n",
       "    </tr>\n",
       "    <tr>\n",
       "      <th>4</th>\n",
       "      <td>25%</td>\n",
       "      <td>0.060000</td>\n",
       "    </tr>\n",
       "    <tr>\n",
       "      <th>5</th>\n",
       "      <td>50%</td>\n",
       "      <td>0.200000</td>\n",
       "    </tr>\n",
       "    <tr>\n",
       "      <th>6</th>\n",
       "      <td>75%</td>\n",
       "      <td>0.730000</td>\n",
       "    </tr>\n",
       "    <tr>\n",
       "      <th>7</th>\n",
       "      <td>max</td>\n",
       "      <td>14.630000</td>\n",
       "    </tr>\n",
       "  </tbody>\n",
       "</table style=\"display:inline\"></td></th><th style=\"text-align:center\"><td style=\"vertical-align:top\"><h2>X360</h2><table style=\"display:inline\" border=\"1\" class=\"dataframe\">\n",
       "  <thead>\n",
       "    <tr style=\"text-align: right;\">\n",
       "      <th></th>\n",
       "      <th>index</th>\n",
       "      <th>total_sales</th>\n",
       "    </tr>\n",
       "  </thead>\n",
       "  <tbody>\n",
       "    <tr>\n",
       "      <th>0</th>\n",
       "      <td>count</td>\n",
       "      <td>292.000000</td>\n",
       "    </tr>\n",
       "    <tr>\n",
       "      <th>1</th>\n",
       "      <td>mean</td>\n",
       "      <td>0.810068</td>\n",
       "    </tr>\n",
       "    <tr>\n",
       "      <th>2</th>\n",
       "      <td>std</td>\n",
       "      <td>1.712069</td>\n",
       "    </tr>\n",
       "    <tr>\n",
       "      <th>3</th>\n",
       "      <td>min</td>\n",
       "      <td>0.010000</td>\n",
       "    </tr>\n",
       "    <tr>\n",
       "      <th>4</th>\n",
       "      <td>25%</td>\n",
       "      <td>0.100000</td>\n",
       "    </tr>\n",
       "    <tr>\n",
       "      <th>5</th>\n",
       "      <td>50%</td>\n",
       "      <td>0.310000</td>\n",
       "    </tr>\n",
       "    <tr>\n",
       "      <th>6</th>\n",
       "      <td>75%</td>\n",
       "      <td>0.870000</td>\n",
       "    </tr>\n",
       "    <tr>\n",
       "      <th>7</th>\n",
       "      <td>max</td>\n",
       "      <td>16.270000</td>\n",
       "    </tr>\n",
       "  </tbody>\n",
       "</table style=\"display:inline\"></td></th><th style=\"text-align:center\"><td style=\"vertical-align:top\"><h2>XOne</h2><table style=\"display:inline\" border=\"1\" class=\"dataframe\">\n",
       "  <thead>\n",
       "    <tr style=\"text-align: right;\">\n",
       "      <th></th>\n",
       "      <th>index</th>\n",
       "      <th>total_sales</th>\n",
       "    </tr>\n",
       "  </thead>\n",
       "  <tbody>\n",
       "    <tr>\n",
       "      <th>0</th>\n",
       "      <td>count</td>\n",
       "      <td>247.000000</td>\n",
       "    </tr>\n",
       "    <tr>\n",
       "      <th>1</th>\n",
       "      <td>mean</td>\n",
       "      <td>0.645020</td>\n",
       "    </tr>\n",
       "    <tr>\n",
       "      <th>2</th>\n",
       "      <td>std</td>\n",
       "      <td>1.036139</td>\n",
       "    </tr>\n",
       "    <tr>\n",
       "      <th>3</th>\n",
       "      <td>min</td>\n",
       "      <td>0.010000</td>\n",
       "    </tr>\n",
       "    <tr>\n",
       "      <th>4</th>\n",
       "      <td>25%</td>\n",
       "      <td>0.060000</td>\n",
       "    </tr>\n",
       "    <tr>\n",
       "      <th>5</th>\n",
       "      <td>50%</td>\n",
       "      <td>0.220000</td>\n",
       "    </tr>\n",
       "    <tr>\n",
       "      <th>6</th>\n",
       "      <td>75%</td>\n",
       "      <td>0.685000</td>\n",
       "    </tr>\n",
       "    <tr>\n",
       "      <th>7</th>\n",
       "      <td>max</td>\n",
       "      <td>7.390000</td>\n",
       "    </tr>\n",
       "  </tbody>\n",
       "</table style=\"display:inline\"></td></th>"
      ]
     },
     "metadata": {},
     "output_type": "display_data"
    }
   ],
   "source": [
    "#Изучим межквартилный интервал\n",
    "ps3d = actual_games[actual_games['platform'] == 'PS3']['total_sales'].describe().reset_index()\n",
    "ps4d = actual_games[actual_games['platform'] == 'PS4']['total_sales'].describe().reset_index()\n",
    "x360d = actual_games[actual_games['platform'] == 'X360']['total_sales'].describe().reset_index()\n",
    "xoned = actual_games[actual_games['platform'] == 'XOne']['total_sales'].describe().reset_index()\n",
    "\n",
    "from IPython.display import display_html\n",
    "from itertools import chain,cycle\n",
    "def display_side_by_side(*args,titles=cycle([''])):\n",
    "    html_str=''\n",
    "    for df,title in zip(args, chain(titles,cycle(['</br>'])) ):\n",
    "        html_str+='<th style=\"text-align:center\"><td style=\"vertical-align:top\">'\n",
    "        html_str+=f'<h2>{title}</h2>'\n",
    "        html_str+=df.to_html().replace('table','table style=\"display:inline\"')\n",
    "        html_str+='</td></th>'\n",
    "    display_html(html_str,raw=True)\n",
    "display_side_by_side(ps3d,ps4d,x360d,xoned, titles=['PS3','PS4','X360','XOne'])    "
   ]
  },
  {
   "cell_type": "markdown",
   "id": "897e72b0",
   "metadata": {},
   "source": [
    "**Медианные продажи у растущих платформ PS4 и XOne с 2012 года составляют соответственно 0.20 и 0.22 млн копий**. У уходящих лидеров X360, PS3 0.31 и 0.20. PS4, PS3, X360 и XOne имеют довольно широкий межквартильный размах, достигающий в третьям квантиле 0.6 - 0.9 млн копий. Также данные платформы выделяются довольно большим количеством выбросов, то есть суперхитовых игр. Сравинительно много хитов с продажами более 2 млн копий у платформ PS4 и PS3. Таккже значительное число \"выбросов\" у XOne и X360. Из портативных потформ выделяется Nintendo 3DS с семью проектами, проданными тиражом более 5 млн копий."
   ]
  },
  {
   "cell_type": "markdown",
   "id": "a24ae3a6",
   "metadata": {},
   "source": [
    "### Изучение зависимости между оценками и продажами <a class =\"anchor\" id=\"chapter3.3\"></a>"
   ]
  },
  {
   "cell_type": "code",
   "execution_count": 41,
   "id": "97e14790",
   "metadata": {},
   "outputs": [],
   "source": [
    "actual_games_ps3 = actual_games[actual_games['platform'] == 'PS3']\n",
    "actual_games_x360 = actual_games[actual_games['platform'] == 'X360']\n",
    "\n",
    "#Функция, убирающая выбросы. Убираем выбросы по total sales\n",
    "def drop_ej(df, field_name):\n",
    "    distance = 1.5 * (np.percentile(df[field_name], 75) - np.percentile(df[field_name], 25))\n",
    "    df.drop(df[df[field_name] > distance + np.percentile(df[field_name], 75)].index, inplace=True)\n",
    "    df.drop(df[df[field_name] < np.percentile(df[field_name], 25) - distance].index, inplace=True)\n",
    "    \n",
    "drop_ej(actual_games_ps3,'total_sales')\n",
    "drop_ej(actual_games_x360,'total_sales')\n"
   ]
  },
  {
   "cell_type": "code",
   "execution_count": 42,
   "id": "5ea3f186",
   "metadata": {},
   "outputs": [
    {
     "name": "stdout",
     "output_type": "stream",
     "text": [
      "Кореляция мировых продаж с оценками критиков: 0.43935327981784833\n",
      "Кореляция мировых продаж с оценками пользователей: 0.10730888785552825\n"
     ]
    }
   ],
   "source": [
    "#Рассчитаем коэффициенты корреляции между продажми и оценками критиков и пользователй по двум популярным консолям PS3 и X360 \n",
    "print('Кореляция мировых продаж с оценками критиков:', actual_games_ps3['critic_score'].corr(actual_games_ps3['total_sales']))\n",
    "print('Кореляция мировых продаж с оценками пользователей:',actual_games_ps3['user_score'].corr(actual_games_ps3['total_sales']))"
   ]
  },
  {
   "cell_type": "code",
   "execution_count": 43,
   "id": "5ff91af0",
   "metadata": {
    "scrolled": true
   },
   "outputs": [
    {
     "name": "stdout",
     "output_type": "stream",
     "text": [
      "Кореляция мировых продаж с оценками критиков: 0.45596137977671203\n",
      "Кореляция мировых продаж с оценками пользователей: 0.14994061252001664\n"
     ]
    }
   ],
   "source": [
    "print('Кореляция мировых продаж с оценками критиков:', actual_games_x360['critic_score'].corr(actual_games_x360['total_sales']))\n",
    "print('Кореляция мировых продаж с оценками пользователей:',actual_games_x360['user_score'].corr(actual_games_x360['total_sales']))"
   ]
  },
  {
   "cell_type": "code",
   "execution_count": 44,
   "id": "22643a88",
   "metadata": {},
   "outputs": [
    {
     "data": {
      "image/png": "[encoded data removed]",
      "text/plain": [
       "<Figure size 864x504 with 4 Axes>"
      ]
     },
     "metadata": {
      "needs_background": "light"
     },
     "output_type": "display_data"
    }
   ],
   "source": [
    "#Построим диаграммы рассеивания по ps3 и x360 по столбцам critic_score и user_score\n",
    "plt.figure(figsize=(12, 7))\n",
    "\n",
    "plt.subplot(2, 2, 1)\n",
    "plt.scatter(actual_games_ps3['critic_score'], actual_games_ps3['total_sales'],alpha=0.3)\n",
    "plt.title('ps3 critic_score')\n",
    "plt.subplot(2, 2, 2)\n",
    "plt.scatter(actual_games_x360['critic_score'], actual_games_x360['total_sales'],alpha=0.3)\n",
    "plt.title('x360 critic_score')\n",
    "plt.subplot(2, 2, 3)\n",
    "plt.scatter(actual_games_ps3['user_score'], actual_games_ps3['total_sales'],alpha=0.3)\n",
    "plt.title('ps3 user_score')\n",
    "plt.subplot(2, 2, 4)\n",
    "plt.scatter(actual_games_x360['user_score'], actual_games_x360['total_sales'],alpha=0.3)\n",
    "plt.title('x360 user_score')\n",
    "\n",
    "plt.show()"
   ]
  },
  {
   "cell_type": "markdown",
   "id": "9345171e",
   "metadata": {},
   "source": [
    "**Выявлен значительный коэффициент корреляции (около 0.45) между оценками критиков и мировыми продажами**. Взаимосвязь между оценками показателей отчетливо заметна на диаграммах рассеивания. Корреляция между оценками пользователей и продажами слабая (около 0.11), но на диаграммах рассеивания все же видно, что игр, показывающих хорошие продажи с высокими оценками пользователей значительно больше, чем игр с высокими продажами и низкими оценками. Впрочем, невысокая оценка критиков и пользователей не приговор. Игры с оценками пользователей в диапазоне от 4 до 6 иногда неплохо \"выстреливают\" по продажам. "
   ]
  },
  {
   "cell_type": "code",
   "execution_count": 45,
   "id": "6f3f78c9",
   "metadata": {},
   "outputs": [],
   "source": [
    "#Сравним выводы с рассеиванием данных по другим платформам (они соответствуют)\n",
    "actual_games_xone = actual_games[actual_games['platform'] == 'XOne'] \n",
    "actual_games_ps4 = actual_games[actual_games['platform'] == 'PS4'] \n"
   ]
  },
  {
   "cell_type": "code",
   "execution_count": 46,
   "id": "9fc5505a",
   "metadata": {},
   "outputs": [
    {
     "data": {
      "image/png": "[encoded data removed]",
      "text/plain": [
       "<Figure size 864x504 with 4 Axes>"
      ]
     },
     "metadata": {
      "needs_background": "light"
     },
     "output_type": "display_data"
    }
   ],
   "source": [
    "#По растущим платформам PS4 и XOne, но взимосвязь между оценками критиков и продаами уже очевидна\n",
    "plt.figure(figsize=(12, 7))\n",
    "\n",
    "plt.subplot(2, 2, 1)\n",
    "plt.scatter(actual_games_ps4['critic_score'], actual_games_ps4['total_sales'],alpha=0.3)\n",
    "plt.title('ps4 critic_score')\n",
    "plt.subplot(2, 2, 2)\n",
    "plt.scatter(actual_games_xone['critic_score'], actual_games_xone['total_sales'],alpha=0.3)\n",
    "plt.title('xone critic_score')\n",
    "plt.subplot(2, 2, 3)\n",
    "plt.scatter(actual_games_ps3['user_score'], actual_games_ps3['total_sales'],alpha=0.3)\n",
    "plt.title('ps4 user_score')\n",
    "plt.subplot(2, 2, 4)\n",
    "plt.scatter(actual_games_xone['user_score'], actual_games_xone['total_sales'],alpha=0.3)\n",
    "plt.title('xone user_score')\n",
    "\n",
    "plt.show()\n"
   ]
  },
  {
   "cell_type": "markdown",
   "id": "b617f4c0",
   "metadata": {},
   "source": [
    "### Анализ продаж по жанрам  <a class =\"anchor\" id=\"chapter3.4\"></a>"
   ]
  },
  {
   "cell_type": "code",
   "execution_count": 47,
   "id": "5d50fa33",
   "metadata": {},
   "outputs": [
    {
     "data": {
      "text/html": [
       "<div>\n",
       "<style scoped>\n",
       "    .dataframe tbody tr th:only-of-type {\n",
       "        vertical-align: middle;\n",
       "    }\n",
       "\n",
       "    .dataframe tbody tr th {\n",
       "        vertical-align: top;\n",
       "    }\n",
       "\n",
       "    .dataframe thead tr th {\n",
       "        text-align: left;\n",
       "    }\n",
       "\n",
       "    .dataframe thead tr:last-of-type th {\n",
       "        text-align: right;\n",
       "    }\n",
       "</style>\n",
       "<table border=\"1\" class=\"dataframe\">\n",
       "  <thead>\n",
       "    <tr>\n",
       "      <th></th>\n",
       "      <th>count</th>\n",
       "      <th>sum</th>\n",
       "      <th>mean</th>\n",
       "      <th>median</th>\n",
       "    </tr>\n",
       "    <tr>\n",
       "      <th></th>\n",
       "      <th>name</th>\n",
       "      <th>total_sales</th>\n",
       "      <th>total_sales</th>\n",
       "      <th>total_sales</th>\n",
       "    </tr>\n",
       "    <tr>\n",
       "      <th>genre</th>\n",
       "      <th></th>\n",
       "      <th></th>\n",
       "      <th></th>\n",
       "      <th></th>\n",
       "    </tr>\n",
       "  </thead>\n",
       "  <tbody>\n",
       "    <tr>\n",
       "      <th>Action</th>\n",
       "      <td>1032</td>\n",
       "      <td>441.47</td>\n",
       "      <td>0.427781</td>\n",
       "      <td>0.120</td>\n",
       "    </tr>\n",
       "    <tr>\n",
       "      <th>Shooter</th>\n",
       "      <td>235</td>\n",
       "      <td>304.73</td>\n",
       "      <td>1.296723</td>\n",
       "      <td>0.440</td>\n",
       "    </tr>\n",
       "    <tr>\n",
       "      <th>Role-Playing</th>\n",
       "      <td>370</td>\n",
       "      <td>192.80</td>\n",
       "      <td>0.521081</td>\n",
       "      <td>0.140</td>\n",
       "    </tr>\n",
       "    <tr>\n",
       "      <th>Sports</th>\n",
       "      <td>267</td>\n",
       "      <td>181.06</td>\n",
       "      <td>0.678127</td>\n",
       "      <td>0.240</td>\n",
       "    </tr>\n",
       "    <tr>\n",
       "      <th>Misc</th>\n",
       "      <td>192</td>\n",
       "      <td>85.04</td>\n",
       "      <td>0.442917</td>\n",
       "      <td>0.120</td>\n",
       "    </tr>\n",
       "    <tr>\n",
       "      <th>Platform</th>\n",
       "      <td>85</td>\n",
       "      <td>61.00</td>\n",
       "      <td>0.717647</td>\n",
       "      <td>0.210</td>\n",
       "    </tr>\n",
       "    <tr>\n",
       "      <th>Racing</th>\n",
       "      <td>115</td>\n",
       "      <td>53.50</td>\n",
       "      <td>0.465217</td>\n",
       "      <td>0.140</td>\n",
       "    </tr>\n",
       "    <tr>\n",
       "      <th>Fighting</th>\n",
       "      <td>109</td>\n",
       "      <td>44.49</td>\n",
       "      <td>0.408165</td>\n",
       "      <td>0.130</td>\n",
       "    </tr>\n",
       "    <tr>\n",
       "      <th>Simulation</th>\n",
       "      <td>80</td>\n",
       "      <td>35.12</td>\n",
       "      <td>0.439000</td>\n",
       "      <td>0.120</td>\n",
       "    </tr>\n",
       "    <tr>\n",
       "      <th>Adventure</th>\n",
       "      <td>302</td>\n",
       "      <td>29.43</td>\n",
       "      <td>0.097450</td>\n",
       "      <td>0.030</td>\n",
       "    </tr>\n",
       "    <tr>\n",
       "      <th>Strategy</th>\n",
       "      <td>71</td>\n",
       "      <td>13.34</td>\n",
       "      <td>0.187887</td>\n",
       "      <td>0.080</td>\n",
       "    </tr>\n",
       "    <tr>\n",
       "      <th>Puzzle</th>\n",
       "      <td>28</td>\n",
       "      <td>4.89</td>\n",
       "      <td>0.174643</td>\n",
       "      <td>0.045</td>\n",
       "    </tr>\n",
       "  </tbody>\n",
       "</table>\n",
       "</div>"
      ],
      "text/plain": [
       "             count         sum        mean      median\n",
       "              name total_sales total_sales total_sales\n",
       "genre                                                 \n",
       "Action        1032      441.47    0.427781       0.120\n",
       "Shooter        235      304.73    1.296723       0.440\n",
       "Role-Playing   370      192.80    0.521081       0.140\n",
       "Sports         267      181.06    0.678127       0.240\n",
       "Misc           192       85.04    0.442917       0.120\n",
       "Platform        85       61.00    0.717647       0.210\n",
       "Racing         115       53.50    0.465217       0.140\n",
       "Fighting       109       44.49    0.408165       0.130\n",
       "Simulation      80       35.12    0.439000       0.120\n",
       "Adventure      302       29.43    0.097450       0.030\n",
       "Strategy        71       13.34    0.187887       0.080\n",
       "Puzzle          28        4.89    0.174643       0.045"
      ]
     },
     "execution_count": 47,
     "metadata": {},
     "output_type": "execute_result"
    }
   ],
   "source": [
    "#Проанализируем общие и средние продажи по жанрам, отсортируем по общим продажам.\n",
    "genre_pivot = pd.pivot_table(data=actual_games,index='genre',aggfunc=['count','sum','mean','median'])[[( 'count','name'), ('sum','total_sales'),('mean','total_sales'),('median','total_sales')]]\n",
    "genre_pivot.sort_values(by=('sum','total_sales'), ascending = False)\n"
   ]
  },
  {
   "cell_type": "code",
   "execution_count": 48,
   "id": "321739f1",
   "metadata": {
    "scrolled": true
   },
   "outputs": [
    {
     "data": {
      "text/html": [
       "<div>\n",
       "<style scoped>\n",
       "    .dataframe tbody tr th:only-of-type {\n",
       "        vertical-align: middle;\n",
       "    }\n",
       "\n",
       "    .dataframe tbody tr th {\n",
       "        vertical-align: top;\n",
       "    }\n",
       "\n",
       "    .dataframe thead th {\n",
       "        text-align: right;\n",
       "    }\n",
       "</style>\n",
       "<table border=\"1\" class=\"dataframe\">\n",
       "  <thead>\n",
       "    <tr style=\"text-align: right;\">\n",
       "      <th></th>\n",
       "      <th>число игр</th>\n",
       "      <th>сумма продаж</th>\n",
       "      <th>средняя продажа</th>\n",
       "      <th>медианная продажа</th>\n",
       "    </tr>\n",
       "    <tr>\n",
       "      <th>genre</th>\n",
       "      <th></th>\n",
       "      <th></th>\n",
       "      <th></th>\n",
       "      <th></th>\n",
       "    </tr>\n",
       "  </thead>\n",
       "  <tbody>\n",
       "    <tr>\n",
       "      <th>Action</th>\n",
       "      <td>1032</td>\n",
       "      <td>441.47</td>\n",
       "      <td>0.427781</td>\n",
       "      <td>0.120</td>\n",
       "    </tr>\n",
       "    <tr>\n",
       "      <th>Role-Playing</th>\n",
       "      <td>370</td>\n",
       "      <td>192.80</td>\n",
       "      <td>0.521081</td>\n",
       "      <td>0.140</td>\n",
       "    </tr>\n",
       "    <tr>\n",
       "      <th>Adventure</th>\n",
       "      <td>302</td>\n",
       "      <td>29.43</td>\n",
       "      <td>0.097450</td>\n",
       "      <td>0.030</td>\n",
       "    </tr>\n",
       "    <tr>\n",
       "      <th>Sports</th>\n",
       "      <td>267</td>\n",
       "      <td>181.06</td>\n",
       "      <td>0.678127</td>\n",
       "      <td>0.240</td>\n",
       "    </tr>\n",
       "    <tr>\n",
       "      <th>Shooter</th>\n",
       "      <td>235</td>\n",
       "      <td>304.73</td>\n",
       "      <td>1.296723</td>\n",
       "      <td>0.440</td>\n",
       "    </tr>\n",
       "    <tr>\n",
       "      <th>Misc</th>\n",
       "      <td>192</td>\n",
       "      <td>85.04</td>\n",
       "      <td>0.442917</td>\n",
       "      <td>0.120</td>\n",
       "    </tr>\n",
       "    <tr>\n",
       "      <th>Racing</th>\n",
       "      <td>115</td>\n",
       "      <td>53.50</td>\n",
       "      <td>0.465217</td>\n",
       "      <td>0.140</td>\n",
       "    </tr>\n",
       "    <tr>\n",
       "      <th>Fighting</th>\n",
       "      <td>109</td>\n",
       "      <td>44.49</td>\n",
       "      <td>0.408165</td>\n",
       "      <td>0.130</td>\n",
       "    </tr>\n",
       "    <tr>\n",
       "      <th>Platform</th>\n",
       "      <td>85</td>\n",
       "      <td>61.00</td>\n",
       "      <td>0.717647</td>\n",
       "      <td>0.210</td>\n",
       "    </tr>\n",
       "    <tr>\n",
       "      <th>Simulation</th>\n",
       "      <td>80</td>\n",
       "      <td>35.12</td>\n",
       "      <td>0.439000</td>\n",
       "      <td>0.120</td>\n",
       "    </tr>\n",
       "    <tr>\n",
       "      <th>Strategy</th>\n",
       "      <td>71</td>\n",
       "      <td>13.34</td>\n",
       "      <td>0.187887</td>\n",
       "      <td>0.080</td>\n",
       "    </tr>\n",
       "    <tr>\n",
       "      <th>Puzzle</th>\n",
       "      <td>28</td>\n",
       "      <td>4.89</td>\n",
       "      <td>0.174643</td>\n",
       "      <td>0.045</td>\n",
       "    </tr>\n",
       "  </tbody>\n",
       "</table>\n",
       "</div>"
      ],
      "text/plain": [
       "              число игр  сумма продаж  средняя продажа  медианная продажа\n",
       "genre                                                                    \n",
       "Action             1032        441.47         0.427781              0.120\n",
       "Role-Playing        370        192.80         0.521081              0.140\n",
       "Adventure           302         29.43         0.097450              0.030\n",
       "Sports              267        181.06         0.678127              0.240\n",
       "Shooter             235        304.73         1.296723              0.440\n",
       "Misc                192         85.04         0.442917              0.120\n",
       "Racing              115         53.50         0.465217              0.140\n",
       "Fighting            109         44.49         0.408165              0.130\n",
       "Platform             85         61.00         0.717647              0.210\n",
       "Simulation           80         35.12         0.439000              0.120\n",
       "Strategy             71         13.34         0.187887              0.080\n",
       "Puzzle               28          4.89         0.174643              0.045"
      ]
     },
     "execution_count": 48,
     "metadata": {},
     "output_type": "execute_result"
    }
   ],
   "source": [
    "genre_pivot.columns = ['число игр','сумма продаж','средняя продажа','медианная продажа']\n",
    "genre_pivot.sort_values(by=(  'число игр'), ascending = False)"
   ]
  },
  {
   "cell_type": "markdown",
   "id": "d3c72ebd",
   "metadata": {},
   "source": [
    "**В актуальном периоде было выпущено больше всего игр в жанре Action, также у игровых студий были популярны жанры Role-Playing, Adventure и Sports**. Меньше всего игр выпускается в жанрах  Puzzle, Strategy и Simulation."
   ]
  },
  {
   "cell_type": "code",
   "execution_count": 49,
   "id": "3cdbb6e9",
   "metadata": {},
   "outputs": [
    {
     "data": {
      "text/plain": [
       "<AxesSubplot:xlabel='genre'>"
      ]
     },
     "execution_count": 49,
     "metadata": {},
     "output_type": "execute_result"
    },
    {
     "data": {
      "image/png": "[encoded data removed]",
      "text/plain": [
       "<Figure size 432x288 with 1 Axes>"
      ]
     },
     "metadata": {
      "needs_background": "light"
     },
     "output_type": "display_data"
    }
   ],
   "source": [
    "#Проанализируем средние и медианные продажи\n",
    "genre_pivot[['средняя продажа','медианная продажа']].plot(kind='bar')"
   ]
  },
  {
   "cell_type": "markdown",
   "id": "9de40212",
   "metadata": {},
   "source": [
    "**В пересчете на одну игру безоговорочный лидер - жанр Shooter**. Хоть в нем выпускается не так много игр, как в жанрах Action или Sports, средние продажи \"шутеров\" составляют более 1 млн копий - это вдвое больше, чем средние продажи проектов в жанре Sports и в три раза больше, чем в жанре Action. Также по объему проданных копий выделются платформеры и ролевые игры. Хуже всего с продажами в пересчете на один проект в жанрах Adventure (где выпускалось довольно много игр), Puzzle и Strategy.\t"
   ]
  },
  {
   "cell_type": "markdown",
   "id": "e926f1a0",
   "metadata": {},
   "source": [
    "### Портреты регионов продаж <a class =\"anchor\" id=\"chapter3.5\"></a>"
   ]
  },
  {
   "cell_type": "code",
   "execution_count": 50,
   "id": "4a3f6e4a",
   "metadata": {},
   "outputs": [
    {
     "data": {
      "text/html": [
       "<div>\n",
       "<style scoped>\n",
       "    .dataframe tbody tr th:only-of-type {\n",
       "        vertical-align: middle;\n",
       "    }\n",
       "\n",
       "    .dataframe tbody tr th {\n",
       "        vertical-align: top;\n",
       "    }\n",
       "\n",
       "    .dataframe thead th {\n",
       "        text-align: right;\n",
       "    }\n",
       "</style>\n",
       "<table border=\"1\" class=\"dataframe\">\n",
       "  <thead>\n",
       "    <tr style=\"text-align: right;\">\n",
       "      <th></th>\n",
       "      <th>na_sales</th>\n",
       "      <th>share</th>\n",
       "    </tr>\n",
       "    <tr>\n",
       "      <th>platform</th>\n",
       "      <th></th>\n",
       "      <th></th>\n",
       "    </tr>\n",
       "  </thead>\n",
       "  <tbody>\n",
       "    <tr>\n",
       "      <th>X360</th>\n",
       "      <td>140.05</td>\n",
       "      <td>0.236959</td>\n",
       "    </tr>\n",
       "    <tr>\n",
       "      <th>PS4</th>\n",
       "      <td>108.74</td>\n",
       "      <td>0.183984</td>\n",
       "    </tr>\n",
       "    <tr>\n",
       "      <th>PS3</th>\n",
       "      <td>103.38</td>\n",
       "      <td>0.174915</td>\n",
       "    </tr>\n",
       "    <tr>\n",
       "      <th>XOne</th>\n",
       "      <td>93.12</td>\n",
       "      <td>0.157555</td>\n",
       "    </tr>\n",
       "    <tr>\n",
       "      <th>3DS</th>\n",
       "      <td>55.31</td>\n",
       "      <td>0.093582</td>\n",
       "    </tr>\n",
       "  </tbody>\n",
       "</table>\n",
       "</div>"
      ],
      "text/plain": [
       "          na_sales     share\n",
       "platform                    \n",
       "X360        140.05  0.236959\n",
       "PS4         108.74  0.183984\n",
       "PS3         103.38  0.174915\n",
       "XOne         93.12  0.157555\n",
       "3DS          55.31  0.093582"
      ]
     },
     "metadata": {},
     "output_type": "display_data"
    },
    {
     "data": {
      "text/html": [
       "<div>\n",
       "<style scoped>\n",
       "    .dataframe tbody tr th:only-of-type {\n",
       "        vertical-align: middle;\n",
       "    }\n",
       "\n",
       "    .dataframe tbody tr th {\n",
       "        vertical-align: top;\n",
       "    }\n",
       "\n",
       "    .dataframe thead th {\n",
       "        text-align: right;\n",
       "    }\n",
       "</style>\n",
       "<table border=\"1\" class=\"dataframe\">\n",
       "  <thead>\n",
       "    <tr style=\"text-align: right;\">\n",
       "      <th></th>\n",
       "      <th>na_sales</th>\n",
       "      <th>share</th>\n",
       "    </tr>\n",
       "    <tr>\n",
       "      <th>genre</th>\n",
       "      <th></th>\n",
       "      <th></th>\n",
       "    </tr>\n",
       "  </thead>\n",
       "  <tbody>\n",
       "    <tr>\n",
       "      <th>Action</th>\n",
       "      <td>177.90</td>\n",
       "      <td>0.301000</td>\n",
       "    </tr>\n",
       "    <tr>\n",
       "      <th>Shooter</th>\n",
       "      <td>144.77</td>\n",
       "      <td>0.244945</td>\n",
       "    </tr>\n",
       "    <tr>\n",
       "      <th>Sports</th>\n",
       "      <td>81.53</td>\n",
       "      <td>0.137946</td>\n",
       "    </tr>\n",
       "    <tr>\n",
       "      <th>Role-Playing</th>\n",
       "      <td>64.00</td>\n",
       "      <td>0.108286</td>\n",
       "    </tr>\n",
       "    <tr>\n",
       "      <th>Misc</th>\n",
       "      <td>38.19</td>\n",
       "      <td>0.064616</td>\n",
       "    </tr>\n",
       "  </tbody>\n",
       "</table>\n",
       "</div>"
      ],
      "text/plain": [
       "              na_sales     share\n",
       "genre                           \n",
       "Action          177.90  0.301000\n",
       "Shooter         144.77  0.244945\n",
       "Sports           81.53  0.137946\n",
       "Role-Playing     64.00  0.108286\n",
       "Misc             38.19  0.064616"
      ]
     },
     "metadata": {},
     "output_type": "display_data"
    },
    {
     "data": {
      "text/html": [
       "<div>\n",
       "<style scoped>\n",
       "    .dataframe tbody tr th:only-of-type {\n",
       "        vertical-align: middle;\n",
       "    }\n",
       "\n",
       "    .dataframe tbody tr th {\n",
       "        vertical-align: top;\n",
       "    }\n",
       "\n",
       "    .dataframe thead th {\n",
       "        text-align: right;\n",
       "    }\n",
       "</style>\n",
       "<table border=\"1\" class=\"dataframe\">\n",
       "  <thead>\n",
       "    <tr style=\"text-align: right;\">\n",
       "      <th></th>\n",
       "      <th>na_sales</th>\n",
       "      <th>share</th>\n",
       "    </tr>\n",
       "    <tr>\n",
       "      <th>rating</th>\n",
       "      <th></th>\n",
       "      <th></th>\n",
       "    </tr>\n",
       "  </thead>\n",
       "  <tbody>\n",
       "    <tr>\n",
       "      <th>M</th>\n",
       "      <td>231.63</td>\n",
       "      <td>0.474924</td>\n",
       "    </tr>\n",
       "    <tr>\n",
       "      <th>E</th>\n",
       "      <td>114.37</td>\n",
       "      <td>0.234499</td>\n",
       "    </tr>\n",
       "    <tr>\n",
       "      <th>E10+</th>\n",
       "      <td>75.70</td>\n",
       "      <td>0.155212</td>\n",
       "    </tr>\n",
       "    <tr>\n",
       "      <th>T</th>\n",
       "      <td>66.02</td>\n",
       "      <td>0.135365</td>\n",
       "    </tr>\n",
       "  </tbody>\n",
       "</table>\n",
       "</div>"
      ],
      "text/plain": [
       "        na_sales     share\n",
       "rating                    \n",
       "M         231.63  0.474924\n",
       "E         114.37  0.234499\n",
       "E10+       75.70  0.155212\n",
       "T          66.02  0.135365"
      ]
     },
     "metadata": {},
     "output_type": "display_data"
    }
   ],
   "source": [
    "#Пишем и применяем к первому региону (Северной Америке) функцию определения \"портрета\" по платформам, жанрам и рейтингу\n",
    "portrait_list = ['platform','genre','rating']\n",
    "def portrait_maker(region):\n",
    "    for i in portrait_list:\n",
    "        table = actual_games.pivot_table(index=i, values = region,aggfunc='sum').sort_values(by=region,ascending=False)\n",
    "        table['share'] = table[region]/table[region].sum()\n",
    "        display(table.head(5))\n",
    "portrait_maker('na_sales')        \n"
   ]
  },
  {
   "cell_type": "code",
   "execution_count": 51,
   "id": "aa20b721",
   "metadata": {},
   "outputs": [
    {
     "data": {
      "text/html": [
       "<div>\n",
       "<style scoped>\n",
       "    .dataframe tbody tr th:only-of-type {\n",
       "        vertical-align: middle;\n",
       "    }\n",
       "\n",
       "    .dataframe tbody tr th {\n",
       "        vertical-align: top;\n",
       "    }\n",
       "\n",
       "    .dataframe thead th {\n",
       "        text-align: right;\n",
       "    }\n",
       "</style>\n",
       "<table border=\"1\" class=\"dataframe\">\n",
       "  <thead>\n",
       "    <tr style=\"text-align: right;\">\n",
       "      <th></th>\n",
       "      <th>eu_sales</th>\n",
       "      <th>share</th>\n",
       "    </tr>\n",
       "    <tr>\n",
       "      <th>platform</th>\n",
       "      <th></th>\n",
       "      <th></th>\n",
       "    </tr>\n",
       "  </thead>\n",
       "  <tbody>\n",
       "    <tr>\n",
       "      <th>PS4</th>\n",
       "      <td>141.09</td>\n",
       "      <td>0.278251</td>\n",
       "    </tr>\n",
       "    <tr>\n",
       "      <th>PS3</th>\n",
       "      <td>106.85</td>\n",
       "      <td>0.210725</td>\n",
       "    </tr>\n",
       "    <tr>\n",
       "      <th>X360</th>\n",
       "      <td>74.52</td>\n",
       "      <td>0.146965</td>\n",
       "    </tr>\n",
       "    <tr>\n",
       "      <th>XOne</th>\n",
       "      <td>51.59</td>\n",
       "      <td>0.101743</td>\n",
       "    </tr>\n",
       "    <tr>\n",
       "      <th>3DS</th>\n",
       "      <td>42.64</td>\n",
       "      <td>0.084093</td>\n",
       "    </tr>\n",
       "  </tbody>\n",
       "</table>\n",
       "</div>"
      ],
      "text/plain": [
       "          eu_sales     share\n",
       "platform                    \n",
       "PS4         141.09  0.278251\n",
       "PS3         106.85  0.210725\n",
       "X360         74.52  0.146965\n",
       "XOne         51.59  0.101743\n",
       "3DS          42.64  0.084093"
      ]
     },
     "metadata": {},
     "output_type": "display_data"
    },
    {
     "data": {
      "text/html": [
       "<div>\n",
       "<style scoped>\n",
       "    .dataframe tbody tr th:only-of-type {\n",
       "        vertical-align: middle;\n",
       "    }\n",
       "\n",
       "    .dataframe tbody tr th {\n",
       "        vertical-align: top;\n",
       "    }\n",
       "\n",
       "    .dataframe thead th {\n",
       "        text-align: right;\n",
       "    }\n",
       "</style>\n",
       "<table border=\"1\" class=\"dataframe\">\n",
       "  <thead>\n",
       "    <tr style=\"text-align: right;\">\n",
       "      <th></th>\n",
       "      <th>eu_sales</th>\n",
       "      <th>share</th>\n",
       "    </tr>\n",
       "    <tr>\n",
       "      <th>genre</th>\n",
       "      <th></th>\n",
       "      <th></th>\n",
       "    </tr>\n",
       "  </thead>\n",
       "  <tbody>\n",
       "    <tr>\n",
       "      <th>Action</th>\n",
       "      <td>159.59</td>\n",
       "      <td>0.314736</td>\n",
       "    </tr>\n",
       "    <tr>\n",
       "      <th>Shooter</th>\n",
       "      <td>113.47</td>\n",
       "      <td>0.223780</td>\n",
       "    </tr>\n",
       "    <tr>\n",
       "      <th>Sports</th>\n",
       "      <td>69.08</td>\n",
       "      <td>0.136236</td>\n",
       "    </tr>\n",
       "    <tr>\n",
       "      <th>Role-Playing</th>\n",
       "      <td>48.53</td>\n",
       "      <td>0.095709</td>\n",
       "    </tr>\n",
       "    <tr>\n",
       "      <th>Racing</th>\n",
       "      <td>27.29</td>\n",
       "      <td>0.053820</td>\n",
       "    </tr>\n",
       "  </tbody>\n",
       "</table>\n",
       "</div>"
      ],
      "text/plain": [
       "              eu_sales     share\n",
       "genre                           \n",
       "Action          159.59  0.314736\n",
       "Shooter         113.47  0.223780\n",
       "Sports           69.08  0.136236\n",
       "Role-Playing     48.53  0.095709\n",
       "Racing           27.29  0.053820"
      ]
     },
     "metadata": {},
     "output_type": "display_data"
    },
    {
     "data": {
      "text/html": [
       "<div>\n",
       "<style scoped>\n",
       "    .dataframe tbody tr th:only-of-type {\n",
       "        vertical-align: middle;\n",
       "    }\n",
       "\n",
       "    .dataframe tbody tr th {\n",
       "        vertical-align: top;\n",
       "    }\n",
       "\n",
       "    .dataframe thead th {\n",
       "        text-align: right;\n",
       "    }\n",
       "</style>\n",
       "<table border=\"1\" class=\"dataframe\">\n",
       "  <thead>\n",
       "    <tr style=\"text-align: right;\">\n",
       "      <th></th>\n",
       "      <th>eu_sales</th>\n",
       "      <th>share</th>\n",
       "    </tr>\n",
       "    <tr>\n",
       "      <th>rating</th>\n",
       "      <th></th>\n",
       "      <th></th>\n",
       "    </tr>\n",
       "  </thead>\n",
       "  <tbody>\n",
       "    <tr>\n",
       "      <th>M</th>\n",
       "      <td>194.21</td>\n",
       "      <td>0.467345</td>\n",
       "    </tr>\n",
       "    <tr>\n",
       "      <th>E</th>\n",
       "      <td>113.02</td>\n",
       "      <td>0.271970</td>\n",
       "    </tr>\n",
       "    <tr>\n",
       "      <th>E10+</th>\n",
       "      <td>55.37</td>\n",
       "      <td>0.133242</td>\n",
       "    </tr>\n",
       "    <tr>\n",
       "      <th>T</th>\n",
       "      <td>52.96</td>\n",
       "      <td>0.127442</td>\n",
       "    </tr>\n",
       "  </tbody>\n",
       "</table>\n",
       "</div>"
      ],
      "text/plain": [
       "        eu_sales     share\n",
       "rating                    \n",
       "M         194.21  0.467345\n",
       "E         113.02  0.271970\n",
       "E10+       55.37  0.133242\n",
       "T          52.96  0.127442"
      ]
     },
     "metadata": {},
     "output_type": "display_data"
    }
   ],
   "source": [
    "#Смотрим на прортрет Евросоюза\n",
    "portrait_maker('eu_sales') "
   ]
  },
  {
   "cell_type": "code",
   "execution_count": 52,
   "id": "29645384",
   "metadata": {},
   "outputs": [
    {
     "data": {
      "text/html": [
       "<div>\n",
       "<style scoped>\n",
       "    .dataframe tbody tr th:only-of-type {\n",
       "        vertical-align: middle;\n",
       "    }\n",
       "\n",
       "    .dataframe tbody tr th {\n",
       "        vertical-align: top;\n",
       "    }\n",
       "\n",
       "    .dataframe thead th {\n",
       "        text-align: right;\n",
       "    }\n",
       "</style>\n",
       "<table border=\"1\" class=\"dataframe\">\n",
       "  <thead>\n",
       "    <tr style=\"text-align: right;\">\n",
       "      <th></th>\n",
       "      <th>jp_sales</th>\n",
       "      <th>share</th>\n",
       "    </tr>\n",
       "    <tr>\n",
       "      <th>platform</th>\n",
       "      <th></th>\n",
       "      <th></th>\n",
       "    </tr>\n",
       "  </thead>\n",
       "  <tbody>\n",
       "    <tr>\n",
       "      <th>3DS</th>\n",
       "      <td>87.79</td>\n",
       "      <td>0.455862</td>\n",
       "    </tr>\n",
       "    <tr>\n",
       "      <th>PS3</th>\n",
       "      <td>35.29</td>\n",
       "      <td>0.183249</td>\n",
       "    </tr>\n",
       "    <tr>\n",
       "      <th>PSV</th>\n",
       "      <td>21.04</td>\n",
       "      <td>0.109253</td>\n",
       "    </tr>\n",
       "    <tr>\n",
       "      <th>PS4</th>\n",
       "      <td>15.96</td>\n",
       "      <td>0.082875</td>\n",
       "    </tr>\n",
       "    <tr>\n",
       "      <th>WiiU</th>\n",
       "      <td>13.01</td>\n",
       "      <td>0.067556</td>\n",
       "    </tr>\n",
       "  </tbody>\n",
       "</table>\n",
       "</div>"
      ],
      "text/plain": [
       "          jp_sales     share\n",
       "platform                    \n",
       "3DS          87.79  0.455862\n",
       "PS3          35.29  0.183249\n",
       "PSV          21.04  0.109253\n",
       "PS4          15.96  0.082875\n",
       "WiiU         13.01  0.067556"
      ]
     },
     "metadata": {},
     "output_type": "display_data"
    },
    {
     "data": {
      "text/html": [
       "<div>\n",
       "<style scoped>\n",
       "    .dataframe tbody tr th:only-of-type {\n",
       "        vertical-align: middle;\n",
       "    }\n",
       "\n",
       "    .dataframe tbody tr th {\n",
       "        vertical-align: top;\n",
       "    }\n",
       "\n",
       "    .dataframe thead th {\n",
       "        text-align: right;\n",
       "    }\n",
       "</style>\n",
       "<table border=\"1\" class=\"dataframe\">\n",
       "  <thead>\n",
       "    <tr style=\"text-align: right;\">\n",
       "      <th></th>\n",
       "      <th>jp_sales</th>\n",
       "      <th>share</th>\n",
       "    </tr>\n",
       "    <tr>\n",
       "      <th>genre</th>\n",
       "      <th></th>\n",
       "      <th></th>\n",
       "    </tr>\n",
       "  </thead>\n",
       "  <tbody>\n",
       "    <tr>\n",
       "      <th>Role-Playing</th>\n",
       "      <td>65.44</td>\n",
       "      <td>0.339807</td>\n",
       "    </tr>\n",
       "    <tr>\n",
       "      <th>Action</th>\n",
       "      <td>52.80</td>\n",
       "      <td>0.274172</td>\n",
       "    </tr>\n",
       "    <tr>\n",
       "      <th>Misc</th>\n",
       "      <td>12.86</td>\n",
       "      <td>0.066777</td>\n",
       "    </tr>\n",
       "    <tr>\n",
       "      <th>Simulation</th>\n",
       "      <td>10.41</td>\n",
       "      <td>0.054055</td>\n",
       "    </tr>\n",
       "    <tr>\n",
       "      <th>Fighting</th>\n",
       "      <td>9.44</td>\n",
       "      <td>0.049019</td>\n",
       "    </tr>\n",
       "  </tbody>\n",
       "</table>\n",
       "</div>"
      ],
      "text/plain": [
       "              jp_sales     share\n",
       "genre                           \n",
       "Role-Playing     65.44  0.339807\n",
       "Action           52.80  0.274172\n",
       "Misc             12.86  0.066777\n",
       "Simulation       10.41  0.054055\n",
       "Fighting          9.44  0.049019"
      ]
     },
     "metadata": {},
     "output_type": "display_data"
    },
    {
     "data": {
      "text/html": [
       "<div>\n",
       "<style scoped>\n",
       "    .dataframe tbody tr th:only-of-type {\n",
       "        vertical-align: middle;\n",
       "    }\n",
       "\n",
       "    .dataframe tbody tr th {\n",
       "        vertical-align: top;\n",
       "    }\n",
       "\n",
       "    .dataframe thead th {\n",
       "        text-align: right;\n",
       "    }\n",
       "</style>\n",
       "<table border=\"1\" class=\"dataframe\">\n",
       "  <thead>\n",
       "    <tr style=\"text-align: right;\">\n",
       "      <th></th>\n",
       "      <th>jp_sales</th>\n",
       "      <th>share</th>\n",
       "    </tr>\n",
       "    <tr>\n",
       "      <th>rating</th>\n",
       "      <th></th>\n",
       "      <th></th>\n",
       "    </tr>\n",
       "  </thead>\n",
       "  <tbody>\n",
       "    <tr>\n",
       "      <th>E</th>\n",
       "      <td>28.33</td>\n",
       "      <td>0.338309</td>\n",
       "    </tr>\n",
       "    <tr>\n",
       "      <th>T</th>\n",
       "      <td>26.02</td>\n",
       "      <td>0.310724</td>\n",
       "    </tr>\n",
       "    <tr>\n",
       "      <th>M</th>\n",
       "      <td>21.20</td>\n",
       "      <td>0.253165</td>\n",
       "    </tr>\n",
       "    <tr>\n",
       "      <th>E10+</th>\n",
       "      <td>8.19</td>\n",
       "      <td>0.097803</td>\n",
       "    </tr>\n",
       "  </tbody>\n",
       "</table>\n",
       "</div>"
      ],
      "text/plain": [
       "        jp_sales     share\n",
       "rating                    \n",
       "E          28.33  0.338309\n",
       "T          26.02  0.310724\n",
       "M          21.20  0.253165\n",
       "E10+        8.19  0.097803"
      ]
     },
     "metadata": {},
     "output_type": "display_data"
    }
   ],
   "source": [
    "#Смотрим на прортрет Японии\n",
    "portrait_maker('jp_sales') "
   ]
  },
  {
   "cell_type": "markdown",
   "id": "8079bc7a",
   "metadata": {},
   "source": [
    "В части консолей в Северной Америке лидировали X360(24%),PS4(18%). PS3 занимала только третье место (17,5%), а XOne - четвертое (15,8%). В ЕС другой расклад. Там лидирует PS4 (более 28%), следом идет PS3 (более 21%). X360 и XOne занимают третье и четвертое место (15 и 10% соответственно). Nintendo DS на пятой позиции с 8,4%. *В Японии ситуация обратная: у портативной игровой системы Nintendo 3DS почти половина продаж. У PS3 только 18,3%, но также была значительна доля портративной версии PS (PlayStation Vita) - 11%. Таким образом, почти две трети игр продавались в Японии для портативных платформ, против 16 и 11% соответственно в СА и Европе*.\n",
    "\n",
    "По жанровым предпочтениям заметны большие различия между западными странами и Японией. В СА и ЕС лидирую экшены и шутеры (более 50% продаж). В Японии со значительным отрывом лидирует Role-Playing, а в пятерку самых популярных жанров не входят шутеры и спортивные игры.\n",
    "\n",
    "В ЕС и СА доля продаж по возрастным рейтингам схожи. Около 25% приходится на игры без возрастных ограничений, порядка 13% на игры для тинэйджеров и старше. Доля игр для взрослых - около 47%. В *Японии доля продаж с рейтингом для взрослых (M) почти в два раза меньше, что говорит о том, что на данном рынке значительно меньше аппетит ко взрослому игровому контенту*.\n",
    "\n"
   ]
  },
  {
   "cell_type": "code",
   "execution_count": 53,
   "id": "17576688",
   "metadata": {
    "scrolled": true
   },
   "outputs": [
    {
     "data": {
      "text/plain": [
       "Text(0.5, 1.0, 'jp_rating')"
      ]
     },
     "execution_count": 53,
     "metadata": {},
     "output_type": "execute_result"
    },
    {
     "data": {
      "image/png": "[encoded data removed]",
      "text/plain": [
       "<Figure size 864x360 with 3 Axes>"
      ]
     },
     "metadata": {
      "needs_background": "light"
     },
     "output_type": "display_data"
    }
   ],
   "source": [
    "p1=actual_games.pivot_table(index='rating', values = 'na_sales' ,aggfunc='sum').sort_values(by='na_sales',ascending=False).reset_index().head(5)#.plot(kind='bar')\n",
    "p2=actual_games.pivot_table(index='rating', values = 'eu_sales' ,aggfunc='sum').sort_values(by='eu_sales',ascending=False).reset_index().head(5)#.plot(kind='bar',color='red')\n",
    "p3=actual_games.pivot_table(index='rating', values = 'jp_sales' ,aggfunc='sum').sort_values(by='jp_sales',ascending=False).reset_index().head(5)#.plot(kind='bar',color='green')\n",
    "\n",
    "plt.figure(figsize=(12, 5))\n",
    "\n",
    "plt.subplot(1, 3, 1)\n",
    "sns.barplot(p1['rating'],p1['na_sales'])\n",
    "plt.title('na_rating')\n",
    "\n",
    "plt.subplot(1, 3, 2)\n",
    "sns.barplot(p2['rating'],p2['eu_sales'])\n",
    "plt.title('eu_rating')\n",
    "\n",
    "plt.subplot(1, 3, 3)\n",
    "sns.barplot(p3['rating'],p3['jp_sales'])\n",
    "plt.title('jp_rating')\n",
    "\n",
    "\n",
    "\n"
   ]
  },
  {
   "cell_type": "markdown",
   "id": "e95a7bed",
   "metadata": {},
   "source": [
    "### Проверка гипотез о равенстве рейтингов <a class =\"anchor\" id=\"chapter3.6\"></a>"
   ]
  },
  {
   "cell_type": "code",
   "execution_count": 54,
   "id": "8b0862b6",
   "metadata": {},
   "outputs": [
    {
     "name": "stdout",
     "output_type": "stream",
     "text": [
      "Размер выборки XOne: 182\n",
      "Размер выборки PC: 207\n"
     ]
    }
   ],
   "source": [
    "#Рассчитаем размеры выборок для t-теста по сравнению средних пользовательских рейтингов платформ Xbox One и PC. \n",
    "#Они значительно отличаются по размеру, поэтому укажем в тесте о том, что дисперсия выборок не равна.\n",
    "\n",
    "print('Размер выборки XOne:', len(actual_games.query('platform == \"XOne\"')['user_score'].dropna()))\n",
    "print('Размер выборки PC:',len(actual_games.query('platform == \"PC\"')['user_score'].dropna()))\n",
    "\n"
   ]
  },
  {
   "cell_type": "markdown",
   "id": "7e536220",
   "metadata": {},
   "source": [
    "Сформулируем гипотезы:\n",
    "\n",
    "H0: средние пользовательские рейтинги платформ Xbox One и PC одинаковые.\n",
    "\n",
    "H1: средние пользовательские рейтинги платформ Xbox One и PC отличаются."
   ]
  },
  {
   "cell_type": "code",
   "execution_count": 55,
   "id": "c141245e",
   "metadata": {},
   "outputs": [
    {
     "name": "stdout",
     "output_type": "stream",
     "text": [
      "р-значение:  0.5926118514134862\n",
      "Не получилось отвергнуть нулевую гипотезу\n"
     ]
    }
   ],
   "source": [
    "alpha = 0.05\n",
    " \n",
    "result_xone_vs_pc = st.ttest_ind(actual_games.query('platform == \"XOne\"')['user_score'].dropna(),\n",
    "                            actual_games.query('platform == \"PC\"')['user_score'].dropna(), equal_var = False)\n",
    " \n",
    "p_xone_vs_pc = result_xone_vs_pc.pvalue\n",
    "print('р-значение: ',p_xone_vs_pc)\n",
    "if p_xone_vs_pc < alpha:\n",
    "    print(\"Отвергаем нулевую гипотезу\")\n",
    "else:\n",
    "    print(\"Не получилось отвергнуть нулевую гипотезу\")"
   ]
  },
  {
   "cell_type": "markdown",
   "id": "f12c07e8",
   "metadata": {},
   "source": [
    "Сформулируем гипотезы:\n",
    "\n",
    "H0: cредние пользовательские рейтинги жанров Action и Sports равны.\n",
    "\n",
    "H1: средние пользовательские рейтинги жанров Action и Sports отличаются."
   ]
  },
  {
   "cell_type": "code",
   "execution_count": 56,
   "id": "ed8ae045",
   "metadata": {},
   "outputs": [
    {
     "name": "stdout",
     "output_type": "stream",
     "text": [
      "Размер выборки Action: 524\n",
      "Размер выборки Sports: 194\n"
     ]
    }
   ],
   "source": [
    "#Рассчитаем размеры выборок для т-теста по сравнению средних пользовательских рейтингов жанров Action и Sports. Они значительно отличаются по размеру, поэтому укажем в тесте о том, что дисперсия выборок не равна.\n",
    "\n",
    "print('Размер выборки Action:', len(actual_games.query('genre == \"Action\"')['user_score'].dropna()))\n",
    "print('Размер выборки Sports:',len(actual_games.query('genre == \"Sports\"')['user_score'].dropna()))\n"
   ]
  },
  {
   "cell_type": "code",
   "execution_count": 57,
   "id": "1c15525b",
   "metadata": {},
   "outputs": [
    {
     "name": "stdout",
     "output_type": "stream",
     "text": [
      "р-значение:  5.020541086960669e-20\n",
      "Отвергаем нулевую гипотезу\n"
     ]
    }
   ],
   "source": [
    "alpha = 0.05\n",
    " \n",
    "result_action_vs_sports = st.ttest_ind(actual_games.query('genre == \"Action\"')['user_score'].dropna(),\n",
    "                            actual_games.query('genre == \"Sports\"')['user_score'].dropna(), equal_var = False)\n",
    " \n",
    "p_action_vs_sports = result_action_vs_sports.pvalue\n",
    "print('р-значение: ',p_action_vs_sports)\n",
    "if p_action_vs_sports < alpha:\n",
    "    print(\"Отвергаем нулевую гипотезу\")\n",
    "else:\n",
    "    print(\"Не получилось отвергнуть нулевую гипотезу\")"
   ]
  },
  {
   "cell_type": "code",
   "execution_count": 58,
   "id": "2162ed68",
   "metadata": {},
   "outputs": [
    {
     "name": "stdout",
     "output_type": "stream",
     "text": [
      "Среднее значение пользовательского рейтинга у платформы XBox: 6.521428571428572\n",
      "Среднее значение пользовательского рейтинга у платформы PC: 6.43864734299517\n",
      "Среднее значение пользовательского рейтинга у жанра Action: 6.82824427480916\n",
      "Среднее значение пользовательского рейтинга у жанра Sports: 5.455670103092784\n"
     ]
    }
   ],
   "source": [
    "print('Среднее значение пользовательского рейтинга у платформы XBox:', actual_games.query('platform == \"XOne\"')['user_score'].dropna().mean())\n",
    "print('Среднее значение пользовательского рейтинга у платформы PC:', actual_games.query('platform == \"PC\"')['user_score'].dropna().mean())\n",
    "print('Среднее значение пользовательского рейтинга у жанра Action:', actual_games.query('genre == \"Action\"')['user_score'].dropna().mean())\n",
    "print('Среднее значение пользовательского рейтинга у жанра Sports:', actual_games.query('genre == \"Sports\"')['user_score'].dropna().mean())"
   ]
  },
  {
   "cell_type": "markdown",
   "id": "949fbd2e",
   "metadata": {},
   "source": [
    "Статистические тесты показали, что средние значения пользовательских рейтингов отличаются. Среднее значение рейтинга по актуальному периоду изучаемого датафрейма у XBox составляет 6.54, а у PC - 6.78. Средний пользовательский рейтинг жанра Action значительно выше, чем в жанре Sports (6.86 и 6.51 соответственно)."
   ]
  },
  {
   "cell_type": "markdown",
   "id": "2f019122",
   "metadata": {},
   "source": [
    "## Общий вывод <a class =\"anchor\" id=\"chapter4\"></a>"
   ]
  },
  {
   "cell_type": "markdown",
   "id": "4656d8ff",
   "metadata": {},
   "source": [
    "1. Представленный набор данных обладает достаточной полнотой в части основных разделов, касающихся времени выхода игр, жанров и продаж, но есть большие объемы пропусков в столбцах с рейтингами и оценками игр. С учетом масштаба пропусков, корректно заполнить их не получится. \n",
    "\n",
    "\n",
    "2. **К числу растущих платформ можно отнести PS4 и XOne, которые стартовали в 2013 года и стремятся к пику своего жизненного цикла**. X360 и PS3, лидировавшие вначале 2010-х, находятся в завершающей стадии своего жизненного цикла и показывают динамичный спад продаж. 3DS все еще показывает существенные продажи, заметен выраженный ниспадающий тренд. WiiU достигла своего пика в 2014 году и уже уже по итогам 2015 года был заметный спад продаж, который, вероятно, продолжится по итогам 2016 года и в 2017-м. **Поэтому акцент в продвижении стоит сделать на игры, выпускаемые на платформах PS4 и XOne**. \n",
    "\n",
    "\n",
    "3. Продажи игр на платформах PS4, PS3, X360 и XOne имеют довольно широкий межквартильный размах, достигающий в третьям квантиле 0.7 - 0.8 млн копий. Также данные платформы выделяются довольно большим количеством выбросов, то есть суперхитовых игр. Абсолютным чемпионом по данному показателю можно считать уходящего лидера Wii, у которого в активе проекты, проданные в размере 30-35 млн копий. **Из растущих компаний к его результату ближе всего PS4 и XOne: продажи главных хитов в диапазоне от 5 до 10 млн копий**. Это еще один аргумент в пользу продвижения игр на платформах PS4 и XOne.\n",
    "\n",
    "\n",
    "4. **Выявлен значительный коэффициент корреляции (около 0.4) между оценками критиков и мировыми продажами**. Взаимосвязь между оценками показателей отчетливо заметна на диаграммах рассеивания. Корреляция между оценками пользователей и продажами слабая (около 0.11), но на диаграммах рассеивания все же видно, что игр, показывающих хорошие продажи с высокими оценками пользователей значительно больше, чем игр с высокими продажами и низкими оценками. Поэтому стоит сконцентироваться на на продвижении игр с высокими оценками критиков.\n",
    "\n",
    "\n",
    "5. **В пересчете на одну игру безоговорочный лидер среди жанров по числу проданных копий - Shooter**. Хоть в нем выпускается не так много игр как в жанрах Action или Sports, средние продажи \"шутеров\" составляют более 1 млн копий - это вдвое больше, чем средние продажи проектов в жанрах Action или Sports. Также по объему проданных копий выдеяются платформеры, гонки и ролевые игры. *Поэтому при продвижении стоит отдавать приоритет шутерам*.\n",
    "\n",
    "\n",
    "6. **Регионы продаж имеют значительные различия по популярности платформ**. Так в Северной Америке лидировала X360 (32%), поэтому в данном регионе имеет смысл акцентировать внимание на проектах ее преемника XOne. В Европе более популярна PS3 (более 30%), поэтому в качестве приоритета можно обозначить ее преемника PS4. В Японии на портативные игровые системы за последние 10 лет приходилось половина продаж. У PS3 только 19,2%, но также была значительна доля портративной версии PS - 16,3%. На игры на данных платформах при прожвижении на японском рынке стоит обратить внимание. \n",
    "\n",
    "\n",
    "7. По жанровым предпочтениям заметны большие различия между западными странами и Японией. В СА и ЕС лидирую экшены и шутеры (около более 50% продаж по топ-5 жанров). В Японии с большим отрывом лидирует Role-Playing, в пятерку самых популярных жанров не входят шутеры и в 2 раза меньше доля спортивных игр. **Потому в СА и ЕС лучше рекламировать экшены и шутеры, а в японии в первую очередь ролевые игры**.\n",
    "\n",
    "\n",
    "8. В ЕС и СА доля продаж по возрастным рейтингам схожи. Около 35% приходится на игры без возрастных ограничений, порядка 20% - на игры для тинэйджеров и старше. Доля игр для взрослых довольно велика, но все же представляет меньшую долю рынка - около 30%. В Японии доля продаж с рейтингом для взрослых (M) почти в два раза меньше, что говорит о том, что на данном рынке значительно меньше аппетит ко взрослому игровому контенту и там продвиать его не предпочтительно. **В странах Запада на детский и подростковый контент приходится порядка двух третей продаж попяти самым популярным рейтингам. Поэтому разумно продвигать проекты из данных категорий**.\n",
    "\n",
    "\n",
    "9. Среднее значения рейтинга по актуальному периоду изучаемого датафрейма у XBox составляет 6.54, а у PC - 6.78. Средний пользовательский рейтинг жанра Action значительно выше, чем в жанре Sports (6.86 и 6.51 соответственно). Статистические тесты показывают, что гипотеза о равенстве соответствующих рейтингов должны быть отвергнута.  \n"
   ]
  }
 ],
 "metadata": {
  "ExecuteTimeLog": [
   {
    "duration": 59,
    "start_time": "2022-06-08T14:27:11.600Z"
   },
   {
    "duration": 1796,
    "start_time": "2022-06-08T14:27:21.098Z"
   },
   {
    "duration": 14,
    "start_time": "2022-06-08T14:27:28.948Z"
   },
   {
    "duration": 1157,
    "start_time": "2022-06-08T16:22:57.200Z"
   },
   {
    "duration": 0,
    "start_time": "2022-06-08T16:22:58.360Z"
   },
   {
    "duration": 0,
    "start_time": "2022-06-08T16:22:58.361Z"
   },
   {
    "duration": 0,
    "start_time": "2022-06-08T16:22:58.362Z"
   },
   {
    "duration": 0,
    "start_time": "2022-06-08T16:22:58.363Z"
   },
   {
    "duration": 0,
    "start_time": "2022-06-08T16:22:58.364Z"
   },
   {
    "duration": 0,
    "start_time": "2022-06-08T16:22:58.365Z"
   },
   {
    "duration": 0,
    "start_time": "2022-06-08T16:22:58.366Z"
   },
   {
    "duration": 0,
    "start_time": "2022-06-08T16:22:58.367Z"
   },
   {
    "duration": 0,
    "start_time": "2022-06-08T16:22:58.367Z"
   },
   {
    "duration": 0,
    "start_time": "2022-06-08T16:22:58.368Z"
   },
   {
    "duration": 0,
    "start_time": "2022-06-08T16:22:58.378Z"
   },
   {
    "duration": 0,
    "start_time": "2022-06-08T16:22:58.379Z"
   },
   {
    "duration": 0,
    "start_time": "2022-06-08T16:22:58.380Z"
   },
   {
    "duration": 0,
    "start_time": "2022-06-08T16:22:58.381Z"
   },
   {
    "duration": 0,
    "start_time": "2022-06-08T16:22:58.382Z"
   },
   {
    "duration": 0,
    "start_time": "2022-06-08T16:22:58.383Z"
   },
   {
    "duration": 0,
    "start_time": "2022-06-08T16:22:58.384Z"
   },
   {
    "duration": 0,
    "start_time": "2022-06-08T16:22:58.384Z"
   },
   {
    "duration": 0,
    "start_time": "2022-06-08T16:22:58.391Z"
   },
   {
    "duration": 0,
    "start_time": "2022-06-08T16:22:58.392Z"
   },
   {
    "duration": 0,
    "start_time": "2022-06-08T16:22:58.394Z"
   },
   {
    "duration": 0,
    "start_time": "2022-06-08T16:22:58.395Z"
   },
   {
    "duration": 0,
    "start_time": "2022-06-08T16:22:58.396Z"
   },
   {
    "duration": 0,
    "start_time": "2022-06-08T16:22:58.397Z"
   },
   {
    "duration": 0,
    "start_time": "2022-06-08T16:22:58.398Z"
   },
   {
    "duration": 0,
    "start_time": "2022-06-08T16:22:58.399Z"
   },
   {
    "duration": 0,
    "start_time": "2022-06-08T16:22:58.400Z"
   },
   {
    "duration": 0,
    "start_time": "2022-06-08T16:22:58.402Z"
   },
   {
    "duration": 0,
    "start_time": "2022-06-08T16:22:58.403Z"
   },
   {
    "duration": 0,
    "start_time": "2022-06-08T16:22:58.404Z"
   },
   {
    "duration": 0,
    "start_time": "2022-06-08T16:22:58.407Z"
   },
   {
    "duration": 0,
    "start_time": "2022-06-08T16:22:58.408Z"
   },
   {
    "duration": 0,
    "start_time": "2022-06-08T16:22:58.408Z"
   },
   {
    "duration": 0,
    "start_time": "2022-06-08T16:22:58.410Z"
   },
   {
    "duration": 0,
    "start_time": "2022-06-08T16:22:58.411Z"
   },
   {
    "duration": 0,
    "start_time": "2022-06-08T16:22:58.412Z"
   },
   {
    "duration": 0,
    "start_time": "2022-06-08T16:22:58.413Z"
   },
   {
    "duration": 0,
    "start_time": "2022-06-08T16:22:58.414Z"
   },
   {
    "duration": 0,
    "start_time": "2022-06-08T16:22:58.415Z"
   },
   {
    "duration": 0,
    "start_time": "2022-06-08T16:22:58.416Z"
   },
   {
    "duration": 0,
    "start_time": "2022-06-08T16:22:58.417Z"
   },
   {
    "duration": 0,
    "start_time": "2022-06-08T16:22:58.418Z"
   },
   {
    "duration": 0,
    "start_time": "2022-06-08T16:22:58.419Z"
   },
   {
    "duration": 0,
    "start_time": "2022-06-08T16:22:58.420Z"
   },
   {
    "duration": 0,
    "start_time": "2022-06-08T16:22:58.421Z"
   },
   {
    "duration": 0,
    "start_time": "2022-06-08T16:22:58.422Z"
   },
   {
    "duration": 0,
    "start_time": "2022-06-08T16:22:58.422Z"
   },
   {
    "duration": 0,
    "start_time": "2022-06-08T16:22:58.479Z"
   },
   {
    "duration": 0,
    "start_time": "2022-06-08T16:22:58.480Z"
   },
   {
    "duration": 0,
    "start_time": "2022-06-08T16:22:58.480Z"
   },
   {
    "duration": 0,
    "start_time": "2022-06-08T16:22:58.481Z"
   },
   {
    "duration": 0,
    "start_time": "2022-06-08T16:22:58.482Z"
   },
   {
    "duration": 185,
    "start_time": "2022-06-08T16:23:06.719Z"
   },
   {
    "duration": 1117,
    "start_time": "2022-06-08T16:27:23.377Z"
   },
   {
    "duration": 13,
    "start_time": "2022-06-08T16:27:24.496Z"
   },
   {
    "duration": 593,
    "start_time": "2022-06-08T16:27:24.510Z"
   },
   {
    "duration": 11,
    "start_time": "2022-06-08T16:27:25.105Z"
   },
   {
    "duration": 8,
    "start_time": "2022-06-08T16:27:25.118Z"
   },
   {
    "duration": 337,
    "start_time": "2022-06-08T16:27:25.127Z"
   },
   {
    "duration": 13,
    "start_time": "2022-06-08T16:27:25.466Z"
   },
   {
    "duration": 4,
    "start_time": "2022-06-08T16:27:25.480Z"
   },
   {
    "duration": 16,
    "start_time": "2022-06-08T16:27:25.488Z"
   },
   {
    "duration": 5,
    "start_time": "2022-06-08T16:27:25.505Z"
   },
   {
    "duration": 22,
    "start_time": "2022-06-08T16:27:25.511Z"
   },
   {
    "duration": 161,
    "start_time": "2022-06-08T16:27:25.535Z"
   },
   {
    "duration": 0,
    "start_time": "2022-06-08T16:27:25.699Z"
   },
   {
    "duration": 0,
    "start_time": "2022-06-08T16:27:25.700Z"
   },
   {
    "duration": 0,
    "start_time": "2022-06-08T16:27:25.701Z"
   },
   {
    "duration": 0,
    "start_time": "2022-06-08T16:27:25.702Z"
   },
   {
    "duration": 0,
    "start_time": "2022-06-08T16:27:25.703Z"
   },
   {
    "duration": 0,
    "start_time": "2022-06-08T16:27:25.704Z"
   },
   {
    "duration": 0,
    "start_time": "2022-06-08T16:27:25.705Z"
   },
   {
    "duration": 0,
    "start_time": "2022-06-08T16:27:25.706Z"
   },
   {
    "duration": 0,
    "start_time": "2022-06-08T16:27:25.707Z"
   },
   {
    "duration": 0,
    "start_time": "2022-06-08T16:27:25.708Z"
   },
   {
    "duration": 0,
    "start_time": "2022-06-08T16:27:25.709Z"
   },
   {
    "duration": 0,
    "start_time": "2022-06-08T16:27:25.710Z"
   },
   {
    "duration": 0,
    "start_time": "2022-06-08T16:27:25.711Z"
   },
   {
    "duration": 0,
    "start_time": "2022-06-08T16:27:25.712Z"
   },
   {
    "duration": 0,
    "start_time": "2022-06-08T16:27:25.713Z"
   },
   {
    "duration": 0,
    "start_time": "2022-06-08T16:27:25.715Z"
   },
   {
    "duration": 0,
    "start_time": "2022-06-08T16:27:25.716Z"
   },
   {
    "duration": 0,
    "start_time": "2022-06-08T16:27:25.717Z"
   },
   {
    "duration": 0,
    "start_time": "2022-06-08T16:27:25.718Z"
   },
   {
    "duration": 0,
    "start_time": "2022-06-08T16:27:25.718Z"
   },
   {
    "duration": 0,
    "start_time": "2022-06-08T16:27:25.719Z"
   },
   {
    "duration": 0,
    "start_time": "2022-06-08T16:27:25.721Z"
   },
   {
    "duration": 0,
    "start_time": "2022-06-08T16:27:25.721Z"
   },
   {
    "duration": 0,
    "start_time": "2022-06-08T16:27:25.722Z"
   },
   {
    "duration": 0,
    "start_time": "2022-06-08T16:27:25.723Z"
   },
   {
    "duration": 0,
    "start_time": "2022-06-08T16:27:25.724Z"
   },
   {
    "duration": 0,
    "start_time": "2022-06-08T16:27:25.725Z"
   },
   {
    "duration": 0,
    "start_time": "2022-06-08T16:27:25.726Z"
   },
   {
    "duration": 0,
    "start_time": "2022-06-08T16:27:25.727Z"
   },
   {
    "duration": 0,
    "start_time": "2022-06-08T16:27:25.728Z"
   },
   {
    "duration": 1,
    "start_time": "2022-06-08T16:27:25.728Z"
   },
   {
    "duration": 0,
    "start_time": "2022-06-08T16:27:25.730Z"
   },
   {
    "duration": 0,
    "start_time": "2022-06-08T16:27:25.731Z"
   },
   {
    "duration": 0,
    "start_time": "2022-06-08T16:27:25.732Z"
   },
   {
    "duration": 0,
    "start_time": "2022-06-08T16:27:25.732Z"
   },
   {
    "duration": 0,
    "start_time": "2022-06-08T16:27:25.733Z"
   },
   {
    "duration": 2,
    "start_time": "2022-06-08T16:27:25.787Z"
   },
   {
    "duration": 0,
    "start_time": "2022-06-08T16:27:25.790Z"
   },
   {
    "duration": 0,
    "start_time": "2022-06-08T16:27:25.790Z"
   },
   {
    "duration": 0,
    "start_time": "2022-06-08T16:27:25.791Z"
   },
   {
    "duration": 0,
    "start_time": "2022-06-08T16:27:25.792Z"
   },
   {
    "duration": 11,
    "start_time": "2022-06-08T16:31:53.692Z"
   },
   {
    "duration": 544,
    "start_time": "2022-06-08T16:32:20.558Z"
   },
   {
    "duration": 1007,
    "start_time": "2022-06-08T16:32:39.041Z"
   },
   {
    "duration": 14,
    "start_time": "2022-06-08T16:32:40.050Z"
   },
   {
    "duration": 580,
    "start_time": "2022-06-08T16:32:40.065Z"
   },
   {
    "duration": 97,
    "start_time": "2022-06-08T16:32:40.647Z"
   },
   {
    "duration": 0,
    "start_time": "2022-06-08T16:32:40.746Z"
   },
   {
    "duration": 0,
    "start_time": "2022-06-08T16:32:40.756Z"
   },
   {
    "duration": 0,
    "start_time": "2022-06-08T16:32:40.757Z"
   },
   {
    "duration": 0,
    "start_time": "2022-06-08T16:32:40.758Z"
   },
   {
    "duration": 0,
    "start_time": "2022-06-08T16:32:40.759Z"
   },
   {
    "duration": 0,
    "start_time": "2022-06-08T16:32:40.760Z"
   },
   {
    "duration": 0,
    "start_time": "2022-06-08T16:32:40.761Z"
   },
   {
    "duration": 0,
    "start_time": "2022-06-08T16:32:40.761Z"
   },
   {
    "duration": 0,
    "start_time": "2022-06-08T16:32:40.762Z"
   },
   {
    "duration": 0,
    "start_time": "2022-06-08T16:32:40.763Z"
   },
   {
    "duration": 0,
    "start_time": "2022-06-08T16:32:40.764Z"
   },
   {
    "duration": 0,
    "start_time": "2022-06-08T16:32:40.765Z"
   },
   {
    "duration": 0,
    "start_time": "2022-06-08T16:32:40.766Z"
   },
   {
    "duration": 0,
    "start_time": "2022-06-08T16:32:40.768Z"
   },
   {
    "duration": 0,
    "start_time": "2022-06-08T16:32:40.778Z"
   },
   {
    "duration": 0,
    "start_time": "2022-06-08T16:32:40.779Z"
   },
   {
    "duration": 0,
    "start_time": "2022-06-08T16:32:40.780Z"
   },
   {
    "duration": 0,
    "start_time": "2022-06-08T16:32:40.780Z"
   },
   {
    "duration": 0,
    "start_time": "2022-06-08T16:32:40.781Z"
   },
   {
    "duration": 0,
    "start_time": "2022-06-08T16:32:40.784Z"
   },
   {
    "duration": 0,
    "start_time": "2022-06-08T16:32:40.785Z"
   },
   {
    "duration": 0,
    "start_time": "2022-06-08T16:32:40.786Z"
   },
   {
    "duration": 0,
    "start_time": "2022-06-08T16:32:40.787Z"
   },
   {
    "duration": 0,
    "start_time": "2022-06-08T16:32:40.788Z"
   },
   {
    "duration": 0,
    "start_time": "2022-06-08T16:32:40.790Z"
   },
   {
    "duration": 0,
    "start_time": "2022-06-08T16:32:40.791Z"
   },
   {
    "duration": 0,
    "start_time": "2022-06-08T16:32:40.792Z"
   },
   {
    "duration": 0,
    "start_time": "2022-06-08T16:32:40.793Z"
   },
   {
    "duration": 0,
    "start_time": "2022-06-08T16:32:40.794Z"
   },
   {
    "duration": 0,
    "start_time": "2022-06-08T16:32:40.795Z"
   },
   {
    "duration": 0,
    "start_time": "2022-06-08T16:32:40.796Z"
   },
   {
    "duration": 0,
    "start_time": "2022-06-08T16:32:40.797Z"
   },
   {
    "duration": 0,
    "start_time": "2022-06-08T16:32:40.798Z"
   },
   {
    "duration": 0,
    "start_time": "2022-06-08T16:32:40.800Z"
   },
   {
    "duration": 0,
    "start_time": "2022-06-08T16:32:40.801Z"
   },
   {
    "duration": 0,
    "start_time": "2022-06-08T16:32:40.802Z"
   },
   {
    "duration": 0,
    "start_time": "2022-06-08T16:32:40.803Z"
   },
   {
    "duration": 0,
    "start_time": "2022-06-08T16:32:40.804Z"
   },
   {
    "duration": 0,
    "start_time": "2022-06-08T16:32:40.805Z"
   },
   {
    "duration": 0,
    "start_time": "2022-06-08T16:32:40.808Z"
   },
   {
    "duration": 0,
    "start_time": "2022-06-08T16:32:40.809Z"
   },
   {
    "duration": 0,
    "start_time": "2022-06-08T16:32:40.810Z"
   },
   {
    "duration": 0,
    "start_time": "2022-06-08T16:32:40.811Z"
   },
   {
    "duration": 0,
    "start_time": "2022-06-08T16:32:40.812Z"
   },
   {
    "duration": 0,
    "start_time": "2022-06-08T16:32:40.813Z"
   },
   {
    "duration": 0,
    "start_time": "2022-06-08T16:32:40.814Z"
   },
   {
    "duration": 0,
    "start_time": "2022-06-08T16:32:40.815Z"
   },
   {
    "duration": 0,
    "start_time": "2022-06-08T16:32:40.816Z"
   },
   {
    "duration": 0,
    "start_time": "2022-06-08T16:32:40.816Z"
   },
   {
    "duration": 0,
    "start_time": "2022-06-08T16:32:40.818Z"
   },
   {
    "duration": 5,
    "start_time": "2022-06-08T16:33:08.129Z"
   },
   {
    "duration": 21,
    "start_time": "2022-06-08T16:34:21.942Z"
   },
   {
    "duration": 23,
    "start_time": "2022-06-08T16:34:34.724Z"
   },
   {
    "duration": 16,
    "start_time": "2022-06-08T16:35:04.178Z"
   },
   {
    "duration": 35,
    "start_time": "2022-06-08T16:37:22.923Z"
   },
   {
    "duration": 10,
    "start_time": "2022-06-08T16:37:25.410Z"
   },
   {
    "duration": 23,
    "start_time": "2022-06-08T16:37:31.422Z"
   },
   {
    "duration": 14,
    "start_time": "2022-06-08T16:48:56.700Z"
   },
   {
    "duration": 10,
    "start_time": "2022-06-08T16:49:07.741Z"
   },
   {
    "duration": 32,
    "start_time": "2022-06-08T16:51:23.464Z"
   },
   {
    "duration": 43,
    "start_time": "2022-06-08T16:55:18.186Z"
   },
   {
    "duration": 19,
    "start_time": "2022-06-08T16:55:24.274Z"
   },
   {
    "duration": 33,
    "start_time": "2022-06-08T16:55:30.373Z"
   },
   {
    "duration": 35,
    "start_time": "2022-06-08T16:57:22.495Z"
   },
   {
    "duration": 25,
    "start_time": "2022-06-08T16:58:19.623Z"
   },
   {
    "duration": 22,
    "start_time": "2022-06-08T17:00:15.493Z"
   },
   {
    "duration": 20,
    "start_time": "2022-06-08T17:00:25.623Z"
   },
   {
    "duration": 30,
    "start_time": "2022-06-08T17:01:07.754Z"
   },
   {
    "duration": 32,
    "start_time": "2022-06-08T17:02:47.187Z"
   },
   {
    "duration": 20,
    "start_time": "2022-06-08T17:03:31.796Z"
   },
   {
    "duration": 18,
    "start_time": "2022-06-08T17:04:01.696Z"
   },
   {
    "duration": 24,
    "start_time": "2022-06-08T17:04:12.645Z"
   },
   {
    "duration": 25,
    "start_time": "2022-06-08T17:04:18.201Z"
   },
   {
    "duration": 33,
    "start_time": "2022-06-08T17:09:10.440Z"
   },
   {
    "duration": 8,
    "start_time": "2022-06-08T17:09:47.748Z"
   },
   {
    "duration": 1097,
    "start_time": "2022-06-08T17:17:08.194Z"
   },
   {
    "duration": 13,
    "start_time": "2022-06-08T17:17:09.293Z"
   },
   {
    "duration": 603,
    "start_time": "2022-06-08T17:17:09.307Z"
   },
   {
    "duration": 39,
    "start_time": "2022-06-08T17:17:09.911Z"
   },
   {
    "duration": 43,
    "start_time": "2022-06-08T17:17:09.953Z"
   },
   {
    "duration": 12,
    "start_time": "2022-06-08T17:17:09.997Z"
   },
   {
    "duration": 5,
    "start_time": "2022-06-08T17:17:10.011Z"
   },
   {
    "duration": 360,
    "start_time": "2022-06-08T17:17:10.017Z"
   },
   {
    "duration": 18,
    "start_time": "2022-06-08T17:17:10.378Z"
   },
   {
    "duration": 10,
    "start_time": "2022-06-08T17:17:10.398Z"
   },
   {
    "duration": 24,
    "start_time": "2022-06-08T17:17:10.409Z"
   },
   {
    "duration": 124,
    "start_time": "2022-06-08T17:17:10.435Z"
   },
   {
    "duration": 0,
    "start_time": "2022-06-08T17:17:10.562Z"
   },
   {
    "duration": 0,
    "start_time": "2022-06-08T17:17:10.563Z"
   },
   {
    "duration": 0,
    "start_time": "2022-06-08T17:17:10.564Z"
   },
   {
    "duration": 0,
    "start_time": "2022-06-08T17:17:10.565Z"
   },
   {
    "duration": 0,
    "start_time": "2022-06-08T17:17:10.566Z"
   },
   {
    "duration": 0,
    "start_time": "2022-06-08T17:17:10.567Z"
   },
   {
    "duration": 1,
    "start_time": "2022-06-08T17:17:10.580Z"
   },
   {
    "duration": 0,
    "start_time": "2022-06-08T17:17:10.581Z"
   },
   {
    "duration": 0,
    "start_time": "2022-06-08T17:17:10.582Z"
   },
   {
    "duration": 0,
    "start_time": "2022-06-08T17:17:10.582Z"
   },
   {
    "duration": 0,
    "start_time": "2022-06-08T17:17:10.583Z"
   },
   {
    "duration": 0,
    "start_time": "2022-06-08T17:17:10.583Z"
   },
   {
    "duration": 0,
    "start_time": "2022-06-08T17:17:10.584Z"
   },
   {
    "duration": 0,
    "start_time": "2022-06-08T17:17:10.584Z"
   },
   {
    "duration": 0,
    "start_time": "2022-06-08T17:17:10.585Z"
   },
   {
    "duration": 0,
    "start_time": "2022-06-08T17:17:10.585Z"
   },
   {
    "duration": 0,
    "start_time": "2022-06-08T17:17:10.586Z"
   },
   {
    "duration": 0,
    "start_time": "2022-06-08T17:17:10.590Z"
   },
   {
    "duration": 0,
    "start_time": "2022-06-08T17:17:10.591Z"
   },
   {
    "duration": 0,
    "start_time": "2022-06-08T17:17:10.592Z"
   },
   {
    "duration": 0,
    "start_time": "2022-06-08T17:17:10.593Z"
   },
   {
    "duration": 0,
    "start_time": "2022-06-08T17:17:10.595Z"
   },
   {
    "duration": 0,
    "start_time": "2022-06-08T17:17:10.596Z"
   },
   {
    "duration": 0,
    "start_time": "2022-06-08T17:17:10.597Z"
   },
   {
    "duration": 0,
    "start_time": "2022-06-08T17:17:10.597Z"
   },
   {
    "duration": 0,
    "start_time": "2022-06-08T17:17:10.600Z"
   },
   {
    "duration": 0,
    "start_time": "2022-06-08T17:17:10.601Z"
   },
   {
    "duration": 0,
    "start_time": "2022-06-08T17:17:10.602Z"
   },
   {
    "duration": 0,
    "start_time": "2022-06-08T17:17:10.603Z"
   },
   {
    "duration": 0,
    "start_time": "2022-06-08T17:17:10.604Z"
   },
   {
    "duration": 0,
    "start_time": "2022-06-08T17:17:10.604Z"
   },
   {
    "duration": 0,
    "start_time": "2022-06-08T17:17:10.605Z"
   },
   {
    "duration": 0,
    "start_time": "2022-06-08T17:17:10.606Z"
   },
   {
    "duration": 0,
    "start_time": "2022-06-08T17:17:10.607Z"
   },
   {
    "duration": 0,
    "start_time": "2022-06-08T17:17:10.608Z"
   },
   {
    "duration": 0,
    "start_time": "2022-06-08T17:17:10.609Z"
   },
   {
    "duration": 0,
    "start_time": "2022-06-08T17:17:10.609Z"
   },
   {
    "duration": 0,
    "start_time": "2022-06-08T17:17:10.610Z"
   },
   {
    "duration": 0,
    "start_time": "2022-06-08T17:17:10.611Z"
   },
   {
    "duration": 0,
    "start_time": "2022-06-08T17:17:10.612Z"
   },
   {
    "duration": 0,
    "start_time": "2022-06-08T17:17:10.613Z"
   },
   {
    "duration": 7,
    "start_time": "2022-06-08T17:18:53.803Z"
   },
   {
    "duration": 16,
    "start_time": "2022-06-08T17:19:16.303Z"
   },
   {
    "duration": 6,
    "start_time": "2022-06-08T17:21:26.300Z"
   },
   {
    "duration": 6,
    "start_time": "2022-06-08T17:22:12.814Z"
   },
   {
    "duration": 1062,
    "start_time": "2022-06-08T17:22:18.133Z"
   },
   {
    "duration": 14,
    "start_time": "2022-06-08T17:22:19.197Z"
   },
   {
    "duration": 621,
    "start_time": "2022-06-08T17:22:19.212Z"
   },
   {
    "duration": 50,
    "start_time": "2022-06-08T17:22:19.836Z"
   },
   {
    "duration": 27,
    "start_time": "2022-06-08T17:22:19.888Z"
   },
   {
    "duration": 12,
    "start_time": "2022-06-08T17:22:19.917Z"
   },
   {
    "duration": 11,
    "start_time": "2022-06-08T17:22:19.931Z"
   },
   {
    "duration": 361,
    "start_time": "2022-06-08T17:22:19.945Z"
   },
   {
    "duration": 6,
    "start_time": "2022-06-08T17:22:20.308Z"
   },
   {
    "duration": 7,
    "start_time": "2022-06-08T17:22:20.317Z"
   },
   {
    "duration": 25,
    "start_time": "2022-06-08T17:22:20.325Z"
   },
   {
    "duration": 5,
    "start_time": "2022-06-08T17:22:20.352Z"
   },
   {
    "duration": 20,
    "start_time": "2022-06-08T17:22:20.359Z"
   },
   {
    "duration": 11,
    "start_time": "2022-06-08T17:22:20.386Z"
   },
   {
    "duration": 10,
    "start_time": "2022-06-08T17:22:20.399Z"
   },
   {
    "duration": 98,
    "start_time": "2022-06-08T17:22:20.410Z"
   },
   {
    "duration": 0,
    "start_time": "2022-06-08T17:22:20.510Z"
   },
   {
    "duration": 0,
    "start_time": "2022-06-08T17:22:20.511Z"
   },
   {
    "duration": 0,
    "start_time": "2022-06-08T17:22:20.512Z"
   },
   {
    "duration": 0,
    "start_time": "2022-06-08T17:22:20.513Z"
   },
   {
    "duration": 0,
    "start_time": "2022-06-08T17:22:20.514Z"
   },
   {
    "duration": 0,
    "start_time": "2022-06-08T17:22:20.515Z"
   },
   {
    "duration": 0,
    "start_time": "2022-06-08T17:22:20.517Z"
   },
   {
    "duration": 0,
    "start_time": "2022-06-08T17:22:20.517Z"
   },
   {
    "duration": 0,
    "start_time": "2022-06-08T17:22:20.519Z"
   },
   {
    "duration": 0,
    "start_time": "2022-06-08T17:22:20.520Z"
   },
   {
    "duration": 0,
    "start_time": "2022-06-08T17:22:20.524Z"
   },
   {
    "duration": 0,
    "start_time": "2022-06-08T17:22:20.526Z"
   },
   {
    "duration": 0,
    "start_time": "2022-06-08T17:22:20.527Z"
   },
   {
    "duration": 0,
    "start_time": "2022-06-08T17:22:20.529Z"
   },
   {
    "duration": 0,
    "start_time": "2022-06-08T17:22:20.531Z"
   },
   {
    "duration": 0,
    "start_time": "2022-06-08T17:22:20.532Z"
   },
   {
    "duration": 0,
    "start_time": "2022-06-08T17:22:20.533Z"
   },
   {
    "duration": 0,
    "start_time": "2022-06-08T17:22:20.534Z"
   },
   {
    "duration": 0,
    "start_time": "2022-06-08T17:22:20.535Z"
   },
   {
    "duration": 0,
    "start_time": "2022-06-08T17:22:20.536Z"
   },
   {
    "duration": 0,
    "start_time": "2022-06-08T17:22:20.579Z"
   },
   {
    "duration": 0,
    "start_time": "2022-06-08T17:22:20.580Z"
   },
   {
    "duration": 0,
    "start_time": "2022-06-08T17:22:20.581Z"
   },
   {
    "duration": 0,
    "start_time": "2022-06-08T17:22:20.581Z"
   },
   {
    "duration": 2,
    "start_time": "2022-06-08T17:22:20.582Z"
   },
   {
    "duration": 0,
    "start_time": "2022-06-08T17:22:20.585Z"
   },
   {
    "duration": 0,
    "start_time": "2022-06-08T17:22:20.585Z"
   },
   {
    "duration": 0,
    "start_time": "2022-06-08T17:22:20.588Z"
   },
   {
    "duration": 0,
    "start_time": "2022-06-08T17:22:20.589Z"
   },
   {
    "duration": 0,
    "start_time": "2022-06-08T17:22:20.590Z"
   },
   {
    "duration": 0,
    "start_time": "2022-06-08T17:22:20.591Z"
   },
   {
    "duration": 0,
    "start_time": "2022-06-08T17:22:20.592Z"
   },
   {
    "duration": 1,
    "start_time": "2022-06-08T17:22:20.592Z"
   },
   {
    "duration": 0,
    "start_time": "2022-06-08T17:22:20.593Z"
   },
   {
    "duration": 0,
    "start_time": "2022-06-08T17:22:20.594Z"
   },
   {
    "duration": 0,
    "start_time": "2022-06-08T17:22:20.595Z"
   },
   {
    "duration": 0,
    "start_time": "2022-06-08T17:22:20.596Z"
   },
   {
    "duration": 0,
    "start_time": "2022-06-08T17:22:20.597Z"
   },
   {
    "duration": 0,
    "start_time": "2022-06-08T17:22:20.598Z"
   },
   {
    "duration": 0,
    "start_time": "2022-06-08T17:22:20.599Z"
   },
   {
    "duration": 4,
    "start_time": "2022-06-08T17:23:01.707Z"
   },
   {
    "duration": 5,
    "start_time": "2022-06-08T17:23:03.933Z"
   },
   {
    "duration": 1160,
    "start_time": "2022-06-08T17:23:13.006Z"
   },
   {
    "duration": 36,
    "start_time": "2022-06-08T17:23:14.168Z"
   },
   {
    "duration": 647,
    "start_time": "2022-06-08T17:23:14.210Z"
   },
   {
    "duration": 42,
    "start_time": "2022-06-08T17:23:14.860Z"
   },
   {
    "duration": 32,
    "start_time": "2022-06-08T17:23:14.909Z"
   },
   {
    "duration": 15,
    "start_time": "2022-06-08T17:23:14.942Z"
   },
   {
    "duration": 4,
    "start_time": "2022-06-08T17:23:14.959Z"
   },
   {
    "duration": 391,
    "start_time": "2022-06-08T17:23:14.965Z"
   },
   {
    "duration": 7,
    "start_time": "2022-06-08T17:23:15.358Z"
   },
   {
    "duration": 14,
    "start_time": "2022-06-08T17:23:15.368Z"
   },
   {
    "duration": 49,
    "start_time": "2022-06-08T17:23:15.383Z"
   },
   {
    "duration": 4,
    "start_time": "2022-06-08T17:23:15.434Z"
   },
   {
    "duration": 13,
    "start_time": "2022-06-08T17:23:15.439Z"
   },
   {
    "duration": 9,
    "start_time": "2022-06-08T17:23:15.453Z"
   },
   {
    "duration": 4,
    "start_time": "2022-06-08T17:23:15.464Z"
   },
   {
    "duration": 131,
    "start_time": "2022-06-08T17:23:15.469Z"
   },
   {
    "duration": 0,
    "start_time": "2022-06-08T17:23:15.612Z"
   },
   {
    "duration": 0,
    "start_time": "2022-06-08T17:23:15.613Z"
   },
   {
    "duration": 0,
    "start_time": "2022-06-08T17:23:15.614Z"
   },
   {
    "duration": 1,
    "start_time": "2022-06-08T17:23:15.614Z"
   },
   {
    "duration": 0,
    "start_time": "2022-06-08T17:23:15.615Z"
   },
   {
    "duration": 0,
    "start_time": "2022-06-08T17:23:15.617Z"
   },
   {
    "duration": 0,
    "start_time": "2022-06-08T17:23:15.618Z"
   },
   {
    "duration": 0,
    "start_time": "2022-06-08T17:23:15.619Z"
   },
   {
    "duration": 0,
    "start_time": "2022-06-08T17:23:15.620Z"
   },
   {
    "duration": 0,
    "start_time": "2022-06-08T17:23:15.621Z"
   },
   {
    "duration": 0,
    "start_time": "2022-06-08T17:23:15.622Z"
   },
   {
    "duration": 0,
    "start_time": "2022-06-08T17:23:15.623Z"
   },
   {
    "duration": 0,
    "start_time": "2022-06-08T17:23:15.623Z"
   },
   {
    "duration": 0,
    "start_time": "2022-06-08T17:23:15.624Z"
   },
   {
    "duration": 0,
    "start_time": "2022-06-08T17:23:15.626Z"
   },
   {
    "duration": 0,
    "start_time": "2022-06-08T17:23:15.627Z"
   },
   {
    "duration": 0,
    "start_time": "2022-06-08T17:23:15.629Z"
   },
   {
    "duration": 0,
    "start_time": "2022-06-08T17:23:15.629Z"
   },
   {
    "duration": 0,
    "start_time": "2022-06-08T17:23:15.630Z"
   },
   {
    "duration": 0,
    "start_time": "2022-06-08T17:23:15.631Z"
   },
   {
    "duration": 0,
    "start_time": "2022-06-08T17:23:15.632Z"
   },
   {
    "duration": 0,
    "start_time": "2022-06-08T17:23:15.633Z"
   },
   {
    "duration": 0,
    "start_time": "2022-06-08T17:23:15.634Z"
   },
   {
    "duration": 0,
    "start_time": "2022-06-08T17:23:15.635Z"
   },
   {
    "duration": 0,
    "start_time": "2022-06-08T17:23:15.636Z"
   },
   {
    "duration": 0,
    "start_time": "2022-06-08T17:23:15.637Z"
   },
   {
    "duration": 0,
    "start_time": "2022-06-08T17:23:15.638Z"
   },
   {
    "duration": 0,
    "start_time": "2022-06-08T17:23:15.639Z"
   },
   {
    "duration": 0,
    "start_time": "2022-06-08T17:23:15.640Z"
   },
   {
    "duration": 0,
    "start_time": "2022-06-08T17:23:15.641Z"
   },
   {
    "duration": 0,
    "start_time": "2022-06-08T17:23:15.643Z"
   },
   {
    "duration": 0,
    "start_time": "2022-06-08T17:23:15.644Z"
   },
   {
    "duration": 0,
    "start_time": "2022-06-08T17:23:15.644Z"
   },
   {
    "duration": 0,
    "start_time": "2022-06-08T17:23:15.645Z"
   },
   {
    "duration": 0,
    "start_time": "2022-06-08T17:23:15.646Z"
   },
   {
    "duration": 0,
    "start_time": "2022-06-08T17:23:15.679Z"
   },
   {
    "duration": 0,
    "start_time": "2022-06-08T17:23:15.680Z"
   },
   {
    "duration": 0,
    "start_time": "2022-06-08T17:23:15.680Z"
   },
   {
    "duration": 0,
    "start_time": "2022-06-08T17:23:15.681Z"
   },
   {
    "duration": 0,
    "start_time": "2022-06-08T17:23:15.682Z"
   },
   {
    "duration": 16,
    "start_time": "2022-06-08T17:23:53.265Z"
   },
   {
    "duration": 26,
    "start_time": "2022-06-08T17:24:41.608Z"
   },
   {
    "duration": 15,
    "start_time": "2022-06-08T19:15:44.476Z"
   },
   {
    "duration": 151,
    "start_time": "2022-06-08T19:17:20.748Z"
   },
   {
    "duration": 23,
    "start_time": "2022-06-08T19:17:40.976Z"
   },
   {
    "duration": 32,
    "start_time": "2022-06-08T19:19:26.507Z"
   },
   {
    "duration": 10,
    "start_time": "2022-06-08T19:20:48.196Z"
   },
   {
    "duration": 6,
    "start_time": "2022-06-08T19:21:44.663Z"
   },
   {
    "duration": 22,
    "start_time": "2022-06-08T19:22:02.572Z"
   },
   {
    "duration": 37,
    "start_time": "2022-06-08T19:23:21.504Z"
   },
   {
    "duration": 10,
    "start_time": "2022-06-08T19:30:23.485Z"
   },
   {
    "duration": 8,
    "start_time": "2022-06-08T19:30:32.767Z"
   },
   {
    "duration": 9,
    "start_time": "2022-06-08T19:31:05.591Z"
   },
   {
    "duration": 25,
    "start_time": "2022-06-08T19:31:10.262Z"
   },
   {
    "duration": 7,
    "start_time": "2022-06-08T19:33:12.956Z"
   },
   {
    "duration": 4,
    "start_time": "2022-06-08T19:33:32.820Z"
   },
   {
    "duration": 28,
    "start_time": "2022-06-08T19:33:57.859Z"
   },
   {
    "duration": 26,
    "start_time": "2022-06-08T19:34:13.008Z"
   },
   {
    "duration": 13,
    "start_time": "2022-06-08T19:35:13.028Z"
   },
   {
    "duration": 7,
    "start_time": "2022-06-08T20:39:12.246Z"
   },
   {
    "duration": 1357,
    "start_time": "2022-06-08T20:39:38.152Z"
   },
   {
    "duration": 16,
    "start_time": "2022-06-08T20:39:39.512Z"
   },
   {
    "duration": 638,
    "start_time": "2022-06-08T20:39:39.529Z"
   },
   {
    "duration": 28,
    "start_time": "2022-06-08T20:39:40.169Z"
   },
   {
    "duration": 49,
    "start_time": "2022-06-08T20:39:40.198Z"
   },
   {
    "duration": 14,
    "start_time": "2022-06-08T20:39:40.248Z"
   },
   {
    "duration": 16,
    "start_time": "2022-06-08T20:39:40.263Z"
   },
   {
    "duration": 340,
    "start_time": "2022-06-08T20:39:40.281Z"
   },
   {
    "duration": 6,
    "start_time": "2022-06-08T20:39:40.622Z"
   },
   {
    "duration": 7,
    "start_time": "2022-06-08T20:39:40.631Z"
   },
   {
    "duration": 24,
    "start_time": "2022-06-08T20:39:40.640Z"
   },
   {
    "duration": 4,
    "start_time": "2022-06-08T20:39:40.666Z"
   },
   {
    "duration": 11,
    "start_time": "2022-06-08T20:39:40.671Z"
   },
   {
    "duration": 43,
    "start_time": "2022-06-08T20:39:40.684Z"
   },
   {
    "duration": 5,
    "start_time": "2022-06-08T20:39:40.729Z"
   },
   {
    "duration": 25,
    "start_time": "2022-06-08T20:39:40.736Z"
   },
   {
    "duration": 27,
    "start_time": "2022-06-08T20:39:40.763Z"
   },
   {
    "duration": 35,
    "start_time": "2022-06-08T20:39:40.792Z"
   },
   {
    "duration": 4,
    "start_time": "2022-06-08T20:39:40.829Z"
   },
   {
    "duration": 29,
    "start_time": "2022-06-08T20:39:40.835Z"
   },
   {
    "duration": 61,
    "start_time": "2022-06-08T20:39:40.866Z"
   },
   {
    "duration": 149,
    "start_time": "2022-06-08T20:39:40.929Z"
   },
   {
    "duration": 899,
    "start_time": "2022-06-08T20:39:41.079Z"
   },
   {
    "duration": 16,
    "start_time": "2022-06-08T20:39:41.980Z"
   },
   {
    "duration": 4,
    "start_time": "2022-06-08T20:39:42.027Z"
   },
   {
    "duration": 31,
    "start_time": "2022-06-08T20:39:42.033Z"
   },
   {
    "duration": 325,
    "start_time": "2022-06-08T20:39:42.066Z"
   },
   {
    "duration": 132,
    "start_time": "2022-06-08T20:39:42.394Z"
   },
   {
    "duration": 0,
    "start_time": "2022-06-08T20:39:42.528Z"
   },
   {
    "duration": 0,
    "start_time": "2022-06-08T20:39:42.529Z"
   },
   {
    "duration": 0,
    "start_time": "2022-06-08T20:39:42.530Z"
   },
   {
    "duration": 0,
    "start_time": "2022-06-08T20:39:42.532Z"
   },
   {
    "duration": 0,
    "start_time": "2022-06-08T20:39:42.533Z"
   },
   {
    "duration": 0,
    "start_time": "2022-06-08T20:39:42.534Z"
   },
   {
    "duration": 0,
    "start_time": "2022-06-08T20:39:42.535Z"
   },
   {
    "duration": 0,
    "start_time": "2022-06-08T20:39:42.536Z"
   },
   {
    "duration": 0,
    "start_time": "2022-06-08T20:39:42.538Z"
   },
   {
    "duration": 0,
    "start_time": "2022-06-08T20:39:42.538Z"
   },
   {
    "duration": 0,
    "start_time": "2022-06-08T20:39:42.540Z"
   },
   {
    "duration": 0,
    "start_time": "2022-06-08T20:39:42.540Z"
   },
   {
    "duration": 0,
    "start_time": "2022-06-08T20:39:42.541Z"
   },
   {
    "duration": 0,
    "start_time": "2022-06-08T20:39:42.542Z"
   },
   {
    "duration": 0,
    "start_time": "2022-06-08T20:39:42.544Z"
   },
   {
    "duration": 0,
    "start_time": "2022-06-08T20:39:42.545Z"
   },
   {
    "duration": 0,
    "start_time": "2022-06-08T20:39:42.545Z"
   },
   {
    "duration": 0,
    "start_time": "2022-06-08T20:39:42.546Z"
   },
   {
    "duration": 0,
    "start_time": "2022-06-08T20:39:42.548Z"
   },
   {
    "duration": 0,
    "start_time": "2022-06-08T20:39:42.549Z"
   },
   {
    "duration": 0,
    "start_time": "2022-06-08T20:39:42.550Z"
   },
   {
    "duration": 0,
    "start_time": "2022-06-08T20:39:42.551Z"
   },
   {
    "duration": 0,
    "start_time": "2022-06-08T20:39:42.552Z"
   },
   {
    "duration": 0,
    "start_time": "2022-06-08T20:39:42.554Z"
   },
   {
    "duration": 0,
    "start_time": "2022-06-08T20:39:42.555Z"
   },
   {
    "duration": 0,
    "start_time": "2022-06-08T20:39:42.556Z"
   },
   {
    "duration": 0,
    "start_time": "2022-06-08T20:39:42.557Z"
   },
   {
    "duration": 0,
    "start_time": "2022-06-08T20:39:42.558Z"
   },
   {
    "duration": 136,
    "start_time": "2022-06-08T20:40:09.099Z"
   },
   {
    "duration": 30,
    "start_time": "2022-06-08T20:40:30.932Z"
   },
   {
    "duration": 160,
    "start_time": "2022-06-08T20:40:50.107Z"
   },
   {
    "duration": 224,
    "start_time": "2022-06-08T20:41:34.583Z"
   },
   {
    "duration": 177,
    "start_time": "2022-06-08T20:41:54.459Z"
   },
   {
    "duration": 123,
    "start_time": "2022-06-08T20:42:17.348Z"
   },
   {
    "duration": 126,
    "start_time": "2022-06-08T20:42:31.491Z"
   },
   {
    "duration": 125,
    "start_time": "2022-06-08T20:42:43.952Z"
   },
   {
    "duration": 125,
    "start_time": "2022-06-08T20:43:18.914Z"
   },
   {
    "duration": 333,
    "start_time": "2022-06-09T08:35:12.602Z"
   },
   {
    "duration": 37,
    "start_time": "2022-06-09T08:37:55.523Z"
   },
   {
    "duration": 1334,
    "start_time": "2022-06-09T08:38:08.467Z"
   },
   {
    "duration": 14,
    "start_time": "2022-06-09T08:38:09.802Z"
   },
   {
    "duration": 598,
    "start_time": "2022-06-09T08:38:09.817Z"
   },
   {
    "duration": 26,
    "start_time": "2022-06-09T08:38:10.417Z"
   },
   {
    "duration": 23,
    "start_time": "2022-06-09T08:38:10.445Z"
   },
   {
    "duration": 29,
    "start_time": "2022-06-09T08:38:10.470Z"
   },
   {
    "duration": 16,
    "start_time": "2022-06-09T08:38:10.501Z"
   },
   {
    "duration": 313,
    "start_time": "2022-06-09T08:38:10.518Z"
   },
   {
    "duration": 6,
    "start_time": "2022-06-09T08:38:10.832Z"
   },
   {
    "duration": 19,
    "start_time": "2022-06-09T08:38:10.840Z"
   },
   {
    "duration": 30,
    "start_time": "2022-06-09T08:38:10.860Z"
   },
   {
    "duration": 4,
    "start_time": "2022-06-09T08:38:10.891Z"
   },
   {
    "duration": 19,
    "start_time": "2022-06-09T08:38:10.896Z"
   },
   {
    "duration": 15,
    "start_time": "2022-06-09T08:38:10.917Z"
   },
   {
    "duration": 15,
    "start_time": "2022-06-09T08:38:10.933Z"
   },
   {
    "duration": 24,
    "start_time": "2022-06-09T08:38:10.950Z"
   },
   {
    "duration": 30,
    "start_time": "2022-06-09T08:38:10.975Z"
   },
   {
    "duration": 7,
    "start_time": "2022-06-09T08:38:11.006Z"
   },
   {
    "duration": 18,
    "start_time": "2022-06-09T08:38:11.014Z"
   },
   {
    "duration": 31,
    "start_time": "2022-06-09T08:38:11.034Z"
   },
   {
    "duration": 23,
    "start_time": "2022-06-09T08:38:11.066Z"
   },
   {
    "duration": 113,
    "start_time": "2022-06-09T08:38:11.091Z"
   },
   {
    "duration": 13,
    "start_time": "2022-06-09T08:38:11.206Z"
   },
   {
    "duration": 3,
    "start_time": "2022-06-09T08:38:11.220Z"
   },
   {
    "duration": 98,
    "start_time": "2022-06-09T08:38:11.224Z"
   },
   {
    "duration": 0,
    "start_time": "2022-06-09T08:38:11.324Z"
   },
   {
    "duration": 0,
    "start_time": "2022-06-09T08:38:11.325Z"
   },
   {
    "duration": 0,
    "start_time": "2022-06-09T08:38:11.326Z"
   },
   {
    "duration": 0,
    "start_time": "2022-06-09T08:38:11.327Z"
   },
   {
    "duration": 0,
    "start_time": "2022-06-09T08:38:11.328Z"
   },
   {
    "duration": 0,
    "start_time": "2022-06-09T08:38:11.328Z"
   },
   {
    "duration": 0,
    "start_time": "2022-06-09T08:38:11.329Z"
   },
   {
    "duration": 0,
    "start_time": "2022-06-09T08:38:11.330Z"
   },
   {
    "duration": 0,
    "start_time": "2022-06-09T08:38:11.331Z"
   },
   {
    "duration": 0,
    "start_time": "2022-06-09T08:38:11.332Z"
   },
   {
    "duration": 0,
    "start_time": "2022-06-09T08:38:11.333Z"
   },
   {
    "duration": 0,
    "start_time": "2022-06-09T08:38:11.334Z"
   },
   {
    "duration": 0,
    "start_time": "2022-06-09T08:38:11.335Z"
   },
   {
    "duration": 0,
    "start_time": "2022-06-09T08:38:11.336Z"
   },
   {
    "duration": 0,
    "start_time": "2022-06-09T08:38:11.337Z"
   },
   {
    "duration": 0,
    "start_time": "2022-06-09T08:38:11.338Z"
   },
   {
    "duration": 0,
    "start_time": "2022-06-09T08:38:11.338Z"
   },
   {
    "duration": 0,
    "start_time": "2022-06-09T08:38:11.339Z"
   },
   {
    "duration": 0,
    "start_time": "2022-06-09T08:38:11.340Z"
   },
   {
    "duration": 0,
    "start_time": "2022-06-09T08:38:11.341Z"
   },
   {
    "duration": 0,
    "start_time": "2022-06-09T08:38:11.342Z"
   },
   {
    "duration": 0,
    "start_time": "2022-06-09T08:38:11.343Z"
   },
   {
    "duration": 1,
    "start_time": "2022-06-09T08:38:11.343Z"
   },
   {
    "duration": 0,
    "start_time": "2022-06-09T08:38:11.345Z"
   },
   {
    "duration": 0,
    "start_time": "2022-06-09T08:38:11.345Z"
   },
   {
    "duration": 0,
    "start_time": "2022-06-09T08:38:11.346Z"
   },
   {
    "duration": 0,
    "start_time": "2022-06-09T08:38:11.347Z"
   },
   {
    "duration": 0,
    "start_time": "2022-06-09T08:38:11.390Z"
   },
   {
    "duration": 0,
    "start_time": "2022-06-09T08:38:11.391Z"
   },
   {
    "duration": 0,
    "start_time": "2022-06-09T08:38:11.392Z"
   },
   {
    "duration": 1013,
    "start_time": "2022-06-09T08:40:09.320Z"
   },
   {
    "duration": 12,
    "start_time": "2022-06-09T08:40:10.335Z"
   },
   {
    "duration": 536,
    "start_time": "2022-06-09T08:40:10.349Z"
   },
   {
    "duration": 26,
    "start_time": "2022-06-09T08:40:10.887Z"
   },
   {
    "duration": 23,
    "start_time": "2022-06-09T08:40:10.915Z"
   },
   {
    "duration": 12,
    "start_time": "2022-06-09T08:40:10.939Z"
   },
   {
    "duration": 3,
    "start_time": "2022-06-09T08:40:10.952Z"
   },
   {
    "duration": 355,
    "start_time": "2022-06-09T08:40:10.957Z"
   },
   {
    "duration": 6,
    "start_time": "2022-06-09T08:40:11.313Z"
   },
   {
    "duration": 10,
    "start_time": "2022-06-09T08:40:11.320Z"
   },
   {
    "duration": 28,
    "start_time": "2022-06-09T08:40:11.332Z"
   },
   {
    "duration": 4,
    "start_time": "2022-06-09T08:40:11.362Z"
   },
   {
    "duration": 8,
    "start_time": "2022-06-09T08:40:11.368Z"
   },
   {
    "duration": 11,
    "start_time": "2022-06-09T08:40:11.391Z"
   },
   {
    "duration": 5,
    "start_time": "2022-06-09T08:40:11.404Z"
   },
   {
    "duration": 17,
    "start_time": "2022-06-09T08:40:11.410Z"
   },
   {
    "duration": 23,
    "start_time": "2022-06-09T08:40:11.428Z"
   },
   {
    "duration": 7,
    "start_time": "2022-06-09T08:40:11.452Z"
   },
   {
    "duration": 32,
    "start_time": "2022-06-09T08:40:11.460Z"
   },
   {
    "duration": 29,
    "start_time": "2022-06-09T08:40:11.494Z"
   },
   {
    "duration": 28,
    "start_time": "2022-06-09T08:40:11.524Z"
   },
   {
    "duration": 129,
    "start_time": "2022-06-09T08:40:11.554Z"
   },
   {
    "duration": 26,
    "start_time": "2022-06-09T08:40:11.685Z"
   },
   {
    "duration": 4,
    "start_time": "2022-06-09T08:40:11.713Z"
   },
   {
    "duration": 37,
    "start_time": "2022-06-09T08:40:11.718Z"
   },
   {
    "duration": 281,
    "start_time": "2022-06-09T08:40:11.756Z"
   },
   {
    "duration": 102,
    "start_time": "2022-06-09T08:40:12.038Z"
   },
   {
    "duration": 0,
    "start_time": "2022-06-09T08:40:12.142Z"
   },
   {
    "duration": 0,
    "start_time": "2022-06-09T08:40:12.142Z"
   },
   {
    "duration": 0,
    "start_time": "2022-06-09T08:40:12.143Z"
   },
   {
    "duration": 0,
    "start_time": "2022-06-09T08:40:12.144Z"
   },
   {
    "duration": 0,
    "start_time": "2022-06-09T08:40:12.145Z"
   },
   {
    "duration": 0,
    "start_time": "2022-06-09T08:40:12.146Z"
   },
   {
    "duration": 0,
    "start_time": "2022-06-09T08:40:12.147Z"
   },
   {
    "duration": 0,
    "start_time": "2022-06-09T08:40:12.147Z"
   },
   {
    "duration": 0,
    "start_time": "2022-06-09T08:40:12.148Z"
   },
   {
    "duration": 0,
    "start_time": "2022-06-09T08:40:12.149Z"
   },
   {
    "duration": 0,
    "start_time": "2022-06-09T08:40:12.150Z"
   },
   {
    "duration": 0,
    "start_time": "2022-06-09T08:40:12.151Z"
   },
   {
    "duration": 0,
    "start_time": "2022-06-09T08:40:12.152Z"
   },
   {
    "duration": 0,
    "start_time": "2022-06-09T08:40:12.153Z"
   },
   {
    "duration": 0,
    "start_time": "2022-06-09T08:40:12.154Z"
   },
   {
    "duration": 0,
    "start_time": "2022-06-09T08:40:12.155Z"
   },
   {
    "duration": 0,
    "start_time": "2022-06-09T08:40:12.156Z"
   },
   {
    "duration": 0,
    "start_time": "2022-06-09T08:40:12.156Z"
   },
   {
    "duration": 0,
    "start_time": "2022-06-09T08:40:12.157Z"
   },
   {
    "duration": 0,
    "start_time": "2022-06-09T08:40:12.158Z"
   },
   {
    "duration": 0,
    "start_time": "2022-06-09T08:40:12.159Z"
   },
   {
    "duration": 0,
    "start_time": "2022-06-09T08:40:12.159Z"
   },
   {
    "duration": 0,
    "start_time": "2022-06-09T08:40:12.160Z"
   },
   {
    "duration": 0,
    "start_time": "2022-06-09T08:40:12.161Z"
   },
   {
    "duration": 0,
    "start_time": "2022-06-09T08:40:12.162Z"
   },
   {
    "duration": 0,
    "start_time": "2022-06-09T08:40:12.163Z"
   },
   {
    "duration": 0,
    "start_time": "2022-06-09T08:40:12.191Z"
   },
   {
    "duration": 0,
    "start_time": "2022-06-09T08:40:12.192Z"
   },
   {
    "duration": 29,
    "start_time": "2022-06-09T08:41:17.120Z"
   },
   {
    "duration": 162,
    "start_time": "2022-06-09T08:42:54.220Z"
   },
   {
    "duration": 115,
    "start_time": "2022-06-09T08:44:34.039Z"
   },
   {
    "duration": 284,
    "start_time": "2022-06-09T08:44:44.170Z"
   },
   {
    "duration": 11,
    "start_time": "2022-06-09T08:50:08.269Z"
   },
   {
    "duration": 36,
    "start_time": "2022-06-09T08:50:13.998Z"
   },
   {
    "duration": 7,
    "start_time": "2022-06-09T08:51:56.727Z"
   },
   {
    "duration": 9,
    "start_time": "2022-06-09T08:52:27.062Z"
   },
   {
    "duration": 9,
    "start_time": "2022-06-09T08:53:28.916Z"
   },
   {
    "duration": 335,
    "start_time": "2022-06-09T08:55:02.225Z"
   },
   {
    "duration": 207,
    "start_time": "2022-06-09T08:57:12.841Z"
   },
   {
    "duration": 363,
    "start_time": "2022-06-09T09:01:33.092Z"
   },
   {
    "duration": 366,
    "start_time": "2022-06-09T09:03:27.415Z"
   },
   {
    "duration": 342,
    "start_time": "2022-06-09T09:05:41.237Z"
   },
   {
    "duration": 92,
    "start_time": "2022-06-09T09:05:55.638Z"
   },
   {
    "duration": 99,
    "start_time": "2022-06-09T09:06:18.626Z"
   },
   {
    "duration": 87,
    "start_time": "2022-06-09T09:06:27.392Z"
   },
   {
    "duration": 96,
    "start_time": "2022-06-09T09:08:33.805Z"
   },
   {
    "duration": 359,
    "start_time": "2022-06-09T09:08:45.707Z"
   },
   {
    "duration": 473,
    "start_time": "2022-06-09T09:08:55.907Z"
   },
   {
    "duration": 661,
    "start_time": "2022-06-09T09:09:09.104Z"
   },
   {
    "duration": 624,
    "start_time": "2022-06-09T09:09:19.709Z"
   },
   {
    "duration": 34,
    "start_time": "2022-06-09T09:24:12.228Z"
   },
   {
    "duration": 10,
    "start_time": "2022-06-09T09:24:21.284Z"
   },
   {
    "duration": 3,
    "start_time": "2022-06-09T09:24:47.988Z"
   },
   {
    "duration": 1054,
    "start_time": "2022-06-09T09:25:01.310Z"
   },
   {
    "duration": 18,
    "start_time": "2022-06-09T09:25:02.367Z"
   },
   {
    "duration": 681,
    "start_time": "2022-06-09T09:25:02.386Z"
   },
   {
    "duration": 38,
    "start_time": "2022-06-09T09:25:03.068Z"
   },
   {
    "duration": 31,
    "start_time": "2022-06-09T09:25:03.108Z"
   },
   {
    "duration": 26,
    "start_time": "2022-06-09T09:25:03.141Z"
   },
   {
    "duration": 44,
    "start_time": "2022-06-09T09:25:03.169Z"
   },
   {
    "duration": 365,
    "start_time": "2022-06-09T09:25:03.215Z"
   },
   {
    "duration": 5,
    "start_time": "2022-06-09T09:25:03.582Z"
   },
   {
    "duration": 46,
    "start_time": "2022-06-09T09:25:03.591Z"
   },
   {
    "duration": 38,
    "start_time": "2022-06-09T09:25:03.639Z"
   },
   {
    "duration": 29,
    "start_time": "2022-06-09T09:25:03.679Z"
   },
   {
    "duration": 72,
    "start_time": "2022-06-09T09:25:03.710Z"
   },
   {
    "duration": 28,
    "start_time": "2022-06-09T09:25:03.785Z"
   },
   {
    "duration": 40,
    "start_time": "2022-06-09T09:25:03.815Z"
   },
   {
    "duration": 58,
    "start_time": "2022-06-09T09:25:03.857Z"
   },
   {
    "duration": 38,
    "start_time": "2022-06-09T09:25:03.917Z"
   },
   {
    "duration": 20,
    "start_time": "2022-06-09T09:25:03.957Z"
   },
   {
    "duration": 37,
    "start_time": "2022-06-09T09:25:03.979Z"
   },
   {
    "duration": 39,
    "start_time": "2022-06-09T09:25:04.018Z"
   },
   {
    "duration": 39,
    "start_time": "2022-06-09T09:25:04.059Z"
   },
   {
    "duration": 138,
    "start_time": "2022-06-09T09:25:04.099Z"
   },
   {
    "duration": 22,
    "start_time": "2022-06-09T09:25:04.239Z"
   },
   {
    "duration": 3,
    "start_time": "2022-06-09T09:25:04.263Z"
   },
   {
    "duration": 38,
    "start_time": "2022-06-09T09:25:04.267Z"
   },
   {
    "duration": 28,
    "start_time": "2022-06-09T09:25:04.306Z"
   },
   {
    "duration": 242,
    "start_time": "2022-06-09T09:25:04.335Z"
   },
   {
    "duration": 7,
    "start_time": "2022-06-09T09:25:04.578Z"
   },
   {
    "duration": 618,
    "start_time": "2022-06-09T09:25:04.587Z"
   },
   {
    "duration": 11,
    "start_time": "2022-06-09T09:25:05.206Z"
   },
   {
    "duration": 7,
    "start_time": "2022-06-09T09:25:05.218Z"
   },
   {
    "duration": 399,
    "start_time": "2022-06-09T09:25:05.227Z"
   },
   {
    "duration": 109,
    "start_time": "2022-06-09T09:25:05.628Z"
   },
   {
    "duration": 0,
    "start_time": "2022-06-09T09:25:05.739Z"
   },
   {
    "duration": 1,
    "start_time": "2022-06-09T09:25:05.740Z"
   },
   {
    "duration": 0,
    "start_time": "2022-06-09T09:25:05.742Z"
   },
   {
    "duration": 1,
    "start_time": "2022-06-09T09:25:05.743Z"
   },
   {
    "duration": 0,
    "start_time": "2022-06-09T09:25:05.745Z"
   },
   {
    "duration": 0,
    "start_time": "2022-06-09T09:25:05.746Z"
   },
   {
    "duration": 0,
    "start_time": "2022-06-09T09:25:05.747Z"
   },
   {
    "duration": 1,
    "start_time": "2022-06-09T09:25:05.748Z"
   },
   {
    "duration": 0,
    "start_time": "2022-06-09T09:25:05.750Z"
   },
   {
    "duration": 0,
    "start_time": "2022-06-09T09:25:05.751Z"
   },
   {
    "duration": 0,
    "start_time": "2022-06-09T09:25:05.752Z"
   },
   {
    "duration": 0,
    "start_time": "2022-06-09T09:25:05.754Z"
   },
   {
    "duration": 0,
    "start_time": "2022-06-09T09:25:05.755Z"
   },
   {
    "duration": 0,
    "start_time": "2022-06-09T09:25:05.756Z"
   },
   {
    "duration": 0,
    "start_time": "2022-06-09T09:25:05.757Z"
   },
   {
    "duration": 0,
    "start_time": "2022-06-09T09:25:05.759Z"
   },
   {
    "duration": 0,
    "start_time": "2022-06-09T09:25:05.760Z"
   },
   {
    "duration": 0,
    "start_time": "2022-06-09T09:25:05.761Z"
   },
   {
    "duration": 0,
    "start_time": "2022-06-09T09:25:05.762Z"
   },
   {
    "duration": 0,
    "start_time": "2022-06-09T09:25:05.791Z"
   },
   {
    "duration": 0,
    "start_time": "2022-06-09T09:25:05.792Z"
   },
   {
    "duration": 0,
    "start_time": "2022-06-09T09:25:05.793Z"
   },
   {
    "duration": 0,
    "start_time": "2022-06-09T09:25:05.794Z"
   },
   {
    "duration": 0,
    "start_time": "2022-06-09T09:25:05.795Z"
   },
   {
    "duration": 0,
    "start_time": "2022-06-09T09:25:05.796Z"
   },
   {
    "duration": 244,
    "start_time": "2022-06-09T09:26:44.809Z"
   },
   {
    "duration": 26,
    "start_time": "2022-06-09T09:28:01.453Z"
   },
   {
    "duration": 72,
    "start_time": "2022-06-09T09:29:42.086Z"
   },
   {
    "duration": 12,
    "start_time": "2022-06-09T09:32:25.369Z"
   },
   {
    "duration": 3,
    "start_time": "2022-06-09T09:33:35.425Z"
   },
   {
    "duration": 222,
    "start_time": "2022-06-09T09:33:39.181Z"
   },
   {
    "duration": 14,
    "start_time": "2022-06-09T09:34:18.281Z"
   },
   {
    "duration": 9,
    "start_time": "2022-06-09T09:34:52.610Z"
   },
   {
    "duration": 11,
    "start_time": "2022-06-09T09:35:09.885Z"
   },
   {
    "duration": 4,
    "start_time": "2022-06-09T09:36:08.200Z"
   },
   {
    "duration": 4,
    "start_time": "2022-06-09T09:36:24.280Z"
   },
   {
    "duration": 2,
    "start_time": "2022-06-09T09:37:16.741Z"
   },
   {
    "duration": 14,
    "start_time": "2022-06-09T09:37:27.082Z"
   },
   {
    "duration": 3,
    "start_time": "2022-06-09T09:37:35.066Z"
   },
   {
    "duration": 228,
    "start_time": "2022-06-09T09:37:39.395Z"
   },
   {
    "duration": 250,
    "start_time": "2022-06-09T09:39:19.060Z"
   },
   {
    "duration": 145,
    "start_time": "2022-06-09T09:41:47.708Z"
   },
   {
    "duration": 146,
    "start_time": "2022-06-09T09:41:59.780Z"
   },
   {
    "duration": 242,
    "start_time": "2022-06-09T09:42:27.688Z"
   },
   {
    "duration": 57,
    "start_time": "2022-06-09T09:43:30.918Z"
   },
   {
    "duration": 7,
    "start_time": "2022-06-09T09:43:36.149Z"
   },
   {
    "duration": 1046,
    "start_time": "2022-06-09T09:43:46.657Z"
   },
   {
    "duration": 15,
    "start_time": "2022-06-09T09:43:47.706Z"
   },
   {
    "duration": 552,
    "start_time": "2022-06-09T09:43:47.723Z"
   },
   {
    "duration": 30,
    "start_time": "2022-06-09T09:43:48.277Z"
   },
   {
    "duration": 24,
    "start_time": "2022-06-09T09:43:48.308Z"
   },
   {
    "duration": 11,
    "start_time": "2022-06-09T09:43:48.333Z"
   },
   {
    "duration": 5,
    "start_time": "2022-06-09T09:43:48.346Z"
   },
   {
    "duration": 316,
    "start_time": "2022-06-09T09:43:48.353Z"
   },
   {
    "duration": 6,
    "start_time": "2022-06-09T09:43:48.670Z"
   },
   {
    "duration": 14,
    "start_time": "2022-06-09T09:43:48.678Z"
   },
   {
    "duration": 19,
    "start_time": "2022-06-09T09:43:48.693Z"
   },
   {
    "duration": 4,
    "start_time": "2022-06-09T09:43:48.714Z"
   },
   {
    "duration": 9,
    "start_time": "2022-06-09T09:43:48.719Z"
   },
   {
    "duration": 9,
    "start_time": "2022-06-09T09:43:48.730Z"
   },
   {
    "duration": 4,
    "start_time": "2022-06-09T09:43:48.740Z"
   },
   {
    "duration": 16,
    "start_time": "2022-06-09T09:43:48.745Z"
   },
   {
    "duration": 44,
    "start_time": "2022-06-09T09:43:48.763Z"
   },
   {
    "duration": 7,
    "start_time": "2022-06-09T09:43:48.808Z"
   },
   {
    "duration": 2,
    "start_time": "2022-06-09T09:43:48.817Z"
   },
   {
    "duration": 18,
    "start_time": "2022-06-09T09:43:48.821Z"
   },
   {
    "duration": 24,
    "start_time": "2022-06-09T09:43:48.840Z"
   },
   {
    "duration": 142,
    "start_time": "2022-06-09T09:43:48.866Z"
   },
   {
    "duration": 29,
    "start_time": "2022-06-09T09:43:49.009Z"
   },
   {
    "duration": 4,
    "start_time": "2022-06-09T09:43:49.040Z"
   },
   {
    "duration": 30,
    "start_time": "2022-06-09T09:43:49.046Z"
   },
   {
    "duration": 25,
    "start_time": "2022-06-09T09:43:49.092Z"
   },
   {
    "duration": 235,
    "start_time": "2022-06-09T09:43:49.118Z"
   },
   {
    "duration": 7,
    "start_time": "2022-06-09T09:43:49.356Z"
   },
   {
    "duration": 633,
    "start_time": "2022-06-09T09:43:49.365Z"
   },
   {
    "duration": 2,
    "start_time": "2022-06-09T09:43:50.000Z"
   },
   {
    "duration": 14,
    "start_time": "2022-06-09T09:43:50.003Z"
   },
   {
    "duration": 9,
    "start_time": "2022-06-09T09:43:50.018Z"
   },
   {
    "duration": 254,
    "start_time": "2022-06-09T09:43:50.028Z"
   },
   {
    "duration": 8,
    "start_time": "2022-06-09T09:43:50.291Z"
   },
   {
    "duration": 1265,
    "start_time": "2022-06-09T09:43:50.300Z"
   },
   {
    "duration": 326,
    "start_time": "2022-06-09T09:43:51.567Z"
   },
   {
    "duration": 18,
    "start_time": "2022-06-09T09:43:51.894Z"
   },
   {
    "duration": 17,
    "start_time": "2022-06-09T09:43:51.914Z"
   },
   {
    "duration": 6,
    "start_time": "2022-06-09T09:43:51.933Z"
   },
   {
    "duration": 6,
    "start_time": "2022-06-09T09:43:51.941Z"
   },
   {
    "duration": 127,
    "start_time": "2022-06-09T09:43:51.949Z"
   },
   {
    "duration": 120,
    "start_time": "2022-06-09T09:43:52.078Z"
   },
   {
    "duration": 140,
    "start_time": "2022-06-09T09:43:52.200Z"
   },
   {
    "duration": 123,
    "start_time": "2022-06-09T09:43:52.341Z"
   },
   {
    "duration": 5,
    "start_time": "2022-06-09T09:43:52.465Z"
   },
   {
    "duration": 231,
    "start_time": "2022-06-09T09:43:52.472Z"
   },
   {
    "duration": 543,
    "start_time": "2022-06-09T09:43:52.705Z"
   },
   {
    "duration": 42,
    "start_time": "2022-06-09T09:43:53.250Z"
   },
   {
    "duration": 9,
    "start_time": "2022-06-09T09:43:53.293Z"
   },
   {
    "duration": 174,
    "start_time": "2022-06-09T09:43:53.303Z"
   },
   {
    "duration": 37,
    "start_time": "2022-06-09T09:43:53.478Z"
   },
   {
    "duration": 29,
    "start_time": "2022-06-09T09:43:53.517Z"
   },
   {
    "duration": 50,
    "start_time": "2022-06-09T09:43:53.548Z"
   },
   {
    "duration": 308,
    "start_time": "2022-06-09T09:43:53.599Z"
   },
   {
    "duration": 8,
    "start_time": "2022-06-09T09:43:53.908Z"
   },
   {
    "duration": 9,
    "start_time": "2022-06-09T09:43:53.917Z"
   },
   {
    "duration": 10,
    "start_time": "2022-06-09T09:43:53.927Z"
   },
   {
    "duration": 8,
    "start_time": "2022-06-09T09:43:53.939Z"
   },
   {
    "duration": 12,
    "start_time": "2022-06-09T09:43:53.948Z"
   },
   {
    "duration": 275,
    "start_time": "2022-06-09T09:45:20.700Z"
   },
   {
    "duration": 243,
    "start_time": "2022-06-09T09:46:01.197Z"
   },
   {
    "duration": 16,
    "start_time": "2022-06-09T09:47:45.205Z"
   },
   {
    "duration": 7,
    "start_time": "2022-06-09T09:48:12.253Z"
   },
   {
    "duration": 8,
    "start_time": "2022-06-09T09:48:45.469Z"
   },
   {
    "duration": 31,
    "start_time": "2022-06-09T09:49:51.337Z"
   },
   {
    "duration": 7,
    "start_time": "2022-06-09T09:50:33.045Z"
   },
   {
    "duration": 8,
    "start_time": "2022-06-09T09:50:44.386Z"
   },
   {
    "duration": 4,
    "start_time": "2022-06-09T12:16:14.061Z"
   },
   {
    "duration": 47,
    "start_time": "2022-06-09T12:16:26.781Z"
   },
   {
    "duration": 104,
    "start_time": "2022-06-09T12:16:38.977Z"
   },
   {
    "duration": 31,
    "start_time": "2022-06-09T12:17:35.208Z"
   },
   {
    "duration": 26,
    "start_time": "2022-06-09T12:17:41.546Z"
   },
   {
    "duration": 22,
    "start_time": "2022-06-09T12:18:26.819Z"
   },
   {
    "duration": 37,
    "start_time": "2022-06-09T12:19:32.050Z"
   },
   {
    "duration": 54,
    "start_time": "2022-06-09T12:35:13.436Z"
   },
   {
    "duration": 54,
    "start_time": "2022-06-09T12:35:17.671Z"
   },
   {
    "duration": 34,
    "start_time": "2022-06-09T12:35:45.040Z"
   },
   {
    "duration": 924,
    "start_time": "2022-06-09T12:48:56.795Z"
   },
   {
    "duration": 884,
    "start_time": "2022-06-09T12:50:06.235Z"
   },
   {
    "duration": 235,
    "start_time": "2022-06-09T12:53:54.573Z"
   },
   {
    "duration": 315,
    "start_time": "2022-06-09T12:54:21.999Z"
   },
   {
    "duration": 97,
    "start_time": "2022-06-09T12:55:08.933Z"
   },
   {
    "duration": 94,
    "start_time": "2022-06-09T12:55:56.154Z"
   },
   {
    "duration": 109,
    "start_time": "2022-06-09T12:56:22.436Z"
   },
   {
    "duration": 95,
    "start_time": "2022-06-09T13:00:14.559Z"
   },
   {
    "duration": 97,
    "start_time": "2022-06-09T13:00:44.946Z"
   },
   {
    "duration": 95,
    "start_time": "2022-06-09T13:01:17.144Z"
   },
   {
    "duration": 104,
    "start_time": "2022-06-09T13:01:45.308Z"
   },
   {
    "duration": 215,
    "start_time": "2022-06-09T13:03:16.118Z"
   },
   {
    "duration": 547,
    "start_time": "2022-06-09T13:05:16.847Z"
   },
   {
    "duration": 276,
    "start_time": "2022-06-09T13:05:54.027Z"
   },
   {
    "duration": 348,
    "start_time": "2022-06-09T13:06:30.686Z"
   },
   {
    "duration": 123,
    "start_time": "2022-06-09T13:06:54.393Z"
   },
   {
    "duration": 100,
    "start_time": "2022-06-09T13:08:42.859Z"
   },
   {
    "duration": 101,
    "start_time": "2022-06-09T13:08:53.399Z"
   },
   {
    "duration": 324,
    "start_time": "2022-06-09T13:09:48.823Z"
   },
   {
    "duration": 339,
    "start_time": "2022-06-09T13:11:32.493Z"
   },
   {
    "duration": 472,
    "start_time": "2022-06-09T13:12:39.104Z"
   },
   {
    "duration": 485,
    "start_time": "2022-06-09T13:16:40.009Z"
   },
   {
    "duration": 573,
    "start_time": "2022-06-09T13:18:06.510Z"
   },
   {
    "duration": 508,
    "start_time": "2022-06-09T13:18:51.898Z"
   },
   {
    "duration": 24,
    "start_time": "2022-06-09T13:19:03.454Z"
   },
   {
    "duration": 601,
    "start_time": "2022-06-09T13:20:22.558Z"
   },
   {
    "duration": 43,
    "start_time": "2022-06-09T13:20:43.209Z"
   },
   {
    "duration": 489,
    "start_time": "2022-06-09T13:21:19.948Z"
   },
   {
    "duration": 1123,
    "start_time": "2022-06-09T13:21:55.365Z"
   },
   {
    "duration": 13,
    "start_time": "2022-06-09T13:21:56.490Z"
   },
   {
    "duration": 629,
    "start_time": "2022-06-09T13:21:56.504Z"
   },
   {
    "duration": 27,
    "start_time": "2022-06-09T13:21:57.134Z"
   },
   {
    "duration": 50,
    "start_time": "2022-06-09T13:21:57.164Z"
   },
   {
    "duration": 16,
    "start_time": "2022-06-09T13:21:57.216Z"
   },
   {
    "duration": 3,
    "start_time": "2022-06-09T13:21:57.234Z"
   },
   {
    "duration": 328,
    "start_time": "2022-06-09T13:21:57.239Z"
   },
   {
    "duration": 6,
    "start_time": "2022-06-09T13:21:57.569Z"
   },
   {
    "duration": 16,
    "start_time": "2022-06-09T13:21:57.576Z"
   },
   {
    "duration": 20,
    "start_time": "2022-06-09T13:21:57.594Z"
   },
   {
    "duration": 5,
    "start_time": "2022-06-09T13:21:57.616Z"
   },
   {
    "duration": 8,
    "start_time": "2022-06-09T13:21:57.622Z"
   },
   {
    "duration": 10,
    "start_time": "2022-06-09T13:21:57.634Z"
   },
   {
    "duration": 5,
    "start_time": "2022-06-09T13:21:57.646Z"
   },
   {
    "duration": 56,
    "start_time": "2022-06-09T13:21:57.652Z"
   },
   {
    "duration": 24,
    "start_time": "2022-06-09T13:21:57.710Z"
   },
   {
    "duration": 7,
    "start_time": "2022-06-09T13:21:57.735Z"
   },
   {
    "duration": 4,
    "start_time": "2022-06-09T13:21:57.744Z"
   },
   {
    "duration": 43,
    "start_time": "2022-06-09T13:21:57.750Z"
   },
   {
    "duration": 26,
    "start_time": "2022-06-09T13:21:57.794Z"
   },
   {
    "duration": 133,
    "start_time": "2022-06-09T13:21:57.822Z"
   },
   {
    "duration": 34,
    "start_time": "2022-06-09T13:21:57.957Z"
   },
   {
    "duration": 4,
    "start_time": "2022-06-09T13:21:57.993Z"
   },
   {
    "duration": 30,
    "start_time": "2022-06-09T13:21:57.999Z"
   },
   {
    "duration": 27,
    "start_time": "2022-06-09T13:21:58.031Z"
   },
   {
    "duration": 261,
    "start_time": "2022-06-09T13:21:58.060Z"
   },
   {
    "duration": 8,
    "start_time": "2022-06-09T13:21:58.322Z"
   },
   {
    "duration": 596,
    "start_time": "2022-06-09T13:21:58.331Z"
   },
   {
    "duration": 3,
    "start_time": "2022-06-09T13:21:58.928Z"
   },
   {
    "duration": 14,
    "start_time": "2022-06-09T13:21:58.932Z"
   },
   {
    "duration": 10,
    "start_time": "2022-06-09T13:21:58.947Z"
   },
   {
    "duration": 254,
    "start_time": "2022-06-09T13:21:58.959Z"
   },
   {
    "duration": 8,
    "start_time": "2022-06-09T13:21:59.214Z"
   },
   {
    "duration": 1305,
    "start_time": "2022-06-09T13:21:59.223Z"
   },
   {
    "duration": 264,
    "start_time": "2022-06-09T13:22:00.529Z"
   },
   {
    "duration": 7,
    "start_time": "2022-06-09T13:22:00.794Z"
   },
   {
    "duration": 28,
    "start_time": "2022-06-09T13:22:00.803Z"
   },
   {
    "duration": 98,
    "start_time": "2022-06-09T13:22:00.833Z"
   },
   {
    "duration": 0,
    "start_time": "2022-06-09T13:22:00.933Z"
   },
   {
    "duration": 0,
    "start_time": "2022-06-09T13:22:00.934Z"
   },
   {
    "duration": 0,
    "start_time": "2022-06-09T13:22:00.935Z"
   },
   {
    "duration": 0,
    "start_time": "2022-06-09T13:22:00.936Z"
   },
   {
    "duration": 0,
    "start_time": "2022-06-09T13:22:00.937Z"
   },
   {
    "duration": 0,
    "start_time": "2022-06-09T13:22:00.938Z"
   },
   {
    "duration": 0,
    "start_time": "2022-06-09T13:22:00.939Z"
   },
   {
    "duration": 0,
    "start_time": "2022-06-09T13:22:00.940Z"
   },
   {
    "duration": 0,
    "start_time": "2022-06-09T13:22:00.941Z"
   },
   {
    "duration": 0,
    "start_time": "2022-06-09T13:22:00.942Z"
   },
   {
    "duration": 0,
    "start_time": "2022-06-09T13:22:00.943Z"
   },
   {
    "duration": 0,
    "start_time": "2022-06-09T13:22:00.944Z"
   },
   {
    "duration": 0,
    "start_time": "2022-06-09T13:22:00.945Z"
   },
   {
    "duration": 0,
    "start_time": "2022-06-09T13:22:00.946Z"
   },
   {
    "duration": 0,
    "start_time": "2022-06-09T13:22:00.947Z"
   },
   {
    "duration": 0,
    "start_time": "2022-06-09T13:22:00.948Z"
   },
   {
    "duration": 0,
    "start_time": "2022-06-09T13:22:00.949Z"
   },
   {
    "duration": 0,
    "start_time": "2022-06-09T13:22:00.950Z"
   },
   {
    "duration": 521,
    "start_time": "2022-06-09T13:24:07.927Z"
   },
   {
    "duration": 19,
    "start_time": "2022-06-09T13:26:16.013Z"
   },
   {
    "duration": 10,
    "start_time": "2022-06-09T13:26:23.448Z"
   },
   {
    "duration": 15,
    "start_time": "2022-06-09T13:27:39.807Z"
   },
   {
    "duration": 11,
    "start_time": "2022-06-09T13:28:20.511Z"
   },
   {
    "duration": 1067,
    "start_time": "2022-06-09T13:28:32.959Z"
   },
   {
    "duration": 13,
    "start_time": "2022-06-09T13:28:34.028Z"
   },
   {
    "duration": 578,
    "start_time": "2022-06-09T13:28:34.042Z"
   },
   {
    "duration": 25,
    "start_time": "2022-06-09T13:28:34.622Z"
   },
   {
    "duration": 46,
    "start_time": "2022-06-09T13:28:34.648Z"
   },
   {
    "duration": 31,
    "start_time": "2022-06-09T13:28:34.702Z"
   },
   {
    "duration": 23,
    "start_time": "2022-06-09T13:28:34.735Z"
   },
   {
    "duration": 353,
    "start_time": "2022-06-09T13:28:34.759Z"
   },
   {
    "duration": 6,
    "start_time": "2022-06-09T13:28:35.114Z"
   },
   {
    "duration": 28,
    "start_time": "2022-06-09T13:28:35.121Z"
   },
   {
    "duration": 46,
    "start_time": "2022-06-09T13:28:35.150Z"
   },
   {
    "duration": 18,
    "start_time": "2022-06-09T13:28:35.198Z"
   },
   {
    "duration": 31,
    "start_time": "2022-06-09T13:28:35.217Z"
   },
   {
    "duration": 29,
    "start_time": "2022-06-09T13:28:35.251Z"
   },
   {
    "duration": 38,
    "start_time": "2022-06-09T13:28:35.281Z"
   },
   {
    "duration": 41,
    "start_time": "2022-06-09T13:28:35.320Z"
   },
   {
    "duration": 49,
    "start_time": "2022-06-09T13:28:35.362Z"
   },
   {
    "duration": 24,
    "start_time": "2022-06-09T13:28:35.413Z"
   },
   {
    "duration": 34,
    "start_time": "2022-06-09T13:28:35.439Z"
   },
   {
    "duration": 70,
    "start_time": "2022-06-09T13:28:35.474Z"
   },
   {
    "duration": 59,
    "start_time": "2022-06-09T13:28:35.546Z"
   },
   {
    "duration": 142,
    "start_time": "2022-06-09T13:28:35.607Z"
   },
   {
    "duration": 24,
    "start_time": "2022-06-09T13:28:35.751Z"
   },
   {
    "duration": 16,
    "start_time": "2022-06-09T13:28:35.777Z"
   },
   {
    "duration": 62,
    "start_time": "2022-06-09T13:28:35.795Z"
   },
   {
    "duration": 54,
    "start_time": "2022-06-09T13:28:35.859Z"
   },
   {
    "duration": 289,
    "start_time": "2022-06-09T13:28:35.914Z"
   },
   {
    "duration": 8,
    "start_time": "2022-06-09T13:28:36.205Z"
   },
   {
    "duration": 657,
    "start_time": "2022-06-09T13:28:36.214Z"
   },
   {
    "duration": 2,
    "start_time": "2022-06-09T13:28:36.873Z"
   },
   {
    "duration": 24,
    "start_time": "2022-06-09T13:28:36.876Z"
   },
   {
    "duration": 23,
    "start_time": "2022-06-09T13:28:36.902Z"
   },
   {
    "duration": 304,
    "start_time": "2022-06-09T13:28:36.926Z"
   },
   {
    "duration": 10,
    "start_time": "2022-06-09T13:28:37.232Z"
   },
   {
    "duration": 1284,
    "start_time": "2022-06-09T13:28:37.243Z"
   },
   {
    "duration": 249,
    "start_time": "2022-06-09T13:28:38.529Z"
   },
   {
    "duration": 13,
    "start_time": "2022-06-09T13:28:38.780Z"
   },
   {
    "duration": 32,
    "start_time": "2022-06-09T13:28:38.795Z"
   },
   {
    "duration": 10,
    "start_time": "2022-06-09T13:28:38.828Z"
   },
   {
    "duration": 4,
    "start_time": "2022-06-09T13:28:38.839Z"
   },
   {
    "duration": 12,
    "start_time": "2022-06-09T13:28:38.846Z"
   },
   {
    "duration": 375,
    "start_time": "2022-06-09T13:28:38.860Z"
   },
   {
    "duration": 5,
    "start_time": "2022-06-09T13:28:39.237Z"
   },
   {
    "duration": 249,
    "start_time": "2022-06-09T13:28:39.243Z"
   },
   {
    "duration": 479,
    "start_time": "2022-06-09T13:28:39.495Z"
   },
   {
    "duration": 47,
    "start_time": "2022-06-09T13:28:39.975Z"
   },
   {
    "duration": 9,
    "start_time": "2022-06-09T13:28:40.023Z"
   },
   {
    "duration": 198,
    "start_time": "2022-06-09T13:28:40.033Z"
   },
   {
    "duration": 32,
    "start_time": "2022-06-09T13:28:40.233Z"
   },
   {
    "duration": 59,
    "start_time": "2022-06-09T13:28:40.266Z"
   },
   {
    "duration": 29,
    "start_time": "2022-06-09T13:28:40.326Z"
   },
   {
    "duration": 459,
    "start_time": "2022-06-09T13:28:40.356Z"
   },
   {
    "duration": 8,
    "start_time": "2022-06-09T13:28:40.817Z"
   },
   {
    "duration": 9,
    "start_time": "2022-06-09T13:28:40.826Z"
   },
   {
    "duration": 14,
    "start_time": "2022-06-09T13:28:40.836Z"
   },
   {
    "duration": 8,
    "start_time": "2022-06-09T13:28:40.851Z"
   },
   {
    "duration": 13,
    "start_time": "2022-06-09T13:28:40.861Z"
   },
   {
    "duration": 390,
    "start_time": "2022-06-09T14:10:34.933Z"
   },
   {
    "duration": 36,
    "start_time": "2022-06-09T14:11:43.007Z"
   },
   {
    "duration": 110,
    "start_time": "2022-06-09T14:20:09.477Z"
   },
   {
    "duration": 34,
    "start_time": "2022-06-09T14:20:37.829Z"
   },
   {
    "duration": 41,
    "start_time": "2022-06-09T14:21:11.481Z"
   },
   {
    "duration": 33,
    "start_time": "2022-06-09T14:21:19.220Z"
   },
   {
    "duration": 112,
    "start_time": "2022-06-09T14:45:05.166Z"
   },
   {
    "duration": 924,
    "start_time": "2022-06-09T14:45:29.957Z"
   },
   {
    "duration": 6,
    "start_time": "2022-06-09T14:45:57.835Z"
   },
   {
    "duration": 172,
    "start_time": "2022-06-09T14:47:19.106Z"
   },
   {
    "duration": 114,
    "start_time": "2022-06-09T14:49:49.251Z"
   },
   {
    "duration": 204,
    "start_time": "2022-06-09T14:50:57.517Z"
   },
   {
    "duration": 792,
    "start_time": "2022-06-09T14:51:19.326Z"
   },
   {
    "duration": 219,
    "start_time": "2022-06-09T14:51:49.115Z"
   },
   {
    "duration": 370,
    "start_time": "2022-06-09T14:52:46.104Z"
   },
   {
    "duration": 280,
    "start_time": "2022-06-09T14:53:17.505Z"
   },
   {
    "duration": 295,
    "start_time": "2022-06-09T14:53:25.270Z"
   },
   {
    "duration": 48,
    "start_time": "2022-06-10T10:52:07.908Z"
   },
   {
    "duration": 1746,
    "start_time": "2022-06-10T10:52:10.725Z"
   },
   {
    "duration": 14,
    "start_time": "2022-06-10T10:52:12.473Z"
   },
   {
    "duration": 608,
    "start_time": "2022-06-10T10:52:12.488Z"
   },
   {
    "duration": 35,
    "start_time": "2022-06-10T10:52:13.098Z"
   },
   {
    "duration": 27,
    "start_time": "2022-06-10T10:52:13.135Z"
   },
   {
    "duration": 17,
    "start_time": "2022-06-10T10:52:13.164Z"
   },
   {
    "duration": 13,
    "start_time": "2022-06-10T10:52:13.183Z"
   },
   {
    "duration": 5,
    "start_time": "2022-06-10T10:52:13.227Z"
   },
   {
    "duration": 329,
    "start_time": "2022-06-10T10:52:13.234Z"
   },
   {
    "duration": 7,
    "start_time": "2022-06-10T10:52:13.566Z"
   },
   {
    "duration": 8,
    "start_time": "2022-06-10T10:52:13.574Z"
   },
   {
    "duration": 25,
    "start_time": "2022-06-10T10:52:13.584Z"
   },
   {
    "duration": 18,
    "start_time": "2022-06-10T10:52:13.610Z"
   },
   {
    "duration": 8,
    "start_time": "2022-06-10T10:52:13.630Z"
   },
   {
    "duration": 16,
    "start_time": "2022-06-10T10:52:13.639Z"
   },
   {
    "duration": 4,
    "start_time": "2022-06-10T10:52:13.656Z"
   },
   {
    "duration": 19,
    "start_time": "2022-06-10T10:52:13.662Z"
   },
   {
    "duration": 22,
    "start_time": "2022-06-10T10:52:13.682Z"
   },
   {
    "duration": 27,
    "start_time": "2022-06-10T10:52:13.706Z"
   },
   {
    "duration": 4,
    "start_time": "2022-06-10T10:52:13.735Z"
   },
   {
    "duration": 21,
    "start_time": "2022-06-10T10:52:13.740Z"
   },
   {
    "duration": 25,
    "start_time": "2022-06-10T10:52:13.762Z"
   },
   {
    "duration": 168,
    "start_time": "2022-06-10T10:52:13.788Z"
   },
   {
    "duration": 24,
    "start_time": "2022-06-10T10:52:13.958Z"
   },
   {
    "duration": 4,
    "start_time": "2022-06-10T10:52:13.983Z"
   },
   {
    "duration": 47,
    "start_time": "2022-06-10T10:52:13.988Z"
   },
   {
    "duration": 30,
    "start_time": "2022-06-10T10:52:14.037Z"
   },
   {
    "duration": 296,
    "start_time": "2022-06-10T10:52:14.071Z"
   },
   {
    "duration": 8,
    "start_time": "2022-06-10T10:52:14.368Z"
   },
   {
    "duration": 685,
    "start_time": "2022-06-10T10:52:14.377Z"
   },
   {
    "duration": 3,
    "start_time": "2022-06-10T10:52:15.064Z"
   },
   {
    "duration": 16,
    "start_time": "2022-06-10T10:52:15.068Z"
   },
   {
    "duration": 6,
    "start_time": "2022-06-10T10:52:15.085Z"
   },
   {
    "duration": 276,
    "start_time": "2022-06-10T10:52:15.092Z"
   },
   {
    "duration": 9,
    "start_time": "2022-06-10T10:52:15.370Z"
   },
   {
    "duration": 1422,
    "start_time": "2022-06-10T10:52:15.380Z"
   },
   {
    "duration": 263,
    "start_time": "2022-06-10T10:52:16.804Z"
   },
   {
    "duration": 7,
    "start_time": "2022-06-10T10:52:17.069Z"
   },
   {
    "duration": 33,
    "start_time": "2022-06-10T10:52:17.078Z"
   },
   {
    "duration": 23,
    "start_time": "2022-06-10T10:52:17.113Z"
   },
   {
    "duration": 8,
    "start_time": "2022-06-10T10:52:17.138Z"
   },
   {
    "duration": 6,
    "start_time": "2022-06-10T10:52:17.148Z"
   },
   {
    "duration": 428,
    "start_time": "2022-06-10T10:52:17.155Z"
   },
   {
    "duration": 6,
    "start_time": "2022-06-10T10:52:17.584Z"
   },
   {
    "duration": 417,
    "start_time": "2022-06-10T10:52:17.591Z"
   },
   {
    "duration": 39,
    "start_time": "2022-06-10T10:52:18.010Z"
   },
   {
    "duration": 10,
    "start_time": "2022-06-10T10:52:18.051Z"
   },
   {
    "duration": 197,
    "start_time": "2022-06-10T10:52:18.062Z"
   },
   {
    "duration": 56,
    "start_time": "2022-06-10T10:52:18.261Z"
   },
   {
    "duration": 37,
    "start_time": "2022-06-10T10:52:18.319Z"
   },
   {
    "duration": 30,
    "start_time": "2022-06-10T10:52:18.358Z"
   },
   {
    "duration": 405,
    "start_time": "2022-06-10T10:52:18.389Z"
   },
   {
    "duration": 9,
    "start_time": "2022-06-10T10:52:18.796Z"
   },
   {
    "duration": 26,
    "start_time": "2022-06-10T10:52:18.806Z"
   },
   {
    "duration": 11,
    "start_time": "2022-06-10T10:52:18.834Z"
   },
   {
    "duration": 10,
    "start_time": "2022-06-10T10:52:18.846Z"
   },
   {
    "duration": 14,
    "start_time": "2022-06-10T10:52:18.857Z"
   }
  ],
  "kernelspec": {
   "display_name": "Python 3 (ipykernel)",
   "language": "python",
   "name": "python3"
  },
  "language_info": {
   "codemirror_mode": {
    "name": "ipython",
    "version": 3
   },
   "file_extension": ".py",
   "mimetype": "text/x-python",
   "name": "python",
   "nbconvert_exporter": "python",
   "pygments_lexer": "ipython3",
   "version": "3.9.7"
  },
  "toc": {
   "base_numbering": 1,
   "nav_menu": {},
   "number_sections": true,
   "sideBar": true,
   "skip_h1_title": true,
   "title_cell": "Table of Contents",
   "title_sidebar": "Contents",
   "toc_cell": false,
   "toc_position": {},
   "toc_section_display": true,
   "toc_window_display": false
  }
 },
 "nbformat": 4,
 "nbformat_minor": 5
}
